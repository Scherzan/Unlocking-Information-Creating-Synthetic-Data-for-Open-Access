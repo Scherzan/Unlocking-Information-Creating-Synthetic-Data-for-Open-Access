{
 "cells": [
  {
   "cell_type": "code",
   "execution_count": 3,
   "metadata": {},
   "outputs": [
    {
     "ename": "FileNotFoundError",
     "evalue": "[Errno 2] No such file or directory: 'RPAD_data.xlsx'",
     "output_type": "error",
     "traceback": [
      "\u001b[0;31m---------------------------------------------------------------------------\u001b[0m",
      "\u001b[0;31mFileNotFoundError\u001b[0m                         Traceback (most recent call last)",
      "Cell \u001b[0;32mIn[3], line 6\u001b[0m\n\u001b[1;32m      3\u001b[0m \u001b[39m#from sdv.tabular import CTGAN old\u001b[39;00m\n\u001b[1;32m      4\u001b[0m \u001b[39mfrom\u001b[39;00m \u001b[39msdv\u001b[39;00m\u001b[39m.\u001b[39;00m\u001b[39msingle_table\u001b[39;00m \u001b[39mimport\u001b[39;00m CTGANSynthesizer\n\u001b[0;32m----> 6\u001b[0m rpad_df \u001b[39m=\u001b[39m pd\u001b[39m.\u001b[39;49mread_excel(\u001b[39mr\u001b[39;49m\u001b[39m'\u001b[39;49m\u001b[39mRPAD_data.xlsx\u001b[39;49m\u001b[39m'\u001b[39;49m, engine\u001b[39m=\u001b[39;49m\u001b[39m'\u001b[39;49m\u001b[39mopenpyxl\u001b[39;49m\u001b[39m'\u001b[39;49m)\n\u001b[1;32m      7\u001b[0m \u001b[39mprint\u001b[39m(rpad_df\u001b[39m.\u001b[39mshape)\n\u001b[1;32m      8\u001b[0m \u001b[39mprint\u001b[39m(rpad_df\u001b[39m.\u001b[39mcolumns)\n",
      "File \u001b[0;32m~/anaconda3/envs/pycon_demo/lib/python3.10/site-packages/pandas/util/_decorators.py:211\u001b[0m, in \u001b[0;36mdeprecate_kwarg.<locals>._deprecate_kwarg.<locals>.wrapper\u001b[0;34m(*args, **kwargs)\u001b[0m\n\u001b[1;32m    209\u001b[0m     \u001b[39melse\u001b[39;00m:\n\u001b[1;32m    210\u001b[0m         kwargs[new_arg_name] \u001b[39m=\u001b[39m new_arg_value\n\u001b[0;32m--> 211\u001b[0m \u001b[39mreturn\u001b[39;00m func(\u001b[39m*\u001b[39;49margs, \u001b[39m*\u001b[39;49m\u001b[39m*\u001b[39;49mkwargs)\n",
      "File \u001b[0;32m~/anaconda3/envs/pycon_demo/lib/python3.10/site-packages/pandas/util/_decorators.py:331\u001b[0m, in \u001b[0;36mdeprecate_nonkeyword_arguments.<locals>.decorate.<locals>.wrapper\u001b[0;34m(*args, **kwargs)\u001b[0m\n\u001b[1;32m    325\u001b[0m \u001b[39mif\u001b[39;00m \u001b[39mlen\u001b[39m(args) \u001b[39m>\u001b[39m num_allow_args:\n\u001b[1;32m    326\u001b[0m     warnings\u001b[39m.\u001b[39mwarn(\n\u001b[1;32m    327\u001b[0m         msg\u001b[39m.\u001b[39mformat(arguments\u001b[39m=\u001b[39m_format_argument_list(allow_args)),\n\u001b[1;32m    328\u001b[0m         \u001b[39mFutureWarning\u001b[39;00m,\n\u001b[1;32m    329\u001b[0m         stacklevel\u001b[39m=\u001b[39mfind_stack_level(),\n\u001b[1;32m    330\u001b[0m     )\n\u001b[0;32m--> 331\u001b[0m \u001b[39mreturn\u001b[39;00m func(\u001b[39m*\u001b[39;49margs, \u001b[39m*\u001b[39;49m\u001b[39m*\u001b[39;49mkwargs)\n",
      "File \u001b[0;32m~/anaconda3/envs/pycon_demo/lib/python3.10/site-packages/pandas/io/excel/_base.py:482\u001b[0m, in \u001b[0;36mread_excel\u001b[0;34m(io, sheet_name, header, names, index_col, usecols, squeeze, dtype, engine, converters, true_values, false_values, skiprows, nrows, na_values, keep_default_na, na_filter, verbose, parse_dates, date_parser, thousands, decimal, comment, skipfooter, convert_float, mangle_dupe_cols, storage_options)\u001b[0m\n\u001b[1;32m    480\u001b[0m \u001b[39mif\u001b[39;00m \u001b[39mnot\u001b[39;00m \u001b[39misinstance\u001b[39m(io, ExcelFile):\n\u001b[1;32m    481\u001b[0m     should_close \u001b[39m=\u001b[39m \u001b[39mTrue\u001b[39;00m\n\u001b[0;32m--> 482\u001b[0m     io \u001b[39m=\u001b[39m ExcelFile(io, storage_options\u001b[39m=\u001b[39;49mstorage_options, engine\u001b[39m=\u001b[39;49mengine)\n\u001b[1;32m    483\u001b[0m \u001b[39melif\u001b[39;00m engine \u001b[39mand\u001b[39;00m engine \u001b[39m!=\u001b[39m io\u001b[39m.\u001b[39mengine:\n\u001b[1;32m    484\u001b[0m     \u001b[39mraise\u001b[39;00m \u001b[39mValueError\u001b[39;00m(\n\u001b[1;32m    485\u001b[0m         \u001b[39m\"\u001b[39m\u001b[39mEngine should not be specified when passing \u001b[39m\u001b[39m\"\u001b[39m\n\u001b[1;32m    486\u001b[0m         \u001b[39m\"\u001b[39m\u001b[39man ExcelFile - ExcelFile already has the engine set\u001b[39m\u001b[39m\"\u001b[39m\n\u001b[1;32m    487\u001b[0m     )\n",
      "File \u001b[0;32m~/anaconda3/envs/pycon_demo/lib/python3.10/site-packages/pandas/io/excel/_base.py:1695\u001b[0m, in \u001b[0;36mExcelFile.__init__\u001b[0;34m(self, path_or_buffer, engine, storage_options)\u001b[0m\n\u001b[1;32m   1692\u001b[0m \u001b[39mself\u001b[39m\u001b[39m.\u001b[39mengine \u001b[39m=\u001b[39m engine\n\u001b[1;32m   1693\u001b[0m \u001b[39mself\u001b[39m\u001b[39m.\u001b[39mstorage_options \u001b[39m=\u001b[39m storage_options\n\u001b[0;32m-> 1695\u001b[0m \u001b[39mself\u001b[39m\u001b[39m.\u001b[39m_reader \u001b[39m=\u001b[39m \u001b[39mself\u001b[39;49m\u001b[39m.\u001b[39;49m_engines[engine](\u001b[39mself\u001b[39;49m\u001b[39m.\u001b[39;49m_io, storage_options\u001b[39m=\u001b[39;49mstorage_options)\n",
      "File \u001b[0;32m~/anaconda3/envs/pycon_demo/lib/python3.10/site-packages/pandas/io/excel/_openpyxl.py:557\u001b[0m, in \u001b[0;36mOpenpyxlReader.__init__\u001b[0;34m(self, filepath_or_buffer, storage_options)\u001b[0m\n\u001b[1;32m    547\u001b[0m \u001b[39m\u001b[39m\u001b[39m\"\"\"\u001b[39;00m\n\u001b[1;32m    548\u001b[0m \u001b[39mReader using openpyxl engine.\u001b[39;00m\n\u001b[1;32m    549\u001b[0m \n\u001b[0;32m   (...)\u001b[0m\n\u001b[1;32m    554\u001b[0m \u001b[39m{storage_options}\u001b[39;00m\n\u001b[1;32m    555\u001b[0m \u001b[39m\"\"\"\u001b[39;00m\n\u001b[1;32m    556\u001b[0m import_optional_dependency(\u001b[39m\"\u001b[39m\u001b[39mopenpyxl\u001b[39m\u001b[39m\"\u001b[39m)\n\u001b[0;32m--> 557\u001b[0m \u001b[39msuper\u001b[39;49m()\u001b[39m.\u001b[39;49m\u001b[39m__init__\u001b[39;49m(filepath_or_buffer, storage_options\u001b[39m=\u001b[39;49mstorage_options)\n",
      "File \u001b[0;32m~/anaconda3/envs/pycon_demo/lib/python3.10/site-packages/pandas/io/excel/_base.py:535\u001b[0m, in \u001b[0;36mBaseExcelReader.__init__\u001b[0;34m(self, filepath_or_buffer, storage_options)\u001b[0m\n\u001b[1;32m    531\u001b[0m \u001b[39mself\u001b[39m\u001b[39m.\u001b[39mhandles \u001b[39m=\u001b[39m IOHandles(\n\u001b[1;32m    532\u001b[0m     handle\u001b[39m=\u001b[39mfilepath_or_buffer, compression\u001b[39m=\u001b[39m{\u001b[39m\"\u001b[39m\u001b[39mmethod\u001b[39m\u001b[39m\"\u001b[39m: \u001b[39mNone\u001b[39;00m}\n\u001b[1;32m    533\u001b[0m )\n\u001b[1;32m    534\u001b[0m \u001b[39mif\u001b[39;00m \u001b[39mnot\u001b[39;00m \u001b[39misinstance\u001b[39m(filepath_or_buffer, (ExcelFile, \u001b[39mself\u001b[39m\u001b[39m.\u001b[39m_workbook_class)):\n\u001b[0;32m--> 535\u001b[0m     \u001b[39mself\u001b[39m\u001b[39m.\u001b[39mhandles \u001b[39m=\u001b[39m get_handle(\n\u001b[1;32m    536\u001b[0m         filepath_or_buffer, \u001b[39m\"\u001b[39;49m\u001b[39mrb\u001b[39;49m\u001b[39m\"\u001b[39;49m, storage_options\u001b[39m=\u001b[39;49mstorage_options, is_text\u001b[39m=\u001b[39;49m\u001b[39mFalse\u001b[39;49;00m\n\u001b[1;32m    537\u001b[0m     )\n\u001b[1;32m    539\u001b[0m \u001b[39mif\u001b[39;00m \u001b[39misinstance\u001b[39m(\u001b[39mself\u001b[39m\u001b[39m.\u001b[39mhandles\u001b[39m.\u001b[39mhandle, \u001b[39mself\u001b[39m\u001b[39m.\u001b[39m_workbook_class):\n\u001b[1;32m    540\u001b[0m     \u001b[39mself\u001b[39m\u001b[39m.\u001b[39mbook \u001b[39m=\u001b[39m \u001b[39mself\u001b[39m\u001b[39m.\u001b[39mhandles\u001b[39m.\u001b[39mhandle\n",
      "File \u001b[0;32m~/anaconda3/envs/pycon_demo/lib/python3.10/site-packages/pandas/io/common.py:865\u001b[0m, in \u001b[0;36mget_handle\u001b[0;34m(path_or_buf, mode, encoding, compression, memory_map, is_text, errors, storage_options)\u001b[0m\n\u001b[1;32m    856\u001b[0m         handle \u001b[39m=\u001b[39m \u001b[39mopen\u001b[39m(\n\u001b[1;32m    857\u001b[0m             handle,\n\u001b[1;32m    858\u001b[0m             ioargs\u001b[39m.\u001b[39mmode,\n\u001b[0;32m   (...)\u001b[0m\n\u001b[1;32m    861\u001b[0m             newline\u001b[39m=\u001b[39m\u001b[39m\"\u001b[39m\u001b[39m\"\u001b[39m,\n\u001b[1;32m    862\u001b[0m         )\n\u001b[1;32m    863\u001b[0m     \u001b[39melse\u001b[39;00m:\n\u001b[1;32m    864\u001b[0m         \u001b[39m# Binary mode\u001b[39;00m\n\u001b[0;32m--> 865\u001b[0m         handle \u001b[39m=\u001b[39m \u001b[39mopen\u001b[39;49m(handle, ioargs\u001b[39m.\u001b[39;49mmode)\n\u001b[1;32m    866\u001b[0m     handles\u001b[39m.\u001b[39mappend(handle)\n\u001b[1;32m    868\u001b[0m \u001b[39m# Convert BytesIO or file objects passed with an encoding\u001b[39;00m\n",
      "\u001b[0;31mFileNotFoundError\u001b[0m: [Errno 2] No such file or directory: 'RPAD_data.xlsx'"
     ]
    }
   ],
   "source": [
    "import pandas as pd\n",
    "import numpy as np\n",
    "#from sdv.tabular import CTGAN old\n",
    "from sdv.single_table import CTGANSynthesizer\n",
    "\n",
    "rpad_df = pd.read_excel(r'RPAD_data.xlsx', engine='openpyxl')\n",
    "print(rpad_df.shape)\n",
    "print(rpad_df.columns)\n"
   ]
  },
  {
   "cell_type": "code",
   "execution_count": 22,
   "metadata": {},
   "outputs": [
    {
     "name": "stdout",
     "output_type": "stream",
     "text": [
      "(782, 11)\n"
     ]
    },
    {
     "data": {
      "text/html": [
       "<div>\n",
       "<style scoped>\n",
       "    .dataframe tbody tr th:only-of-type {\n",
       "        vertical-align: middle;\n",
       "    }\n",
       "\n",
       "    .dataframe tbody tr th {\n",
       "        vertical-align: top;\n",
       "    }\n",
       "\n",
       "    .dataframe thead th {\n",
       "        text-align: right;\n",
       "    }\n",
       "</style>\n",
       "<table border=\"1\" class=\"dataframe\">\n",
       "  <thead>\n",
       "    <tr style=\"text-align: right;\">\n",
       "      <th></th>\n",
       "      <th>ID</th>\n",
       "      <th>Age</th>\n",
       "      <th>BMI</th>\n",
       "      <th>Sex</th>\n",
       "      <th>Height</th>\n",
       "      <th>Weight</th>\n",
       "      <th>Length_of_Stay</th>\n",
       "      <th>Management</th>\n",
       "      <th>Severity</th>\n",
       "      <th>Alvarado_Score</th>\n",
       "      <th>Paedriatic_Appendicitis_Score</th>\n",
       "    </tr>\n",
       "  </thead>\n",
       "  <tbody>\n",
       "    <tr>\n",
       "      <th>0</th>\n",
       "      <td>9171</td>\n",
       "      <td>12.68</td>\n",
       "      <td>16.9</td>\n",
       "      <td>female</td>\n",
       "      <td>148.0</td>\n",
       "      <td>37.0</td>\n",
       "      <td>3.0</td>\n",
       "      <td>conservative</td>\n",
       "      <td>uncomplicated</td>\n",
       "      <td>4.0</td>\n",
       "      <td>3.0</td>\n",
       "    </tr>\n",
       "    <tr>\n",
       "      <th>1</th>\n",
       "      <td>7963</td>\n",
       "      <td>14.10</td>\n",
       "      <td>31.9</td>\n",
       "      <td>male</td>\n",
       "      <td>147.0</td>\n",
       "      <td>69.5</td>\n",
       "      <td>2.0</td>\n",
       "      <td>conservative</td>\n",
       "      <td>uncomplicated</td>\n",
       "      <td>5.0</td>\n",
       "      <td>4.0</td>\n",
       "    </tr>\n",
       "    <tr>\n",
       "      <th>2</th>\n",
       "      <td>3931</td>\n",
       "      <td>14.14</td>\n",
       "      <td>23.3</td>\n",
       "      <td>female</td>\n",
       "      <td>163.0</td>\n",
       "      <td>62.0</td>\n",
       "      <td>4.0</td>\n",
       "      <td>conservative</td>\n",
       "      <td>uncomplicated</td>\n",
       "      <td>5.0</td>\n",
       "      <td>3.0</td>\n",
       "    </tr>\n",
       "    <tr>\n",
       "      <th>3</th>\n",
       "      <td>5300</td>\n",
       "      <td>16.37</td>\n",
       "      <td>20.6</td>\n",
       "      <td>female</td>\n",
       "      <td>165.0</td>\n",
       "      <td>56.0</td>\n",
       "      <td>3.0</td>\n",
       "      <td>conservative</td>\n",
       "      <td>uncomplicated</td>\n",
       "      <td>7.0</td>\n",
       "      <td>6.0</td>\n",
       "    </tr>\n",
       "    <tr>\n",
       "      <th>4</th>\n",
       "      <td>7074</td>\n",
       "      <td>11.08</td>\n",
       "      <td>16.9</td>\n",
       "      <td>female</td>\n",
       "      <td>163.0</td>\n",
       "      <td>45.0</td>\n",
       "      <td>3.0</td>\n",
       "      <td>conservative</td>\n",
       "      <td>uncomplicated</td>\n",
       "      <td>5.0</td>\n",
       "      <td>6.0</td>\n",
       "    </tr>\n",
       "    <tr>\n",
       "      <th>5</th>\n",
       "      <td>4778</td>\n",
       "      <td>11.05</td>\n",
       "      <td>30.7</td>\n",
       "      <td>male</td>\n",
       "      <td>121.0</td>\n",
       "      <td>45.0</td>\n",
       "      <td>3.0</td>\n",
       "      <td>conservative</td>\n",
       "      <td>uncomplicated</td>\n",
       "      <td>6.0</td>\n",
       "      <td>7.0</td>\n",
       "    </tr>\n",
       "    <tr>\n",
       "      <th>6</th>\n",
       "      <td>4738</td>\n",
       "      <td>8.98</td>\n",
       "      <td>19.4</td>\n",
       "      <td>female</td>\n",
       "      <td>140.0</td>\n",
       "      <td>38.5</td>\n",
       "      <td>3.0</td>\n",
       "      <td>conservative</td>\n",
       "      <td>uncomplicated</td>\n",
       "      <td>5.0</td>\n",
       "      <td>6.0</td>\n",
       "    </tr>\n",
       "    <tr>\n",
       "      <th>7</th>\n",
       "      <td>9489</td>\n",
       "      <td>7.06</td>\n",
       "      <td>NaN</td>\n",
       "      <td>female</td>\n",
       "      <td>NaN</td>\n",
       "      <td>21.5</td>\n",
       "      <td>2.0</td>\n",
       "      <td>conservative</td>\n",
       "      <td>uncomplicated</td>\n",
       "      <td>3.0</td>\n",
       "      <td>3.0</td>\n",
       "    </tr>\n",
       "    <tr>\n",
       "      <th>8</th>\n",
       "      <td>6526</td>\n",
       "      <td>7.90</td>\n",
       "      <td>15.7</td>\n",
       "      <td>male</td>\n",
       "      <td>131.0</td>\n",
       "      <td>26.7</td>\n",
       "      <td>3.0</td>\n",
       "      <td>conservative</td>\n",
       "      <td>uncomplicated</td>\n",
       "      <td>7.0</td>\n",
       "      <td>6.0</td>\n",
       "    </tr>\n",
       "    <tr>\n",
       "      <th>9</th>\n",
       "      <td>6058</td>\n",
       "      <td>14.34</td>\n",
       "      <td>14.9</td>\n",
       "      <td>male</td>\n",
       "      <td>174.0</td>\n",
       "      <td>45.5</td>\n",
       "      <td>3.0</td>\n",
       "      <td>conservative</td>\n",
       "      <td>uncomplicated</td>\n",
       "      <td>4.0</td>\n",
       "      <td>4.0</td>\n",
       "    </tr>\n",
       "  </tbody>\n",
       "</table>\n",
       "</div>"
      ],
      "text/plain": [
       "     ID    Age   BMI     Sex  Height  Weight  Length_of_Stay    Management  \\\n",
       "0  9171  12.68  16.9  female   148.0    37.0             3.0  conservative   \n",
       "1  7963  14.10  31.9    male   147.0    69.5             2.0  conservative   \n",
       "2  3931  14.14  23.3  female   163.0    62.0             4.0  conservative   \n",
       "3  5300  16.37  20.6  female   165.0    56.0             3.0  conservative   \n",
       "4  7074  11.08  16.9  female   163.0    45.0             3.0  conservative   \n",
       "5  4778  11.05  30.7    male   121.0    45.0             3.0  conservative   \n",
       "6  4738   8.98  19.4  female   140.0    38.5             3.0  conservative   \n",
       "7  9489   7.06   NaN  female     NaN    21.5             2.0  conservative   \n",
       "8  6526   7.90  15.7    male   131.0    26.7             3.0  conservative   \n",
       "9  6058  14.34  14.9    male   174.0    45.5             3.0  conservative   \n",
       "\n",
       "        Severity  Alvarado_Score  Paedriatic_Appendicitis_Score  \n",
       "0  uncomplicated             4.0                            3.0  \n",
       "1  uncomplicated             5.0                            4.0  \n",
       "2  uncomplicated             5.0                            3.0  \n",
       "3  uncomplicated             7.0                            6.0  \n",
       "4  uncomplicated             5.0                            6.0  \n",
       "5  uncomplicated             6.0                            7.0  \n",
       "6  uncomplicated             5.0                            6.0  \n",
       "7  uncomplicated             3.0                            3.0  \n",
       "8  uncomplicated             7.0                            6.0  \n",
       "9  uncomplicated             4.0                            4.0  "
      ]
     },
     "execution_count": 22,
     "metadata": {},
     "output_type": "execute_result"
    }
   ],
   "source": [
    "rpad_df = rpad_df[['Age', 'BMI', 'Sex', 'Height', 'Weight',\n",
    "                          'Length_of_Stay', 'Management', 'Severity',\n",
    "                          'Alvarado_Score', 'Paedriatic_Appendicitis_Score']]\n",
    "rpad_df.insert(0, 'ID', list(np.random.permutation(np.arange(1000,9999))[:len(rpad_df)]))\n",
    "print(rpad_df.shape)\n",
    "rpad_df.head(10)\n"
   ]
  },
  {
   "cell_type": "code",
   "execution_count": 23,
   "metadata": {},
   "outputs": [
    {
     "name": "stdout",
     "output_type": "stream",
     "text": [
      "ID                                 int64\n",
      "Age                              float64\n",
      "BMI                              float64\n",
      "Sex                               object\n",
      "Height                           float64\n",
      "Weight                           float64\n",
      "Length_of_Stay                   float64\n",
      "Management                        object\n",
      "Severity                          object\n",
      "Alvarado_Score                   float64\n",
      "Paedriatic_Appendicitis_Score    float64\n",
      "dtype: object\n"
     ]
    }
   ],
   "source": [
    "# in beta Version you can create metadata with from sdv.metadata import SingleTableMetadata (shortly explain how to get to metadata notebook)\n",
    "# still detect default type -> here in this example would create metadata with -> need to adjust/type in what you need per Hand \n",
    "# not using it just show you how its done\n",
    "\n",
    "print(rpad_df.dtypes)\n"
   ]
  },
  {
   "cell_type": "code",
   "execution_count": 25,
   "metadata": {},
   "outputs": [
    {
     "name": "stdout",
     "output_type": "stream",
     "text": [
      "{'ID': {'type': 'numerical', 'subtype': 'integer'}, 'Age': {'type': 'numerical', 'subtype': 'float'}, 'BMI': {'type': 'numerical', 'subtype': 'float'}, 'Sex': {'type': 'categorical', 'subtype': 'string'}, 'Height': {'type': 'numerical', 'subtype': 'float'}, 'Weight': {'type': 'numerical', 'subtype': 'float'}, 'Length_of_Stay': {'type': 'numerical', 'subtype': 'integer'}, 'Management': {'type': 'categorical', 'subtype': 'string'}, 'Severity': {'type': 'categorical', 'subtype': 'string'}, 'Alvarado_Score': {'type': 'numerical', 'subtype': 'integer'}, 'Paedriatic_Appendicitis_Score': {'type': 'numerical', 'subtype': 'integer'}}\n"
     ]
    }
   ],
   "source": [
    "# Alternative händisch Metadaten erstellen:\n",
    "# hide this step until it becomes relevant\n",
    "str_col = ['Sex', 'Management', 'Severity', 'address', 'city', 'county', 'postal', 'phone1', 'phone2', 'email', 'web']\n",
    "int_col = ['ID', 'Length_of_Stay', 'Alvarado_Score', 'Paedriatic_Appendicitis_Score']\n",
    "float_col = ['Age', 'BMI', 'Height', 'Weight']\n",
    "\n",
    "col_types = {}\n",
    "for col in rpad_df:\n",
    "    if col in str_col:\n",
    "        col_types[col] = {\n",
    "            \"type\": \"categorical\",\n",
    "            \"subtype\": \"string\" # Explain why\n",
    "            #\"regex\": \"U_[0-9]{3}\" # Explain why\n",
    "        }\n",
    "    elif col in int_col:\n",
    "        rpad_df[col].astype('Int64') # Int64 because accepts Nan in int columns\n",
    "        col_types[col] = {\n",
    "            \"type\": \"numerical\", \n",
    "            \"subtype\": \"integer\"\n",
    "        }\n",
    "    elif col in float_col:\n",
    "        col_types[col] = {\n",
    "            \"type\": \"numerical\", \n",
    "            \"subtype\": \"float\"\n",
    "        }\n",
    "print(col_types)\n",
    "#str_col_types.update(int_col_types)\n",
    "#print(str_col_types) # only if want to check if dict works properly\n",
    "#print(example_df.dtypes)\n",
    "# wenn sich nichts ändert erwähnen warum wichtig dass dies am anfang passiert -> synthetische Daten erstellt sollten types \n",
    "# richtig sien damit sie auch in den synthetischen daten gleich richtig sind\n",
    "\n",
    "# Alternative 2 Metadtaen mit sdv beta version\n",
    "#from sdv.metadata import MultiTableMetadata\n",
    "\n",
    "#metadata = MultiTableMetadata()"
   ]
  },
  {
   "cell_type": "code",
   "execution_count": 26,
   "metadata": {},
   "outputs": [
    {
     "name": "stderr",
     "output_type": "stream",
     "text": [
      "/home/antonia/.local/lib/python3.8/site-packages/rdt/transformers/numerical.py:100: UserWarning: No rounding scheme detected for column 'Age'. Data will not be rounded.\n",
      "  warnings.warn(\n",
      "/home/antonia/.local/lib/python3.8/site-packages/rdt/transformers/numerical.py:100: UserWarning: No rounding scheme detected for column 'BMI'. Data will not be rounded.\n",
      "  warnings.warn(\n"
     ]
    }
   ],
   "source": [
    "model = CTGAN()\n",
    "model.fit(rpad_df)"
   ]
  },
  {
   "cell_type": "code",
   "execution_count": 28,
   "metadata": {},
   "outputs": [
    {
     "ename": "ImportError",
     "evalue": "cannot import name 'SingleTableMetadata' from 'sdv.metadata' (/home/antonia/.local/lib/python3.8/site-packages/sdv/metadata/__init__.py)",
     "output_type": "error",
     "traceback": [
      "\u001b[0;31m---------------------------------------------------------------------------\u001b[0m",
      "\u001b[0;31mImportError\u001b[0m                               Traceback (most recent call last)",
      "\u001b[0;32m<ipython-input-28-e4087d426376>\u001b[0m in \u001b[0;36m<module>\u001b[0;34m\u001b[0m\n\u001b[0;32m----> 1\u001b[0;31m \u001b[0;32mfrom\u001b[0m \u001b[0msdv\u001b[0m\u001b[0;34m.\u001b[0m\u001b[0mmetadata\u001b[0m \u001b[0;32mimport\u001b[0m \u001b[0mSingleTableMetadata\u001b[0m\u001b[0;34m\u001b[0m\u001b[0;34m\u001b[0m\u001b[0m\n\u001b[0m",
      "\u001b[0;31mImportError\u001b[0m: cannot import name 'SingleTableMetadata' from 'sdv.metadata' (/home/antonia/.local/lib/python3.8/site-packages/sdv/metadata/__init__.py)"
     ]
    }
   ],
   "source": []
  },
  {
   "cell_type": "code",
   "execution_count": 27,
   "metadata": {},
   "outputs": [
    {
     "name": "stdout",
     "output_type": "stream",
     "text": [
      "(200, 11)\n",
      "     ID        Age        BMI     Sex  Height  Weight  Length_of_Stay  \\\n",
      "0  7504  16.042345  34.923417  female    79.1   83.73             3.0   \n",
      "1  9910  13.995508  20.545413    male   133.5   69.77             3.0   \n",
      "2  3736  16.002054  23.589558  female   115.1   51.31             3.0   \n",
      "3  9244   9.617661  20.381550    male   161.4   74.65             2.0   \n",
      "4  3035  13.237740  23.643700  female   150.1   99.42             3.0   \n",
      "5  5415  17.598807        NaN  female     NaN   40.73             3.0   \n",
      "6  5495   5.379173  38.156221  female   117.8   39.96             1.0   \n",
      "7  9992  18.360000  21.118656    male   113.6   77.88             3.0   \n",
      "8  9992  18.108272  16.019144    male    82.2   65.92             3.0   \n",
      "9  8868  14.430227  14.345970  female   152.0   33.20             4.0   \n",
      "\n",
      "         Management       Severity  Alvarado_Score  \\\n",
      "0      conservative  uncomplicated             1.0   \n",
      "1  primary surgical  uncomplicated             NaN   \n",
      "2      conservative  uncomplicated             6.0   \n",
      "3  primary surgical  uncomplicated             7.0   \n",
      "4      conservative  uncomplicated             8.0   \n",
      "5  primary surgical  uncomplicated             4.0   \n",
      "6  primary surgical  uncomplicated             6.0   \n",
      "7      conservative  uncomplicated             4.0   \n",
      "8      conservative  uncomplicated             3.0   \n",
      "9  primary surgical  uncomplicated            10.0   \n",
      "\n",
      "   Paedriatic_Appendicitis_Score  \n",
      "0                           10.0  \n",
      "1                            5.0  \n",
      "2                            NaN  \n",
      "3                            8.0  \n",
      "4                            NaN  \n",
      "5                            6.0  \n",
      "6                            NaN  \n",
      "7                            3.0  \n",
      "8                            6.0  \n",
      "9                           10.0  \n"
     ]
    }
   ],
   "source": [
    "new_data = model.sample(num_rows=200)\n",
    "print(new_data.shape)\n",
    "print(new_data.head(10))"
   ]
  },
  {
   "cell_type": "code",
   "execution_count": 8,
   "metadata": {},
   "outputs": [
    {
     "name": "stdout",
     "output_type": "stream",
     "text": [
      "first_name      object\n",
      "last_name       object\n",
      "company_name    object\n",
      "address         object\n",
      "city            object\n",
      "county          object\n",
      "postal          object\n",
      "phone1          object\n",
      "phone2          object\n",
      "email           object\n",
      "web             object\n",
      "dtype: object\n",
      "Index(['first_name', 'last_name', 'company_name', 'address', 'city', 'county',\n",
      "       'postal', 'phone1', 'phone2', 'email', 'web'],\n",
      "      dtype='object')\n"
     ]
    }
   ],
   "source": [
    "print(new_data.dtypes)\n",
    "print(new_data.columns)"
   ]
  },
  {
   "cell_type": "code",
   "execution_count": 6,
   "metadata": {},
   "outputs": [],
   "source": [
    "#model.save('synt_uk_dat.pkl')\n",
    "model = CTGAN.load('synt_uk_dat.pkl')"
   ]
  },
  {
   "cell_type": "code",
   "execution_count": 11,
   "metadata": {},
   "outputs": [],
   "source": [
    "from sdmetrics.reports.single_table import QualityReport\n",
    "\n",
    "real_data = example_df\n",
    "synthetic_data = new_data\n",
    "\n"
   ]
  },
  {
   "cell_type": "code",
   "execution_count": 9,
   "metadata": {},
   "outputs": [],
   "source": [
    "# Create your own Metadata: -> Find information on how to specify Metadata: https://docs.sdv.dev/sdmetrics/getting-started/metadata/single-table-metadata\n",
    "metadata_coltypes = {}\n",
    "metadata_coltypes[\"fields\"] = dict(str_col_types) # Erklären wann primary key gebraucht wir dund wann nicht\n",
    "# Checken ob in sdv eine einfacherer Methode zum erstellen von Metadaten existiert\n"
   ]
  },
  {
   "cell_type": "code",
   "execution_count": 12,
   "metadata": {},
   "outputs": [
    {
     "name": "stderr",
     "output_type": "stream",
     "text": [
      "Creating report: 100%|██████████| 4/4 [00:34<00:00,  8.61s/it]"
     ]
    },
    {
     "name": "stdout",
     "output_type": "stream",
     "text": [
      "\n",
      "Overall Quality Score: 18.68%\n",
      "\n",
      "Properties:\n",
      "Column Shapes: 37.12%\n",
      "Column Pair Trends: 0.24%\n"
     ]
    },
    {
     "name": "stderr",
     "output_type": "stream",
     "text": [
      "\n"
     ]
    }
   ],
   "source": [
    "my_report = QualityReport()\n",
    "my_report.generate(real_data, synthetic_data, metadata_coltypes)"
   ]
  },
  {
   "cell_type": "code",
   "execution_count": 38,
   "metadata": {},
   "outputs": [],
   "source": [
    "# Interpretiere above aussagen: -> wo muss näher reingeschaut werden + warum?\n",
    "import json\n",
    "\n",
    "with open('my_metadata_file.json', 'w') as f:\n",
    "    json.dump(metadata_coltypes, f)\n",
    "\n",
    "\n",
    "#with open('my_metadata_file.json') as f:\n",
    "#    metadata_coltypes = json.load(f)\n",
    "\n",
    "# use my_metadata_dict in the SDMetrics library\n",
    "\n",
    "\n",
    "# Bis hierhin sind essential steps die super in documentation nachgelesen werden können. -> hier tips und tricks erklären (zum mitcoden wenn möchten)\n",
    "# danach wie verbesere ich es?"
   ]
  },
  {
   "cell_type": "code",
   "execution_count": 13,
   "metadata": {},
   "outputs": [
    {
     "data": {
      "text/html": [
       "<div>\n",
       "<style scoped>\n",
       "    .dataframe tbody tr th:only-of-type {\n",
       "        vertical-align: middle;\n",
       "    }\n",
       "\n",
       "    .dataframe tbody tr th {\n",
       "        vertical-align: top;\n",
       "    }\n",
       "\n",
       "    .dataframe thead th {\n",
       "        text-align: right;\n",
       "    }\n",
       "</style>\n",
       "<table border=\"1\" class=\"dataframe\">\n",
       "  <thead>\n",
       "    <tr style=\"text-align: right;\">\n",
       "      <th></th>\n",
       "      <th>Column 1</th>\n",
       "      <th>Column 2</th>\n",
       "      <th>Metric</th>\n",
       "      <th>Quality Score</th>\n",
       "      <th>Real Correlation</th>\n",
       "      <th>Synthetic Correlation</th>\n",
       "    </tr>\n",
       "  </thead>\n",
       "  <tbody>\n",
       "    <tr>\n",
       "      <th>0</th>\n",
       "      <td>first_name</td>\n",
       "      <td>last_name</td>\n",
       "      <td>ContingencySimilarity</td>\n",
       "      <td>2.000000e-03</td>\n",
       "      <td>NaN</td>\n",
       "      <td>NaN</td>\n",
       "    </tr>\n",
       "    <tr>\n",
       "      <th>1</th>\n",
       "      <td>company_name</td>\n",
       "      <td>first_name</td>\n",
       "      <td>ContingencySimilarity</td>\n",
       "      <td>2.000000e-03</td>\n",
       "      <td>NaN</td>\n",
       "      <td>NaN</td>\n",
       "    </tr>\n",
       "    <tr>\n",
       "      <th>2</th>\n",
       "      <td>address</td>\n",
       "      <td>first_name</td>\n",
       "      <td>ContingencySimilarity</td>\n",
       "      <td>2.000000e-03</td>\n",
       "      <td>NaN</td>\n",
       "      <td>NaN</td>\n",
       "    </tr>\n",
       "    <tr>\n",
       "      <th>3</th>\n",
       "      <td>city</td>\n",
       "      <td>first_name</td>\n",
       "      <td>ContingencySimilarity</td>\n",
       "      <td>2.000000e-03</td>\n",
       "      <td>NaN</td>\n",
       "      <td>NaN</td>\n",
       "    </tr>\n",
       "    <tr>\n",
       "      <th>4</th>\n",
       "      <td>county</td>\n",
       "      <td>first_name</td>\n",
       "      <td>ContingencySimilarity</td>\n",
       "      <td>8.000000e-03</td>\n",
       "      <td>NaN</td>\n",
       "      <td>NaN</td>\n",
       "    </tr>\n",
       "    <tr>\n",
       "      <th>5</th>\n",
       "      <td>first_name</td>\n",
       "      <td>postal</td>\n",
       "      <td>ContingencySimilarity</td>\n",
       "      <td>2.000000e-03</td>\n",
       "      <td>NaN</td>\n",
       "      <td>NaN</td>\n",
       "    </tr>\n",
       "    <tr>\n",
       "      <th>6</th>\n",
       "      <td>first_name</td>\n",
       "      <td>phone1</td>\n",
       "      <td>ContingencySimilarity</td>\n",
       "      <td>2.000000e-03</td>\n",
       "      <td>NaN</td>\n",
       "      <td>NaN</td>\n",
       "    </tr>\n",
       "    <tr>\n",
       "      <th>7</th>\n",
       "      <td>first_name</td>\n",
       "      <td>phone2</td>\n",
       "      <td>ContingencySimilarity</td>\n",
       "      <td>2.000000e-03</td>\n",
       "      <td>NaN</td>\n",
       "      <td>NaN</td>\n",
       "    </tr>\n",
       "    <tr>\n",
       "      <th>8</th>\n",
       "      <td>email</td>\n",
       "      <td>first_name</td>\n",
       "      <td>ContingencySimilarity</td>\n",
       "      <td>-2.220446e-16</td>\n",
       "      <td>NaN</td>\n",
       "      <td>NaN</td>\n",
       "    </tr>\n",
       "    <tr>\n",
       "      <th>9</th>\n",
       "      <td>first_name</td>\n",
       "      <td>web</td>\n",
       "      <td>ContingencySimilarity</td>\n",
       "      <td>2.000000e-03</td>\n",
       "      <td>NaN</td>\n",
       "      <td>NaN</td>\n",
       "    </tr>\n",
       "    <tr>\n",
       "      <th>10</th>\n",
       "      <td>company_name</td>\n",
       "      <td>last_name</td>\n",
       "      <td>ContingencySimilarity</td>\n",
       "      <td>-2.220446e-16</td>\n",
       "      <td>NaN</td>\n",
       "      <td>NaN</td>\n",
       "    </tr>\n",
       "    <tr>\n",
       "      <th>11</th>\n",
       "      <td>address</td>\n",
       "      <td>last_name</td>\n",
       "      <td>ContingencySimilarity</td>\n",
       "      <td>-2.220446e-16</td>\n",
       "      <td>NaN</td>\n",
       "      <td>NaN</td>\n",
       "    </tr>\n",
       "    <tr>\n",
       "      <th>12</th>\n",
       "      <td>city</td>\n",
       "      <td>last_name</td>\n",
       "      <td>ContingencySimilarity</td>\n",
       "      <td>-2.220446e-16</td>\n",
       "      <td>NaN</td>\n",
       "      <td>NaN</td>\n",
       "    </tr>\n",
       "    <tr>\n",
       "      <th>13</th>\n",
       "      <td>county</td>\n",
       "      <td>last_name</td>\n",
       "      <td>ContingencySimilarity</td>\n",
       "      <td>1.600000e-02</td>\n",
       "      <td>NaN</td>\n",
       "      <td>NaN</td>\n",
       "    </tr>\n",
       "    <tr>\n",
       "      <th>14</th>\n",
       "      <td>last_name</td>\n",
       "      <td>postal</td>\n",
       "      <td>ContingencySimilarity</td>\n",
       "      <td>0.000000e+00</td>\n",
       "      <td>NaN</td>\n",
       "      <td>NaN</td>\n",
       "    </tr>\n",
       "    <tr>\n",
       "      <th>15</th>\n",
       "      <td>last_name</td>\n",
       "      <td>phone1</td>\n",
       "      <td>ContingencySimilarity</td>\n",
       "      <td>2.000000e-03</td>\n",
       "      <td>NaN</td>\n",
       "      <td>NaN</td>\n",
       "    </tr>\n",
       "    <tr>\n",
       "      <th>16</th>\n",
       "      <td>last_name</td>\n",
       "      <td>phone2</td>\n",
       "      <td>ContingencySimilarity</td>\n",
       "      <td>2.000000e-03</td>\n",
       "      <td>NaN</td>\n",
       "      <td>NaN</td>\n",
       "    </tr>\n",
       "    <tr>\n",
       "      <th>17</th>\n",
       "      <td>email</td>\n",
       "      <td>last_name</td>\n",
       "      <td>ContingencySimilarity</td>\n",
       "      <td>-2.220446e-16</td>\n",
       "      <td>NaN</td>\n",
       "      <td>NaN</td>\n",
       "    </tr>\n",
       "    <tr>\n",
       "      <th>18</th>\n",
       "      <td>last_name</td>\n",
       "      <td>web</td>\n",
       "      <td>ContingencySimilarity</td>\n",
       "      <td>0.000000e+00</td>\n",
       "      <td>NaN</td>\n",
       "      <td>NaN</td>\n",
       "    </tr>\n",
       "    <tr>\n",
       "      <th>19</th>\n",
       "      <td>address</td>\n",
       "      <td>company_name</td>\n",
       "      <td>ContingencySimilarity</td>\n",
       "      <td>-2.220446e-16</td>\n",
       "      <td>NaN</td>\n",
       "      <td>NaN</td>\n",
       "    </tr>\n",
       "    <tr>\n",
       "      <th>20</th>\n",
       "      <td>city</td>\n",
       "      <td>company_name</td>\n",
       "      <td>ContingencySimilarity</td>\n",
       "      <td>-2.220446e-16</td>\n",
       "      <td>NaN</td>\n",
       "      <td>NaN</td>\n",
       "    </tr>\n",
       "    <tr>\n",
       "      <th>21</th>\n",
       "      <td>company_name</td>\n",
       "      <td>county</td>\n",
       "      <td>ContingencySimilarity</td>\n",
       "      <td>4.000000e-03</td>\n",
       "      <td>NaN</td>\n",
       "      <td>NaN</td>\n",
       "    </tr>\n",
       "    <tr>\n",
       "      <th>22</th>\n",
       "      <td>company_name</td>\n",
       "      <td>postal</td>\n",
       "      <td>ContingencySimilarity</td>\n",
       "      <td>0.000000e+00</td>\n",
       "      <td>NaN</td>\n",
       "      <td>NaN</td>\n",
       "    </tr>\n",
       "    <tr>\n",
       "      <th>23</th>\n",
       "      <td>company_name</td>\n",
       "      <td>phone1</td>\n",
       "      <td>ContingencySimilarity</td>\n",
       "      <td>0.000000e+00</td>\n",
       "      <td>NaN</td>\n",
       "      <td>NaN</td>\n",
       "    </tr>\n",
       "    <tr>\n",
       "      <th>24</th>\n",
       "      <td>company_name</td>\n",
       "      <td>phone2</td>\n",
       "      <td>ContingencySimilarity</td>\n",
       "      <td>-2.220446e-16</td>\n",
       "      <td>NaN</td>\n",
       "      <td>NaN</td>\n",
       "    </tr>\n",
       "    <tr>\n",
       "      <th>25</th>\n",
       "      <td>company_name</td>\n",
       "      <td>email</td>\n",
       "      <td>ContingencySimilarity</td>\n",
       "      <td>-2.220446e-16</td>\n",
       "      <td>NaN</td>\n",
       "      <td>NaN</td>\n",
       "    </tr>\n",
       "    <tr>\n",
       "      <th>26</th>\n",
       "      <td>company_name</td>\n",
       "      <td>web</td>\n",
       "      <td>ContingencySimilarity</td>\n",
       "      <td>0.000000e+00</td>\n",
       "      <td>NaN</td>\n",
       "      <td>NaN</td>\n",
       "    </tr>\n",
       "    <tr>\n",
       "      <th>27</th>\n",
       "      <td>address</td>\n",
       "      <td>city</td>\n",
       "      <td>ContingencySimilarity</td>\n",
       "      <td>0.000000e+00</td>\n",
       "      <td>NaN</td>\n",
       "      <td>NaN</td>\n",
       "    </tr>\n",
       "    <tr>\n",
       "      <th>28</th>\n",
       "      <td>address</td>\n",
       "      <td>county</td>\n",
       "      <td>ContingencySimilarity</td>\n",
       "      <td>1.200000e-02</td>\n",
       "      <td>NaN</td>\n",
       "      <td>NaN</td>\n",
       "    </tr>\n",
       "    <tr>\n",
       "      <th>29</th>\n",
       "      <td>address</td>\n",
       "      <td>postal</td>\n",
       "      <td>ContingencySimilarity</td>\n",
       "      <td>0.000000e+00</td>\n",
       "      <td>NaN</td>\n",
       "      <td>NaN</td>\n",
       "    </tr>\n",
       "    <tr>\n",
       "      <th>30</th>\n",
       "      <td>address</td>\n",
       "      <td>phone1</td>\n",
       "      <td>ContingencySimilarity</td>\n",
       "      <td>0.000000e+00</td>\n",
       "      <td>NaN</td>\n",
       "      <td>NaN</td>\n",
       "    </tr>\n",
       "    <tr>\n",
       "      <th>31</th>\n",
       "      <td>address</td>\n",
       "      <td>phone2</td>\n",
       "      <td>ContingencySimilarity</td>\n",
       "      <td>2.000000e-03</td>\n",
       "      <td>NaN</td>\n",
       "      <td>NaN</td>\n",
       "    </tr>\n",
       "    <tr>\n",
       "      <th>32</th>\n",
       "      <td>address</td>\n",
       "      <td>email</td>\n",
       "      <td>ContingencySimilarity</td>\n",
       "      <td>2.000000e-03</td>\n",
       "      <td>NaN</td>\n",
       "      <td>NaN</td>\n",
       "    </tr>\n",
       "    <tr>\n",
       "      <th>33</th>\n",
       "      <td>address</td>\n",
       "      <td>web</td>\n",
       "      <td>ContingencySimilarity</td>\n",
       "      <td>0.000000e+00</td>\n",
       "      <td>NaN</td>\n",
       "      <td>NaN</td>\n",
       "    </tr>\n",
       "    <tr>\n",
       "      <th>34</th>\n",
       "      <td>city</td>\n",
       "      <td>county</td>\n",
       "      <td>ContingencySimilarity</td>\n",
       "      <td>1.500000e-02</td>\n",
       "      <td>NaN</td>\n",
       "      <td>NaN</td>\n",
       "    </tr>\n",
       "    <tr>\n",
       "      <th>35</th>\n",
       "      <td>city</td>\n",
       "      <td>postal</td>\n",
       "      <td>ContingencySimilarity</td>\n",
       "      <td>0.000000e+00</td>\n",
       "      <td>NaN</td>\n",
       "      <td>NaN</td>\n",
       "    </tr>\n",
       "    <tr>\n",
       "      <th>36</th>\n",
       "      <td>city</td>\n",
       "      <td>phone1</td>\n",
       "      <td>ContingencySimilarity</td>\n",
       "      <td>0.000000e+00</td>\n",
       "      <td>NaN</td>\n",
       "      <td>NaN</td>\n",
       "    </tr>\n",
       "    <tr>\n",
       "      <th>37</th>\n",
       "      <td>city</td>\n",
       "      <td>phone2</td>\n",
       "      <td>ContingencySimilarity</td>\n",
       "      <td>-2.220446e-16</td>\n",
       "      <td>NaN</td>\n",
       "      <td>NaN</td>\n",
       "    </tr>\n",
       "    <tr>\n",
       "      <th>38</th>\n",
       "      <td>city</td>\n",
       "      <td>email</td>\n",
       "      <td>ContingencySimilarity</td>\n",
       "      <td>2.000000e-03</td>\n",
       "      <td>NaN</td>\n",
       "      <td>NaN</td>\n",
       "    </tr>\n",
       "    <tr>\n",
       "      <th>39</th>\n",
       "      <td>city</td>\n",
       "      <td>web</td>\n",
       "      <td>ContingencySimilarity</td>\n",
       "      <td>0.000000e+00</td>\n",
       "      <td>NaN</td>\n",
       "      <td>NaN</td>\n",
       "    </tr>\n",
       "    <tr>\n",
       "      <th>40</th>\n",
       "      <td>county</td>\n",
       "      <td>postal</td>\n",
       "      <td>ContingencySimilarity</td>\n",
       "      <td>1.000000e-02</td>\n",
       "      <td>NaN</td>\n",
       "      <td>NaN</td>\n",
       "    </tr>\n",
       "    <tr>\n",
       "      <th>41</th>\n",
       "      <td>county</td>\n",
       "      <td>phone1</td>\n",
       "      <td>ContingencySimilarity</td>\n",
       "      <td>8.000000e-03</td>\n",
       "      <td>NaN</td>\n",
       "      <td>NaN</td>\n",
       "    </tr>\n",
       "    <tr>\n",
       "      <th>42</th>\n",
       "      <td>county</td>\n",
       "      <td>phone2</td>\n",
       "      <td>ContingencySimilarity</td>\n",
       "      <td>2.000000e-03</td>\n",
       "      <td>NaN</td>\n",
       "      <td>NaN</td>\n",
       "    </tr>\n",
       "    <tr>\n",
       "      <th>43</th>\n",
       "      <td>county</td>\n",
       "      <td>email</td>\n",
       "      <td>ContingencySimilarity</td>\n",
       "      <td>1.200000e-02</td>\n",
       "      <td>NaN</td>\n",
       "      <td>NaN</td>\n",
       "    </tr>\n",
       "    <tr>\n",
       "      <th>44</th>\n",
       "      <td>county</td>\n",
       "      <td>web</td>\n",
       "      <td>ContingencySimilarity</td>\n",
       "      <td>1.200000e-02</td>\n",
       "      <td>NaN</td>\n",
       "      <td>NaN</td>\n",
       "    </tr>\n",
       "    <tr>\n",
       "      <th>45</th>\n",
       "      <td>phone1</td>\n",
       "      <td>postal</td>\n",
       "      <td>ContingencySimilarity</td>\n",
       "      <td>0.000000e+00</td>\n",
       "      <td>NaN</td>\n",
       "      <td>NaN</td>\n",
       "    </tr>\n",
       "    <tr>\n",
       "      <th>46</th>\n",
       "      <td>phone2</td>\n",
       "      <td>postal</td>\n",
       "      <td>ContingencySimilarity</td>\n",
       "      <td>2.000000e-03</td>\n",
       "      <td>NaN</td>\n",
       "      <td>NaN</td>\n",
       "    </tr>\n",
       "    <tr>\n",
       "      <th>47</th>\n",
       "      <td>email</td>\n",
       "      <td>postal</td>\n",
       "      <td>ContingencySimilarity</td>\n",
       "      <td>2.000000e-03</td>\n",
       "      <td>NaN</td>\n",
       "      <td>NaN</td>\n",
       "    </tr>\n",
       "    <tr>\n",
       "      <th>48</th>\n",
       "      <td>postal</td>\n",
       "      <td>web</td>\n",
       "      <td>ContingencySimilarity</td>\n",
       "      <td>0.000000e+00</td>\n",
       "      <td>NaN</td>\n",
       "      <td>NaN</td>\n",
       "    </tr>\n",
       "    <tr>\n",
       "      <th>49</th>\n",
       "      <td>phone1</td>\n",
       "      <td>phone2</td>\n",
       "      <td>ContingencySimilarity</td>\n",
       "      <td>4.000000e-03</td>\n",
       "      <td>NaN</td>\n",
       "      <td>NaN</td>\n",
       "    </tr>\n",
       "    <tr>\n",
       "      <th>50</th>\n",
       "      <td>email</td>\n",
       "      <td>phone1</td>\n",
       "      <td>ContingencySimilarity</td>\n",
       "      <td>0.000000e+00</td>\n",
       "      <td>NaN</td>\n",
       "      <td>NaN</td>\n",
       "    </tr>\n",
       "    <tr>\n",
       "      <th>51</th>\n",
       "      <td>phone1</td>\n",
       "      <td>web</td>\n",
       "      <td>ContingencySimilarity</td>\n",
       "      <td>0.000000e+00</td>\n",
       "      <td>NaN</td>\n",
       "      <td>NaN</td>\n",
       "    </tr>\n",
       "    <tr>\n",
       "      <th>52</th>\n",
       "      <td>email</td>\n",
       "      <td>phone2</td>\n",
       "      <td>ContingencySimilarity</td>\n",
       "      <td>-2.220446e-16</td>\n",
       "      <td>NaN</td>\n",
       "      <td>NaN</td>\n",
       "    </tr>\n",
       "    <tr>\n",
       "      <th>53</th>\n",
       "      <td>phone2</td>\n",
       "      <td>web</td>\n",
       "      <td>ContingencySimilarity</td>\n",
       "      <td>0.000000e+00</td>\n",
       "      <td>NaN</td>\n",
       "      <td>NaN</td>\n",
       "    </tr>\n",
       "    <tr>\n",
       "      <th>54</th>\n",
       "      <td>email</td>\n",
       "      <td>web</td>\n",
       "      <td>ContingencySimilarity</td>\n",
       "      <td>0.000000e+00</td>\n",
       "      <td>NaN</td>\n",
       "      <td>NaN</td>\n",
       "    </tr>\n",
       "  </tbody>\n",
       "</table>\n",
       "</div>"
      ],
      "text/plain": [
       "        Column 1      Column 2                 Metric  Quality Score  \\\n",
       "0     first_name     last_name  ContingencySimilarity   2.000000e-03   \n",
       "1   company_name    first_name  ContingencySimilarity   2.000000e-03   \n",
       "2        address    first_name  ContingencySimilarity   2.000000e-03   \n",
       "3           city    first_name  ContingencySimilarity   2.000000e-03   \n",
       "4         county    first_name  ContingencySimilarity   8.000000e-03   \n",
       "5     first_name        postal  ContingencySimilarity   2.000000e-03   \n",
       "6     first_name        phone1  ContingencySimilarity   2.000000e-03   \n",
       "7     first_name        phone2  ContingencySimilarity   2.000000e-03   \n",
       "8          email    first_name  ContingencySimilarity  -2.220446e-16   \n",
       "9     first_name           web  ContingencySimilarity   2.000000e-03   \n",
       "10  company_name     last_name  ContingencySimilarity  -2.220446e-16   \n",
       "11       address     last_name  ContingencySimilarity  -2.220446e-16   \n",
       "12          city     last_name  ContingencySimilarity  -2.220446e-16   \n",
       "13        county     last_name  ContingencySimilarity   1.600000e-02   \n",
       "14     last_name        postal  ContingencySimilarity   0.000000e+00   \n",
       "15     last_name        phone1  ContingencySimilarity   2.000000e-03   \n",
       "16     last_name        phone2  ContingencySimilarity   2.000000e-03   \n",
       "17         email     last_name  ContingencySimilarity  -2.220446e-16   \n",
       "18     last_name           web  ContingencySimilarity   0.000000e+00   \n",
       "19       address  company_name  ContingencySimilarity  -2.220446e-16   \n",
       "20          city  company_name  ContingencySimilarity  -2.220446e-16   \n",
       "21  company_name        county  ContingencySimilarity   4.000000e-03   \n",
       "22  company_name        postal  ContingencySimilarity   0.000000e+00   \n",
       "23  company_name        phone1  ContingencySimilarity   0.000000e+00   \n",
       "24  company_name        phone2  ContingencySimilarity  -2.220446e-16   \n",
       "25  company_name         email  ContingencySimilarity  -2.220446e-16   \n",
       "26  company_name           web  ContingencySimilarity   0.000000e+00   \n",
       "27       address          city  ContingencySimilarity   0.000000e+00   \n",
       "28       address        county  ContingencySimilarity   1.200000e-02   \n",
       "29       address        postal  ContingencySimilarity   0.000000e+00   \n",
       "30       address        phone1  ContingencySimilarity   0.000000e+00   \n",
       "31       address        phone2  ContingencySimilarity   2.000000e-03   \n",
       "32       address         email  ContingencySimilarity   2.000000e-03   \n",
       "33       address           web  ContingencySimilarity   0.000000e+00   \n",
       "34          city        county  ContingencySimilarity   1.500000e-02   \n",
       "35          city        postal  ContingencySimilarity   0.000000e+00   \n",
       "36          city        phone1  ContingencySimilarity   0.000000e+00   \n",
       "37          city        phone2  ContingencySimilarity  -2.220446e-16   \n",
       "38          city         email  ContingencySimilarity   2.000000e-03   \n",
       "39          city           web  ContingencySimilarity   0.000000e+00   \n",
       "40        county        postal  ContingencySimilarity   1.000000e-02   \n",
       "41        county        phone1  ContingencySimilarity   8.000000e-03   \n",
       "42        county        phone2  ContingencySimilarity   2.000000e-03   \n",
       "43        county         email  ContingencySimilarity   1.200000e-02   \n",
       "44        county           web  ContingencySimilarity   1.200000e-02   \n",
       "45        phone1        postal  ContingencySimilarity   0.000000e+00   \n",
       "46        phone2        postal  ContingencySimilarity   2.000000e-03   \n",
       "47         email        postal  ContingencySimilarity   2.000000e-03   \n",
       "48        postal           web  ContingencySimilarity   0.000000e+00   \n",
       "49        phone1        phone2  ContingencySimilarity   4.000000e-03   \n",
       "50         email        phone1  ContingencySimilarity   0.000000e+00   \n",
       "51        phone1           web  ContingencySimilarity   0.000000e+00   \n",
       "52         email        phone2  ContingencySimilarity  -2.220446e-16   \n",
       "53        phone2           web  ContingencySimilarity   0.000000e+00   \n",
       "54         email           web  ContingencySimilarity   0.000000e+00   \n",
       "\n",
       "    Real Correlation  Synthetic Correlation  \n",
       "0                NaN                    NaN  \n",
       "1                NaN                    NaN  \n",
       "2                NaN                    NaN  \n",
       "3                NaN                    NaN  \n",
       "4                NaN                    NaN  \n",
       "5                NaN                    NaN  \n",
       "6                NaN                    NaN  \n",
       "7                NaN                    NaN  \n",
       "8                NaN                    NaN  \n",
       "9                NaN                    NaN  \n",
       "10               NaN                    NaN  \n",
       "11               NaN                    NaN  \n",
       "12               NaN                    NaN  \n",
       "13               NaN                    NaN  \n",
       "14               NaN                    NaN  \n",
       "15               NaN                    NaN  \n",
       "16               NaN                    NaN  \n",
       "17               NaN                    NaN  \n",
       "18               NaN                    NaN  \n",
       "19               NaN                    NaN  \n",
       "20               NaN                    NaN  \n",
       "21               NaN                    NaN  \n",
       "22               NaN                    NaN  \n",
       "23               NaN                    NaN  \n",
       "24               NaN                    NaN  \n",
       "25               NaN                    NaN  \n",
       "26               NaN                    NaN  \n",
       "27               NaN                    NaN  \n",
       "28               NaN                    NaN  \n",
       "29               NaN                    NaN  \n",
       "30               NaN                    NaN  \n",
       "31               NaN                    NaN  \n",
       "32               NaN                    NaN  \n",
       "33               NaN                    NaN  \n",
       "34               NaN                    NaN  \n",
       "35               NaN                    NaN  \n",
       "36               NaN                    NaN  \n",
       "37               NaN                    NaN  \n",
       "38               NaN                    NaN  \n",
       "39               NaN                    NaN  \n",
       "40               NaN                    NaN  \n",
       "41               NaN                    NaN  \n",
       "42               NaN                    NaN  \n",
       "43               NaN                    NaN  \n",
       "44               NaN                    NaN  \n",
       "45               NaN                    NaN  \n",
       "46               NaN                    NaN  \n",
       "47               NaN                    NaN  \n",
       "48               NaN                    NaN  \n",
       "49               NaN                    NaN  \n",
       "50               NaN                    NaN  \n",
       "51               NaN                    NaN  \n",
       "52               NaN                    NaN  \n",
       "53               NaN                    NaN  \n",
       "54               NaN                    NaN  "
      ]
     },
     "execution_count": 13,
     "metadata": {},
     "output_type": "execute_result"
    }
   ],
   "source": [
    "# Ab hier Qualitäts auswertung\n",
    "# erwähnen dass für sowas wie namen ist es nicht relevant und sogar schlecht wenn überlappungen da sind \n",
    "# überlegen und erklären was namens columns für den quality report bedeuten \n",
    "# erstmal details ausgeben:\n",
    "my_report.get_details(property_name='Column Shapes')\n",
    "my_report.get_details(property_name='Column Pair Trends')\n",
    "# explain output -> not very helpfull?\n"
   ]
  },
  {
   "cell_type": "code",
   "execution_count": 14,
   "metadata": {},
   "outputs": [
    {
     "data": {
      "application/vnd.plotly.v1+json": {
       "config": {
        "plotlyServerURL": "https://plot.ly"
       },
       "data": [
        {
         "alignmentgroup": "True",
         "customdata": [
          [
           "TVComplement"
          ],
          [
           "TVComplement"
          ],
          [
           "TVComplement"
          ],
          [
           "TVComplement"
          ],
          [
           "TVComplement"
          ],
          [
           "TVComplement"
          ],
          [
           "TVComplement"
          ],
          [
           "TVComplement"
          ],
          [
           "TVComplement"
          ],
          [
           "TVComplement"
          ],
          [
           "TVComplement"
          ]
         ],
         "hovertemplate": "<b>%{hovertext}</b><br><br>Metric=%{customdata[0]}<br>Quality Score=%{y}<extra></extra>",
         "hovertext": [
          "first_name",
          "last_name",
          "company_name",
          "address",
          "city",
          "county",
          "postal",
          "phone1",
          "phone2",
          "email",
          "web"
         ],
         "legendgroup": "TVComplement",
         "marker": {
          "color": "#03AFF1",
          "pattern": {
           "shape": ""
          }
         },
         "name": "TVComplement",
         "offsetgroup": "TVComplement",
         "orientation": "v",
         "showlegend": true,
         "textposition": "auto",
         "type": "bar",
         "x": [
          "first_name",
          "last_name",
          "company_name",
          "address",
          "city",
          "county",
          "postal",
          "phone1",
          "phone2",
          "email",
          "web"
         ],
         "xaxis": "x",
         "y": [
          0.3580000000000009,
          0.3300000000000012,
          0.3200000000000014,
          0.3320000000000014,
          0.3680000000000011,
          0.7369999999999999,
          0.3260000000000013,
          0.33600000000000085,
          0.3240000000000013,
          0.3160000000000013,
          0.3360000000000013
         ],
         "yaxis": "y"
        }
       ],
       "layout": {
        "barmode": "relative",
        "legend": {
         "title": {
          "text": "Metric"
         },
         "tracegroupgap": 0
        },
        "margin": {
         "t": 150
        },
        "plot_bgcolor": "#F5F5F8",
        "template": {
         "data": {
          "bar": [
           {
            "error_x": {
             "color": "#2a3f5f"
            },
            "error_y": {
             "color": "#2a3f5f"
            },
            "marker": {
             "line": {
              "color": "#E5ECF6",
              "width": 0.5
             },
             "pattern": {
              "fillmode": "overlay",
              "size": 10,
              "solidity": 0.2
             }
            },
            "type": "bar"
           }
          ],
          "barpolar": [
           {
            "marker": {
             "line": {
              "color": "#E5ECF6",
              "width": 0.5
             },
             "pattern": {
              "fillmode": "overlay",
              "size": 10,
              "solidity": 0.2
             }
            },
            "type": "barpolar"
           }
          ],
          "carpet": [
           {
            "aaxis": {
             "endlinecolor": "#2a3f5f",
             "gridcolor": "white",
             "linecolor": "white",
             "minorgridcolor": "white",
             "startlinecolor": "#2a3f5f"
            },
            "baxis": {
             "endlinecolor": "#2a3f5f",
             "gridcolor": "white",
             "linecolor": "white",
             "minorgridcolor": "white",
             "startlinecolor": "#2a3f5f"
            },
            "type": "carpet"
           }
          ],
          "choropleth": [
           {
            "colorbar": {
             "outlinewidth": 0,
             "ticks": ""
            },
            "type": "choropleth"
           }
          ],
          "contour": [
           {
            "colorbar": {
             "outlinewidth": 0,
             "ticks": ""
            },
            "colorscale": [
             [
              0,
              "#0d0887"
             ],
             [
              0.1111111111111111,
              "#46039f"
             ],
             [
              0.2222222222222222,
              "#7201a8"
             ],
             [
              0.3333333333333333,
              "#9c179e"
             ],
             [
              0.4444444444444444,
              "#bd3786"
             ],
             [
              0.5555555555555556,
              "#d8576b"
             ],
             [
              0.6666666666666666,
              "#ed7953"
             ],
             [
              0.7777777777777778,
              "#fb9f3a"
             ],
             [
              0.8888888888888888,
              "#fdca26"
             ],
             [
              1,
              "#f0f921"
             ]
            ],
            "type": "contour"
           }
          ],
          "contourcarpet": [
           {
            "colorbar": {
             "outlinewidth": 0,
             "ticks": ""
            },
            "type": "contourcarpet"
           }
          ],
          "heatmap": [
           {
            "colorbar": {
             "outlinewidth": 0,
             "ticks": ""
            },
            "colorscale": [
             [
              0,
              "#0d0887"
             ],
             [
              0.1111111111111111,
              "#46039f"
             ],
             [
              0.2222222222222222,
              "#7201a8"
             ],
             [
              0.3333333333333333,
              "#9c179e"
             ],
             [
              0.4444444444444444,
              "#bd3786"
             ],
             [
              0.5555555555555556,
              "#d8576b"
             ],
             [
              0.6666666666666666,
              "#ed7953"
             ],
             [
              0.7777777777777778,
              "#fb9f3a"
             ],
             [
              0.8888888888888888,
              "#fdca26"
             ],
             [
              1,
              "#f0f921"
             ]
            ],
            "type": "heatmap"
           }
          ],
          "heatmapgl": [
           {
            "colorbar": {
             "outlinewidth": 0,
             "ticks": ""
            },
            "colorscale": [
             [
              0,
              "#0d0887"
             ],
             [
              0.1111111111111111,
              "#46039f"
             ],
             [
              0.2222222222222222,
              "#7201a8"
             ],
             [
              0.3333333333333333,
              "#9c179e"
             ],
             [
              0.4444444444444444,
              "#bd3786"
             ],
             [
              0.5555555555555556,
              "#d8576b"
             ],
             [
              0.6666666666666666,
              "#ed7953"
             ],
             [
              0.7777777777777778,
              "#fb9f3a"
             ],
             [
              0.8888888888888888,
              "#fdca26"
             ],
             [
              1,
              "#f0f921"
             ]
            ],
            "type": "heatmapgl"
           }
          ],
          "histogram": [
           {
            "marker": {
             "pattern": {
              "fillmode": "overlay",
              "size": 10,
              "solidity": 0.2
             }
            },
            "type": "histogram"
           }
          ],
          "histogram2d": [
           {
            "colorbar": {
             "outlinewidth": 0,
             "ticks": ""
            },
            "colorscale": [
             [
              0,
              "#0d0887"
             ],
             [
              0.1111111111111111,
              "#46039f"
             ],
             [
              0.2222222222222222,
              "#7201a8"
             ],
             [
              0.3333333333333333,
              "#9c179e"
             ],
             [
              0.4444444444444444,
              "#bd3786"
             ],
             [
              0.5555555555555556,
              "#d8576b"
             ],
             [
              0.6666666666666666,
              "#ed7953"
             ],
             [
              0.7777777777777778,
              "#fb9f3a"
             ],
             [
              0.8888888888888888,
              "#fdca26"
             ],
             [
              1,
              "#f0f921"
             ]
            ],
            "type": "histogram2d"
           }
          ],
          "histogram2dcontour": [
           {
            "colorbar": {
             "outlinewidth": 0,
             "ticks": ""
            },
            "colorscale": [
             [
              0,
              "#0d0887"
             ],
             [
              0.1111111111111111,
              "#46039f"
             ],
             [
              0.2222222222222222,
              "#7201a8"
             ],
             [
              0.3333333333333333,
              "#9c179e"
             ],
             [
              0.4444444444444444,
              "#bd3786"
             ],
             [
              0.5555555555555556,
              "#d8576b"
             ],
             [
              0.6666666666666666,
              "#ed7953"
             ],
             [
              0.7777777777777778,
              "#fb9f3a"
             ],
             [
              0.8888888888888888,
              "#fdca26"
             ],
             [
              1,
              "#f0f921"
             ]
            ],
            "type": "histogram2dcontour"
           }
          ],
          "mesh3d": [
           {
            "colorbar": {
             "outlinewidth": 0,
             "ticks": ""
            },
            "type": "mesh3d"
           }
          ],
          "parcoords": [
           {
            "line": {
             "colorbar": {
              "outlinewidth": 0,
              "ticks": ""
             }
            },
            "type": "parcoords"
           }
          ],
          "pie": [
           {
            "automargin": true,
            "type": "pie"
           }
          ],
          "scatter": [
           {
            "fillpattern": {
             "fillmode": "overlay",
             "size": 10,
             "solidity": 0.2
            },
            "type": "scatter"
           }
          ],
          "scatter3d": [
           {
            "line": {
             "colorbar": {
              "outlinewidth": 0,
              "ticks": ""
             }
            },
            "marker": {
             "colorbar": {
              "outlinewidth": 0,
              "ticks": ""
             }
            },
            "type": "scatter3d"
           }
          ],
          "scattercarpet": [
           {
            "marker": {
             "colorbar": {
              "outlinewidth": 0,
              "ticks": ""
             }
            },
            "type": "scattercarpet"
           }
          ],
          "scattergeo": [
           {
            "marker": {
             "colorbar": {
              "outlinewidth": 0,
              "ticks": ""
             }
            },
            "type": "scattergeo"
           }
          ],
          "scattergl": [
           {
            "marker": {
             "colorbar": {
              "outlinewidth": 0,
              "ticks": ""
             }
            },
            "type": "scattergl"
           }
          ],
          "scattermapbox": [
           {
            "marker": {
             "colorbar": {
              "outlinewidth": 0,
              "ticks": ""
             }
            },
            "type": "scattermapbox"
           }
          ],
          "scatterpolar": [
           {
            "marker": {
             "colorbar": {
              "outlinewidth": 0,
              "ticks": ""
             }
            },
            "type": "scatterpolar"
           }
          ],
          "scatterpolargl": [
           {
            "marker": {
             "colorbar": {
              "outlinewidth": 0,
              "ticks": ""
             }
            },
            "type": "scatterpolargl"
           }
          ],
          "scatterternary": [
           {
            "marker": {
             "colorbar": {
              "outlinewidth": 0,
              "ticks": ""
             }
            },
            "type": "scatterternary"
           }
          ],
          "surface": [
           {
            "colorbar": {
             "outlinewidth": 0,
             "ticks": ""
            },
            "colorscale": [
             [
              0,
              "#0d0887"
             ],
             [
              0.1111111111111111,
              "#46039f"
             ],
             [
              0.2222222222222222,
              "#7201a8"
             ],
             [
              0.3333333333333333,
              "#9c179e"
             ],
             [
              0.4444444444444444,
              "#bd3786"
             ],
             [
              0.5555555555555556,
              "#d8576b"
             ],
             [
              0.6666666666666666,
              "#ed7953"
             ],
             [
              0.7777777777777778,
              "#fb9f3a"
             ],
             [
              0.8888888888888888,
              "#fdca26"
             ],
             [
              1,
              "#f0f921"
             ]
            ],
            "type": "surface"
           }
          ],
          "table": [
           {
            "cells": {
             "fill": {
              "color": "#EBF0F8"
             },
             "line": {
              "color": "white"
             }
            },
            "header": {
             "fill": {
              "color": "#C8D4E3"
             },
             "line": {
              "color": "white"
             }
            },
            "type": "table"
           }
          ]
         },
         "layout": {
          "annotationdefaults": {
           "arrowcolor": "#2a3f5f",
           "arrowhead": 0,
           "arrowwidth": 1
          },
          "autotypenumbers": "strict",
          "coloraxis": {
           "colorbar": {
            "outlinewidth": 0,
            "ticks": ""
           }
          },
          "colorscale": {
           "diverging": [
            [
             0,
             "#8e0152"
            ],
            [
             0.1,
             "#c51b7d"
            ],
            [
             0.2,
             "#de77ae"
            ],
            [
             0.3,
             "#f1b6da"
            ],
            [
             0.4,
             "#fde0ef"
            ],
            [
             0.5,
             "#f7f7f7"
            ],
            [
             0.6,
             "#e6f5d0"
            ],
            [
             0.7,
             "#b8e186"
            ],
            [
             0.8,
             "#7fbc41"
            ],
            [
             0.9,
             "#4d9221"
            ],
            [
             1,
             "#276419"
            ]
           ],
           "sequential": [
            [
             0,
             "#0d0887"
            ],
            [
             0.1111111111111111,
             "#46039f"
            ],
            [
             0.2222222222222222,
             "#7201a8"
            ],
            [
             0.3333333333333333,
             "#9c179e"
            ],
            [
             0.4444444444444444,
             "#bd3786"
            ],
            [
             0.5555555555555556,
             "#d8576b"
            ],
            [
             0.6666666666666666,
             "#ed7953"
            ],
            [
             0.7777777777777778,
             "#fb9f3a"
            ],
            [
             0.8888888888888888,
             "#fdca26"
            ],
            [
             1,
             "#f0f921"
            ]
           ],
           "sequentialminus": [
            [
             0,
             "#0d0887"
            ],
            [
             0.1111111111111111,
             "#46039f"
            ],
            [
             0.2222222222222222,
             "#7201a8"
            ],
            [
             0.3333333333333333,
             "#9c179e"
            ],
            [
             0.4444444444444444,
             "#bd3786"
            ],
            [
             0.5555555555555556,
             "#d8576b"
            ],
            [
             0.6666666666666666,
             "#ed7953"
            ],
            [
             0.7777777777777778,
             "#fb9f3a"
            ],
            [
             0.8888888888888888,
             "#fdca26"
            ],
            [
             1,
             "#f0f921"
            ]
           ]
          },
          "colorway": [
           "#636efa",
           "#EF553B",
           "#00cc96",
           "#ab63fa",
           "#FFA15A",
           "#19d3f3",
           "#FF6692",
           "#B6E880",
           "#FF97FF",
           "#FECB52"
          ],
          "font": {
           "color": "#2a3f5f"
          },
          "geo": {
           "bgcolor": "white",
           "lakecolor": "white",
           "landcolor": "#E5ECF6",
           "showlakes": true,
           "showland": true,
           "subunitcolor": "white"
          },
          "hoverlabel": {
           "align": "left"
          },
          "hovermode": "closest",
          "mapbox": {
           "style": "light"
          },
          "paper_bgcolor": "white",
          "plot_bgcolor": "#E5ECF6",
          "polar": {
           "angularaxis": {
            "gridcolor": "white",
            "linecolor": "white",
            "ticks": ""
           },
           "bgcolor": "#E5ECF6",
           "radialaxis": {
            "gridcolor": "white",
            "linecolor": "white",
            "ticks": ""
           }
          },
          "scene": {
           "xaxis": {
            "backgroundcolor": "#E5ECF6",
            "gridcolor": "white",
            "gridwidth": 2,
            "linecolor": "white",
            "showbackground": true,
            "ticks": "",
            "zerolinecolor": "white"
           },
           "yaxis": {
            "backgroundcolor": "#E5ECF6",
            "gridcolor": "white",
            "gridwidth": 2,
            "linecolor": "white",
            "showbackground": true,
            "ticks": "",
            "zerolinecolor": "white"
           },
           "zaxis": {
            "backgroundcolor": "#E5ECF6",
            "gridcolor": "white",
            "gridwidth": 2,
            "linecolor": "white",
            "showbackground": true,
            "ticks": "",
            "zerolinecolor": "white"
           }
          },
          "shapedefaults": {
           "line": {
            "color": "#2a3f5f"
           }
          },
          "ternary": {
           "aaxis": {
            "gridcolor": "white",
            "linecolor": "white",
            "ticks": ""
           },
           "baxis": {
            "gridcolor": "white",
            "linecolor": "white",
            "ticks": ""
           },
           "bgcolor": "#E5ECF6",
           "caxis": {
            "gridcolor": "white",
            "linecolor": "white",
            "ticks": ""
           }
          },
          "title": {
           "x": 0.05
          },
          "xaxis": {
           "automargin": true,
           "gridcolor": "white",
           "linecolor": "white",
           "ticks": "",
           "title": {
            "standoff": 15
           },
           "zerolinecolor": "white",
           "zerolinewidth": 2
          },
          "yaxis": {
           "automargin": true,
           "gridcolor": "white",
           "linecolor": "white",
           "ticks": "",
           "title": {
            "standoff": 15
           },
           "zerolinecolor": "white",
           "zerolinewidth": 2
          }
         }
        },
        "title": {
         "text": "Data Quality: Column Shapes (Average Score=0.37)"
        },
        "xaxis": {
         "anchor": "y",
         "categoryorder": "total ascending",
         "domain": [
          0,
          1
         ],
         "title": {
          "text": "Column Name"
         }
        },
        "yaxis": {
         "anchor": "x",
         "domain": [
          0,
          1
         ],
         "range": [
          0,
          1
         ],
         "title": {
          "text": "Quality Score"
         }
        }
       }
      }
     },
     "metadata": {},
     "output_type": "display_data"
    }
   ],
   "source": [
    "fig = my_report.get_visualization(property_name='Column Shapes')\n",
    "fig.show()\n",
    "\n",
    "# ValueError: Mime type rendering requires nbformat>=4.2.0 but it is not installed erklären?\n",
    "# uU nötig: !pip install --upgrade nbformat\n",
    "# explaining safe report and load ist möglich -> nicht zeigen sondern am ende erwähnen -> ist schon im tutorial drin"
   ]
  },
  {
   "cell_type": "code",
   "execution_count": null,
   "metadata": {},
   "outputs": [],
   "source": [
    "# Die bige grafik erklären -> und drauf eingehenwie es verbessert werden kann \n",
    "# -> die verbesserung umsetzen und dann zeigen wie es sich verbessert"
   ]
  },
  {
   "cell_type": "code",
   "execution_count": 15,
   "metadata": {},
   "outputs": [
    {
     "name": "stderr",
     "output_type": "stream",
     "text": [
      "Creating report: 100%|██████████| 4/4 [00:00<00:00,  5.02it/s]"
     ]
    },
    {
     "name": "stdout",
     "output_type": "stream",
     "text": [
      "\n",
      "DiagnosticResults:\n",
      "\n",
      "SUCCESS:\n",
      "✓ Over 90% of the synthetic rows are not copies of the real data\n",
      "\n",
      "DANGER:\n",
      "x The synthetic data is missing more than 50% of the categories present in the real data\n"
     ]
    },
    {
     "name": "stderr",
     "output_type": "stream",
     "text": [
      "\n"
     ]
    }
   ],
   "source": [
    "# Diagnostic report Zeigen:\n",
    "from sdmetrics.reports.single_table import DiagnosticReport\n",
    "\n",
    "dg_report = DiagnosticReport()\n",
    "dg_report.generate(real_data, synthetic_data, metadata_coltypes)\n",
    "# Explain output und wie du das verbessern kannst -> demonstrate die verbesserung\n",
    "# als dirctionary speichern möglich\n"
   ]
  },
  {
   "cell_type": "code",
   "execution_count": null,
   "metadata": {},
   "outputs": [],
   "source": [
    "dg_report.get_details(property_name='Coverage')\n",
    "# explain numbers:"
   ]
  },
  {
   "cell_type": "code",
   "execution_count": 17,
   "metadata": {},
   "outputs": [
    {
     "data": {
      "application/vnd.plotly.v1+json": {
       "config": {
        "plotlyServerURL": "https://plot.ly"
       },
       "data": [
        {
         "alignmentgroup": "True",
         "customdata": [
          [
           "CategoryCoverage"
          ],
          [
           "CategoryCoverage"
          ],
          [
           "CategoryCoverage"
          ],
          [
           "CategoryCoverage"
          ],
          [
           "CategoryCoverage"
          ],
          [
           "CategoryCoverage"
          ],
          [
           "CategoryCoverage"
          ],
          [
           "CategoryCoverage"
          ],
          [
           "CategoryCoverage"
          ],
          [
           "CategoryCoverage"
          ],
          [
           "CategoryCoverage"
          ]
         ],
         "hovertemplate": "<b>%{hovertext}</b><br><br>Metric=%{customdata[0]}<br>Diagnostic Score=%{y}<extra></extra>",
         "hovertext": [
          "first_name",
          "last_name",
          "company_name",
          "address",
          "city",
          "county",
          "postal",
          "phone1",
          "phone2",
          "email",
          "web"
         ],
         "legendgroup": "CategoryCoverage",
         "marker": {
          "color": "#03AFF1",
          "pattern": {
           "shape": ""
          }
         },
         "name": "CategoryCoverage",
         "offsetgroup": "CategoryCoverage",
         "orientation": "v",
         "showlegend": true,
         "textposition": "auto",
         "type": "bar",
         "x": [
          "first_name",
          "last_name",
          "company_name",
          "address",
          "city",
          "county",
          "postal",
          "phone1",
          "phone2",
          "email",
          "web"
         ],
         "xaxis": "x",
         "y": [
          0.3465553235908142,
          0.3293172690763052,
          0.3192771084337349,
          0.332,
          0.3504273504273504,
          0.6666666666666666,
          0.326,
          0.336,
          0.324,
          0.316,
          0.3353413654618474
         ],
         "yaxis": "y"
        }
       ],
       "layout": {
        "barmode": "relative",
        "legend": {
         "title": {
          "text": "Metric"
         },
         "tracegroupgap": 0
        },
        "margin": {
         "t": 150
        },
        "plot_bgcolor": "#F5F5F8",
        "template": {
         "data": {
          "bar": [
           {
            "error_x": {
             "color": "#2a3f5f"
            },
            "error_y": {
             "color": "#2a3f5f"
            },
            "marker": {
             "line": {
              "color": "#E5ECF6",
              "width": 0.5
             },
             "pattern": {
              "fillmode": "overlay",
              "size": 10,
              "solidity": 0.2
             }
            },
            "type": "bar"
           }
          ],
          "barpolar": [
           {
            "marker": {
             "line": {
              "color": "#E5ECF6",
              "width": 0.5
             },
             "pattern": {
              "fillmode": "overlay",
              "size": 10,
              "solidity": 0.2
             }
            },
            "type": "barpolar"
           }
          ],
          "carpet": [
           {
            "aaxis": {
             "endlinecolor": "#2a3f5f",
             "gridcolor": "white",
             "linecolor": "white",
             "minorgridcolor": "white",
             "startlinecolor": "#2a3f5f"
            },
            "baxis": {
             "endlinecolor": "#2a3f5f",
             "gridcolor": "white",
             "linecolor": "white",
             "minorgridcolor": "white",
             "startlinecolor": "#2a3f5f"
            },
            "type": "carpet"
           }
          ],
          "choropleth": [
           {
            "colorbar": {
             "outlinewidth": 0,
             "ticks": ""
            },
            "type": "choropleth"
           }
          ],
          "contour": [
           {
            "colorbar": {
             "outlinewidth": 0,
             "ticks": ""
            },
            "colorscale": [
             [
              0,
              "#0d0887"
             ],
             [
              0.1111111111111111,
              "#46039f"
             ],
             [
              0.2222222222222222,
              "#7201a8"
             ],
             [
              0.3333333333333333,
              "#9c179e"
             ],
             [
              0.4444444444444444,
              "#bd3786"
             ],
             [
              0.5555555555555556,
              "#d8576b"
             ],
             [
              0.6666666666666666,
              "#ed7953"
             ],
             [
              0.7777777777777778,
              "#fb9f3a"
             ],
             [
              0.8888888888888888,
              "#fdca26"
             ],
             [
              1,
              "#f0f921"
             ]
            ],
            "type": "contour"
           }
          ],
          "contourcarpet": [
           {
            "colorbar": {
             "outlinewidth": 0,
             "ticks": ""
            },
            "type": "contourcarpet"
           }
          ],
          "heatmap": [
           {
            "colorbar": {
             "outlinewidth": 0,
             "ticks": ""
            },
            "colorscale": [
             [
              0,
              "#0d0887"
             ],
             [
              0.1111111111111111,
              "#46039f"
             ],
             [
              0.2222222222222222,
              "#7201a8"
             ],
             [
              0.3333333333333333,
              "#9c179e"
             ],
             [
              0.4444444444444444,
              "#bd3786"
             ],
             [
              0.5555555555555556,
              "#d8576b"
             ],
             [
              0.6666666666666666,
              "#ed7953"
             ],
             [
              0.7777777777777778,
              "#fb9f3a"
             ],
             [
              0.8888888888888888,
              "#fdca26"
             ],
             [
              1,
              "#f0f921"
             ]
            ],
            "type": "heatmap"
           }
          ],
          "heatmapgl": [
           {
            "colorbar": {
             "outlinewidth": 0,
             "ticks": ""
            },
            "colorscale": [
             [
              0,
              "#0d0887"
             ],
             [
              0.1111111111111111,
              "#46039f"
             ],
             [
              0.2222222222222222,
              "#7201a8"
             ],
             [
              0.3333333333333333,
              "#9c179e"
             ],
             [
              0.4444444444444444,
              "#bd3786"
             ],
             [
              0.5555555555555556,
              "#d8576b"
             ],
             [
              0.6666666666666666,
              "#ed7953"
             ],
             [
              0.7777777777777778,
              "#fb9f3a"
             ],
             [
              0.8888888888888888,
              "#fdca26"
             ],
             [
              1,
              "#f0f921"
             ]
            ],
            "type": "heatmapgl"
           }
          ],
          "histogram": [
           {
            "marker": {
             "pattern": {
              "fillmode": "overlay",
              "size": 10,
              "solidity": 0.2
             }
            },
            "type": "histogram"
           }
          ],
          "histogram2d": [
           {
            "colorbar": {
             "outlinewidth": 0,
             "ticks": ""
            },
            "colorscale": [
             [
              0,
              "#0d0887"
             ],
             [
              0.1111111111111111,
              "#46039f"
             ],
             [
              0.2222222222222222,
              "#7201a8"
             ],
             [
              0.3333333333333333,
              "#9c179e"
             ],
             [
              0.4444444444444444,
              "#bd3786"
             ],
             [
              0.5555555555555556,
              "#d8576b"
             ],
             [
              0.6666666666666666,
              "#ed7953"
             ],
             [
              0.7777777777777778,
              "#fb9f3a"
             ],
             [
              0.8888888888888888,
              "#fdca26"
             ],
             [
              1,
              "#f0f921"
             ]
            ],
            "type": "histogram2d"
           }
          ],
          "histogram2dcontour": [
           {
            "colorbar": {
             "outlinewidth": 0,
             "ticks": ""
            },
            "colorscale": [
             [
              0,
              "#0d0887"
             ],
             [
              0.1111111111111111,
              "#46039f"
             ],
             [
              0.2222222222222222,
              "#7201a8"
             ],
             [
              0.3333333333333333,
              "#9c179e"
             ],
             [
              0.4444444444444444,
              "#bd3786"
             ],
             [
              0.5555555555555556,
              "#d8576b"
             ],
             [
              0.6666666666666666,
              "#ed7953"
             ],
             [
              0.7777777777777778,
              "#fb9f3a"
             ],
             [
              0.8888888888888888,
              "#fdca26"
             ],
             [
              1,
              "#f0f921"
             ]
            ],
            "type": "histogram2dcontour"
           }
          ],
          "mesh3d": [
           {
            "colorbar": {
             "outlinewidth": 0,
             "ticks": ""
            },
            "type": "mesh3d"
           }
          ],
          "parcoords": [
           {
            "line": {
             "colorbar": {
              "outlinewidth": 0,
              "ticks": ""
             }
            },
            "type": "parcoords"
           }
          ],
          "pie": [
           {
            "automargin": true,
            "type": "pie"
           }
          ],
          "scatter": [
           {
            "fillpattern": {
             "fillmode": "overlay",
             "size": 10,
             "solidity": 0.2
            },
            "type": "scatter"
           }
          ],
          "scatter3d": [
           {
            "line": {
             "colorbar": {
              "outlinewidth": 0,
              "ticks": ""
             }
            },
            "marker": {
             "colorbar": {
              "outlinewidth": 0,
              "ticks": ""
             }
            },
            "type": "scatter3d"
           }
          ],
          "scattercarpet": [
           {
            "marker": {
             "colorbar": {
              "outlinewidth": 0,
              "ticks": ""
             }
            },
            "type": "scattercarpet"
           }
          ],
          "scattergeo": [
           {
            "marker": {
             "colorbar": {
              "outlinewidth": 0,
              "ticks": ""
             }
            },
            "type": "scattergeo"
           }
          ],
          "scattergl": [
           {
            "marker": {
             "colorbar": {
              "outlinewidth": 0,
              "ticks": ""
             }
            },
            "type": "scattergl"
           }
          ],
          "scattermapbox": [
           {
            "marker": {
             "colorbar": {
              "outlinewidth": 0,
              "ticks": ""
             }
            },
            "type": "scattermapbox"
           }
          ],
          "scatterpolar": [
           {
            "marker": {
             "colorbar": {
              "outlinewidth": 0,
              "ticks": ""
             }
            },
            "type": "scatterpolar"
           }
          ],
          "scatterpolargl": [
           {
            "marker": {
             "colorbar": {
              "outlinewidth": 0,
              "ticks": ""
             }
            },
            "type": "scatterpolargl"
           }
          ],
          "scatterternary": [
           {
            "marker": {
             "colorbar": {
              "outlinewidth": 0,
              "ticks": ""
             }
            },
            "type": "scatterternary"
           }
          ],
          "surface": [
           {
            "colorbar": {
             "outlinewidth": 0,
             "ticks": ""
            },
            "colorscale": [
             [
              0,
              "#0d0887"
             ],
             [
              0.1111111111111111,
              "#46039f"
             ],
             [
              0.2222222222222222,
              "#7201a8"
             ],
             [
              0.3333333333333333,
              "#9c179e"
             ],
             [
              0.4444444444444444,
              "#bd3786"
             ],
             [
              0.5555555555555556,
              "#d8576b"
             ],
             [
              0.6666666666666666,
              "#ed7953"
             ],
             [
              0.7777777777777778,
              "#fb9f3a"
             ],
             [
              0.8888888888888888,
              "#fdca26"
             ],
             [
              1,
              "#f0f921"
             ]
            ],
            "type": "surface"
           }
          ],
          "table": [
           {
            "cells": {
             "fill": {
              "color": "#EBF0F8"
             },
             "line": {
              "color": "white"
             }
            },
            "header": {
             "fill": {
              "color": "#C8D4E3"
             },
             "line": {
              "color": "white"
             }
            },
            "type": "table"
           }
          ]
         },
         "layout": {
          "annotationdefaults": {
           "arrowcolor": "#2a3f5f",
           "arrowhead": 0,
           "arrowwidth": 1
          },
          "autotypenumbers": "strict",
          "coloraxis": {
           "colorbar": {
            "outlinewidth": 0,
            "ticks": ""
           }
          },
          "colorscale": {
           "diverging": [
            [
             0,
             "#8e0152"
            ],
            [
             0.1,
             "#c51b7d"
            ],
            [
             0.2,
             "#de77ae"
            ],
            [
             0.3,
             "#f1b6da"
            ],
            [
             0.4,
             "#fde0ef"
            ],
            [
             0.5,
             "#f7f7f7"
            ],
            [
             0.6,
             "#e6f5d0"
            ],
            [
             0.7,
             "#b8e186"
            ],
            [
             0.8,
             "#7fbc41"
            ],
            [
             0.9,
             "#4d9221"
            ],
            [
             1,
             "#276419"
            ]
           ],
           "sequential": [
            [
             0,
             "#0d0887"
            ],
            [
             0.1111111111111111,
             "#46039f"
            ],
            [
             0.2222222222222222,
             "#7201a8"
            ],
            [
             0.3333333333333333,
             "#9c179e"
            ],
            [
             0.4444444444444444,
             "#bd3786"
            ],
            [
             0.5555555555555556,
             "#d8576b"
            ],
            [
             0.6666666666666666,
             "#ed7953"
            ],
            [
             0.7777777777777778,
             "#fb9f3a"
            ],
            [
             0.8888888888888888,
             "#fdca26"
            ],
            [
             1,
             "#f0f921"
            ]
           ],
           "sequentialminus": [
            [
             0,
             "#0d0887"
            ],
            [
             0.1111111111111111,
             "#46039f"
            ],
            [
             0.2222222222222222,
             "#7201a8"
            ],
            [
             0.3333333333333333,
             "#9c179e"
            ],
            [
             0.4444444444444444,
             "#bd3786"
            ],
            [
             0.5555555555555556,
             "#d8576b"
            ],
            [
             0.6666666666666666,
             "#ed7953"
            ],
            [
             0.7777777777777778,
             "#fb9f3a"
            ],
            [
             0.8888888888888888,
             "#fdca26"
            ],
            [
             1,
             "#f0f921"
            ]
           ]
          },
          "colorway": [
           "#636efa",
           "#EF553B",
           "#00cc96",
           "#ab63fa",
           "#FFA15A",
           "#19d3f3",
           "#FF6692",
           "#B6E880",
           "#FF97FF",
           "#FECB52"
          ],
          "font": {
           "color": "#2a3f5f"
          },
          "geo": {
           "bgcolor": "white",
           "lakecolor": "white",
           "landcolor": "#E5ECF6",
           "showlakes": true,
           "showland": true,
           "subunitcolor": "white"
          },
          "hoverlabel": {
           "align": "left"
          },
          "hovermode": "closest",
          "mapbox": {
           "style": "light"
          },
          "paper_bgcolor": "white",
          "plot_bgcolor": "#E5ECF6",
          "polar": {
           "angularaxis": {
            "gridcolor": "white",
            "linecolor": "white",
            "ticks": ""
           },
           "bgcolor": "#E5ECF6",
           "radialaxis": {
            "gridcolor": "white",
            "linecolor": "white",
            "ticks": ""
           }
          },
          "scene": {
           "xaxis": {
            "backgroundcolor": "#E5ECF6",
            "gridcolor": "white",
            "gridwidth": 2,
            "linecolor": "white",
            "showbackground": true,
            "ticks": "",
            "zerolinecolor": "white"
           },
           "yaxis": {
            "backgroundcolor": "#E5ECF6",
            "gridcolor": "white",
            "gridwidth": 2,
            "linecolor": "white",
            "showbackground": true,
            "ticks": "",
            "zerolinecolor": "white"
           },
           "zaxis": {
            "backgroundcolor": "#E5ECF6",
            "gridcolor": "white",
            "gridwidth": 2,
            "linecolor": "white",
            "showbackground": true,
            "ticks": "",
            "zerolinecolor": "white"
           }
          },
          "shapedefaults": {
           "line": {
            "color": "#2a3f5f"
           }
          },
          "ternary": {
           "aaxis": {
            "gridcolor": "white",
            "linecolor": "white",
            "ticks": ""
           },
           "baxis": {
            "gridcolor": "white",
            "linecolor": "white",
            "ticks": ""
           },
           "bgcolor": "#E5ECF6",
           "caxis": {
            "gridcolor": "white",
            "linecolor": "white",
            "ticks": ""
           }
          },
          "title": {
           "x": 0.05
          },
          "xaxis": {
           "automargin": true,
           "gridcolor": "white",
           "linecolor": "white",
           "ticks": "",
           "title": {
            "standoff": 15
           },
           "zerolinecolor": "white",
           "zerolinewidth": 2
          },
          "yaxis": {
           "automargin": true,
           "gridcolor": "white",
           "linecolor": "white",
           "ticks": "",
           "title": {
            "standoff": 15
           },
           "zerolinecolor": "white",
           "zerolinewidth": 2
          }
         }
        },
        "title": {
         "text": "Data Diagnostics: Column Coverage (Average Score=0.36)"
        },
        "xaxis": {
         "anchor": "y",
         "categoryorder": "total ascending",
         "domain": [
          0,
          1
         ],
         "title": {
          "text": "Column Name"
         }
        },
        "yaxis": {
         "anchor": "x",
         "domain": [
          0,
          1
         ],
         "range": [
          0,
          1
         ],
         "title": {
          "text": "Diagnostic Score"
         }
        }
       }
      }
     },
     "metadata": {},
     "output_type": "display_data"
    }
   ],
   "source": [
    "fig = dg_report.get_visualization(property_name='Coverage')\n",
    "fig.show()\n",
    "# explain graf"
   ]
  },
  {
   "cell_type": "code",
   "execution_count": null,
   "metadata": {},
   "outputs": [],
   "source": [
    "# Extra visualisierungen die angeboten werden (für numerische variablen)\n",
    "from sdmetrics.reports import utils\n",
    "\n",
    "fig = utils.get_column_pair_plot(\n",
    "    real_data=real_data,\n",
    "    synthetic_data=synthetic_data,\n",
    "    #column_names=['mba_perc', 'degree_perc'], # anpassen\n",
    "    metadata=metadata_coltypes\n",
    "    \n",
    ")\n",
    "\n",
    "fig.show()"
   ]
  },
  {
   "cell_type": "code",
   "execution_count": 20,
   "metadata": {},
   "outputs": [],
   "source": [
    "# näher eingehen auf beta metrics -> utility metrics zB\n",
    "# check ob aus kiss interessante sachen rausgeholt werden können.\n",
    "# aus papern schauen was rausgeholt werden kann\n",
    "# zeigen was aus table evaluator rauskommen kann -> zusammenhänge der apckages erklären \n",
    "# -> und zeigen statistsich nicht aber gute indikator und einfacher zu erklären vor kunden\n",
    "\n",
    "# durchschnitt und standardabweichungen zeigen\n",
    "# ähnlichkeit bei emails ausdenken/vergleichen\n"
   ]
  },
  {
   "cell_type": "code",
   "execution_count": 21,
   "metadata": {},
   "outputs": [
    {
     "data": {
      "text/plain": [
       "Index(['first_name', 'last_name', 'company_name', 'address', 'city', 'county',\n",
       "       'postal', 'phone1', 'phone2', 'email', 'web'],\n",
       "      dtype='object')"
      ]
     },
     "execution_count": 21,
     "metadata": {},
     "output_type": "execute_result"
    }
   ],
   "source": [
    "# !!! Hilfscell löschen in showcase nb!!!!\n",
    "real_data.columns"
   ]
  },
  {
   "cell_type": "code",
   "execution_count": 26,
   "metadata": {},
   "outputs": [
    {
     "name": "stdout",
     "output_type": "stream",
     "text": [
      "500\n",
      "200\n",
      "166\n",
      "166\n",
      "168\n"
     ]
    }
   ],
   "source": [
    "# eigene comparison -> check ob das in sdv drin ist?\n",
    "common_values_fn = set(real_data['first_name'].values).intersection(set(synthetic_data['first_name'].values))\n",
    "common_values_ad = set(real_data['address'].values).intersection(set(synthetic_data['address'].values))\n",
    "common_values_ph = set(real_data['phone1'].values).intersection(set(synthetic_data['phone1'].values))\n",
    "print(len(real_data))\n",
    "print(len(synthetic_data))\n",
    "print(len(common_values_fn)) # interpretation not good\n",
    "print(len(common_values_ad)) # interpretation not good\n",
    "print(len(common_values_ph)) # interpretation not good\n",
    "# show anonymize property and explain how it works ->\n",
    "# alternative -> show how to use chatgpt for it??\n"
   ]
  },
  {
   "cell_type": "code",
   "execution_count": 32,
   "metadata": {},
   "outputs": [],
   "source": [
    "# update:\n",
    "model_an = CTGAN(anonymize_fields={\n",
    "        'last_name': 'last_name', # name -> full person name -> aus faker seite feststellen es gibt auch last und first name -> auch female male nonbinary names etc\n",
    "        'address': 'address'\n",
    "        # maby use nonbinary firstname für die ertsen namen..\n",
    "        \n",
    "    })\n",
    "model_an.fit(example_df,\n",
    "             )\n",
    "new_data_an = model_an.sample(num_rows=200)\n"
   ]
  },
  {
   "cell_type": "code",
   "execution_count": 33,
   "metadata": {},
   "outputs": [
    {
     "name": "stdout",
     "output_type": "stream",
     "text": [
      "0\n",
      "1\n",
      "  first_name  last_name               company_name  \\\n",
      "0    Tamesha       Bond        Lasting Impressions   \n",
      "1       Chan      Lopez  T J Ward & Associates Inc   \n",
      "2   Isabelle      Lewis    Safeguard Chemical Corp   \n",
      "3    Orville      Smith       Hughlett, Henry T Jr   \n",
      "4     Carrol   Thompson     Danka Business Systems   \n",
      "5   Mauricio    Sherman         Barr, Albert S Iii   \n",
      "6       Ivan     Weaver       Morelli Hoskins Ford   \n",
      "7     Martha       Kirk         Dale, George F Esq   \n",
      "8     Shanda  Hernandez         Acc Automation Inc   \n",
      "9        Val        Lee             Welders Supply   \n",
      "\n",
      "                                             address  \\\n",
      "0          2506 Eric Throughway\\nLake Erik, UT 35193   \n",
      "1       330 Michael Rest\\nEast Ronnieshire, TN 02822   \n",
      "2             8803 Cesar Trace\\nAmandabury, AL 01043   \n",
      "3  5043 Felicia Orchard Apt. 226\\nPort Anna, PA 6...   \n",
      "4      2317 Scott Locks\\nSouth Christopher, IL 57105   \n",
      "5  05863 Silva Courts Apt. 708\\nSamanthastad, NJ ...   \n",
      "6          574 Allen Islands\\nSouth Janice, DE 25506   \n",
      "7  8670 Stewart Plaza Suite 198\\nNew Martintown, ...   \n",
      "8           171 Clark Passage\\nSouth Derek, VT 12116   \n",
      "9                         USNS Aguirre\\nFPO AA 42285   \n",
      "\n",
      "                             city             county    postal        phone1  \\\n",
      "0                      Meads Ward         Ceredigion  LL62 5HD  01255-383731   \n",
      "1                           Gweek     North Somerset  BN20 7HB  01913-454226   \n",
      "2            Colnbrook with Poyle            Newport  SS15 6LE  01687-288043   \n",
      "3          Trotton with Chithurst  North Lanarkshire   SW3 4ND  01422-728149   \n",
      "4           Werrington South Ward               Kent   SK3 9RD  01906-807997   \n",
      "5  Knightsbridge and Belgravia Wa     Greater London   WV5 0LP  01564-503370   \n",
      "6              Frimley Green Ward            Suffolk   L29 7WD  01681-212638   \n",
      "7                      Churchdown  North Lanarkshire   BD9 4DA  01536-639256   \n",
      "8           Elgin City South Ward         Lancashire   SR8 5RL  01728-100333   \n",
      "9                        Stretton    North Yorkshire  TN38 9NE  01727-926540   \n",
      "\n",
      "         phone2                      email  \\\n",
      "0  01715-637895        ldevereux@gmail.com   \n",
      "1  01591-464964            pilar@yahoo.com   \n",
      "2  01315-284286            dusti@gmail.com   \n",
      "3  01202-738406       cbludworth@yahoo.com   \n",
      "4  01923-233578   jacki.sterback@gmail.com   \n",
      "5  01994-347546     eve.hoffstot@yahoo.com   \n",
      "6  01788-849591  douglass@fonnesbeck.co.uk   \n",
      "7  01879-295373           nsarra@gmail.com   \n",
      "8  01586-387018          kmakuch@gmail.com   \n",
      "9  01445-288807  coleen.langer@hotmail.com   \n",
      "\n",
      "                                            web  \n",
      "0  http://www.agribusinessinsuranceagency.co.uk  \n",
      "1      http://www.realestateappraisalsinc.co.uk  \n",
      "2              http://www.hirschhenrylesq.co.uk  \n",
      "3                http://www.bradybradjesq.co.uk  \n",
      "4                       http://www.wmglfm.co.uk  \n",
      "5     http://www.burgesssteelproductscorp.co.uk  \n",
      "6      http://www.councilofcmntybloodctrs.co.uk  \n",
      "7                    http://www.printshop.co.uk  \n",
      "8               http://www.jtpaintingcorp.co.uk  \n",
      "9        http://www.audreymborlandstudios.co.uk  \n"
     ]
    }
   ],
   "source": [
    "common_values_ad = set(example_df['address'].values).intersection(set(new_data_an['address'].values))\n",
    "common_values_ln = set(example_df['last_name'].values).intersection(set(new_data_an['last_name'].values))\n",
    "\n",
    "print(len(common_values_ad)) # success\n",
    "print(len(common_values_ln)) # success\n",
    "print(new_data_an.head(10))"
   ]
  },
  {
   "cell_type": "code",
   "execution_count": null,
   "metadata": {},
   "outputs": [],
   "source": [
    "# create custom names mit chatgpt und Faker locale: \n",
    "# -> extra in notebook how to create custom name Faker locale zB for fantasy names mit chatgpt3\n",
    "# warning: you have to tweak the package -> but no limits -> notebook vorbereiten\n",
    "\n"
   ]
  },
  {
   "cell_type": "code",
   "execution_count": 34,
   "metadata": {},
   "outputs": [
    {
     "name": "stderr",
     "output_type": "stream",
     "text": [
      "Creating report:   0%|          | 0/4 [00:00<?, ?it/s]/home/antonia/.local/lib/python3.8/site-packages/sdmetrics/utils.py:67: UserWarning:\n",
      "\n",
      "Unexpected value Bond in synthetic data.\n",
      "\n",
      "/home/antonia/.local/lib/python3.8/site-packages/sdmetrics/utils.py:67: UserWarning:\n",
      "\n",
      "Unexpected value Lopez in synthetic data.\n",
      "\n",
      "/home/antonia/.local/lib/python3.8/site-packages/sdmetrics/utils.py:67: UserWarning:\n",
      "\n",
      "Unexpected value Lewis in synthetic data.\n",
      "\n",
      "/home/antonia/.local/lib/python3.8/site-packages/sdmetrics/utils.py:67: UserWarning:\n",
      "\n",
      "Unexpected value Smith in synthetic data.\n",
      "\n",
      "/home/antonia/.local/lib/python3.8/site-packages/sdmetrics/utils.py:67: UserWarning:\n",
      "\n",
      "Unexpected value Thompson in synthetic data.\n",
      "\n",
      "/home/antonia/.local/lib/python3.8/site-packages/sdmetrics/utils.py:67: UserWarning:\n",
      "\n",
      "Unexpected value Sherman in synthetic data.\n",
      "\n",
      "/home/antonia/.local/lib/python3.8/site-packages/sdmetrics/utils.py:67: UserWarning:\n",
      "\n",
      "Unexpected value Weaver in synthetic data.\n",
      "\n",
      "/home/antonia/.local/lib/python3.8/site-packages/sdmetrics/utils.py:67: UserWarning:\n",
      "\n",
      "Unexpected value Kirk in synthetic data.\n",
      "\n",
      "/home/antonia/.local/lib/python3.8/site-packages/sdmetrics/utils.py:67: UserWarning:\n",
      "\n",
      "Unexpected value Hernandez in synthetic data.\n",
      "\n",
      "/home/antonia/.local/lib/python3.8/site-packages/sdmetrics/utils.py:67: UserWarning:\n",
      "\n",
      "Unexpected value Lee in synthetic data.\n",
      "\n",
      "/home/antonia/.local/lib/python3.8/site-packages/sdmetrics/utils.py:67: UserWarning:\n",
      "\n",
      "Unexpected value Torres in synthetic data.\n",
      "\n",
      "/home/antonia/.local/lib/python3.8/site-packages/sdmetrics/utils.py:67: UserWarning:\n",
      "\n",
      "Unexpected value Bell in synthetic data.\n",
      "\n",
      "/home/antonia/.local/lib/python3.8/site-packages/sdmetrics/utils.py:67: UserWarning:\n",
      "\n",
      "Unexpected value Proctor in synthetic data.\n",
      "\n",
      "/home/antonia/.local/lib/python3.8/site-packages/sdmetrics/utils.py:67: UserWarning:\n",
      "\n",
      "Unexpected value Williams in synthetic data.\n",
      "\n",
      "/home/antonia/.local/lib/python3.8/site-packages/sdmetrics/utils.py:67: UserWarning:\n",
      "\n",
      "Unexpected value Freeman in synthetic data.\n",
      "\n",
      "/home/antonia/.local/lib/python3.8/site-packages/sdmetrics/utils.py:67: UserWarning:\n",
      "\n",
      "Unexpected value Davis in synthetic data.\n",
      "\n",
      "/home/antonia/.local/lib/python3.8/site-packages/sdmetrics/utils.py:67: UserWarning:\n",
      "\n",
      "Unexpected value Underwood in synthetic data.\n",
      "\n",
      "/home/antonia/.local/lib/python3.8/site-packages/sdmetrics/utils.py:67: UserWarning:\n",
      "\n",
      "Unexpected value Sanchez in synthetic data.\n",
      "\n",
      "/home/antonia/.local/lib/python3.8/site-packages/sdmetrics/utils.py:67: UserWarning:\n",
      "\n",
      "Unexpected value Jackson in synthetic data.\n",
      "\n",
      "/home/antonia/.local/lib/python3.8/site-packages/sdmetrics/utils.py:67: UserWarning:\n",
      "\n",
      "Unexpected value Lozano in synthetic data.\n",
      "\n",
      "/home/antonia/.local/lib/python3.8/site-packages/sdmetrics/utils.py:67: UserWarning:\n",
      "\n",
      "Unexpected value Chavez in synthetic data.\n",
      "\n",
      "/home/antonia/.local/lib/python3.8/site-packages/sdmetrics/utils.py:67: UserWarning:\n",
      "\n",
      "Unexpected value Moore in synthetic data.\n",
      "\n",
      "/home/antonia/.local/lib/python3.8/site-packages/sdmetrics/utils.py:67: UserWarning:\n",
      "\n",
      "Unexpected value Petersen in synthetic data.\n",
      "\n",
      "/home/antonia/.local/lib/python3.8/site-packages/sdmetrics/utils.py:67: UserWarning:\n",
      "\n",
      "Unexpected value Wood in synthetic data.\n",
      "\n",
      "/home/antonia/.local/lib/python3.8/site-packages/sdmetrics/utils.py:67: UserWarning:\n",
      "\n",
      "Unexpected value Scott in synthetic data.\n",
      "\n",
      "/home/antonia/.local/lib/python3.8/site-packages/sdmetrics/utils.py:67: UserWarning:\n",
      "\n",
      "Unexpected value Kerr in synthetic data.\n",
      "\n",
      "/home/antonia/.local/lib/python3.8/site-packages/sdmetrics/utils.py:67: UserWarning:\n",
      "\n",
      "Unexpected value Weber in synthetic data.\n",
      "\n",
      "/home/antonia/.local/lib/python3.8/site-packages/sdmetrics/utils.py:67: UserWarning:\n",
      "\n",
      "Unexpected value Mcclure in synthetic data.\n",
      "\n",
      "/home/antonia/.local/lib/python3.8/site-packages/sdmetrics/utils.py:67: UserWarning:\n",
      "\n",
      "Unexpected value Cervantes in synthetic data.\n",
      "\n",
      "/home/antonia/.local/lib/python3.8/site-packages/sdmetrics/utils.py:67: UserWarning:\n",
      "\n",
      "Unexpected value Lamb in synthetic data.\n",
      "\n",
      "/home/antonia/.local/lib/python3.8/site-packages/sdmetrics/utils.py:67: UserWarning:\n",
      "\n",
      "Unexpected value Gonzalez in synthetic data.\n",
      "\n",
      "/home/antonia/.local/lib/python3.8/site-packages/sdmetrics/utils.py:67: UserWarning:\n",
      "\n",
      "Unexpected value Mcguire in synthetic data.\n",
      "\n",
      "/home/antonia/.local/lib/python3.8/site-packages/sdmetrics/utils.py:67: UserWarning:\n",
      "\n",
      "Unexpected value Parrish in synthetic data.\n",
      "\n",
      "/home/antonia/.local/lib/python3.8/site-packages/sdmetrics/utils.py:67: UserWarning:\n",
      "\n",
      "Unexpected value Hampton in synthetic data.\n",
      "\n",
      "/home/antonia/.local/lib/python3.8/site-packages/sdmetrics/utils.py:67: UserWarning:\n",
      "\n",
      "Unexpected value Brown in synthetic data.\n",
      "\n",
      "/home/antonia/.local/lib/python3.8/site-packages/sdmetrics/utils.py:67: UserWarning:\n",
      "\n",
      "Unexpected value Anderson in synthetic data.\n",
      "\n",
      "/home/antonia/.local/lib/python3.8/site-packages/sdmetrics/utils.py:67: UserWarning:\n",
      "\n",
      "Unexpected value Gaines in synthetic data.\n",
      "\n",
      "/home/antonia/.local/lib/python3.8/site-packages/sdmetrics/utils.py:67: UserWarning:\n",
      "\n",
      "Unexpected value Ross in synthetic data.\n",
      "\n",
      "/home/antonia/.local/lib/python3.8/site-packages/sdmetrics/utils.py:67: UserWarning:\n",
      "\n",
      "Unexpected value Morrison in synthetic data.\n",
      "\n",
      "/home/antonia/.local/lib/python3.8/site-packages/sdmetrics/utils.py:67: UserWarning:\n",
      "\n",
      "Unexpected value Ward in synthetic data.\n",
      "\n",
      "/home/antonia/.local/lib/python3.8/site-packages/sdmetrics/utils.py:67: UserWarning:\n",
      "\n",
      "Unexpected value Wilcox in synthetic data.\n",
      "\n",
      "/home/antonia/.local/lib/python3.8/site-packages/sdmetrics/utils.py:67: UserWarning:\n",
      "\n",
      "Unexpected value Morgan in synthetic data.\n",
      "\n",
      "/home/antonia/.local/lib/python3.8/site-packages/sdmetrics/utils.py:67: UserWarning:\n",
      "\n",
      "Unexpected value Young in synthetic data.\n",
      "\n",
      "/home/antonia/.local/lib/python3.8/site-packages/sdmetrics/utils.py:67: UserWarning:\n",
      "\n",
      "Unexpected value George in synthetic data.\n",
      "\n",
      "/home/antonia/.local/lib/python3.8/site-packages/sdmetrics/utils.py:67: UserWarning:\n",
      "\n",
      "Unexpected value Pena in synthetic data.\n",
      "\n",
      "/home/antonia/.local/lib/python3.8/site-packages/sdmetrics/utils.py:67: UserWarning:\n",
      "\n",
      "Unexpected value Drake in synthetic data.\n",
      "\n",
      "/home/antonia/.local/lib/python3.8/site-packages/sdmetrics/utils.py:67: UserWarning:\n",
      "\n",
      "Unexpected value Baker in synthetic data.\n",
      "\n",
      "/home/antonia/.local/lib/python3.8/site-packages/sdmetrics/utils.py:67: UserWarning:\n",
      "\n",
      "Unexpected value Stewart in synthetic data.\n",
      "\n",
      "/home/antonia/.local/lib/python3.8/site-packages/sdmetrics/utils.py:67: UserWarning:\n",
      "\n",
      "Unexpected value Golden in synthetic data.\n",
      "\n",
      "/home/antonia/.local/lib/python3.8/site-packages/sdmetrics/utils.py:67: UserWarning:\n",
      "\n",
      "Unexpected value Roman in synthetic data.\n",
      "\n",
      "/home/antonia/.local/lib/python3.8/site-packages/sdmetrics/utils.py:67: UserWarning:\n",
      "\n",
      "Unexpected value Carroll in synthetic data.\n",
      "\n",
      "/home/antonia/.local/lib/python3.8/site-packages/sdmetrics/utils.py:67: UserWarning:\n",
      "\n",
      "Unexpected value Rodriguez in synthetic data.\n",
      "\n",
      "/home/antonia/.local/lib/python3.8/site-packages/sdmetrics/utils.py:67: UserWarning:\n",
      "\n",
      "Unexpected value Santos in synthetic data.\n",
      "\n",
      "/home/antonia/.local/lib/python3.8/site-packages/sdmetrics/utils.py:67: UserWarning:\n",
      "\n",
      "Unexpected value Henry in synthetic data.\n",
      "\n",
      "/home/antonia/.local/lib/python3.8/site-packages/sdmetrics/utils.py:67: UserWarning:\n",
      "\n",
      "Unexpected value Frank in synthetic data.\n",
      "\n",
      "/home/antonia/.local/lib/python3.8/site-packages/sdmetrics/utils.py:67: UserWarning:\n",
      "\n",
      "Unexpected value Mendoza in synthetic data.\n",
      "\n",
      "/home/antonia/.local/lib/python3.8/site-packages/sdmetrics/utils.py:67: UserWarning:\n",
      "\n",
      "Unexpected value Sims in synthetic data.\n",
      "\n",
      "/home/antonia/.local/lib/python3.8/site-packages/sdmetrics/utils.py:67: UserWarning:\n",
      "\n",
      "Unexpected value Gardner in synthetic data.\n",
      "\n",
      "/home/antonia/.local/lib/python3.8/site-packages/sdmetrics/utils.py:67: UserWarning:\n",
      "\n",
      "Unexpected value Arnold in synthetic data.\n",
      "\n",
      "/home/antonia/.local/lib/python3.8/site-packages/sdmetrics/utils.py:67: UserWarning:\n",
      "\n",
      "Unexpected value Strickland in synthetic data.\n",
      "\n",
      "/home/antonia/.local/lib/python3.8/site-packages/sdmetrics/utils.py:67: UserWarning:\n",
      "\n",
      "Unexpected value Hunt in synthetic data.\n",
      "\n",
      "/home/antonia/.local/lib/python3.8/site-packages/sdmetrics/utils.py:67: UserWarning:\n",
      "\n",
      "Unexpected value Bray in synthetic data.\n",
      "\n",
      "/home/antonia/.local/lib/python3.8/site-packages/sdmetrics/utils.py:67: UserWarning:\n",
      "\n",
      "Unexpected value Dixon in synthetic data.\n",
      "\n",
      "/home/antonia/.local/lib/python3.8/site-packages/sdmetrics/utils.py:67: UserWarning:\n",
      "\n",
      "Unexpected value Short in synthetic data.\n",
      "\n",
      "/home/antonia/.local/lib/python3.8/site-packages/sdmetrics/utils.py:67: UserWarning:\n",
      "\n",
      "Unexpected value Rose in synthetic data.\n",
      "\n",
      "/home/antonia/.local/lib/python3.8/site-packages/sdmetrics/utils.py:67: UserWarning:\n",
      "\n",
      "Unexpected value Sweeney in synthetic data.\n",
      "\n",
      "/home/antonia/.local/lib/python3.8/site-packages/sdmetrics/utils.py:67: UserWarning:\n",
      "\n",
      "Unexpected value Johnson in synthetic data.\n",
      "\n",
      "/home/antonia/.local/lib/python3.8/site-packages/sdmetrics/utils.py:67: UserWarning:\n",
      "\n",
      "Unexpected value Wells in synthetic data.\n",
      "\n",
      "/home/antonia/.local/lib/python3.8/site-packages/sdmetrics/utils.py:67: UserWarning:\n",
      "\n",
      "Unexpected value Barrera in synthetic data.\n",
      "\n",
      "/home/antonia/.local/lib/python3.8/site-packages/sdmetrics/utils.py:67: UserWarning:\n",
      "\n",
      "Unexpected value Bryan in synthetic data.\n",
      "\n",
      "/home/antonia/.local/lib/python3.8/site-packages/sdmetrics/utils.py:67: UserWarning:\n",
      "\n",
      "Unexpected value King in synthetic data.\n",
      "\n",
      "/home/antonia/.local/lib/python3.8/site-packages/sdmetrics/utils.py:67: UserWarning:\n",
      "\n",
      "Unexpected value Allen in synthetic data.\n",
      "\n",
      "/home/antonia/.local/lib/python3.8/site-packages/sdmetrics/utils.py:67: UserWarning:\n",
      "\n",
      "Unexpected value Ortega in synthetic data.\n",
      "\n",
      "/home/antonia/.local/lib/python3.8/site-packages/sdmetrics/utils.py:67: UserWarning:\n",
      "\n",
      "Unexpected value Shelton in synthetic data.\n",
      "\n",
      "/home/antonia/.local/lib/python3.8/site-packages/sdmetrics/utils.py:67: UserWarning:\n",
      "\n",
      "Unexpected value Diaz in synthetic data.\n",
      "\n",
      "/home/antonia/.local/lib/python3.8/site-packages/sdmetrics/utils.py:67: UserWarning:\n",
      "\n",
      "Unexpected value Mccormick in synthetic data.\n",
      "\n",
      "/home/antonia/.local/lib/python3.8/site-packages/sdmetrics/utils.py:67: UserWarning:\n",
      "\n",
      "Unexpected value Conner in synthetic data.\n",
      "\n",
      "/home/antonia/.local/lib/python3.8/site-packages/sdmetrics/utils.py:67: UserWarning:\n",
      "\n",
      "Unexpected value Gallegos in synthetic data.\n",
      "\n",
      "/home/antonia/.local/lib/python3.8/site-packages/sdmetrics/utils.py:67: UserWarning:\n",
      "\n",
      "Unexpected value Gonzales in synthetic data.\n",
      "\n",
      "/home/antonia/.local/lib/python3.8/site-packages/sdmetrics/utils.py:67: UserWarning:\n",
      "\n",
      "Unexpected value Rangel in synthetic data.\n",
      "\n",
      "/home/antonia/.local/lib/python3.8/site-packages/sdmetrics/utils.py:67: UserWarning:\n",
      "\n",
      "Unexpected value Warren in synthetic data.\n",
      "\n",
      "/home/antonia/.local/lib/python3.8/site-packages/sdmetrics/utils.py:67: UserWarning:\n",
      "\n",
      "Unexpected value Ray in synthetic data.\n",
      "\n",
      "/home/antonia/.local/lib/python3.8/site-packages/sdmetrics/utils.py:67: UserWarning:\n",
      "\n",
      "Unexpected value Cooper in synthetic data.\n",
      "\n",
      "/home/antonia/.local/lib/python3.8/site-packages/sdmetrics/utils.py:67: UserWarning:\n",
      "\n",
      "Unexpected value Wagner in synthetic data.\n",
      "\n",
      "/home/antonia/.local/lib/python3.8/site-packages/sdmetrics/utils.py:67: UserWarning:\n",
      "\n",
      "Unexpected value Stafford in synthetic data.\n",
      "\n",
      "/home/antonia/.local/lib/python3.8/site-packages/sdmetrics/utils.py:67: UserWarning:\n",
      "\n",
      "Unexpected value Rivera in synthetic data.\n",
      "\n",
      "/home/antonia/.local/lib/python3.8/site-packages/sdmetrics/utils.py:67: UserWarning:\n",
      "\n",
      "Unexpected value Moreno in synthetic data.\n",
      "\n",
      "/home/antonia/.local/lib/python3.8/site-packages/sdmetrics/utils.py:67: UserWarning:\n",
      "\n",
      "Unexpected value Reynolds in synthetic data.\n",
      "\n",
      "/home/antonia/.local/lib/python3.8/site-packages/sdmetrics/utils.py:67: UserWarning:\n",
      "\n",
      "Unexpected value Cordova in synthetic data.\n",
      "\n",
      "/home/antonia/.local/lib/python3.8/site-packages/sdmetrics/utils.py:67: UserWarning:\n",
      "\n",
      "Unexpected value Hill in synthetic data.\n",
      "\n",
      "/home/antonia/.local/lib/python3.8/site-packages/sdmetrics/utils.py:67: UserWarning:\n",
      "\n",
      "Unexpected value Ruiz in synthetic data.\n",
      "\n",
      "/home/antonia/.local/lib/python3.8/site-packages/sdmetrics/utils.py:67: UserWarning:\n",
      "\n",
      "Unexpected value West in synthetic data.\n",
      "\n",
      "/home/antonia/.local/lib/python3.8/site-packages/sdmetrics/utils.py:67: UserWarning:\n",
      "\n",
      "Unexpected value Morris in synthetic data.\n",
      "\n",
      "/home/antonia/.local/lib/python3.8/site-packages/sdmetrics/utils.py:67: UserWarning:\n",
      "\n",
      "Unexpected value Galloway in synthetic data.\n",
      "\n",
      "/home/antonia/.local/lib/python3.8/site-packages/sdmetrics/utils.py:67: UserWarning:\n",
      "\n",
      "Unexpected value Stanley in synthetic data.\n",
      "\n",
      "/home/antonia/.local/lib/python3.8/site-packages/sdmetrics/utils.py:67: UserWarning:\n",
      "\n",
      "Unexpected value Turner in synthetic data.\n",
      "\n",
      "/home/antonia/.local/lib/python3.8/site-packages/sdmetrics/utils.py:67: UserWarning:\n",
      "\n",
      "Unexpected value Haas in synthetic data.\n",
      "\n",
      "/home/antonia/.local/lib/python3.8/site-packages/sdmetrics/utils.py:67: UserWarning:\n",
      "\n",
      "Unexpected value Jones in synthetic data.\n",
      "\n",
      "/home/antonia/.local/lib/python3.8/site-packages/sdmetrics/utils.py:67: UserWarning:\n",
      "\n",
      "Unexpected value Andrews in synthetic data.\n",
      "\n",
      "/home/antonia/.local/lib/python3.8/site-packages/sdmetrics/utils.py:67: UserWarning:\n",
      "\n",
      "Unexpected value Murphy in synthetic data.\n",
      "\n",
      "/home/antonia/.local/lib/python3.8/site-packages/sdmetrics/utils.py:67: UserWarning:\n",
      "\n",
      "Unexpected value Vargas in synthetic data.\n",
      "\n",
      "/home/antonia/.local/lib/python3.8/site-packages/sdmetrics/utils.py:67: UserWarning:\n",
      "\n",
      "Unexpected value Mitchell in synthetic data.\n",
      "\n",
      "/home/antonia/.local/lib/python3.8/site-packages/sdmetrics/utils.py:67: UserWarning:\n",
      "\n",
      "Unexpected value Mckinney in synthetic data.\n",
      "\n",
      "/home/antonia/.local/lib/python3.8/site-packages/sdmetrics/utils.py:67: UserWarning:\n",
      "\n",
      "Unexpected value Zavala in synthetic data.\n",
      "\n",
      "/home/antonia/.local/lib/python3.8/site-packages/sdmetrics/utils.py:67: UserWarning:\n",
      "\n",
      "Unexpected value Hayes in synthetic data.\n",
      "\n",
      "/home/antonia/.local/lib/python3.8/site-packages/sdmetrics/utils.py:67: UserWarning:\n",
      "\n",
      "Unexpected value Miller in synthetic data.\n",
      "\n",
      "/home/antonia/.local/lib/python3.8/site-packages/sdmetrics/utils.py:67: UserWarning:\n",
      "\n",
      "Unexpected value Avila in synthetic data.\n",
      "\n",
      "/home/antonia/.local/lib/python3.8/site-packages/sdmetrics/utils.py:67: UserWarning:\n",
      "\n",
      "Unexpected value Pearson in synthetic data.\n",
      "\n",
      "/home/antonia/.local/lib/python3.8/site-packages/sdmetrics/utils.py:67: UserWarning:\n",
      "\n",
      "Unexpected value Abbott in synthetic data.\n",
      "\n",
      "/home/antonia/.local/lib/python3.8/site-packages/sdmetrics/utils.py:67: UserWarning:\n",
      "\n",
      "Unexpected value Taylor in synthetic data.\n",
      "\n",
      "/home/antonia/.local/lib/python3.8/site-packages/sdmetrics/utils.py:67: UserWarning:\n",
      "\n",
      "Unexpected value Chen in synthetic data.\n",
      "\n",
      "/home/antonia/.local/lib/python3.8/site-packages/sdmetrics/utils.py:67: UserWarning:\n",
      "\n",
      "Unexpected value Campbell in synthetic data.\n",
      "\n",
      "/home/antonia/.local/lib/python3.8/site-packages/sdmetrics/utils.py:67: UserWarning:\n",
      "\n",
      "Unexpected value Wright in synthetic data.\n",
      "\n",
      "/home/antonia/.local/lib/python3.8/site-packages/sdmetrics/utils.py:67: UserWarning:\n",
      "\n",
      "Unexpected value Payne in synthetic data.\n",
      "\n",
      "/home/antonia/.local/lib/python3.8/site-packages/sdmetrics/utils.py:67: UserWarning:\n",
      "\n",
      "Unexpected value Michael in synthetic data.\n",
      "\n",
      "/home/antonia/.local/lib/python3.8/site-packages/sdmetrics/utils.py:67: UserWarning:\n",
      "\n",
      "Unexpected value Martin in synthetic data.\n",
      "\n",
      "/home/antonia/.local/lib/python3.8/site-packages/sdmetrics/utils.py:67: UserWarning:\n",
      "\n",
      "Unexpected value Molina in synthetic data.\n",
      "\n",
      "/home/antonia/.local/lib/python3.8/site-packages/sdmetrics/utils.py:67: UserWarning:\n",
      "\n",
      "Unexpected value Wallace in synthetic data.\n",
      "\n",
      "/home/antonia/.local/lib/python3.8/site-packages/sdmetrics/utils.py:67: UserWarning:\n",
      "\n",
      "Unexpected value Burke in synthetic data.\n",
      "\n",
      "/home/antonia/.local/lib/python3.8/site-packages/sdmetrics/utils.py:67: UserWarning:\n",
      "\n",
      "Unexpected value Nichols in synthetic data.\n",
      "\n",
      "/home/antonia/.local/lib/python3.8/site-packages/sdmetrics/utils.py:67: UserWarning:\n",
      "\n",
      "Unexpected value Hughes in synthetic data.\n",
      "\n",
      "/home/antonia/.local/lib/python3.8/site-packages/sdmetrics/utils.py:67: UserWarning:\n",
      "\n",
      "Unexpected value Buck in synthetic data.\n",
      "\n",
      "/home/antonia/.local/lib/python3.8/site-packages/sdmetrics/utils.py:67: UserWarning:\n",
      "\n",
      "Unexpected value Tran in synthetic data.\n",
      "\n",
      "/home/antonia/.local/lib/python3.8/site-packages/sdmetrics/utils.py:67: UserWarning:\n",
      "\n",
      "Unexpected value Castro in synthetic data.\n",
      "\n",
      "/home/antonia/.local/lib/python3.8/site-packages/sdmetrics/utils.py:67: UserWarning:\n",
      "\n",
      "Unexpected value Bowman in synthetic data.\n",
      "\n",
      "/home/antonia/.local/lib/python3.8/site-packages/sdmetrics/utils.py:67: UserWarning:\n",
      "\n",
      "Unexpected value Kelly in synthetic data.\n",
      "\n",
      "/home/antonia/.local/lib/python3.8/site-packages/sdmetrics/utils.py:67: UserWarning:\n",
      "\n",
      "Unexpected value Perez in synthetic data.\n",
      "\n",
      "/home/antonia/.local/lib/python3.8/site-packages/sdmetrics/utils.py:67: UserWarning:\n",
      "\n",
      "Unexpected value Bishop in synthetic data.\n",
      "\n",
      "/home/antonia/.local/lib/python3.8/site-packages/sdmetrics/utils.py:67: UserWarning:\n",
      "\n",
      "Unexpected value Lowe in synthetic data.\n",
      "\n",
      "/home/antonia/.local/lib/python3.8/site-packages/sdmetrics/utils.py:67: UserWarning:\n",
      "\n",
      "Unexpected value Martinez in synthetic data.\n",
      "\n",
      "/home/antonia/.local/lib/python3.8/site-packages/sdmetrics/utils.py:67: UserWarning:\n",
      "\n",
      "Unexpected value Newton in synthetic data.\n",
      "\n",
      "/home/antonia/.local/lib/python3.8/site-packages/sdmetrics/utils.py:67: UserWarning:\n",
      "\n",
      "Unexpected value Nicholson in synthetic data.\n",
      "\n",
      "/home/antonia/.local/lib/python3.8/site-packages/sdmetrics/utils.py:67: UserWarning:\n",
      "\n",
      "Unexpected value Mathews in synthetic data.\n",
      "\n",
      "/home/antonia/.local/lib/python3.8/site-packages/sdmetrics/utils.py:67: UserWarning:\n",
      "\n",
      "Unexpected value Gillespie in synthetic data.\n",
      "\n",
      "/home/antonia/.local/lib/python3.8/site-packages/sdmetrics/utils.py:67: UserWarning:\n",
      "\n",
      "Unexpected value Jacobs in synthetic data.\n",
      "\n",
      "/home/antonia/.local/lib/python3.8/site-packages/sdmetrics/utils.py:67: UserWarning:\n",
      "\n",
      "Unexpected value Strong in synthetic data.\n",
      "\n",
      "/home/antonia/.local/lib/python3.8/site-packages/sdmetrics/utils.py:67: UserWarning:\n",
      "\n",
      "Unexpected value Mcgee in synthetic data.\n",
      "\n",
      "/home/antonia/.local/lib/python3.8/site-packages/sdmetrics/utils.py:67: UserWarning:\n",
      "\n",
      "Unexpected value Mcdaniel in synthetic data.\n",
      "\n",
      "/home/antonia/.local/lib/python3.8/site-packages/sdmetrics/utils.py:67: UserWarning:\n",
      "\n",
      "Unexpected value Oneal in synthetic data.\n",
      "\n",
      "/home/antonia/.local/lib/python3.8/site-packages/sdmetrics/utils.py:67: UserWarning:\n",
      "\n",
      "Unexpected value Delgado in synthetic data.\n",
      "\n",
      "/home/antonia/.local/lib/python3.8/site-packages/sdmetrics/utils.py:67: UserWarning:\n",
      "\n",
      "Unexpected value Roberson in synthetic data.\n",
      "\n",
      "/home/antonia/.local/lib/python3.8/site-packages/sdmetrics/utils.py:67: UserWarning:\n",
      "\n",
      "Unexpected value Pierce in synthetic data.\n",
      "\n",
      "/home/antonia/.local/lib/python3.8/site-packages/sdmetrics/utils.py:67: UserWarning:\n",
      "\n",
      "Unexpected value Roberts in synthetic data.\n",
      "\n",
      "/home/antonia/.local/lib/python3.8/site-packages/sdmetrics/utils.py:67: UserWarning:\n",
      "\n",
      "Unexpected value Clark in synthetic data.\n",
      "\n",
      "/home/antonia/.local/lib/python3.8/site-packages/sdmetrics/utils.py:67: UserWarning:\n",
      "\n",
      "Unexpected value Jarvis in synthetic data.\n",
      "\n",
      "/home/antonia/.local/lib/python3.8/site-packages/sdmetrics/utils.py:67: UserWarning:\n",
      "\n",
      "Unexpected value Garcia in synthetic data.\n",
      "\n",
      "/home/antonia/.local/lib/python3.8/site-packages/sdmetrics/utils.py:67: UserWarning:\n",
      "\n",
      "Unexpected value Perry in synthetic data.\n",
      "\n",
      "/home/antonia/.local/lib/python3.8/site-packages/sdmetrics/utils.py:67: UserWarning:\n",
      "\n",
      "Unexpected value Harper in synthetic data.\n",
      "\n",
      "/home/antonia/.local/lib/python3.8/site-packages/sdmetrics/utils.py:67: UserWarning:\n",
      "\n",
      "Unexpected value Ramirez in synthetic data.\n",
      "\n",
      "/home/antonia/.local/lib/python3.8/site-packages/sdmetrics/utils.py:67: UserWarning:\n",
      "\n",
      "Unexpected value 2506 Eric Throughway\n",
      "Lake Erik, UT 35193 in synthetic data.\n",
      "\n",
      "/home/antonia/.local/lib/python3.8/site-packages/sdmetrics/utils.py:67: UserWarning:\n",
      "\n",
      "Unexpected value 330 Michael Rest\n",
      "East Ronnieshire, TN 02822 in synthetic data.\n",
      "\n",
      "/home/antonia/.local/lib/python3.8/site-packages/sdmetrics/utils.py:67: UserWarning:\n",
      "\n",
      "Unexpected value 8803 Cesar Trace\n",
      "Amandabury, AL 01043 in synthetic data.\n",
      "\n",
      "/home/antonia/.local/lib/python3.8/site-packages/sdmetrics/utils.py:67: UserWarning:\n",
      "\n",
      "Unexpected value 5043 Felicia Orchard Apt. 226\n",
      "Port Anna, PA 60062 in synthetic data.\n",
      "\n",
      "/home/antonia/.local/lib/python3.8/site-packages/sdmetrics/utils.py:67: UserWarning:\n",
      "\n",
      "Unexpected value 2317 Scott Locks\n",
      "South Christopher, IL 57105 in synthetic data.\n",
      "\n",
      "/home/antonia/.local/lib/python3.8/site-packages/sdmetrics/utils.py:67: UserWarning:\n",
      "\n",
      "Unexpected value 05863 Silva Courts Apt. 708\n",
      "Samanthastad, NJ 45361 in synthetic data.\n",
      "\n",
      "/home/antonia/.local/lib/python3.8/site-packages/sdmetrics/utils.py:67: UserWarning:\n",
      "\n",
      "Unexpected value 574 Allen Islands\n",
      "South Janice, DE 25506 in synthetic data.\n",
      "\n",
      "/home/antonia/.local/lib/python3.8/site-packages/sdmetrics/utils.py:67: UserWarning:\n",
      "\n",
      "Unexpected value 8670 Stewart Plaza Suite 198\n",
      "New Martintown, PA 92679 in synthetic data.\n",
      "\n",
      "/home/antonia/.local/lib/python3.8/site-packages/sdmetrics/utils.py:67: UserWarning:\n",
      "\n",
      "Unexpected value 171 Clark Passage\n",
      "South Derek, VT 12116 in synthetic data.\n",
      "\n",
      "/home/antonia/.local/lib/python3.8/site-packages/sdmetrics/utils.py:67: UserWarning:\n",
      "\n",
      "Unexpected value USNS Aguirre\n",
      "FPO AA 42285 in synthetic data.\n",
      "\n",
      "/home/antonia/.local/lib/python3.8/site-packages/sdmetrics/utils.py:67: UserWarning:\n",
      "\n",
      "Unexpected value 5198 Deleon Greens Apt. 986\n",
      "Brandonstad, AR 21369 in synthetic data.\n",
      "\n",
      "/home/antonia/.local/lib/python3.8/site-packages/sdmetrics/utils.py:67: UserWarning:\n",
      "\n",
      "Unexpected value USCGC Phillips\n",
      "FPO AP 28408 in synthetic data.\n",
      "\n",
      "/home/antonia/.local/lib/python3.8/site-packages/sdmetrics/utils.py:67: UserWarning:\n",
      "\n",
      "Unexpected value 2066 Ewing Plaza Apt. 671\n",
      "South Rachelburgh, MN 38010 in synthetic data.\n",
      "\n",
      "/home/antonia/.local/lib/python3.8/site-packages/sdmetrics/utils.py:67: UserWarning:\n",
      "\n",
      "Unexpected value PSC 5812, Box 0160\n",
      "APO AA 62178 in synthetic data.\n",
      "\n",
      "/home/antonia/.local/lib/python3.8/site-packages/sdmetrics/utils.py:67: UserWarning:\n",
      "\n",
      "Unexpected value Unit 4440 Box 1704\n",
      "DPO AP 30811 in synthetic data.\n",
      "\n",
      "/home/antonia/.local/lib/python3.8/site-packages/sdmetrics/utils.py:67: UserWarning:\n",
      "\n",
      "Unexpected value 7023 Christopher Villages Apt. 287\n",
      "Perryland, IL 37128 in synthetic data.\n",
      "\n",
      "/home/antonia/.local/lib/python3.8/site-packages/sdmetrics/utils.py:67: UserWarning:\n",
      "\n",
      "Unexpected value 7321 Cannon Manors\n",
      "Lake Davidfort, CO 27714 in synthetic data.\n",
      "\n",
      "/home/antonia/.local/lib/python3.8/site-packages/sdmetrics/utils.py:67: UserWarning:\n",
      "\n",
      "Unexpected value 723 Nathan Views Apt. 124\n",
      "Keithville, SC 17407 in synthetic data.\n",
      "\n",
      "/home/antonia/.local/lib/python3.8/site-packages/sdmetrics/utils.py:67: UserWarning:\n",
      "\n",
      "Unexpected value PSC 4914, Box 5630\n",
      "APO AE 86642 in synthetic data.\n",
      "\n",
      "/home/antonia/.local/lib/python3.8/site-packages/sdmetrics/utils.py:67: UserWarning:\n",
      "\n",
      "Unexpected value 7512 Cortez Isle Apt. 899\n",
      "Garciaview, VA 85530 in synthetic data.\n",
      "\n",
      "/home/antonia/.local/lib/python3.8/site-packages/sdmetrics/utils.py:67: UserWarning:\n",
      "\n",
      "Unexpected value 2676 Koch Mews\n",
      "Lake Tammy, WI 17763 in synthetic data.\n",
      "\n",
      "/home/antonia/.local/lib/python3.8/site-packages/sdmetrics/utils.py:67: UserWarning:\n",
      "\n",
      "Unexpected value 2360 Snyder Overpass Apt. 249\n",
      "Murilloland, DE 56832 in synthetic data.\n",
      "\n",
      "/home/antonia/.local/lib/python3.8/site-packages/sdmetrics/utils.py:67: UserWarning:\n",
      "\n",
      "Unexpected value 47007 Wagner Well Suite 482\n",
      "Matthewland, NE 61907 in synthetic data.\n",
      "\n",
      "/home/antonia/.local/lib/python3.8/site-packages/sdmetrics/utils.py:67: UserWarning:\n",
      "\n",
      "Unexpected value 3993 Danielle Neck Suite 850\n",
      "Livingstonchester, RI 25761 in synthetic data.\n",
      "\n",
      "/home/antonia/.local/lib/python3.8/site-packages/sdmetrics/utils.py:67: UserWarning:\n",
      "\n",
      "Unexpected value 55353 Scott Green Apt. 084\n",
      "South Dennis, LA 19139 in synthetic data.\n",
      "\n",
      "/home/antonia/.local/lib/python3.8/site-packages/sdmetrics/utils.py:67: UserWarning:\n",
      "\n",
      "Unexpected value 19810 Smith Springs\n",
      "Ronaldfurt, HI 57650 in synthetic data.\n",
      "\n",
      "/home/antonia/.local/lib/python3.8/site-packages/sdmetrics/utils.py:67: UserWarning:\n",
      "\n",
      "Unexpected value 94196 Tina Walks\n",
      "New Jessica, AR 22165 in synthetic data.\n",
      "\n",
      "/home/antonia/.local/lib/python3.8/site-packages/sdmetrics/utils.py:67: UserWarning:\n",
      "\n",
      "Unexpected value 0783 Mccarthy Rapids\n",
      "Lake Tylermouth, KY 40965 in synthetic data.\n",
      "\n",
      "/home/antonia/.local/lib/python3.8/site-packages/sdmetrics/utils.py:67: UserWarning:\n",
      "\n",
      "Unexpected value 52878 Marie Ville Suite 327\n",
      "Millershire, CO 71358 in synthetic data.\n",
      "\n",
      "/home/antonia/.local/lib/python3.8/site-packages/sdmetrics/utils.py:67: UserWarning:\n",
      "\n",
      "Unexpected value 991 Rivas Meadow\n",
      "Port Donna, SD 31178 in synthetic data.\n",
      "\n",
      "/home/antonia/.local/lib/python3.8/site-packages/sdmetrics/utils.py:67: UserWarning:\n",
      "\n",
      "Unexpected value 13965 Shaffer Glen\n",
      "Austinmouth, SC 69334 in synthetic data.\n",
      "\n",
      "/home/antonia/.local/lib/python3.8/site-packages/sdmetrics/utils.py:67: UserWarning:\n",
      "\n",
      "Unexpected value Unit 0111 Box 6540\n",
      "DPO AE 86795 in synthetic data.\n",
      "\n",
      "/home/antonia/.local/lib/python3.8/site-packages/sdmetrics/utils.py:67: UserWarning:\n",
      "\n",
      "Unexpected value 4643 Donald Mission\n",
      "South Jacobland, DC 44593 in synthetic data.\n",
      "\n",
      "/home/antonia/.local/lib/python3.8/site-packages/sdmetrics/utils.py:67: UserWarning:\n",
      "\n",
      "Unexpected value 228 Diaz Pines Suite 164\n",
      "Lake Diane, WV 39205 in synthetic data.\n",
      "\n",
      "/home/antonia/.local/lib/python3.8/site-packages/sdmetrics/utils.py:67: UserWarning:\n",
      "\n",
      "Unexpected value 8052 Floyd Dam Apt. 006\n",
      "Lake Jacobview, AZ 72756 in synthetic data.\n",
      "\n",
      "/home/antonia/.local/lib/python3.8/site-packages/sdmetrics/utils.py:67: UserWarning:\n",
      "\n",
      "Unexpected value 13260 Garcia Brooks Apt. 582\n",
      "Martinezton, CO 13390 in synthetic data.\n",
      "\n",
      "/home/antonia/.local/lib/python3.8/site-packages/sdmetrics/utils.py:67: UserWarning:\n",
      "\n",
      "Unexpected value 292 Thompson Creek Suite 487\n",
      "New Seanberg, CO 29715 in synthetic data.\n",
      "\n",
      "/home/antonia/.local/lib/python3.8/site-packages/sdmetrics/utils.py:67: UserWarning:\n",
      "\n",
      "Unexpected value 803 Chen Cliff\n",
      "Davidsonberg, HI 25281 in synthetic data.\n",
      "\n",
      "/home/antonia/.local/lib/python3.8/site-packages/sdmetrics/utils.py:67: UserWarning:\n",
      "\n",
      "Unexpected value 0417 Foley Cove Apt. 689\n",
      "Lake Jordan, ME 27214 in synthetic data.\n",
      "\n",
      "/home/antonia/.local/lib/python3.8/site-packages/sdmetrics/utils.py:67: UserWarning:\n",
      "\n",
      "Unexpected value 18210 Tonya Keys\n",
      "West Patrick, NC 61541 in synthetic data.\n",
      "\n",
      "/home/antonia/.local/lib/python3.8/site-packages/sdmetrics/utils.py:67: UserWarning:\n",
      "\n",
      "Unexpected value 43297 Nicole Crest Apt. 746\n",
      "West Nancyshire, HI 80962 in synthetic data.\n",
      "\n",
      "/home/antonia/.local/lib/python3.8/site-packages/sdmetrics/utils.py:67: UserWarning:\n",
      "\n",
      "Unexpected value 37461 Jimenez Haven\n",
      "Freemanshire, WI 40706 in synthetic data.\n",
      "\n",
      "/home/antonia/.local/lib/python3.8/site-packages/sdmetrics/utils.py:67: UserWarning:\n",
      "\n",
      "Unexpected value 20130 Daugherty Port Suite 009\n",
      "Port Monica, WV 30367 in synthetic data.\n",
      "\n",
      "/home/antonia/.local/lib/python3.8/site-packages/sdmetrics/utils.py:67: UserWarning:\n",
      "\n",
      "Unexpected value 85983 Norton Isle Suite 447\n",
      "West Cathy, NE 32867 in synthetic data.\n",
      "\n",
      "/home/antonia/.local/lib/python3.8/site-packages/sdmetrics/utils.py:67: UserWarning:\n",
      "\n",
      "Unexpected value 900 Dean Islands Suite 688\n",
      "East Nathanmouth, FL 42727 in synthetic data.\n",
      "\n",
      "/home/antonia/.local/lib/python3.8/site-packages/sdmetrics/utils.py:67: UserWarning:\n",
      "\n",
      "Unexpected value 455 Joe Mission\n",
      "Scottfort, NE 58144 in synthetic data.\n",
      "\n",
      "/home/antonia/.local/lib/python3.8/site-packages/sdmetrics/utils.py:67: UserWarning:\n",
      "\n",
      "Unexpected value 322 Schneider Spring\n",
      "North Michaelbury, NH 28638 in synthetic data.\n",
      "\n",
      "/home/antonia/.local/lib/python3.8/site-packages/sdmetrics/utils.py:67: UserWarning:\n",
      "\n",
      "Unexpected value 555 Anthony Forge\n",
      "Samuelside, CO 80939 in synthetic data.\n",
      "\n",
      "/home/antonia/.local/lib/python3.8/site-packages/sdmetrics/utils.py:67: UserWarning:\n",
      "\n",
      "Unexpected value 642 Melissa River\n",
      "Robinsonland, NE 83580 in synthetic data.\n",
      "\n",
      "/home/antonia/.local/lib/python3.8/site-packages/sdmetrics/utils.py:67: UserWarning:\n",
      "\n",
      "Unexpected value 80717 Jones Inlet\n",
      "Davidbury, TX 96531 in synthetic data.\n",
      "\n",
      "/home/antonia/.local/lib/python3.8/site-packages/sdmetrics/utils.py:67: UserWarning:\n",
      "\n",
      "Unexpected value 42453 Jason Crescent Apt. 164\n",
      "Jarvisview, GA 81336 in synthetic data.\n",
      "\n",
      "/home/antonia/.local/lib/python3.8/site-packages/sdmetrics/utils.py:67: UserWarning:\n",
      "\n",
      "Unexpected value 812 Huff Grove\n",
      "Trevorland, LA 22680 in synthetic data.\n",
      "\n",
      "/home/antonia/.local/lib/python3.8/site-packages/sdmetrics/utils.py:67: UserWarning:\n",
      "\n",
      "Unexpected value 40615 Hicks Spur Suite 450\n",
      "South Mallory, IA 97577 in synthetic data.\n",
      "\n",
      "/home/antonia/.local/lib/python3.8/site-packages/sdmetrics/utils.py:67: UserWarning:\n",
      "\n",
      "Unexpected value 6797 Kristin Stream\n",
      "Jonathanton, IN 21796 in synthetic data.\n",
      "\n",
      "/home/antonia/.local/lib/python3.8/site-packages/sdmetrics/utils.py:67: UserWarning:\n",
      "\n",
      "Unexpected value 347 Pace Heights\n",
      "North Ashleyburgh, AZ 24576 in synthetic data.\n",
      "\n",
      "/home/antonia/.local/lib/python3.8/site-packages/sdmetrics/utils.py:67: UserWarning:\n",
      "\n",
      "Unexpected value 0123 Woodard Points\n",
      "East Elizabeth, NH 98808 in synthetic data.\n",
      "\n",
      "/home/antonia/.local/lib/python3.8/site-packages/sdmetrics/utils.py:67: UserWarning:\n",
      "\n",
      "Unexpected value 1509 Miller Summit\n",
      "Hernandezbury, TX 25502 in synthetic data.\n",
      "\n",
      "/home/antonia/.local/lib/python3.8/site-packages/sdmetrics/utils.py:67: UserWarning:\n",
      "\n",
      "Unexpected value 29584 Chavez Turnpike\n",
      "East Regina, VA 22192 in synthetic data.\n",
      "\n",
      "/home/antonia/.local/lib/python3.8/site-packages/sdmetrics/utils.py:67: UserWarning:\n",
      "\n",
      "Unexpected value 27760 Ronald Fort Apt. 925\n",
      "North Shawnstad, RI 13034 in synthetic data.\n",
      "\n",
      "/home/antonia/.local/lib/python3.8/site-packages/sdmetrics/utils.py:67: UserWarning:\n",
      "\n",
      "Unexpected value 5258 Debra Springs Suite 944\n",
      "Lake Michael, GA 01066 in synthetic data.\n",
      "\n",
      "/home/antonia/.local/lib/python3.8/site-packages/sdmetrics/utils.py:67: UserWarning:\n",
      "\n",
      "Unexpected value 599 Romero Mount\n",
      "South Glennbury, DC 18507 in synthetic data.\n",
      "\n",
      "/home/antonia/.local/lib/python3.8/site-packages/sdmetrics/utils.py:67: UserWarning:\n",
      "\n",
      "Unexpected value 47207 Shane Ville Suite 763\n",
      "West Michael, NV 39703 in synthetic data.\n",
      "\n",
      "/home/antonia/.local/lib/python3.8/site-packages/sdmetrics/utils.py:67: UserWarning:\n",
      "\n",
      "Unexpected value 8695 Adriana Point Suite 663\n",
      "Arnoldmouth, DC 59308 in synthetic data.\n",
      "\n",
      "/home/antonia/.local/lib/python3.8/site-packages/sdmetrics/utils.py:67: UserWarning:\n",
      "\n",
      "Unexpected value 2304 Campbell Islands Suite 272\n",
      "Coryland, ND 29876 in synthetic data.\n",
      "\n",
      "/home/antonia/.local/lib/python3.8/site-packages/sdmetrics/utils.py:67: UserWarning:\n",
      "\n",
      "Unexpected value 69400 Cole Trail\n",
      "Stephaniemouth, MN 01955 in synthetic data.\n",
      "\n",
      "/home/antonia/.local/lib/python3.8/site-packages/sdmetrics/utils.py:67: UserWarning:\n",
      "\n",
      "Unexpected value 862 Nelson Course\n",
      "Carolhaven, MI 15862 in synthetic data.\n",
      "\n",
      "/home/antonia/.local/lib/python3.8/site-packages/sdmetrics/utils.py:67: UserWarning:\n",
      "\n",
      "Unexpected value 4464 Green Lake Suite 412\n",
      "New Sherri, LA 50563 in synthetic data.\n",
      "\n",
      "/home/antonia/.local/lib/python3.8/site-packages/sdmetrics/utils.py:67: UserWarning:\n",
      "\n",
      "Unexpected value 23928 Crawford Motorway\n",
      "Wrightfort, SC 78344 in synthetic data.\n",
      "\n",
      "/home/antonia/.local/lib/python3.8/site-packages/sdmetrics/utils.py:67: UserWarning:\n",
      "\n",
      "Unexpected value 2906 Sierra Land\n",
      "West Mark, MT 17539 in synthetic data.\n",
      "\n",
      "/home/antonia/.local/lib/python3.8/site-packages/sdmetrics/utils.py:67: UserWarning:\n",
      "\n",
      "Unexpected value 215 Alec Plains\n",
      "Foleychester, NY 92935 in synthetic data.\n",
      "\n",
      "/home/antonia/.local/lib/python3.8/site-packages/sdmetrics/utils.py:67: UserWarning:\n",
      "\n",
      "Unexpected value 5540 Frank Divide Suite 072\n",
      "Jamesstad, AZ 21768 in synthetic data.\n",
      "\n",
      "/home/antonia/.local/lib/python3.8/site-packages/sdmetrics/utils.py:67: UserWarning:\n",
      "\n",
      "Unexpected value 5842 Scott Street Apt. 650\n",
      "North Adam, OK 15796 in synthetic data.\n",
      "\n",
      "/home/antonia/.local/lib/python3.8/site-packages/sdmetrics/utils.py:67: UserWarning:\n",
      "\n",
      "Unexpected value 588 Moody Estates Apt. 738\n",
      "New Terri, MO 81944 in synthetic data.\n",
      "\n",
      "/home/antonia/.local/lib/python3.8/site-packages/sdmetrics/utils.py:67: UserWarning:\n",
      "\n",
      "Unexpected value 332 Omar Well\n",
      "Milesland, HI 25338 in synthetic data.\n",
      "\n",
      "/home/antonia/.local/lib/python3.8/site-packages/sdmetrics/utils.py:67: UserWarning:\n",
      "\n",
      "Unexpected value 143 Troy Roads\n",
      "Millerstad, WA 49436 in synthetic data.\n",
      "\n",
      "/home/antonia/.local/lib/python3.8/site-packages/sdmetrics/utils.py:67: UserWarning:\n",
      "\n",
      "Unexpected value 03810 Rodriguez Ferry\n",
      "Douglasberg, GA 74915 in synthetic data.\n",
      "\n",
      "/home/antonia/.local/lib/python3.8/site-packages/sdmetrics/utils.py:67: UserWarning:\n",
      "\n",
      "Unexpected value 298 Mason Lodge\n",
      "Carolstad, NY 90981 in synthetic data.\n",
      "\n",
      "/home/antonia/.local/lib/python3.8/site-packages/sdmetrics/utils.py:67: UserWarning:\n",
      "\n",
      "Unexpected value 22036 Nicole Road Suite 650\n",
      "Kevinton, MT 10642 in synthetic data.\n",
      "\n",
      "/home/antonia/.local/lib/python3.8/site-packages/sdmetrics/utils.py:67: UserWarning:\n",
      "\n",
      "Unexpected value 1321 Schmidt Drive Apt. 177\n",
      "North David, SD 12631 in synthetic data.\n",
      "\n",
      "/home/antonia/.local/lib/python3.8/site-packages/sdmetrics/utils.py:67: UserWarning:\n",
      "\n",
      "Unexpected value 054 Wise Way\n",
      "Martinezton, SC 72351 in synthetic data.\n",
      "\n",
      "/home/antonia/.local/lib/python3.8/site-packages/sdmetrics/utils.py:67: UserWarning:\n",
      "\n",
      "Unexpected value 71367 David Bypass Suite 202\n",
      "Christopherberg, OR 70255 in synthetic data.\n",
      "\n",
      "/home/antonia/.local/lib/python3.8/site-packages/sdmetrics/utils.py:67: UserWarning:\n",
      "\n",
      "Unexpected value PSC 0048, Box 2446\n",
      "APO AE 46231 in synthetic data.\n",
      "\n",
      "/home/antonia/.local/lib/python3.8/site-packages/sdmetrics/utils.py:67: UserWarning:\n",
      "\n",
      "Unexpected value 870 Phillips Drives\n",
      "Lake Joseborough, MN 42525 in synthetic data.\n",
      "\n",
      "/home/antonia/.local/lib/python3.8/site-packages/sdmetrics/utils.py:67: UserWarning:\n",
      "\n",
      "Unexpected value USNV Smith\n",
      "FPO AP 17662 in synthetic data.\n",
      "\n",
      "/home/antonia/.local/lib/python3.8/site-packages/sdmetrics/utils.py:67: UserWarning:\n",
      "\n",
      "Unexpected value 83393 Sims Junctions\n",
      "Martinton, MA 20753 in synthetic data.\n",
      "\n",
      "/home/antonia/.local/lib/python3.8/site-packages/sdmetrics/utils.py:67: UserWarning:\n",
      "\n",
      "Unexpected value 3530 Austin Mountains Apt. 178\n",
      "Daughertyborough, WA 66518 in synthetic data.\n",
      "\n",
      "/home/antonia/.local/lib/python3.8/site-packages/sdmetrics/utils.py:67: UserWarning:\n",
      "\n",
      "Unexpected value 978 Vang Isle Suite 544\n",
      "Johnsonmouth, MO 54047 in synthetic data.\n",
      "\n",
      "/home/antonia/.local/lib/python3.8/site-packages/sdmetrics/utils.py:67: UserWarning:\n",
      "\n",
      "Unexpected value 95632 Austin Junctions Suite 836\n",
      "Vaughnview, DC 91609 in synthetic data.\n",
      "\n",
      "/home/antonia/.local/lib/python3.8/site-packages/sdmetrics/utils.py:67: UserWarning:\n",
      "\n",
      "Unexpected value 9254 Kristin Mill Suite 909\n",
      "East Brian, UT 01673 in synthetic data.\n",
      "\n",
      "/home/antonia/.local/lib/python3.8/site-packages/sdmetrics/utils.py:67: UserWarning:\n",
      "\n",
      "Unexpected value PSC 9882, Box 0095\n",
      "APO AE 48889 in synthetic data.\n",
      "\n",
      "/home/antonia/.local/lib/python3.8/site-packages/sdmetrics/utils.py:67: UserWarning:\n",
      "\n",
      "Unexpected value 45260 Cohen Parkways\n",
      "Lake Melissa, WV 17043 in synthetic data.\n",
      "\n",
      "/home/antonia/.local/lib/python3.8/site-packages/sdmetrics/utils.py:67: UserWarning:\n",
      "\n",
      "Unexpected value 4337 Rose Turnpike\n",
      "Livingstonland, VA 78480 in synthetic data.\n",
      "\n",
      "/home/antonia/.local/lib/python3.8/site-packages/sdmetrics/utils.py:67: UserWarning:\n",
      "\n",
      "Unexpected value 053 Anne Ridge Suite 576\n",
      "Port Stacyfurt, IL 22915 in synthetic data.\n",
      "\n",
      "/home/antonia/.local/lib/python3.8/site-packages/sdmetrics/utils.py:67: UserWarning:\n",
      "\n",
      "Unexpected value 977 Hoffman Groves Apt. 057\n",
      "Kennethtown, OK 00827 in synthetic data.\n",
      "\n",
      "/home/antonia/.local/lib/python3.8/site-packages/sdmetrics/utils.py:67: UserWarning:\n",
      "\n",
      "Unexpected value 379 Lisa Ridge Apt. 233\n",
      "Harmontown, CT 46064 in synthetic data.\n",
      "\n",
      "/home/antonia/.local/lib/python3.8/site-packages/sdmetrics/utils.py:67: UserWarning:\n",
      "\n",
      "Unexpected value 16936 Kim Heights\n",
      "South Steven, NY 31100 in synthetic data.\n",
      "\n",
      "/home/antonia/.local/lib/python3.8/site-packages/sdmetrics/utils.py:67: UserWarning:\n",
      "\n",
      "Unexpected value 4656 Taylor Terrace Apt. 374\n",
      "Richardsonville, CO 68880 in synthetic data.\n",
      "\n",
      "/home/antonia/.local/lib/python3.8/site-packages/sdmetrics/utils.py:67: UserWarning:\n",
      "\n",
      "Unexpected value 7197 Cantrell Heights Suite 855\n",
      "Heatherhaven, CO 63661 in synthetic data.\n",
      "\n",
      "/home/antonia/.local/lib/python3.8/site-packages/sdmetrics/utils.py:67: UserWarning:\n",
      "\n",
      "Unexpected value 9490 Zachary Curve\n",
      "East Tanyahaven, OH 94693 in synthetic data.\n",
      "\n",
      "/home/antonia/.local/lib/python3.8/site-packages/sdmetrics/utils.py:67: UserWarning:\n",
      "\n",
      "Unexpected value 8525 Megan Port Suite 175\n",
      "Brownberg, ND 80653 in synthetic data.\n",
      "\n",
      "/home/antonia/.local/lib/python3.8/site-packages/sdmetrics/utils.py:67: UserWarning:\n",
      "\n",
      "Unexpected value 1478 Danny Locks Apt. 471\n",
      "West Patricia, CO 85950 in synthetic data.\n",
      "\n",
      "/home/antonia/.local/lib/python3.8/site-packages/sdmetrics/utils.py:67: UserWarning:\n",
      "\n",
      "Unexpected value 081 Herrera Radial\n",
      "Lake Aaronton, WI 36311 in synthetic data.\n",
      "\n",
      "/home/antonia/.local/lib/python3.8/site-packages/sdmetrics/utils.py:67: UserWarning:\n",
      "\n",
      "Unexpected value 7978 Jose Circle\n",
      "Barbaraville, MS 24632 in synthetic data.\n",
      "\n",
      "/home/antonia/.local/lib/python3.8/site-packages/sdmetrics/utils.py:67: UserWarning:\n",
      "\n",
      "Unexpected value Unit 6857 Box 8897\n",
      "DPO AA 22430 in synthetic data.\n",
      "\n",
      "/home/antonia/.local/lib/python3.8/site-packages/sdmetrics/utils.py:67: UserWarning:\n",
      "\n",
      "Unexpected value USNS Brown\n",
      "FPO AE 81043 in synthetic data.\n",
      "\n",
      "/home/antonia/.local/lib/python3.8/site-packages/sdmetrics/utils.py:67: UserWarning:\n",
      "\n",
      "Unexpected value PSC 6199, Box 9355\n",
      "APO AA 76188 in synthetic data.\n",
      "\n",
      "/home/antonia/.local/lib/python3.8/site-packages/sdmetrics/utils.py:67: UserWarning:\n",
      "\n",
      "Unexpected value PSC 8380, Box 8092\n",
      "APO AA 30881 in synthetic data.\n",
      "\n",
      "/home/antonia/.local/lib/python3.8/site-packages/sdmetrics/utils.py:67: UserWarning:\n",
      "\n",
      "Unexpected value 63557 Joanne Mews\n",
      "Fernandezmouth, AR 27853 in synthetic data.\n",
      "\n",
      "/home/antonia/.local/lib/python3.8/site-packages/sdmetrics/utils.py:67: UserWarning:\n",
      "\n",
      "Unexpected value 5808 Martin Bypass\n",
      "Thomasfurt, ME 96628 in synthetic data.\n",
      "\n",
      "/home/antonia/.local/lib/python3.8/site-packages/sdmetrics/utils.py:67: UserWarning:\n",
      "\n",
      "Unexpected value 636 Anderson Motorway\n",
      "Ashleyland, SC 04875 in synthetic data.\n",
      "\n",
      "/home/antonia/.local/lib/python3.8/site-packages/sdmetrics/utils.py:67: UserWarning:\n",
      "\n",
      "Unexpected value 61755 Johnny Mountain\n",
      "Christinastad, KY 70077 in synthetic data.\n",
      "\n",
      "/home/antonia/.local/lib/python3.8/site-packages/sdmetrics/utils.py:67: UserWarning:\n",
      "\n",
      "Unexpected value 050 Erica Roads\n",
      "Kimstad, AK 84550 in synthetic data.\n",
      "\n",
      "/home/antonia/.local/lib/python3.8/site-packages/sdmetrics/utils.py:67: UserWarning:\n",
      "\n",
      "Unexpected value 957 Steven Prairie Apt. 909\n",
      "Smithbury, NH 28388 in synthetic data.\n",
      "\n",
      "/home/antonia/.local/lib/python3.8/site-packages/sdmetrics/utils.py:67: UserWarning:\n",
      "\n",
      "Unexpected value 22965 Johnson Lights Apt. 820\n",
      "New Alexander, WY 91099 in synthetic data.\n",
      "\n",
      "/home/antonia/.local/lib/python3.8/site-packages/sdmetrics/utils.py:67: UserWarning:\n",
      "\n",
      "Unexpected value 48881 Phyllis Station Suite 368\n",
      "South Anneville, WA 25656 in synthetic data.\n",
      "\n",
      "/home/antonia/.local/lib/python3.8/site-packages/sdmetrics/utils.py:67: UserWarning:\n",
      "\n",
      "Unexpected value 85574 Rhonda Harbor\n",
      "West Jacobtown, IN 91637 in synthetic data.\n",
      "\n",
      "/home/antonia/.local/lib/python3.8/site-packages/sdmetrics/utils.py:67: UserWarning:\n",
      "\n",
      "Unexpected value 159 Adams Glens\n",
      "Thomastown, CA 77452 in synthetic data.\n",
      "\n",
      "/home/antonia/.local/lib/python3.8/site-packages/sdmetrics/utils.py:67: UserWarning:\n",
      "\n",
      "Unexpected value 24707 Brett Extension\n",
      "Singletonmouth, ND 87220 in synthetic data.\n",
      "\n",
      "/home/antonia/.local/lib/python3.8/site-packages/sdmetrics/utils.py:67: UserWarning:\n",
      "\n",
      "Unexpected value 58182 Robinson Station Apt. 572\n",
      "South Ralphmouth, NJ 94496 in synthetic data.\n",
      "\n",
      "/home/antonia/.local/lib/python3.8/site-packages/sdmetrics/utils.py:67: UserWarning:\n",
      "\n",
      "Unexpected value 45329 Jones Highway Apt. 344\n",
      "North Thomas, CT 32136 in synthetic data.\n",
      "\n",
      "/home/antonia/.local/lib/python3.8/site-packages/sdmetrics/utils.py:67: UserWarning:\n",
      "\n",
      "Unexpected value 64593 Bray Villages\n",
      "Harpermouth, MA 63128 in synthetic data.\n",
      "\n",
      "/home/antonia/.local/lib/python3.8/site-packages/sdmetrics/utils.py:67: UserWarning:\n",
      "\n",
      "Unexpected value 7329 Caleb Mountain\n",
      "Andersonton, GA 89718 in synthetic data.\n",
      "\n",
      "/home/antonia/.local/lib/python3.8/site-packages/sdmetrics/utils.py:67: UserWarning:\n",
      "\n",
      "Unexpected value 038 Johnny Fords Suite 088\n",
      "Carpenterport, MA 68769 in synthetic data.\n",
      "\n",
      "/home/antonia/.local/lib/python3.8/site-packages/sdmetrics/utils.py:67: UserWarning:\n",
      "\n",
      "Unexpected value 08051 Dean Crossroad\n",
      "West Kevin, AK 83488 in synthetic data.\n",
      "\n",
      "/home/antonia/.local/lib/python3.8/site-packages/sdmetrics/utils.py:67: UserWarning:\n",
      "\n",
      "Unexpected value 9482 Reyes Neck\n",
      "Port Alexisberg, RI 19178 in synthetic data.\n",
      "\n",
      "/home/antonia/.local/lib/python3.8/site-packages/sdmetrics/utils.py:67: UserWarning:\n",
      "\n",
      "Unexpected value 0521 Powell Trafficway\n",
      "East Bridgetton, VA 32634 in synthetic data.\n",
      "\n",
      "/home/antonia/.local/lib/python3.8/site-packages/sdmetrics/utils.py:67: UserWarning:\n",
      "\n",
      "Unexpected value 02267 Kirk Cliff Suite 162\n",
      "East Cassandra, AR 47313 in synthetic data.\n",
      "\n",
      "/home/antonia/.local/lib/python3.8/site-packages/sdmetrics/utils.py:67: UserWarning:\n",
      "\n",
      "Unexpected value 2510 King Point\n",
      "West Coryshire, FL 27614 in synthetic data.\n",
      "\n",
      "/home/antonia/.local/lib/python3.8/site-packages/sdmetrics/utils.py:67: UserWarning:\n",
      "\n",
      "Unexpected value 9258 Morris Mountains\n",
      "South Christineshire, NH 63425 in synthetic data.\n",
      "\n",
      "/home/antonia/.local/lib/python3.8/site-packages/sdmetrics/utils.py:67: UserWarning:\n",
      "\n",
      "Unexpected value 648 Tamara Villages Apt. 832\n",
      "Rachelfort, GA 38945 in synthetic data.\n",
      "\n",
      "/home/antonia/.local/lib/python3.8/site-packages/sdmetrics/utils.py:67: UserWarning:\n",
      "\n",
      "Unexpected value 10389 Dennis Tunnel\n",
      "South Andrea, NH 52914 in synthetic data.\n",
      "\n",
      "/home/antonia/.local/lib/python3.8/site-packages/sdmetrics/utils.py:67: UserWarning:\n",
      "\n",
      "Unexpected value 271 Jonathan Land\n",
      "Alvaradobury, KY 39891 in synthetic data.\n",
      "\n",
      "/home/antonia/.local/lib/python3.8/site-packages/sdmetrics/utils.py:67: UserWarning:\n",
      "\n",
      "Unexpected value 2032 Bailey Spurs\n",
      "Erikport, SC 96937 in synthetic data.\n",
      "\n",
      "/home/antonia/.local/lib/python3.8/site-packages/sdmetrics/utils.py:67: UserWarning:\n",
      "\n",
      "Unexpected value 61108 Susan Freeway\n",
      "New Tylershire, MD 55952 in synthetic data.\n",
      "\n",
      "/home/antonia/.local/lib/python3.8/site-packages/sdmetrics/utils.py:67: UserWarning:\n",
      "\n",
      "Unexpected value 6986 Michael Grove\n",
      "New Ashley, AL 77344 in synthetic data.\n",
      "\n",
      "/home/antonia/.local/lib/python3.8/site-packages/sdmetrics/utils.py:67: UserWarning:\n",
      "\n",
      "Unexpected value 778 Willie Rue Suite 165\n",
      "Littleshire, NC 64329 in synthetic data.\n",
      "\n",
      "/home/antonia/.local/lib/python3.8/site-packages/sdmetrics/utils.py:67: UserWarning:\n",
      "\n",
      "Unexpected value 977 Gwendolyn Mills\n",
      "Rebeccastad, ID 83502 in synthetic data.\n",
      "\n",
      "/home/antonia/.local/lib/python3.8/site-packages/sdmetrics/utils.py:67: UserWarning:\n",
      "\n",
      "Unexpected value USNS Monroe\n",
      "FPO AP 17123 in synthetic data.\n",
      "\n",
      "/home/antonia/.local/lib/python3.8/site-packages/sdmetrics/utils.py:67: UserWarning:\n",
      "\n",
      "Unexpected value 901 Amy Radial\n",
      "Elizabethbury, DC 65812 in synthetic data.\n",
      "\n",
      "/home/antonia/.local/lib/python3.8/site-packages/sdmetrics/utils.py:67: UserWarning:\n",
      "\n",
      "Unexpected value 1823 Smith Row Apt. 870\n",
      "West Colleentown, MI 27497 in synthetic data.\n",
      "\n",
      "/home/antonia/.local/lib/python3.8/site-packages/sdmetrics/utils.py:67: UserWarning:\n",
      "\n",
      "Unexpected value 00607 Smith Ferry Apt. 290\n",
      "Samanthamouth, NV 66700 in synthetic data.\n",
      "\n",
      "/home/antonia/.local/lib/python3.8/site-packages/sdmetrics/utils.py:67: UserWarning:\n",
      "\n",
      "Unexpected value 9756 Jesus Loop Apt. 658\n",
      "Lake Elizabeth, WV 77213 in synthetic data.\n",
      "\n",
      "/home/antonia/.local/lib/python3.8/site-packages/sdmetrics/utils.py:67: UserWarning:\n",
      "\n",
      "Unexpected value 237 Sean Fall\n",
      "Kaitlynstad, AR 70062 in synthetic data.\n",
      "\n",
      "/home/antonia/.local/lib/python3.8/site-packages/sdmetrics/utils.py:67: UserWarning:\n",
      "\n",
      "Unexpected value 5233 Brown Lodge Apt. 490\n",
      "Annetteburgh, WY 01264 in synthetic data.\n",
      "\n",
      "/home/antonia/.local/lib/python3.8/site-packages/sdmetrics/utils.py:67: UserWarning:\n",
      "\n",
      "Unexpected value 834 William Park\n",
      "Jessicaton, WI 94913 in synthetic data.\n",
      "\n",
      "/home/antonia/.local/lib/python3.8/site-packages/sdmetrics/utils.py:67: UserWarning:\n",
      "\n",
      "Unexpected value 172 Michele Springs Suite 760\n",
      "Freemanton, ME 66818 in synthetic data.\n",
      "\n",
      "/home/antonia/.local/lib/python3.8/site-packages/sdmetrics/utils.py:67: UserWarning:\n",
      "\n",
      "Unexpected value 3681 Ryan Curve Suite 239\n",
      "North Scott, NM 56707 in synthetic data.\n",
      "\n",
      "/home/antonia/.local/lib/python3.8/site-packages/sdmetrics/utils.py:67: UserWarning:\n",
      "\n",
      "Unexpected value 1321 Bruce Springs Suite 051\n",
      "Charlesview, FL 42126 in synthetic data.\n",
      "\n",
      "/home/antonia/.local/lib/python3.8/site-packages/sdmetrics/utils.py:67: UserWarning:\n",
      "\n",
      "Unexpected value 152 Cody Summit Apt. 607\n",
      "North Cherylland, MT 58788 in synthetic data.\n",
      "\n",
      "/home/antonia/.local/lib/python3.8/site-packages/sdmetrics/utils.py:67: UserWarning:\n",
      "\n",
      "Unexpected value 0869 Jason Groves Suite 156\n",
      "Jenkinsstad, NV 20218 in synthetic data.\n",
      "\n",
      "/home/antonia/.local/lib/python3.8/site-packages/sdmetrics/utils.py:67: UserWarning:\n",
      "\n",
      "Unexpected value 852 Daniel Well\n",
      "Alanchester, SC 56703 in synthetic data.\n",
      "\n",
      "/home/antonia/.local/lib/python3.8/site-packages/sdmetrics/utils.py:67: UserWarning:\n",
      "\n",
      "Unexpected value 63722 Fernandez Summit Suite 482\n",
      "Ericberg, CT 65931 in synthetic data.\n",
      "\n",
      "/home/antonia/.local/lib/python3.8/site-packages/sdmetrics/utils.py:67: UserWarning:\n",
      "\n",
      "Unexpected value 58891 Gutierrez Island Suite 363\n",
      "Karenmouth, NJ 16293 in synthetic data.\n",
      "\n",
      "/home/antonia/.local/lib/python3.8/site-packages/sdmetrics/utils.py:67: UserWarning:\n",
      "\n",
      "Unexpected value 52463 Crystal Creek\n",
      "Port Thomasview, HI 21678 in synthetic data.\n",
      "\n",
      "/home/antonia/.local/lib/python3.8/site-packages/sdmetrics/utils.py:67: UserWarning:\n",
      "\n",
      "Unexpected value 157 Sanders Valley Suite 530\n",
      "Alexanderstad, MS 30239 in synthetic data.\n",
      "\n",
      "/home/antonia/.local/lib/python3.8/site-packages/sdmetrics/utils.py:67: UserWarning:\n",
      "\n",
      "Unexpected value 982 David Skyway Apt. 101\n",
      "Port Amandastad, WV 01972 in synthetic data.\n",
      "\n",
      "/home/antonia/.local/lib/python3.8/site-packages/sdmetrics/utils.py:67: UserWarning:\n",
      "\n",
      "Unexpected value 530 Alexandra Pine\n",
      "Coleville, KS 19525 in synthetic data.\n",
      "\n",
      "/home/antonia/.local/lib/python3.8/site-packages/sdmetrics/utils.py:67: UserWarning:\n",
      "\n",
      "Unexpected value 7466 Tiffany Shores Apt. 812\n",
      "Anthonyville, ME 43907 in synthetic data.\n",
      "\n",
      "/home/antonia/.local/lib/python3.8/site-packages/sdmetrics/utils.py:67: UserWarning:\n",
      "\n",
      "Unexpected value 5039 Jackson Pass\n",
      "Lake John, ND 01507 in synthetic data.\n",
      "\n",
      "/home/antonia/.local/lib/python3.8/site-packages/sdmetrics/utils.py:67: UserWarning:\n",
      "\n",
      "Unexpected value 091 Bruce Neck\n",
      "Woodshaven, TN 08251 in synthetic data.\n",
      "\n",
      "/home/antonia/.local/lib/python3.8/site-packages/sdmetrics/utils.py:67: UserWarning:\n",
      "\n",
      "Unexpected value 275 Hendrix Walk Suite 533\n",
      "South Williestad, UT 49225 in synthetic data.\n",
      "\n",
      "/home/antonia/.local/lib/python3.8/site-packages/sdmetrics/utils.py:67: UserWarning:\n",
      "\n",
      "Unexpected value 85117 Rebecca Plains\n",
      "Christophershire, WY 86477 in synthetic data.\n",
      "\n",
      "/home/antonia/.local/lib/python3.8/site-packages/sdmetrics/utils.py:67: UserWarning:\n",
      "\n",
      "Unexpected value 862 Michael Park\n",
      "Castrobury, MI 52180 in synthetic data.\n",
      "\n",
      "/home/antonia/.local/lib/python3.8/site-packages/sdmetrics/utils.py:67: UserWarning:\n",
      "\n",
      "Unexpected value 6641 Peter Islands\n",
      "Roseberg, TN 79371 in synthetic data.\n",
      "\n",
      "/home/antonia/.local/lib/python3.8/site-packages/sdmetrics/utils.py:67: UserWarning:\n",
      "\n",
      "Unexpected value 0222 Elizabeth Village Apt. 517\n",
      "West Lindsey, SC 38700 in synthetic data.\n",
      "\n",
      "/home/antonia/.local/lib/python3.8/site-packages/sdmetrics/utils.py:67: UserWarning:\n",
      "\n",
      "Unexpected value 8321 Tiffany Center Apt. 019\n",
      "Port Tammy, DC 58689 in synthetic data.\n",
      "\n",
      "/home/antonia/.local/lib/python3.8/site-packages/sdmetrics/utils.py:67: UserWarning:\n",
      "\n",
      "Unexpected value USS Brown\n",
      "FPO AE 48578 in synthetic data.\n",
      "\n",
      "/home/antonia/.local/lib/python3.8/site-packages/sdmetrics/utils.py:67: UserWarning:\n",
      "\n",
      "Unexpected value 14832 Scott Green\n",
      "Lake Heatherstad, NM 18572 in synthetic data.\n",
      "\n",
      "/home/antonia/.local/lib/python3.8/site-packages/sdmetrics/utils.py:67: UserWarning:\n",
      "\n",
      "Unexpected value 11943 Robertson Estate\n",
      "Port Meganland, UT 76675 in synthetic data.\n",
      "\n",
      "/home/antonia/.local/lib/python3.8/site-packages/sdmetrics/utils.py:67: UserWarning:\n",
      "\n",
      "Unexpected value 8491 Hughes Trace\n",
      "South Chadtown, TX 91569 in synthetic data.\n",
      "\n",
      "/home/antonia/.local/lib/python3.8/site-packages/sdmetrics/utils.py:67: UserWarning:\n",
      "\n",
      "Unexpected value 33685 Jessica Forest Suite 816\n",
      "Kempside, KY 78792 in synthetic data.\n",
      "\n",
      "/home/antonia/.local/lib/python3.8/site-packages/sdmetrics/utils.py:67: UserWarning:\n",
      "\n",
      "Unexpected value 84513 Tim Village Suite 760\n",
      "East Janet, IN 08755 in synthetic data.\n",
      "\n",
      "/home/antonia/.local/lib/python3.8/site-packages/sdmetrics/utils.py:67: UserWarning:\n",
      "\n",
      "Unexpected value 061 Charles Inlet\n",
      "Kathrynbury, MN 27700 in synthetic data.\n",
      "\n",
      "/home/antonia/.local/lib/python3.8/site-packages/sdmetrics/utils.py:67: UserWarning:\n",
      "\n",
      "Unexpected value 1396 Erica Wells\n",
      "Scottville, NJ 78217 in synthetic data.\n",
      "\n",
      "/home/antonia/.local/lib/python3.8/site-packages/sdmetrics/utils.py:67: UserWarning:\n",
      "\n",
      "Unexpected value 7074 Underwood Square Suite 814\n",
      "Dukeville, SC 02125 in synthetic data.\n",
      "\n",
      "/home/antonia/.local/lib/python3.8/site-packages/sdmetrics/utils.py:67: UserWarning:\n",
      "\n",
      "Unexpected value 498 Craig Inlet\n",
      "Austinview, MS 88481 in synthetic data.\n",
      "\n",
      "/home/antonia/.local/lib/python3.8/site-packages/sdmetrics/utils.py:67: UserWarning:\n",
      "\n",
      "Unexpected value 7723 Byrd Motorway Suite 221\n",
      "North Terrence, PA 01330 in synthetic data.\n",
      "\n",
      "/home/antonia/.local/lib/python3.8/site-packages/sdmetrics/utils.py:67: UserWarning:\n",
      "\n",
      "Unexpected value 2216 Colton Forest\n",
      "Lisaborough, NV 89586 in synthetic data.\n",
      "\n",
      "/home/antonia/.local/lib/python3.8/site-packages/sdmetrics/utils.py:67: UserWarning:\n",
      "\n",
      "Unexpected value PSC 4986, Box 0981\n",
      "APO AE 79986 in synthetic data.\n",
      "\n",
      "/home/antonia/.local/lib/python3.8/site-packages/sdmetrics/utils.py:67: UserWarning:\n",
      "\n",
      "Unexpected value 5589 Joshua Trafficway\n",
      "Gomezmouth, AK 15113 in synthetic data.\n",
      "\n",
      "/home/antonia/.local/lib/python3.8/site-packages/sdmetrics/utils.py:67: UserWarning:\n",
      "\n",
      "Unexpected value 293 Julie Trafficway\n",
      "West Alicia, NM 77994 in synthetic data.\n",
      "\n",
      "/home/antonia/.local/lib/python3.8/site-packages/sdmetrics/utils.py:67: UserWarning:\n",
      "\n",
      "Unexpected value USS Cannon\n",
      "FPO AA 25661 in synthetic data.\n",
      "\n",
      "/home/antonia/.local/lib/python3.8/site-packages/sdmetrics/utils.py:67: UserWarning:\n",
      "\n",
      "Unexpected value USS Chavez\n",
      "FPO AP 84550 in synthetic data.\n",
      "\n",
      "/home/antonia/.local/lib/python3.8/site-packages/sdmetrics/utils.py:67: UserWarning:\n",
      "\n",
      "Unexpected value 08265 Wilkins Circle\n",
      "North Andrew, NJ 10061 in synthetic data.\n",
      "\n",
      "/home/antonia/.local/lib/python3.8/site-packages/sdmetrics/utils.py:67: UserWarning:\n",
      "\n",
      "Unexpected value 073 Marcus Brook Suite 492\n",
      "New Claudiaside, VA 72591 in synthetic data.\n",
      "\n",
      "/home/antonia/.local/lib/python3.8/site-packages/sdmetrics/utils.py:67: UserWarning:\n",
      "\n",
      "Unexpected value 03174 Martin Drives Suite 274\n",
      "Michaeltown, ME 68952 in synthetic data.\n",
      "\n",
      "/home/antonia/.local/lib/python3.8/site-packages/sdmetrics/utils.py:67: UserWarning:\n",
      "\n",
      "Unexpected value 62728 Hicks Plain\n",
      "Jenniferville, MD 83424 in synthetic data.\n",
      "\n",
      "/home/antonia/.local/lib/python3.8/site-packages/sdmetrics/utils.py:67: UserWarning:\n",
      "\n",
      "Unexpected value 72966 Jeremy Vista\n",
      "Tonyton, SD 03294 in synthetic data.\n",
      "\n",
      "/home/antonia/.local/lib/python3.8/site-packages/sdmetrics/utils.py:67: UserWarning:\n",
      "\n",
      "Unexpected value 91034 Santiago Hollow Apt. 217\n",
      "New Kevin, VT 41122 in synthetic data.\n",
      "\n",
      "/home/antonia/.local/lib/python3.8/site-packages/sdmetrics/utils.py:67: UserWarning:\n",
      "\n",
      "Unexpected value 80320 Martin Crescent Apt. 469\n",
      "Port Christine, KY 07457 in synthetic data.\n",
      "\n",
      "/home/antonia/.local/lib/python3.8/site-packages/sdmetrics/utils.py:67: UserWarning:\n",
      "\n",
      "Unexpected value 1288 Kimberly Pass Suite 175\n",
      "Garciaton, IA 74442 in synthetic data.\n",
      "\n",
      "/home/antonia/.local/lib/python3.8/site-packages/sdmetrics/utils.py:67: UserWarning:\n",
      "\n",
      "Unexpected value 80417 Clay Views\n",
      "Lake Lisaborough, TN 26051 in synthetic data.\n",
      "\n",
      "/home/antonia/.local/lib/python3.8/site-packages/sdmetrics/utils.py:67: UserWarning:\n",
      "\n",
      "Unexpected value 2147 Shirley Courts\n",
      "South Tyler, RI 82074 in synthetic data.\n",
      "\n",
      "/home/antonia/.local/lib/python3.8/site-packages/sdmetrics/utils.py:67: UserWarning:\n",
      "\n",
      "Unexpected value Unit 6423 Box 7820\n",
      "DPO AA 22926 in synthetic data.\n",
      "\n",
      "/home/antonia/.local/lib/python3.8/site-packages/sdmetrics/utils.py:67: UserWarning:\n",
      "\n",
      "Unexpected value 44669 Robinson Pass\n",
      "Frankhaven, OH 28811 in synthetic data.\n",
      "\n",
      "/home/antonia/.local/lib/python3.8/site-packages/sdmetrics/utils.py:67: UserWarning:\n",
      "\n",
      "Unexpected value 404 William Drive Apt. 496\n",
      "Williehaven, IN 06032 in synthetic data.\n",
      "\n",
      "/home/antonia/.local/lib/python3.8/site-packages/sdmetrics/utils.py:67: UserWarning:\n",
      "\n",
      "Unexpected value 3296 Manuel Skyway Apt. 892\n",
      "Cynthiaville, ND 99258 in synthetic data.\n",
      "\n",
      "/home/antonia/.local/lib/python3.8/site-packages/sdmetrics/utils.py:67: UserWarning:\n",
      "\n",
      "Unexpected value USNS Conway\n",
      "FPO AE 09168 in synthetic data.\n",
      "\n",
      "/home/antonia/.local/lib/python3.8/site-packages/sdmetrics/utils.py:67: UserWarning:\n",
      "\n",
      "Unexpected value 9895 Brooks Ford\n",
      "Port Grant, UT 33492 in synthetic data.\n",
      "\n",
      "/home/antonia/.local/lib/python3.8/site-packages/sdmetrics/utils.py:67: UserWarning:\n",
      "\n",
      "Unexpected value 38505 Jessica Turnpike Suite 662\n",
      "South Roseport, DE 39507 in synthetic data.\n",
      "\n",
      "Creating report: 100%|██████████| 4/4 [00:42<00:00, 10.61s/it]\n",
      "Creating report:   0%|          | 0/4 [00:00<?, ?it/s]"
     ]
    },
    {
     "name": "stdout",
     "output_type": "stream",
     "text": [
      "\n",
      "Overall Quality Score: 15.28%\n",
      "\n",
      "Properties:\n",
      "Column Shapes: 30.41%\n",
      "Column Pair Trends: 0.16%\n"
     ]
    },
    {
     "name": "stderr",
     "output_type": "stream",
     "text": [
      "Creating report: 100%|██████████| 4/4 [00:00<00:00,  5.18it/s]"
     ]
    },
    {
     "name": "stdout",
     "output_type": "stream",
     "text": [
      "\n",
      "DiagnosticResults:\n",
      "\n",
      "SUCCESS:\n",
      "✓ Over 90% of the synthetic rows are not copies of the real data\n",
      "\n",
      "DANGER:\n",
      "x The synthetic data is missing more than 50% of the categories present in the real data\n"
     ]
    },
    {
     "name": "stderr",
     "output_type": "stream",
     "text": [
      "\n"
     ]
    }
   ],
   "source": [
    "# vergleich neue daten reports\n",
    "my_report_an = QualityReport()\n",
    "my_report_an.generate(real_data, new_data_an, metadata_coltypes)\n",
    "dg_report_an = DiagnosticReport()\n",
    "dg_report_an.generate(real_data, new_data_an, metadata_coltypes)\n"
   ]
  },
  {
   "cell_type": "code",
   "execution_count": 35,
   "metadata": {},
   "outputs": [
    {
     "name": "stdout",
     "output_type": "stream",
     "text": [
      "0.18680000000000047\n",
      "             Property     Score\n",
      "0       Column Shapes  0.371182\n",
      "1  Column Pair Trends  0.002418\n",
      "{'SUCCESS': ['Over 90% of the synthetic rows are not copies of the real data'], 'WARNING': [], 'DANGER': ['The synthetic data is missing more than 50% of the categories present in the real data']}\n",
      "0.15284548624562544\n",
      "             Property     Score\n",
      "0       Column Shapes  0.304091\n",
      "1  Column Pair Trends  0.001600\n",
      "{'SUCCESS': ['Over 90% of the synthetic rows are not copies of the real data'], 'WARNING': [], 'DANGER': ['The synthetic data is missing more than 50% of the categories present in the real data']}\n"
     ]
    }
   ],
   "source": [
    "print(my_report.get_score())\n",
    "print(my_report.get_properties())\n",
    "print(dg_report.get_results())\n",
    "\n",
    "print(my_report_an.get_score())\n",
    "print(my_report_an.get_properties())\n",
    "print(dg_report_an.get_results())\n",
    "# zeigen wie scores bei categories sich verschlechtern -> trotzdem gibt es eine verteilung von namen? -> zumindest vergleich mails and und namen!\n",
    "# -> formel für email definieren?\n"
   ]
  },
  {
   "cell_type": "code",
   "execution_count": null,
   "metadata": {},
   "outputs": [],
   "source": [
    "# erwähnen das anpassen von hyperparameter möglich ist -> aber nicht showcasen\n",
    "# conditional sampling erklären in einfach und wozu gut!\n",
    "# untershciede zu copulas und andere generierungsfunktion dazu erklären\n",
    "\n",
    "# andere daten suchen mit conditions (categories)\n",
    "# hinweis to gaussian copula -> conditional sampling besser handeln -> aufnehmen in mind map\n",
    "\n"
   ]
  },
  {
   "cell_type": "code",
   "execution_count": 36,
   "metadata": {},
   "outputs": [
    {
     "name": "stderr",
     "output_type": "stream",
     "text": [
      "Sampling rows: 100%|██████████| 200/200 [00:00<00:00, 2875.43it/s]\n"
     ]
    }
   ],
   "source": [
    "# handling constraints für zB Email -> oder andere beispiele:\n",
    "from sdv.constraints import FixedCombinations\n",
    "\n",
    "fixed_city_county_constraint = FixedCombinations(column_names=['city', 'county'])\n",
    "constraints = [\n",
    "    fixed_city_county_constraint\n",
    "]\n",
    "\n",
    "# update:\n",
    "model_c = CTGAN(constraints = [\n",
    "    fixed_city_county_constraint\n",
    "    ], \n",
    "    #anonymize_fields={\n",
    "    #    'last_name': 'last_name', # name -> full person name -> aus faker seite feststellen es gibt auch last und first name -> auch female male nonbinary names etc\n",
    "    #    'address': 'address'\n",
    "    #    # maby use nonbinary firstname für die ertsen namen..\n",
    "    #    \n",
    "    #}\n",
    "    )\n",
    "model_c.fit(example_df,\n",
    "             )\n",
    "new_data_an = model_c.sample(num_rows=200)"
   ]
  },
  {
   "cell_type": "code",
   "execution_count": 46,
   "metadata": {},
   "outputs": [
    {
     "name": "stdout",
     "output_type": "stream",
     "text": [
      "{'Speke-Garston Ward', 'Murdostoun Ward', 'Maybury and Sheerwater Ward', 'Addlestone Bourneside Ward', 'Renfrew South & Gallowhill War', 'Springfields and Trent Vale Wa', 'Lamport', 'New Milton', 'Hylands Ward', 'Cotham Ward', 'Gweek', 'Patching Hall Ward', 'Central Buchan Ward', 'Parr Ward', 'Boothen and Oak Hill Ward', 'Bishop Auckland', 'Astley Bridge Ward', 'Acton Trussell and Bednall', 'Wilsden', 'Longford Ward', 'Eccleshall', 'Yalding', 'Franche Ward', 'Hetton', 'Abbey Ward', 'Frimley Green Ward', 'Bulwell Ward', 'Little Parndon and Hare Street', 'Batchwood Ward', 'Selston', 'Windle Ward', 'Hollington Ward', 'Edmonton Green Ward', 'Wollaton West Ward', 'Iwade', 'Govan Ward', 'Bodmin', 'Aveton Gifford', 'Tanworth-in-Arden', 'Little Hereford', 'Redlands Ward', 'Walcot Ward', 'Hartshill', 'Hamilton South Ward', 'Shiney Row Ward', 'Southey Ward', 'North Horsham', 'Cleator Moor', 'Moulsham and Central Ward', 'Fareham South Ward', 'St. Stephens Ward', 'Meads Ward', 'Nonington', 'Market Rasen', 'Temple Newsam Ward', 'Brimpton', 'Coleshill', 'Girvan and South Carrick Ward', 'Ballochmyle Ward', 'Pontefract North Ward', 'Callington', 'Portobello', 'Saint Annes on the Sea', 'St. Michaels and Wicksteed War', 'Great Barr with Yew Tree Ward', 'Abingdon on Thames', 'Aldborough Ward', 'Bargate Ward', 'Longhill Ward', 'Read', 'Sutton cum Duckmanton', 'Twickenham Riverside Ward', 'Farnworth Ward', 'Aldbrough', 'Broxburn, Uphall and Winchburg', 'Loughborough Hastings Ward', 'Royal Hospital Ward', 'Berkhamsted', 'Hatton', 'Tadworth and Walton Ward', 'Llantrisant Community', 'Madeley', 'Dormers Wells Ward', 'Springfield Ward', 'Corporation Park Ward', 'Loundsley Green Ward', 'Great Dunmow', 'Sutton Vesey Ward', 'Chorlton Park Ward', 'St. Gluvias', 'Crowle and Ealand', 'Little Missenden', 'Woodhouse Ward', 'Wilmington', 'Rhos-on-Sea Community', 'Wombourne', 'Sutton Trinity Ward', 'Shiphay-with-the-Willows Ward', 'Northwood Ward', 'Kirk Hammerton', 'North Heywood Ward', 'Daybrook Ward', 'Prestatyn Community', 'Tibberton', 'Laindon Park Ward', 'Manor Castle Ward', 'Hyde Werneth Ward', 'Smallbridge and Firgrove Ward', 'Caversham Ward', 'Canning Town North Ward', 'Westgate Ward', 'Parwich', 'Shard End Ward', 'Cyfarthfa Community', 'Hartburn Ward', 'Barnfield Ward', 'Crompton Ward', 'Old Newton with Dagworth', 'Stokenham', 'Darnall Ward', 'Almond Ward', 'Knightsbridge and Belgravia Wa', 'Colnbrook with Poyle', 'Markhouse Ward', 'Town Ward', 'Staple Hill Ward', 'Midway Ward', 'Woodstock Ward', 'Stannington Ward', 'Rowley Ward', 'Holbrook Ward', 'Priory Heath Ward', 'Warwick', 'Neilston, Uplawmoor and Newton', 'Kilmersdon', 'Darton West Ward', 'Audley Ward', 'Plymstock Dunstone Ward', 'Grovehill Ward', 'Kinross-shire Ward', 'Werrington South Ward', 'Castle Ward', 'Whitley Ward', 'Dingwall and Seaforth Ward', 'Ruddington', 'Central Ward', 'Upper Rawcliffe-with-Tarnacre', 'Warham', 'Penge and Cator Ward', 'Radcliffe West Ward', 'Deepdale Ward', 'Penmaenmawr Community', 'Harrow Weald Ward', 'Wakefield North Ward', 'Kirkintilloch East and Twechar', 'Fawley'}\n",
      "156\n"
     ]
    },
    {
     "data": {
      "text/plain": [
       "(0, 2)"
      ]
     },
     "execution_count": 46,
     "metadata": {},
     "output_type": "execute_result"
    }
   ],
   "source": [
    "# hat nicht funktioniert ... nochmal probieren\n",
    "common_values_city = set(example_df['city'].values).intersection(set(new_data_an['city'].values))\n",
    "print(common_values_city)\n",
    "print(len(common_values_city)) # success\n",
    "_combination_overlap = pd.merge(new_data_an[['city', 'county']], new_data[['city', 'county']], on=['city', 'county'], how='inner') \n",
    "_combination_overlap.shape"
   ]
  },
  {
   "cell_type": "code",
   "execution_count": 48,
   "metadata": {},
   "outputs": [
    {
     "name": "stdout",
     "output_type": "stream",
     "text": [
      "    first_name last_name            company_name                 address  \\\n",
      "147  Francisca   Nahmias  Matt Parrott & Sons Co  99 College St South #1   \n",
      "\n",
      "                   city         county    postal        phone1        phone2  \\\n",
      "147  Speke-Garston Ward  County Durham  BA13 3QU  01964-503521  01567-215689   \n",
      "\n",
      "                      email                                web  \n",
      "147  elsa_delisle@gmail.com  http://www.kennedyscalesinc.co.uk  \n",
      "   first_name last_name      company_name         address                city  \\\n",
      "57  Margarita     Heier  Smith & Dekay Ps  476 Starkie St  Speke-Garston Ward   \n",
      "\n",
      "        county    postal        phone1        phone2  \\\n",
      "57  Merseyside  TN23 4GF  01630-202053  01221-177854   \n",
      "\n",
      "                        email                                     web  \n",
      "57  cherelle_sorrel@gmail.com  http://www.mitchellsillimancoinc.co.uk  \n"
     ]
    }
   ],
   "source": [
    "print(new_data.loc[new_data['city'] == 'Speke-Garston Ward'])\n",
    "print(new_data_an.loc[new_data_an['city'] == 'Speke-Garston Ward'])"
   ]
  },
  {
   "cell_type": "code",
   "execution_count": 38,
   "metadata": {},
   "outputs": [
    {
     "data": {
      "text/html": [
       "<div>\n",
       "<style scoped>\n",
       "    .dataframe tbody tr th:only-of-type {\n",
       "        vertical-align: middle;\n",
       "    }\n",
       "\n",
       "    .dataframe tbody tr th {\n",
       "        vertical-align: top;\n",
       "    }\n",
       "\n",
       "    .dataframe thead th {\n",
       "        text-align: right;\n",
       "    }\n",
       "</style>\n",
       "<table border=\"1\" class=\"dataframe\">\n",
       "  <thead>\n",
       "    <tr style=\"text-align: right;\">\n",
       "      <th></th>\n",
       "      <th>city</th>\n",
       "      <th>county</th>\n",
       "    </tr>\n",
       "  </thead>\n",
       "  <tbody>\n",
       "    <tr>\n",
       "      <th>0</th>\n",
       "      <td>Foleshill Ward</td>\n",
       "      <td>Stirling</td>\n",
       "    </tr>\n",
       "    <tr>\n",
       "      <th>1</th>\n",
       "      <td>Newquay</td>\n",
       "      <td>Cumbria</td>\n",
       "    </tr>\n",
       "    <tr>\n",
       "      <th>2</th>\n",
       "      <td>Tiffield</td>\n",
       "      <td>Buckinghamshire</td>\n",
       "    </tr>\n",
       "    <tr>\n",
       "      <th>3</th>\n",
       "      <td>Ravenshead</td>\n",
       "      <td>South Gloucestershire</td>\n",
       "    </tr>\n",
       "    <tr>\n",
       "      <th>4</th>\n",
       "      <td>Corporation Park Ward</td>\n",
       "      <td>Derbyshire</td>\n",
       "    </tr>\n",
       "    <tr>\n",
       "      <th>...</th>\n",
       "      <td>...</td>\n",
       "      <td>...</td>\n",
       "    </tr>\n",
       "    <tr>\n",
       "      <th>195</th>\n",
       "      <td>Hexham</td>\n",
       "      <td>Surrey</td>\n",
       "    </tr>\n",
       "    <tr>\n",
       "      <th>196</th>\n",
       "      <td>Neilston, Uplawmoor and Newton</td>\n",
       "      <td>Buckinghamshire</td>\n",
       "    </tr>\n",
       "    <tr>\n",
       "      <th>197</th>\n",
       "      <td>Everton Ward</td>\n",
       "      <td>Greater London</td>\n",
       "    </tr>\n",
       "    <tr>\n",
       "      <th>198</th>\n",
       "      <td>Holbrook</td>\n",
       "      <td>Suffolk</td>\n",
       "    </tr>\n",
       "    <tr>\n",
       "      <th>199</th>\n",
       "      <td>Sunningdale</td>\n",
       "      <td>Brighton and Hove</td>\n",
       "    </tr>\n",
       "  </tbody>\n",
       "</table>\n",
       "<p>200 rows × 2 columns</p>\n",
       "</div>"
      ],
      "text/plain": [
       "                               city                 county\n",
       "0                    Foleshill Ward               Stirling\n",
       "1                           Newquay                Cumbria\n",
       "2                          Tiffield        Buckinghamshire\n",
       "3                        Ravenshead  South Gloucestershire\n",
       "4             Corporation Park Ward             Derbyshire\n",
       "..                              ...                    ...\n",
       "195                          Hexham                 Surrey\n",
       "196  Neilston, Uplawmoor and Newton        Buckinghamshire\n",
       "197                    Everton Ward         Greater London\n",
       "198                        Holbrook                Suffolk\n",
       "199                     Sunningdale      Brighton and Hove\n",
       "\n",
       "[200 rows x 2 columns]"
      ]
     },
     "execution_count": 38,
     "metadata": {},
     "output_type": "execute_result"
    }
   ],
   "source": [
    "new_data[['city', 'county']]"
   ]
  }
 ],
 "metadata": {
  "kernelspec": {
   "display_name": "Python 3 (ipykernel)",
   "language": "python",
   "name": "python3"
  },
  "language_info": {
   "codemirror_mode": {
    "name": "ipython",
    "version": 3
   },
   "file_extension": ".py",
   "mimetype": "text/x-python",
   "name": "python",
   "nbconvert_exporter": "python",
   "pygments_lexer": "ipython3",
   "version": "3.10.10"
  },
  "orig_nbformat": 4
 },
 "nbformat": 4,
 "nbformat_minor": 2
}
