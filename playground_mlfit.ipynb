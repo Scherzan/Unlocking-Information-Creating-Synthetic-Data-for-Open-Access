{
 "cells": [
  {
   "cell_type": "code",
   "execution_count": 9,
   "metadata": {},
   "outputs": [
    {
     "name": "stdout",
     "output_type": "stream",
     "text": [
      "(782, 11)\n"
     ]
    },
    {
     "data": {
      "text/html": [
       "<div>\n",
       "<style scoped>\n",
       "    .dataframe tbody tr th:only-of-type {\n",
       "        vertical-align: middle;\n",
       "    }\n",
       "\n",
       "    .dataframe tbody tr th {\n",
       "        vertical-align: top;\n",
       "    }\n",
       "\n",
       "    .dataframe thead th {\n",
       "        text-align: right;\n",
       "    }\n",
       "</style>\n",
       "<table border=\"1\" class=\"dataframe\">\n",
       "  <thead>\n",
       "    <tr style=\"text-align: right;\">\n",
       "      <th></th>\n",
       "      <th>ID</th>\n",
       "      <th>Age</th>\n",
       "      <th>BMI</th>\n",
       "      <th>Sex</th>\n",
       "      <th>Height</th>\n",
       "      <th>Weight</th>\n",
       "      <th>Length_of_Stay</th>\n",
       "      <th>Management</th>\n",
       "      <th>Severity</th>\n",
       "      <th>Alvarado_Score</th>\n",
       "      <th>Paedriatic_Appendicitis_Score</th>\n",
       "    </tr>\n",
       "  </thead>\n",
       "  <tbody>\n",
       "    <tr>\n",
       "      <th>0</th>\n",
       "      <td>7898</td>\n",
       "      <td>12.68</td>\n",
       "      <td>16.9</td>\n",
       "      <td>female</td>\n",
       "      <td>148.0</td>\n",
       "      <td>37.0</td>\n",
       "      <td>3.0</td>\n",
       "      <td>conservative</td>\n",
       "      <td>uncomplicated</td>\n",
       "      <td>4.0</td>\n",
       "      <td>3.0</td>\n",
       "    </tr>\n",
       "    <tr>\n",
       "      <th>1</th>\n",
       "      <td>6952</td>\n",
       "      <td>14.10</td>\n",
       "      <td>31.9</td>\n",
       "      <td>male</td>\n",
       "      <td>147.0</td>\n",
       "      <td>69.5</td>\n",
       "      <td>2.0</td>\n",
       "      <td>conservative</td>\n",
       "      <td>uncomplicated</td>\n",
       "      <td>5.0</td>\n",
       "      <td>4.0</td>\n",
       "    </tr>\n",
       "    <tr>\n",
       "      <th>2</th>\n",
       "      <td>7909</td>\n",
       "      <td>14.14</td>\n",
       "      <td>23.3</td>\n",
       "      <td>female</td>\n",
       "      <td>163.0</td>\n",
       "      <td>62.0</td>\n",
       "      <td>4.0</td>\n",
       "      <td>conservative</td>\n",
       "      <td>uncomplicated</td>\n",
       "      <td>5.0</td>\n",
       "      <td>3.0</td>\n",
       "    </tr>\n",
       "    <tr>\n",
       "      <th>3</th>\n",
       "      <td>8163</td>\n",
       "      <td>16.37</td>\n",
       "      <td>20.6</td>\n",
       "      <td>female</td>\n",
       "      <td>165.0</td>\n",
       "      <td>56.0</td>\n",
       "      <td>3.0</td>\n",
       "      <td>conservative</td>\n",
       "      <td>uncomplicated</td>\n",
       "      <td>7.0</td>\n",
       "      <td>6.0</td>\n",
       "    </tr>\n",
       "    <tr>\n",
       "      <th>4</th>\n",
       "      <td>1933</td>\n",
       "      <td>11.08</td>\n",
       "      <td>16.9</td>\n",
       "      <td>female</td>\n",
       "      <td>163.0</td>\n",
       "      <td>45.0</td>\n",
       "      <td>3.0</td>\n",
       "      <td>conservative</td>\n",
       "      <td>uncomplicated</td>\n",
       "      <td>5.0</td>\n",
       "      <td>6.0</td>\n",
       "    </tr>\n",
       "    <tr>\n",
       "      <th>5</th>\n",
       "      <td>9959</td>\n",
       "      <td>11.05</td>\n",
       "      <td>30.7</td>\n",
       "      <td>male</td>\n",
       "      <td>121.0</td>\n",
       "      <td>45.0</td>\n",
       "      <td>3.0</td>\n",
       "      <td>conservative</td>\n",
       "      <td>uncomplicated</td>\n",
       "      <td>6.0</td>\n",
       "      <td>7.0</td>\n",
       "    </tr>\n",
       "    <tr>\n",
       "      <th>6</th>\n",
       "      <td>5080</td>\n",
       "      <td>8.98</td>\n",
       "      <td>19.4</td>\n",
       "      <td>female</td>\n",
       "      <td>140.0</td>\n",
       "      <td>38.5</td>\n",
       "      <td>3.0</td>\n",
       "      <td>conservative</td>\n",
       "      <td>uncomplicated</td>\n",
       "      <td>5.0</td>\n",
       "      <td>6.0</td>\n",
       "    </tr>\n",
       "    <tr>\n",
       "      <th>7</th>\n",
       "      <td>4999</td>\n",
       "      <td>7.06</td>\n",
       "      <td>NaN</td>\n",
       "      <td>female</td>\n",
       "      <td>NaN</td>\n",
       "      <td>21.5</td>\n",
       "      <td>2.0</td>\n",
       "      <td>conservative</td>\n",
       "      <td>uncomplicated</td>\n",
       "      <td>3.0</td>\n",
       "      <td>3.0</td>\n",
       "    </tr>\n",
       "    <tr>\n",
       "      <th>8</th>\n",
       "      <td>3608</td>\n",
       "      <td>7.90</td>\n",
       "      <td>15.7</td>\n",
       "      <td>male</td>\n",
       "      <td>131.0</td>\n",
       "      <td>26.7</td>\n",
       "      <td>3.0</td>\n",
       "      <td>conservative</td>\n",
       "      <td>uncomplicated</td>\n",
       "      <td>7.0</td>\n",
       "      <td>6.0</td>\n",
       "    </tr>\n",
       "    <tr>\n",
       "      <th>9</th>\n",
       "      <td>5977</td>\n",
       "      <td>14.34</td>\n",
       "      <td>14.9</td>\n",
       "      <td>male</td>\n",
       "      <td>174.0</td>\n",
       "      <td>45.5</td>\n",
       "      <td>3.0</td>\n",
       "      <td>conservative</td>\n",
       "      <td>uncomplicated</td>\n",
       "      <td>4.0</td>\n",
       "      <td>4.0</td>\n",
       "    </tr>\n",
       "  </tbody>\n",
       "</table>\n",
       "</div>"
      ],
      "text/plain": [
       "     ID    Age   BMI     Sex  Height  Weight  Length_of_Stay    Management  \\\n",
       "0  7898  12.68  16.9  female   148.0    37.0             3.0  conservative   \n",
       "1  6952  14.10  31.9    male   147.0    69.5             2.0  conservative   \n",
       "2  7909  14.14  23.3  female   163.0    62.0             4.0  conservative   \n",
       "3  8163  16.37  20.6  female   165.0    56.0             3.0  conservative   \n",
       "4  1933  11.08  16.9  female   163.0    45.0             3.0  conservative   \n",
       "5  9959  11.05  30.7    male   121.0    45.0             3.0  conservative   \n",
       "6  5080   8.98  19.4  female   140.0    38.5             3.0  conservative   \n",
       "7  4999   7.06   NaN  female     NaN    21.5             2.0  conservative   \n",
       "8  3608   7.90  15.7    male   131.0    26.7             3.0  conservative   \n",
       "9  5977  14.34  14.9    male   174.0    45.5             3.0  conservative   \n",
       "\n",
       "        Severity  Alvarado_Score  Paedriatic_Appendicitis_Score  \n",
       "0  uncomplicated             4.0                            3.0  \n",
       "1  uncomplicated             5.0                            4.0  \n",
       "2  uncomplicated             5.0                            3.0  \n",
       "3  uncomplicated             7.0                            6.0  \n",
       "4  uncomplicated             5.0                            6.0  \n",
       "5  uncomplicated             6.0                            7.0  \n",
       "6  uncomplicated             5.0                            6.0  \n",
       "7  uncomplicated             3.0                            3.0  \n",
       "8  uncomplicated             7.0                            6.0  \n",
       "9  uncomplicated             4.0                            4.0  "
      ]
     },
     "execution_count": 9,
     "metadata": {},
     "output_type": "execute_result"
    }
   ],
   "source": [
    "# überlegen wie daten immer wieder übergebenwerden können von einer page zur anderen\n",
    "# bug fix ID variable metadaten\n",
    "# check lite specification - float and int does not work with fastml\n",
    "import pandas as pd\n",
    "import numpy as np\n",
    "#pip install sdv==1.0.0b1\n",
    "#from sdv.tabular import CTGAN old\n",
    "from sdv.lite import SingleTablePreset\n",
    "\n",
    "rpad_df = pd.read_excel(r'RPAD_data_small.xlsx', engine='openpyxl', )\n",
    "\n",
    "#rpad_df = pd.read_excel(r'RPAD_data.xlsx', engine='openpyxl')\n",
    "print(rpad_df.shape)\n",
    "#print(rpad_df.columns)\n",
    "rpad_df.head(10)"
   ]
  },
  {
   "cell_type": "code",
   "execution_count": 52,
   "metadata": {},
   "outputs": [
    {
     "data": {
      "text/plain": [
       "False"
      ]
     },
     "execution_count": 52,
     "metadata": {},
     "output_type": "execute_result"
    }
   ],
   "source": [
    "#rpad_df = rpad_df[['Age', 'BMI', 'Sex', 'Height', 'Weight',\n",
    "#                          'Length_of_Stay', 'Management', 'Severity',\n",
    "#                          'Alvarado_Score', 'Paedriatic_Appendicitis_Score']]\n",
    "#rpad_df.insert(0, 'ID', list(np.random.permutation(np.arange(1000,9999))[:len(rpad_df)]))\n",
    "#rpad_df.to_excel(r'RPAD_data_small.xlsx', index=False)\n",
    "#print(rpad_df.shape)\n",
    "#rpad_df.head(10)\n",
    "#\n",
    "# work on rounding scheme age\n"
   ]
  },
  {
   "cell_type": "code",
   "execution_count": 54,
   "metadata": {},
   "outputs": [
    {
     "name": "stdout",
     "output_type": "stream",
     "text": [
      "ID                                 int64\n",
      "Age                              float64\n",
      "BMI                              float64\n",
      "Sex                               object\n",
      "Height                           float64\n",
      "Weight                           float64\n",
      "Length_of_Stay                   float64\n",
      "Management                        object\n",
      "Severity                          object\n",
      "Alvarado_Score                   float64\n",
      "Paedriatic_Appendicitis_Score    float64\n",
      "dtype: object\n"
     ]
    }
   ],
   "source": [
    "# in beta Version you can create metadata with from sdv.metadata import SingleTableMetadata (shortly explain how to get to metadata notebook)\n",
    "# still detect default type -> here in this example would create metadata with -> need to adjust/type in what you need per Hand \n",
    "# not using it just show you how its done\n",
    "\n",
    "print(rpad_df.dtypes)\n"
   ]
  },
  {
   "cell_type": "code",
   "execution_count": 10,
   "metadata": {},
   "outputs": [],
   "source": [
    "from sdv.metadata import SingleTableMetadata\n",
    "\n",
    "metadata = SingleTableMetadata()\n",
    "metadata.detect_from_dataframe(data=rpad_df)"
   ]
  },
  {
   "cell_type": "code",
   "execution_count": 11,
   "metadata": {},
   "outputs": [],
   "source": [
    "\n",
    "\n",
    "# inspect waht it did:\n",
    "#python_dict = metadata.to_dict()\n",
    "#print(python_dict) -> not defining sutypes -> we want subtypes -> why?\n",
    "# instead händisch oder updaten:\n",
    "# hide this step until it becomes relevant\n",
    "str_col = ['Sex', 'Management', 'Severity']\n",
    "int_col = ['ID','Length_of_Stay', 'Alvarado_Score', 'Paedriatic_Appendicitis_Score']\n",
    "float_col = ['Age', 'BMI', 'Height', 'Weight']\n",
    "\n",
    "for col in rpad_df:\n",
    "    if col in int_col:\n",
    "        # explain no needed to assign dtypes\n",
    "        metadata.update_column(\n",
    "        column_name=col,\n",
    "        sdtype='numerical',\n",
    "        computer_representation='Int64')\n",
    "    elif col in float_col:\n",
    "        #rpad_df[col] = rpad_df[col].astype('float')\n",
    "        metadata.update_column(\n",
    "        column_name=col,\n",
    "        sdtype='numerical',\n",
    "        computer_representation='Float')\n",
    "\n",
    "\n",
    "\n",
    "\n",
    "\n",
    "#ValueError: cannot convert NA to integer"
   ]
  },
  {
   "cell_type": "code",
   "execution_count": 50,
   "metadata": {},
   "outputs": [
    {
     "name": "stdout",
     "output_type": "stream",
     "text": [
      "{'METADATA_SPEC_VERSION': 'SINGLE_TABLE_V1', 'columns': {'ID': {'sdtype': 'numerical', 'computer_representation': 'Int64'}, 'Age': {'sdtype': 'numerical', 'computer_representation': 'Float'}, 'BMI': {'sdtype': 'numerical', 'computer_representation': 'Float'}, 'Sex': {'sdtype': 'categorical'}, 'Height': {'sdtype': 'numerical', 'computer_representation': 'Float'}, 'Weight': {'sdtype': 'numerical', 'computer_representation': 'Float'}, 'Length_of_Stay': {'sdtype': 'numerical', 'computer_representation': 'Int64'}, 'Management': {'sdtype': 'categorical'}, 'Severity': {'sdtype': 'categorical'}, 'Alvarado_Score': {'sdtype': 'numerical', 'computer_representation': 'Int64'}, 'Paedriatic_Appendicitis_Score': {'sdtype': 'numerical', 'computer_representation': 'Int64'}}}\n"
     ]
    }
   ],
   "source": [
    "python_dict = metadata.to_dict()\n",
    "print(python_dict)"
   ]
  },
  {
   "cell_type": "code",
   "execution_count": 18,
   "metadata": {},
   "outputs": [
    {
     "name": "stdout",
     "output_type": "stream",
     "text": [
      "{'ID': {'type': 'numerical', 'subtype': 'integer'}, 'Age': {'type': 'numerical', 'subtype': 'float'}, 'BMI': {'type': 'numerical', 'subtype': 'float'}, 'Sex': {'type': 'categorical', 'subtype': 'string'}, 'Height': {'type': 'numerical', 'subtype': 'float'}, 'Weight': {'type': 'numerical', 'subtype': 'float'}, 'Length_of_Stay': {'type': 'numerical', 'subtype': 'integer'}, 'Management': {'type': 'categorical', 'subtype': 'string'}, 'Severity': {'type': 'categorical', 'subtype': 'string'}, 'Alvarado_Score': {'type': 'numerical', 'subtype': 'integer'}, 'Paedriatic_Appendicitis_Score': {'type': 'numerical', 'subtype': 'integer'}}\n"
     ]
    }
   ],
   "source": [
    "# Alternative händisch Metadaten erstellen:\n",
    "\n",
    "\n",
    "#col_types = {}\n",
    "#for col in rpad_df:\n",
    "#    if col in str_col:\n",
    "#        col_types[col] = {\n",
    "#            \"type\": \"categorical\",\n",
    "#            \"subtype\": \"string\" # Explain why\n",
    "#            #\"regex\": \"U_[0-9]{3}\" # Explain why\n",
    "#        }\n",
    "#    elif col in int_col:\n",
    "#        rpad_df[col] = rpad_df[col].astype('Int64') # Int64 because accepts Nan in int columns\n",
    "#        col_types[col] = {\n",
    "#            \"type\": \"numerical\", \n",
    "#            \"subtype\": \"integer\"\n",
    "#        }\n",
    "#    elif col in float_col:\n",
    "#        col_types[col] = {\n",
    "#            \"type\": \"numerical\", \n",
    "#            \"subtype\": \"float\"\n",
    "#        }\n",
    "#print(col_types)\n",
    "#metadata = {'columns': col_types}\n",
    "#str_col_types.update(int_col_types)\n",
    "#print(str_col_types) # only if want to check if dict works properly\n",
    "#print(example_df.dtypes)\n",
    "# wenn sich nichts ändert erwähnen warum wichtig dass dies am anfang passiert -> synthetische Daten erstellt sollten types \n",
    "# richtig sien damit sie auch in den synthetischen daten gleich richtig sind\n",
    "\n",
    "# Alternative 2 Metadtaen mit sdv beta version\n",
    "#from sdv.metadata import MultiTableMetadata\n",
    "\n",
    "#metadata = MultiTableMetadata()\n",
    "\n",
    "#    @staticmethod\n",
    "#    def _learn_rounding_digits(data):\n",
    "#        # check if data has any decimals\n",
    "#        name = data.name\n",
    "#        data = np.array(data)\n",
    "#        roundable_data = data[~(np.isinf(data) | pd.isna(data))]\n",
    "#\n",
    "#        # Doesn't contain numbers\n",
    "#        if len(roundable_data) == 0:\n",
    "#            return None"
   ]
  },
  {
   "cell_type": "code",
   "execution_count": 15,
   "metadata": {},
   "outputs": [],
   "source": [
    "metadata.validate()"
   ]
  },
  {
   "cell_type": "code",
   "execution_count": 12,
   "metadata": {},
   "outputs": [],
   "source": [
    "# metadataen Float angeben udn columns in float umwandeln geht\n",
    "# int angeben aber in float umwandeln geht auch _> use this solution + comment\n",
    "model = SingleTablePreset(\n",
    "    metadata,\n",
    "    name='FAST_ML'\n",
    ")\n",
    "model.fit(data=rpad_df)"
   ]
  },
  {
   "cell_type": "code",
   "execution_count": 13,
   "metadata": {},
   "outputs": [
    {
     "name": "stdout",
     "output_type": "stream",
     "text": [
      "(200, 11)\n",
      "     ID        Age        BMI     Sex      Height     Weight  Length_of_Stay  \\\n",
      "0  4023  15.424431  21.322209    male  179.482793  63.711151        3.517818   \n",
      "1  4303   3.319476  12.626761  female  101.689623   3.960000        5.496928   \n",
      "2  5884   7.682318  12.762798  female  136.352209  18.138139        5.406994   \n",
      "3  3573  12.298750  22.257807  female  138.771172  53.194420        2.766067   \n",
      "4  6157  10.892365  17.783908  female  138.722301  39.688147        3.502063   \n",
      "5  6146  12.707416  16.618935  female  155.199171  38.568844        4.290036   \n",
      "6  7872   9.527102  17.727347  female  139.062743  28.868514        3.360022   \n",
      "7  9503   9.195896  25.084497    male  141.401443  50.480071        1.881566   \n",
      "8  4524  11.799868  21.458904  female  144.171320  51.224091        1.000000   \n",
      "9  2744  14.412228  18.141646  female  156.666661  52.696173        8.534753   \n",
      "\n",
      "         Management       Severity  Alvarado_Score  \\\n",
      "0      conservative  uncomplicated        6.586397   \n",
      "1      conservative  uncomplicated        6.943581   \n",
      "2      conservative  uncomplicated       10.000000   \n",
      "3      conservative  uncomplicated        1.168760   \n",
      "4      conservative  uncomplicated        7.041527   \n",
      "5      conservative  uncomplicated        7.076105   \n",
      "6      conservative  uncomplicated        7.011410   \n",
      "7      conservative  uncomplicated        4.105801   \n",
      "8      conservative  uncomplicated        4.243386   \n",
      "9  primary surgical    complicated        6.711275   \n",
      "\n",
      "   Paedriatic_Appendicitis_Score  \n",
      "0                       5.542242  \n",
      "1                       6.849150  \n",
      "2                       9.841495  \n",
      "3                       2.778005  \n",
      "4                       6.603433  \n",
      "5                       9.069101  \n",
      "6                       4.304747  \n",
      "7                       3.294566  \n",
      "8                       3.464599  \n",
      "9                       5.925534  \n"
     ]
    }
   ],
   "source": [
    "new_data = model.sample(num_rows=200)\n",
    "print(new_data.shape)\n",
    "print(new_data.head(10))"
   ]
  },
  {
   "cell_type": "code",
   "execution_count": 4,
   "metadata": {},
   "outputs": [],
   "source": [
    "#model.save('health_fastml.pkl')\n",
    "model = SingleTablePreset.load('health_fastml.pkl')"
   ]
  },
  {
   "cell_type": "code",
   "execution_count": 6,
   "metadata": {},
   "outputs": [
    {
     "name": "stderr",
     "output_type": "stream",
     "text": [
      "Creating report: 100%|██████████| 4/4 [00:00<00:00, 16.79it/s]\n"
     ]
    },
    {
     "name": "stdout",
     "output_type": "stream",
     "text": [
      "\n",
      "Overall Quality Score: 88.96%\n",
      "\n",
      "Properties:\n",
      "Column Shapes: 88.75%\n",
      "Column Pair Trends: 89.18%\n"
     ]
    }
   ],
   "source": [
    "from sdv.evaluation.single_table import evaluate_quality\n",
    "\n",
    "quality_report = evaluate_quality(\n",
    "    rpad_df,\n",
    "    new_data,\n",
    "    metadata\n",
    ")"
   ]
  },
  {
   "cell_type": "code",
   "execution_count": 7,
   "metadata": {},
   "outputs": [],
   "source": [
    "fig_col_shapes = quality_report.get_visualization('Column Shapes')\n",
    "#fig_col_shapes.write_image(file = 'col_shapes_metadata.png') #Object is a plotly.graph_objects.Figure\n"
   ]
  },
  {
   "cell_type": "code",
   "execution_count": 33,
   "metadata": {},
   "outputs": [],
   "source": [
    "fig_col_pair_trends = quality_report.get_visualization('Column Pair Trends')\n",
    "#fig_col_pair_trends.write_image(file = 'col_pair_trends.png')"
   ]
  },
  {
   "cell_type": "code",
   "execution_count": 8,
   "metadata": {},
   "outputs": [
    {
     "data": {
      "application/vnd.plotly.v1+json": {
       "config": {
        "plotlyServerURL": "https://plot.ly"
       },
       "data": [
        {
         "fill": "tozeroy",
         "hovertemplate": "<b>Real</b><br>Value: %{x}<br>Frequency: %{y}<extra></extra>",
         "legendgroup": "Real",
         "marker": {
          "color": "#000036"
         },
         "mode": "lines",
         "name": "Real",
         "showlegend": true,
         "type": "scatter",
         "x": [
          1,
          1.054,
          1.108,
          1.162,
          1.216,
          1.27,
          1.324,
          1.3780000000000001,
          1.432,
          1.486,
          1.54,
          1.5939999999999999,
          1.6480000000000001,
          1.702,
          1.756,
          1.81,
          1.8639999999999999,
          1.9180000000000001,
          1.972,
          2.026,
          2.08,
          2.134,
          2.1879999999999997,
          2.242,
          2.2960000000000003,
          2.35,
          2.404,
          2.458,
          2.512,
          2.566,
          2.62,
          2.674,
          2.7279999999999998,
          2.782,
          2.8360000000000003,
          2.8899999999999997,
          2.944,
          2.998,
          3.052,
          3.106,
          3.16,
          3.214,
          3.268,
          3.322,
          3.376,
          3.43,
          3.484,
          3.538,
          3.592,
          3.646,
          3.7,
          3.754,
          3.808,
          3.862,
          3.916,
          3.97,
          4.024,
          4.077999999999999,
          4.132,
          4.186,
          4.24,
          4.2940000000000005,
          4.348,
          4.402,
          4.4559999999999995,
          4.51,
          4.564,
          4.618,
          4.672000000000001,
          4.726,
          4.779999999999999,
          4.834,
          4.888,
          4.942,
          4.996,
          5.05,
          5.104,
          5.158,
          5.212,
          5.266,
          5.32,
          5.374,
          5.428,
          5.482,
          5.536,
          5.59,
          5.644,
          5.698,
          5.752,
          5.806,
          5.86,
          5.914,
          5.968,
          6.022,
          6.076,
          6.13,
          6.184,
          6.238,
          6.292,
          6.346,
          6.4,
          6.454,
          6.508,
          6.562,
          6.616,
          6.67,
          6.724,
          6.778,
          6.832,
          6.886,
          6.94,
          6.994,
          7.048,
          7.102,
          7.156,
          7.21,
          7.264,
          7.318,
          7.372,
          7.426,
          7.48,
          7.534,
          7.588,
          7.642,
          7.696,
          7.75,
          7.804,
          7.858,
          7.912,
          7.966,
          8.02,
          8.074,
          8.128,
          8.182,
          8.236,
          8.29,
          8.344000000000001,
          8.398,
          8.452,
          8.506,
          8.559999999999999,
          8.614,
          8.668,
          8.722000000000001,
          8.776,
          8.83,
          8.884,
          8.937999999999999,
          8.992,
          9.046,
          9.1,
          9.154,
          9.208,
          9.262,
          9.316,
          9.37,
          9.424,
          9.478,
          9.532,
          9.586,
          9.64,
          9.694,
          9.748,
          9.802,
          9.856,
          9.91,
          9.964,
          10.018,
          10.072,
          10.126,
          10.18,
          10.234,
          10.288,
          10.342,
          10.396,
          10.45,
          10.504,
          10.558,
          10.612,
          10.666,
          10.72,
          10.774,
          10.828,
          10.882,
          10.936,
          10.99,
          11.044,
          11.098,
          11.152,
          11.206,
          11.26,
          11.314,
          11.368,
          11.422,
          11.476,
          11.53,
          11.584,
          11.638,
          11.692,
          11.746,
          11.8,
          11.854,
          11.908,
          11.962,
          12.016,
          12.07,
          12.124,
          12.178,
          12.232,
          12.286,
          12.34,
          12.394,
          12.448,
          12.502,
          12.556,
          12.61,
          12.664,
          12.718,
          12.772,
          12.826,
          12.88,
          12.934,
          12.988,
          13.042,
          13.096,
          13.15,
          13.204,
          13.258,
          13.312,
          13.366,
          13.42,
          13.474,
          13.528,
          13.582,
          13.636,
          13.69,
          13.744,
          13.798,
          13.852,
          13.906,
          13.96,
          14.014,
          14.068,
          14.122,
          14.176,
          14.23,
          14.284,
          14.338,
          14.392,
          14.446,
          14.5,
          14.554,
          14.608,
          14.662,
          14.716,
          14.77,
          14.824,
          14.878,
          14.932,
          14.986,
          15.04,
          15.094,
          15.148,
          15.202,
          15.256,
          15.31,
          15.364,
          15.418,
          15.472,
          15.526,
          15.58,
          15.634,
          15.688,
          15.742,
          15.796,
          15.85,
          15.904,
          15.958,
          16.012,
          16.066000000000003,
          16.119999999999997,
          16.174,
          16.228,
          16.282,
          16.336,
          16.39,
          16.444000000000003,
          16.497999999999998,
          16.552,
          16.606,
          16.66,
          16.714,
          16.768,
          16.822,
          16.875999999999998,
          16.93,
          16.984,
          17.038,
          17.092,
          17.146,
          17.2,
          17.254,
          17.308,
          17.362,
          17.416,
          17.47,
          17.524,
          17.578,
          17.632,
          17.686,
          17.74,
          17.794,
          17.848,
          17.902,
          17.956,
          18.01,
          18.064,
          18.118,
          18.172,
          18.226,
          18.28,
          18.334,
          18.388,
          18.442,
          18.496,
          18.55,
          18.604,
          18.658,
          18.712,
          18.766,
          18.82,
          18.874,
          18.928,
          18.982,
          19.036,
          19.09,
          19.144,
          19.198,
          19.252,
          19.306,
          19.36,
          19.414,
          19.468,
          19.522,
          19.576,
          19.63,
          19.684,
          19.738,
          19.792,
          19.846,
          19.9,
          19.954,
          20.008,
          20.062,
          20.116,
          20.17,
          20.224,
          20.278,
          20.332,
          20.386,
          20.44,
          20.494,
          20.548,
          20.602,
          20.656,
          20.71,
          20.764,
          20.818,
          20.872,
          20.926,
          20.98,
          21.034,
          21.088,
          21.142,
          21.196,
          21.25,
          21.304,
          21.358,
          21.412,
          21.466,
          21.52,
          21.574,
          21.628,
          21.682,
          21.736,
          21.79,
          21.844,
          21.898,
          21.952,
          22.006,
          22.06,
          22.114,
          22.168,
          22.222,
          22.276,
          22.33,
          22.384,
          22.438,
          22.492,
          22.546,
          22.6,
          22.654,
          22.708,
          22.762,
          22.816,
          22.87,
          22.924,
          22.978,
          23.032,
          23.086,
          23.14,
          23.194,
          23.248,
          23.302,
          23.356,
          23.41,
          23.464,
          23.518,
          23.572,
          23.626,
          23.68,
          23.734,
          23.788,
          23.842,
          23.896,
          23.95,
          24.004,
          24.058,
          24.112,
          24.166,
          24.22,
          24.274,
          24.328,
          24.382,
          24.436,
          24.49,
          24.544,
          24.598,
          24.652,
          24.706,
          24.76,
          24.814,
          24.868,
          24.922,
          24.976,
          25.03,
          25.084,
          25.138,
          25.192,
          25.246,
          25.3,
          25.354,
          25.408,
          25.462,
          25.516,
          25.57,
          25.624,
          25.678,
          25.732,
          25.786,
          25.84,
          25.894,
          25.948,
          26.002,
          26.056,
          26.11,
          26.164,
          26.218,
          26.272,
          26.326,
          26.38,
          26.434,
          26.488,
          26.542,
          26.596,
          26.65,
          26.704,
          26.758,
          26.812,
          26.866,
          26.92,
          26.974,
          27.028,
          27.082,
          27.136,
          27.19,
          27.244,
          27.298,
          27.352,
          27.406,
          27.46,
          27.514,
          27.568,
          27.622,
          27.676,
          27.73,
          27.784,
          27.838,
          27.892,
          27.946
         ],
         "xaxis": "x",
         "y": [
          0.027157094046511114,
          0.030439368676949637,
          0.03402727701003056,
          0.03793708017720172,
          0.0421847942658286,
          0.04678614084786768,
          0.0517564807195339,
          0.05711071327245954,
          0.06286312112197964,
          0.069027138144485,
          0.07561501936577845,
          0.08263739356153103,
          0.09010268421758753,
          0.09801639171878902,
          0.10638023914818483,
          0.11519119551298107,
          0.12444040296469644,
          0.13411204783071495,
          0.1441822280320576,
          0.1546178806285105,
          0.16537584168222744,
          0.1764021153081481,
          0.18763142879841707,
          0.19898714544867352,
          0.21038159590785632,
          0.22171687266161397,
          0.23288611122442357,
          0.2437752567735715,
          0.2542652877119545,
          0.26423483970439043,
          0.2735631469875619,
          0.28213319414544696,
          0.28983495289960204,
          0.2965685663500577,
          0.3022473386769285,
          0.30680039221617295,
          0.3101748661066428,
          0.3123375508058144,
          0.31327587953745384,
          0.31299822950435086,
          0.31153352042446397,
          0.30893013335209796,
          0.3052542064972837,
          0.3005873946621515,
          0.2950242030816774,
          0.28866902345058004,
          0.28163300885546716,
          0.2740309249445567,
          0.26597810730407656,
          0.25758764058686706,
          0.24896785484128028,
          0.2402202104412423,
          0.2314376169275204,
          0.22270320485809628,
          0.21408954521425008,
          0.2056582895238861,
          0.1974601867701923,
          0.18953542103460616,
          0.18191420689958335,
          0.17461757769291897,
          0.167658304099163,
          0.16104188661944788,
          0.1547675737765791,
          0.14882936772592162,
          0.14321698898263416,
          0.13791678139339056,
          0.13291254656152449,
          0.1281863032282496,
          0.12371897143497547,
          0.11949098370609938,
          0.11548282626712501,
          0.11167551286547585,
          0.10805099258492083,
          0.10459249164207018,
          0.10128478797383948,
          0.09811441681394337,
          0.0950698056245876,
          0.09214133775893267,
          0.089321346001439,
          0.0866040394695472,
          0.08398536998124655,
          0.08146284657959033,
          0.07903530914231337,
          0.07670267362336618,
          0.07446566228186202,
          0.07232553215917942,
          0.07028381407867576,
          0.0683420726754067,
          0.06650169560744125,
          0.06476371740234059,
          0.06312868062135712,
          0.061596534439360126,
          0.06016656856033917,
          0.058837378773882974,
          0.057606859487720645,
          0.05647221824457653,
          0.05543000747242926,
          0.05447616938948054,
          0.05360609091346149,
          0.05281466641983641,
          0.05209636707699303,
          0.05144531611465411,
          0.05085536966197848,
          0.05032020269309003,
          0.04983339917213985,
          0.049388544786221705,
          0.04897931982411512,
          0.04859958895754992,
          0.04824348406709222,
          0.04790547596488713,
          0.04758043100040806,
          0.04726364913907015,
          0.0469508811624232,
          0.04663832407740911,
          0.04632259551249973,
          0.04600068965293157,
          0.04566991893823659,
          0.045327847126621724,
          0.04497222025943974,
          0.04460090241436426,
          0.04421182285416686,
          0.04380294026094849,
          0.043372228261414875,
          0.042917684525867215,
          0.04243736353797238,
          0.041929430889654104,
          0.04139223486947542,
          0.04082438938387134,
          0.04022486104460838,
          0.039593052687956154,
          0.03892887571410914,
          0.038232804435210634,
          0.03750590701791418,
          0.03674984946691239,
          0.03596687124271749,
          0.03515973334045782,
          0.034331641773609034,
          0.03348615122136836,
          0.03262705495915039,
          0.031758267994935384,
          0.030883710532659148,
          0.030007198488973232,
          0.0291323468678965,
          0.028262490461450254,
          0.027400624738363036,
          0.026549368069223797,
          0.0257109447769346,
          0.02488718704210621,
          0.024079552550916122,
          0.023289154025807206,
          0.02251679646092399,
          0.021763017983565443,
          0.021028130728976066,
          0.02031225886505147,
          0.019615371830995362,
          0.0189373118455097,
          0.018277815684799952,
          0.017636531532089033,
          0.017013032285395174,
          0.016406827035190346,
          0.015817372476001283,
          0.015244085814267075,
          0.014686360323299235,
          0.01414358413897667,
          0.013615162262062606,
          0.013100541112363966,
          0.012599234437902387,
          0.012110848977150193,
          0.011635108044057853,
          0.011171871172604224,
          0.010721148116752401,
          0.010283105830056235,
          0.009858067507900201,
          0.009446503315017838,
          0.009049012987390196,
          0.008666301038017703,
          0.008299145764120807,
          0.007948363613521128,
          0.007614770698119476,
          0.007299143334705119,
          0.007002179453664201,
          0.006724462562004502,
          0.00646642970448264,
          0.0062283445663235,
          0.006010276534802944,
          0.005812086213996091,
          0.00563341759100691,
          0.005473696799414346,
          0.00533213722480552,
          0.005207750548594638,
          0.005099363223719303,
          0.005005637808457783,
          0.004925098539383632,
          0.0048561604883054,
          0.004797161610115641,
          0.004746396941902779,
          0.004702154156459119,
          0.004662749608541688,
          0.004626563947524525,
          0.00459207631633962,
          0.004557896126362265,
          0.004522791403363119,
          0.004485712750813448,
          0.004445812079838295,
          0.00440245541111652,
          0.0043552292586567145,
          0.004303940348887547,
          0.0042486086965823336,
          0.004189454334285362,
          0.00412687825518207,
          0.004061438362320419,
          0.003993821403716253,
          0.003924812001159477,
          0.00385525994369769,
          0.003786046913838988,
          0.00371805375029812,
          0.0036521292355369034,
          0.003589061243259399,
          0.0035295509065680552,
          0.003474190288332939,
          0.0034234438668333516,
          0.003377634004371188,
          0.0033369304526757134,
          0.0033013438700409425,
          0.003270723279824696,
          0.003244757382247149,
          0.0032229796318756724,
          0.0032047770001234076,
          0.003189402343299579,
          0.003175990281090306,
          0.0031635764492553386,
          0.0031511199190087436,
          0.0031375284737278795,
          0.003121686305755421,
          0.003102483550966336,
          0.003078846928864619,
          0.0030497706159499163,
          0.003014346365414818,
          0.0029717918114876532,
          0.0029214758740580896,
          0.0028629402169502694,
          0.0027959158148971887,
          0.002720333848187209,
          0.002636330363069185,
          0.002544244398495418,
          0.0024446095699886708,
          0.002338139401131179,
          0.002225706983147823,
          0.002108319804594192,
          0.0019870908096075693,
          0.0018632069012035793,
          0.0017378961966532016,
          0.0016123953608534458,
          0.0014879182915971932,
          0.001365627313260017,
          0.0012466078622456285,
          0.0011318474313255363,
          0.0010222192955942045,
          0.000918471285843927,
          0.0008212196211765443,
          0.0007309475757416773,
          0.0006480085466094294,
          0.0005726329201952206,
          0.0005049380095274537,
          0.0004449402570090457,
          0.0003925688672035103,
          0.00034768004896186435,
          0.0003100711011166414,
          0.00027949366460754474,
          0.0002556655788306783,
          0.0002382809132810061,
          0.00022701788922326833,
          0.00022154455258268965,
          0.00022152220154989804,
          0.00022660670444875296,
          0.00023644796008317077,
          0.0002506878499252202,
          0.00026895710600362857,
          0.0002908715680577198,
          0.00031602832725549337,
          0.0003440022512941113,
          0.0003743433576907045,
          0.0004065754501330886,
          0.000440196359401797,
          0.00047468003897958676,
          0.0005094806602308172,
          0.000544038737867576,
          0.0005777891987793226,
          0.0006101711919804574,
          0.0006406393302870065,
          0.000668675960994252,
          0.0006938039883541223,
          0.0007155997192256789,
          0.0007337051779045477,
          0.0007478393384420344,
          0.0007578077528162163,
          0.0007635101096111316,
          0.0007649453373851673,
          0.0007622139653325111,
          0.0007555175657905563,
          0.0007451552225743734,
          0.0007315170897156405,
          0.0007150752207982314,
          0.0006963719541304282,
          0.0006760062287986338,
          0.0006546182777015315,
          0.0006328731937791439,
          0.0006114438939959909,
          0.0005909940126559149,
          0.0005721612428616997,
          0.0005555416147715718,
          0.0005416751546777643,
          0.0005310333130021591,
          0.0005240084851796824,
          0.0005209058799029294,
          0.0005219379167083942,
          0.0005272212612602083,
          0.0005367765333040838,
          0.000550530650103256,
          0.0005683216979764832,
          0.0005899061570358227,
          0.0006149682402074561,
          0.0006431310482393906,
          0.0006739691891591613,
          0.0007070224654294064,
          0.0007418101970436958,
          0.0007778457263200261,
          0.0008146506423779669,
          0.0008517682720160879,
          0.0008887760100279384,
          0.0009252961060303561,
          0.0009610045855919891,
          0.000995638058555727,
          0.001028998253445177,
          0.0010609542091898074,
          0.001091442148813726,
          0.0011204631486020477,
          0.0011480787951346836,
          0.0011744050866744472,
          0.001199604881068548,
          0.0012238792174562843,
          0.001247457843345377,
          0.0012705892635717071,
          0.0012935305966051444,
          0.0013165374813880878,
          0.0013398542301732875,
          0.0013637043758471439,
          0.0013882817219053483,
          0.001413741974582879,
          0.0014401950231000883,
          0.001467697937066486,
          0.0014962487690464209,
          0.0015257812821470131,
          0.0015561607622225188,
          0.001587181115322063,
          0.0016185634858571572,
          0.0016499566520383642,
          0.0016809394555752793,
          0.0017110254971554586,
          0.001739670274778725,
          0.0017662808583417276,
          0.0017902280836617664,
          0.0018108611180657438,
          0.00182752410601632,
          0.0018395744572483577,
          0.0018464022029265003,
          0.0018474497289436827,
          0.0018422311103142696,
          0.0018303502254620452,
          0.001811516830144842,
          0.0017855598205570337,
          0.001752437012923851,
          0.0017122409081056357,
          0.001665200086475098,
          0.001611676079975227,
          0.0015521557822499724,
          0.001487239670570241,
          0.001417626311579774,
          0.0013440937944221108,
          0.0012674788693878972,
          0.0011886546604004864,
          0.0011085078612119075,
          0.0010279163172928288,
          0.0009477278405625452,
          0.0008687410077837211,
          0.0007916885635144429,
          0.0007172238945431835,
          0.0006459108752144648,
          0.000578217212571951,
          0.0005145112567497892,
          0.00045506209419643494,
          0.0004000426160262019,
          0.00034953515589729284,
          0.0003035392239628752,
          0.0002619808261467708,
          0.00022472284984209907,
          0.0001915760150942316,
          0.0001623099301742526,
          0.00013666384716742863,
          0.00011435678144684388,
          0.00009509673338712537,
          0.00007858882650811274,
          0.00006454224918933808,
          0.00005267595375999382,
          0.00004272312465892893,
          0.00003443447491423167,
          0.000027580466719523746,
          0.0000219525774518652,
          0.00001736374777121051,
          0.000013648154611291374,
          0.00001066045036589433,
          0.000008274601992911404,
          0.0000063824517230951826,
          0.0000048921061086364485,
          0.0000037262436545492295,
          0.0000028204144075391335,
          0.00000212138855987265,
          0.0000015855960466208613,
          0.0000011776857331738975,
          8.692213637964582e-7,
          6.375220596009138e-7,
          4.6464777059971566e-7,
          3.365245588756487e-7,
          2.422007114347693e-7,
          1.732222096791294e-7,
          1.2311476369677514e-7,
          8.695920633445556e-8,
          6.104730640259512e-8,
          4.26058021154535e-8,
          2.957750654021192e-8,
          2.0449560749114714e-8,
          1.4120203323436088e-8,
          9.796711199020374e-9,
          6.918395711519339e-9,
          5.099678873713167e-9,
          4.0893146788379676e-9,
          3.742757496281721e-9,
          4.005522535301813e-9,
          4.906146260962447e-9,
          6.558055643875218e-9,
          9.170313907574365e-9,
          1.3067846475589909e-8,
          1.8722381705346324e-8,
          2.679598084657204e-8,
          3.819968949893341e-8,
          5.417052086029904e-8,
          7.637067275453309e-8,
          1.0701356863541987e-7,
          1.490219676255537e-7,
          2.062239657274562e-7,
          2.8359314905985797e-7,
          3.8753938268612493e-7,
          5.262566306953631e-7,
          7.101336945678845e-7,
          9.522327052598442e-7,
          0.000001268838481085836,
          0.0000016800793412098117,
          0.0000022106165288285527,
          0.0000028903949607114643,
          0.0000037554425348964256,
          0.000004848698710630113,
          0.000006220845617670002,
          0.000007931106746060505,
          0.000010047969614413903,
          0.000012649780138124996,
          0.000015825148266662946,
          0.00001967309749588843,
          0.00002430288584977927,
          0.000029833423693572896,
          0.00003639221513285873,
          0.000044113755573951336,
          0.00005313732895908334,
          0.00006360416474047351,
          0.00007565393703869138,
          0.00008942061650687041,
          0.00010502771863686084,
          0.00012258302957461676,
          0.0001421729304568456,
          0.00016385648187497703,
          0.00018765946895199606,
          0.00021356864202493964,
          0.00024152641525559135,
          0.00027142630287693725,
          0.00030310937770108203,
          0.0003363620269139266,
          0.00037091525469443127,
          0.00040644573933114466,
          0.0004425787947974643,
          0.00047889331482873956,
          0.0005149286941702061,
          0.0005501936306186582,
          0.0005841766174069018,
          0.0006163578436323919,
          0.0006462221363455966,
          0.0006732725070401006,
          0.0006970438125921854,
          0.0007171160102879147,
          0.0007331264813513178,
          0.0007447809187801776,
          0.0007518623231024822
         ],
         "yaxis": "y"
        },
        {
         "fill": "tozeroy",
         "hovertemplate": "<b>Synthetic</b><br>Value: %{x}<br>Frequency: %{y}<extra></extra>",
         "legendgroup": "Synthetic",
         "marker": {
          "color": "#01E0C9"
         },
         "mode": "lines",
         "name": "Synthetic",
         "showlegend": true,
         "type": "scatter",
         "x": [
          1,
          1.020830277635684,
          1.0416605552713676,
          1.0624908329070515,
          1.0833211105427352,
          1.104151388178419,
          1.124981665814103,
          1.1458119434497869,
          1.1666422210854706,
          1.1874724987211545,
          1.2083027763568381,
          1.229133053992522,
          1.249963331628206,
          1.2707936092638896,
          1.2916238868995735,
          1.3124541645352572,
          1.333284442170941,
          1.354114719806625,
          1.3749449974423087,
          1.3957752750779926,
          1.4166055527136763,
          1.4374358303493602,
          1.458266107985044,
          1.479096385620728,
          1.4999266632564117,
          1.5207569408920953,
          1.5415872185277792,
          1.5624174961634631,
          1.583247773799147,
          1.604078051434831,
          1.6249083290705146,
          1.6457386067061983,
          1.6665688843418822,
          1.6873991619775661,
          1.70822943961325,
          1.7290597172489337,
          1.7498899948846174,
          1.7707202725203013,
          1.7915505501559852,
          1.812380827791669,
          1.8332111054273528,
          1.8540413830630367,
          1.8748716606987204,
          1.8957019383344043,
          1.9165322159700882,
          1.937362493605772,
          1.9581927712414557,
          1.9790230488771394,
          1.9998533265128233,
          2.0206836041485072,
          2.0415138817841907,
          2.062344159419875,
          2.0831744370555585,
          2.1040047146912424,
          2.1248349923269263,
          2.14566526996261,
          2.166495547598294,
          2.1873258252339776,
          2.208156102869662,
          2.2289863805053454,
          2.2498166581410293,
          2.270646935776713,
          2.2914772134123966,
          2.312307491048081,
          2.3331377686837644,
          2.3539680463194483,
          2.3747983239551322,
          2.395628601590816,
          2.4164588792265,
          2.4372891568621835,
          2.4581194344978674,
          2.4789497121335513,
          2.4997799897692348,
          2.520610267404919,
          2.5414405450406026,
          2.5622708226762865,
          2.5831011003119704,
          2.6039313779476543,
          2.624761655583338,
          2.6455919332190216,
          2.6664222108547055,
          2.6872524884903894,
          2.7080827661260733,
          2.7289130437617573,
          2.7497433213974407,
          2.770573599033125,
          2.7914038766688085,
          2.8122341543044924,
          2.8330644319401763,
          2.8538947095758602,
          2.874724987211544,
          2.8955552648472276,
          2.9163855424829115,
          2.9372158201185954,
          2.958046097754279,
          2.978876375389963,
          2.9997066530256467,
          3.0205369306613306,
          3.0413672082970145,
          3.0621974859326984,
          3.083027763568382,
          3.103858041204066,
          3.1246883188397496,
          3.1455185964754335,
          3.1663488741111174,
          3.1871791517468013,
          3.208009429382485,
          3.2288397070181687,
          3.2496699846538526,
          3.2705002622895365,
          3.2913305399252204,
          3.312160817560904,
          3.332991095196588,
          3.3538213728322717,
          3.3746516504679556,
          3.3954819281036395,
          3.4163122057393234,
          3.437142483375007,
          3.4579727610106907,
          3.4788030386463746,
          3.4996333162820585,
          3.5204635939177424,
          3.541293871553426,
          3.5621241491891102,
          3.5829544268247937,
          3.6037847044604776,
          3.6246149820961615,
          3.6454452597318454,
          3.666275537367529,
          3.6871058150032128,
          3.7079360926388967,
          3.7287663702745806,
          3.7495966479102645,
          3.770426925545948,
          3.7912572031816323,
          3.8120874808173157,
          3.8329177584529996,
          3.8537480360886835,
          3.8745783137243675,
          3.895408591360051,
          3.916238868995735,
          3.9370691466314187,
          3.9578994242671026,
          3.9787297019027865,
          3.99955997953847,
          4.020390257174155,
          4.041220534809838,
          4.062050812445522,
          4.082881090081205,
          4.1037113677168895,
          4.124541645352573,
          4.145371922988257,
          4.166202200623941,
          4.187032478259624,
          4.207862755895309,
          4.228693033530992,
          4.249523311166676,
          4.27035358880236,
          4.291183866438043,
          4.312014144073728,
          4.332844421709411,
          4.353674699345095,
          4.374504976980779,
          4.395335254616462,
          4.416165532252147,
          4.436995809887831,
          4.4578260875235145,
          4.478656365159198,
          4.499486642794881,
          4.520316920430566,
          4.54114719806625,
          4.561977475701934,
          4.582807753337617,
          4.6036380309733005,
          4.624468308608985,
          4.645298586244668,
          4.666128863880353,
          4.686959141516036,
          4.7077894191517204,
          4.728619696787404,
          4.749449974423088,
          4.770280252058772,
          4.791110529694455,
          4.811940807330139,
          4.832771084965823,
          4.853601362601507,
          4.874431640237191,
          4.895261917872874,
          4.916092195508558,
          4.936922473144243,
          4.957752750779926,
          4.97858302841561,
          4.999413306051293,
          5.020243583686978,
          5.041073861322661,
          5.061904138958345,
          5.082734416594029,
          5.103564694229712,
          5.124394971865397,
          5.145225249501081,
          5.166055527136764,
          5.186885804772448,
          5.207716082408132,
          5.228546360043815,
          5.249376637679499,
          5.270206915315184,
          5.291037192950867,
          5.3118674705865505,
          5.332697748222235,
          5.353528025857918,
          5.374358303493603,
          5.395188581129286,
          5.41601885876497,
          5.436849136400654,
          5.457679414036337,
          5.478509691672022,
          5.499339969307705,
          5.5201702469433895,
          5.541000524579073,
          5.5618308022147565,
          5.582661079850441,
          5.603491357486125,
          5.624321635121808,
          5.645151912757492,
          5.665982190393176,
          5.686812468028859,
          5.707642745664543,
          5.728473023300228,
          5.749303300935911,
          5.770133578571595,
          5.790963856207279,
          5.811794133842962,
          5.832624411478647,
          5.85345468911433,
          5.874284966750014,
          5.895115244385698,
          5.9159455220213815,
          5.936775799657065,
          5.957606077292749,
          5.978436354928434,
          5.999266632564117,
          6.0200969101998005,
          6.040927187835485,
          6.061757465471169,
          6.082587743106852,
          6.103418020742536,
          6.1242482983782205,
          6.145078576013903,
          6.165908853649587,
          6.186739131285272,
          6.207569408920955,
          6.228399686556639,
          6.249229964192323,
          6.2700602418280065,
          6.290890519463691,
          6.311720797099374,
          6.332551074735058,
          6.353381352370742,
          6.3742116300064255,
          6.395041907642109,
          6.415872185277793,
          6.436702462913478,
          6.457532740549161,
          6.478363018184845,
          6.499193295820529,
          6.520023573456213,
          6.540853851091896,
          6.56168412872758,
          6.582514406363265,
          6.603344683998947,
          6.6241749616346315,
          6.645005239270316,
          6.665835516905999,
          6.686665794541683,
          6.707496072177367,
          6.7283263498130506,
          6.749156627448735,
          6.769986905084418,
          6.790817182720102,
          6.811647460355786,
          6.83247773799147,
          6.853308015627153,
          6.874138293262837,
          6.894968570898522,
          6.915798848534205,
          6.936629126169889,
          6.957459403805573,
          6.978289681441257,
          6.99911995907694,
          7.019950236712624,
          7.040780514348309,
          7.061610791983991,
          7.082441069619676,
          7.10327134725536,
          7.124101624891043,
          7.144931902526727,
          7.165762180162411,
          7.186592457798095,
          7.207422735433779,
          7.228253013069462,
          7.249083290705146,
          7.26991356834083,
          7.290743845976514,
          7.311574123612197,
          7.3324044012478815,
          7.353234678883566,
          7.374064956519249,
          7.394895234154933,
          7.415725511790617,
          7.4365557894263015,
          7.457386067061984,
          7.478216344697668,
          7.499046622333353,
          7.519876899969035,
          7.54070717760472,
          7.561537455240404,
          7.5823677328760875,
          7.603198010511771,
          7.624028288147455,
          7.644858565783139,
          7.665688843418822,
          7.6865191210545065,
          7.70734939869019,
          7.728179676325874,
          7.749009953961558,
          7.769840231597241,
          7.790670509232926,
          7.81150078686861,
          7.832331064504293,
          7.853161342139977,
          7.873991619775661,
          7.894821897411345,
          7.915652175047028,
          7.9364824526827125,
          7.957312730318397,
          7.978143007954079,
          7.998973285589764,
          8.019803563225448,
          8.040633840861132,
          8.061464118496815,
          8.0822943961325,
          8.103124673768182,
          8.123954951403867,
          8.14478522903955,
          8.165615506675234,
          8.18644578431092,
          8.207276061946601,
          8.228106339582286,
          8.24893661721797,
          8.269766894853653,
          8.290597172489337,
          8.31142745012502,
          8.332257727760705,
          8.353088005396389,
          8.373918283032072,
          8.394748560667757,
          8.415578838303441,
          8.436409115939124,
          8.457239393574808,
          8.478069671210491,
          8.498899948846176,
          8.519730226481858,
          8.540560504117543,
          8.561390781753227,
          8.58222105938891,
          8.603051337024596,
          8.623881614660277,
          8.644711892295962,
          8.665542169931646,
          8.68637244756733,
          8.707202725203015,
          8.728033002838698,
          8.748863280474382,
          8.769693558110065,
          8.790523835745748,
          8.811354113381434,
          8.832184391017115,
          8.8530146686528,
          8.873844946288486,
          8.894675223924168,
          8.915505501559853,
          8.936335779195536,
          8.95716605683122,
          8.977996334466903,
          8.998826612102587,
          9.019656889738272,
          9.040487167373955,
          9.061317445009639,
          9.082147722645322,
          9.102978000281007,
          9.12380827791669,
          9.144638555552374,
          9.165468833188058,
          9.186299110823741,
          9.207129388459425,
          9.227959666095108,
          9.248789943730793,
          9.269620221366477,
          9.290450499002162,
          9.311280776637844,
          9.332111054273527,
          9.352941331909213,
          9.373771609544896,
          9.39460188718058,
          9.415432164816265,
          9.436262442451946,
          9.45709272008763,
          9.477922997723315,
          9.498753275358998,
          9.519583552994684,
          9.540413830630367,
          9.56124410826605,
          9.582074385901734,
          9.602904663537418,
          9.623734941173101,
          9.644565218808786,
          9.66539549644447,
          9.686225774080153,
          9.707056051715837,
          9.72788632935152,
          9.748716606987205,
          9.769546884622889,
          9.790377162258572,
          9.811207439894257,
          9.83203771752994,
          9.852867995165623,
          9.873698272801308,
          9.894528550436991,
          9.915358828072675,
          9.93618910570836,
          9.957019383344043,
          9.977849660979727,
          9.99867993861541,
          10.019510216251094,
          10.040340493886779,
          10.061170771522463,
          10.082001049158146,
          10.10283132679383,
          10.123661604429513,
          10.144491882065196,
          10.165322159700882,
          10.186152437336565,
          10.20698271497225,
          10.227812992607932,
          10.248643270243615,
          10.2694735478793,
          10.290303825514984,
          10.311134103150668,
          10.331964380786353,
          10.352794658422035,
          10.373624936057718,
          10.394455213693403,
          10.415285491329087,
          10.436115768964772,
          10.456946046600455,
          10.477776324236139,
          10.498606601871822,
          10.519436879507506,
          10.54026715714319,
          10.561097434778874,
          10.581927712414558,
          10.602757990050241,
          10.623588267685925,
          10.644418545321608,
          10.665248822957293,
          10.686079100592977,
          10.70690937822866,
          10.727739655864346,
          10.748569933500027,
          10.76940021113571,
          10.790230488771396,
          10.81106076640708,
          10.831891044042763,
          10.852721321678448,
          10.87355159931413,
          10.894381876949815,
          10.915212154585499,
          10.936042432221182,
          10.956872709856867,
          10.97770298749255,
          10.998533265128234,
          11.019363542763918,
          11.040193820399601,
          11.061024098035285,
          11.08185437567097,
          11.102684653306653,
          11.123514930942338,
          11.14434520857802,
          11.165175486213704,
          11.186005763849389,
          11.206836041485072,
          11.227666319120756,
          11.248496596756441,
          11.269326874392123,
          11.290157152027806,
          11.310987429663491,
          11.331817707299175,
          11.35264798493486,
          11.373478262570544,
          11.394308540206227
         ],
         "xaxis": "x",
         "y": [
          0.0836203601065685,
          0.08463926617770912,
          0.0856376646269068,
          0.08661511587901605,
          0.0875712316260116,
          0.0885056757331304,
          0.08941816497785632,
          0.09030846961902847,
          0.09117641379405801,
          0.0920218757429531,
          0.09284478785856587,
          0.09364513656318953,
          0.09442296201234725,
          0.09517835762731831,
          0.09591146945863518,
          0.09662249538347144,
          0.09731168414049099,
          0.09797933420637849,
          0.09862579251887753,
          0.09925145305175852,
          0.09985675524769536,
          0.10044218231555853,
          0.1010082593991252,
          0.10155555162466948,
          0.10208466203531306,
          0.10259622942040042,
          0.10309092604850723,
          0.10356945531298688,
          0.10403254929922322,
          0.10448096628297363,
          0.10491548816935962,
          0.10533691788219207,
          0.10574607671341184,
          0.10614380164246688,
          0.10653094263545501,
          0.10690835993382612,
          0.10727692134235936,
          0.10763749952601467,
          0.10799096932511142,
          0.1083382050980914,
          0.1086800781009045,
          0.10901745391179814,
          0.10935118991000425,
          0.10968213281650159,
          0.11001111630468646,
          0.1103389586884179,
          0.11066646069450849,
          0.11099440332632092,
          0.11132354582469653,
          0.1116546237319915,
          0.11198834706453627,
          0.11232539859835061,
          0.11266643227246587,
          0.11301207171370378,
          0.11336290888626208,
          0.11371950286895029,
          0.11408237876240705,
          0.11445202672812262,
          0.11482890116057806,
          0.11521341999331093,
          0.11560596413921073,
          0.1160068770648564,
          0.11641646449821964,
          0.116834994268578,
          0.11726269627701921,
          0.11769976259545993,
          0.11814634769166285,
          0.11860256877730892,
          0.11906850627577309,
          0.11954420440585482,
          0.12002967187734798,
          0.12052488269396398,
          0.12102977705880448,
          0.12154426237724714,
          0.12206821435182844,
          0.12260147816342357,
          0.12314386973278658,
          0.12369517705627844,
          0.1242551616094171,
          0.1248235598117008,
          0.12540008454600982,
          0.12598442672576007,
          0.1265762569028826,
          0.12717522690962674,
          0.1277809715271371,
          0.12839311017372398,
          0.12901124860575527,
          0.1296349806241222,
          0.13026388977928197,
          0.13089755106796222,
          0.1315355326147138,
          0.1321773973316252,
          0.13282270454966735,
          0.13347101161530925,
          0.1341218754462491,
          0.13477485404032158,
          0.1354295079318912,
          0.1360854015903008,
          0.13674210475523266,
          0.13739919370413806,
          0.13805625244721806,
          0.13871287384577263,
          0.13936866065008552,
          0.14002322645338972,
          0.1406761965588253,
          0.14132720875670718,
          0.14197591400980858,
          0.14262197704478824,
          0.14326507684829676,
          0.14390490706672532,
          0.14454117630898305,
          0.1451736083521149,
          0.14580194225000334,
          0.14642593234581722,
          0.14704534818929604,
          0.14765997436037354,
          0.14826961020105064,
          0.14887406945783468,
          0.14947317983744193,
          0.15006678247884597,
          0.1506547313451131,
          0.15123689253881498,
          0.15181314354513717,
          0.15238337240711675,
          0.15294747683773405,
          0.15350536327384776,
          0.1540569458772203,
          0.15460214548809584,
          0.15514088853699637,
          0.1556731059205759,
          0.15619873184752003,
          0.15671770266059154,
          0.15722995564103107,
          0.15773542780156793,
          0.15823405467434748,
          0.1587257691000855,
          0.1592105000247332,
          0.15968817130990307,
          0.16015870056321457,
          0.16062199799462848,
          0.16107796530470198,
          0.16152649461054067,
          0.16196746741505058,
          0.16240075362487721,
          0.1628262106222028,
          0.16324368239531117,
          0.1636529987325731,
          0.1640539744842011,
          0.16444640889583062,
          0.16483008501764818,
          0.16520476919246305,
          0.16557021062575702,
          0.16592614104039766,
          0.16627227441832312,
          0.16660830683113195,
          0.16693391636113106,
          0.16724876311401043,
          0.1675524893239181,
          0.16784471955133323,
          0.16812506097373847,
          0.16839310376872105,
          0.1686484215887489,
          0.1688905721264992,
          0.16911909776926023,
          0.16933352634057286,
          0.16953337192693663,
          0.16971813578708472,
          0.1698873073410122,
          0.17004036523564736,
          0.1701767784837741,
          0.17029600767254616,
          0.1703975062376859,
          0.17048072179923426,
          0.17054509755449965,
          0.1705900737236742,
          0.1706150890433998,
          0.1706195823034187,
          0.17060299392131997,
          0.170564767550258,
          0.1705043517144456,
          0.17042120146713974,
          0.1703147800657806,
          0.17018456065891,
          0.17003002797947725,
          0.1698506800391334,
          0.16964602981813195,
          0.16941560694549154,
          0.16915895936410463,
          0.16887565497556373,
          0.16856528325952516,
          0.16822745686254348,
          0.1678618131513898,
          0.16746801572599923,
          0.16704575588730378,
          0.16659475405534915,
          0.1661147611332341,
          0.1656055598125733,
          0.16506696581633426,
          0.16449882907507657,
          0.16390103483280438,
          0.16327350467880966,
          0.1626161975020988,
          0.16192911036516314,
          0.16121227929408508,
          0.16046577998215245,
          0.15968972840438425,
          0.158884281340579,
          0.1580496368047164,
          0.1571860343787788,
          0.15629375544927301,
          0.15537312334498,
          0.15442450337469354,
          0.15344830276394272,
          0.15244497048995137,
          0.15141499701432548,
          0.15035891391321454,
          0.14927729340495302,
          0.14817074777543718,
          0.14703992870176646,
          0.14588552647492817,
          0.14470826912258675,
          0.14350892143329538,
          0.14228828388372494,
          0.14104719147077596,
          0.1397865124507126,
          0.13850714698772892,
          0.13721002571463223,
          0.13589610820860276,
          0.13456638138524923,
          0.1332218578144615,
          0.1318635739618074,
          0.13049258835949887,
          0.1291099797111863,
          0.12771684493510144,
          0.1263142971502996,
          0.12490346361098324,
          0.12348548359410734,
          0.12206150624567666,
          0.12063268839133598,
          0.11920019231703692,
          0.1177651835257324,
          0.11632882847619222,
          0.11489229231017141,
          0.1134567365742696,
          0.11202331694291381,
          0.11059318094896764,
          0.10916746572851926,
          0.10774729578642227,
          0.1063337807891724,
          0.10492801339167329,
          0.10353106710440078,
          0.10214399420740014,
          0.10076782371745298,
          0.09940355941462302,
          0.09805217793423877,
          0.09671462693019503,
          0.09539182331525001,
          0.0940846515837643,
          0.09279396222208072,
          0.09152057021145375,
          0.0902652536281513,
          0.08902875234501334,
          0.08781176683841768,
          0.08661495710423218,
          0.08543894168595448,
          0.08428429681783554,
          0.08315155568537508,
          0.0820412078051414,
          0.08095369852543707,
          0.07988942864887791,
          0.07884875417749758,
          0.07783198618053466,
          0.07683939078458833,
          0.07587118928537141,
          0.0749275583798255,
          0.07400863051690301,
          0.07311449436487268,
          0.07224519539256305,
          0.07140073656152181,
          0.0705810791256572,
          0.06978614353451822,
          0.0690158104359902,
          0.06826992177381026,
          0.06754828197496855,
          0.06685065922173153,
          0.06617678680273303,
          0.06552636453730219,
          0.06489906026695734,
          0.06429451140777723,
          0.0637123265571764,
          0.06315208714845882,
          0.06261334914639671,
          0.06209564477699512,
          0.06159848428453934,
          0.06112135770899954,
          0.0606637366768704,
          0.06022507619856389,
          0.059804816465542275,
          0.059402384640482656,
          0.059017196633893036,
          0.058648658860767866,
          0.05829616997105791,
          0.057959122547951374,
          0.05763690476820738,
          0.05732890201905557,
          0.05703449846646608,
          0.05675307856991509,
          0.05648402853910111,
          0.056226737728425374,
          0.05598059996541648,
          0.05574501480966466,
          0.05551938873922506,
          0.055303136261855526,
          0.05509568094886651,
          0.054896456389777,
          0.05470490706639428,
          0.05452048914535339,
          0.05434267118857303,
          0.05417093478150205,
          0.054004775079440105,
          0.05384370127261862,
          0.05368723697111969,
          0.05353492051109421,
          0.053386305184102666,
          0.05324095939175761,
          0.053098466728176814,
          0.05295842599307317,
          0.052820451138600524,
          0.05268417115334805,
          0.052549229887124016,
          0.05241528582039658,
          0.05228201178245916,
          0.05214909462256157,
          0.052016234838397964,
          0.05188314616646281,
          0.05174955513887841,
          0.05161520061136705,
          0.051479833267076204,
          0.051343215100977634,
          0.051205118889545743,
          0.05106532765037602,
          0.05092363409633665,
          0.050779840088749834,
          0.050633756093982046,
          0.050485200647675955,
          0.05033399983069338,
          0.050179986760648755,
          0.05002300110270554,
          0.04986288860308162,
          0.049699500648463346,
          0.04953269385427133,
          0.04936232968444379,
          0.04918827410511938,
          0.049010397274303084,
          0.048828573269294066,
          0.04864267985334187,
          0.0484525982826797,
          0.04825821315476397,
          0.048059412298227216,
          0.04785608670473202,
          0.04764813050259442,
          0.047435440971734126,
          0.047217918599199805,
          0.04699546717422142,
          0.046767993921451624,
          0.04653540967078174,
          0.04629762906185405,
          0.046054570781142674,
          0.04580615782924218,
          0.04555231781578764,
          0.04529298327923106,
          0.04502809202852317,
          0.04475758750358958,
          0.044481419151357136,
          0.04419954281396855,
          0.04391192112573466,
          0.04361852391530246,
          0.04331932860947236,
          0.043014320635075265,
          0.042703493815320244,
          0.04238685075704783,
          0.04206440322537001,
          0.04173617250224668,
          0.04140218972563944,
          0.04106249620599405,
          0.04071714371693581,
          0.04036619475721291,
          0.04000972278109168,
          0.03964781239459529,
          0.039280559515178476,
          0.0389080714926498,
          0.03853046718938055,
          0.0381478770180839,
          0.03776044293569769,
          0.037368318392165846,
          0.036971668233180426,
          0.0365706685562191,
          0.03616550651948881,
          0.03575638010366418,
          0.035343497826588806,
          0.03492707841138179,
          0.03450735040866888,
          0.03408455177392324,
          0.03365892940116534,
          0.03323073861452579,
          0.03280024261942025,
          0.03236771191531935,
          0.031933423672321236,
          0.03149766107394162,
          0.031060712628731807,
          0.030622871453515835,
          0.030184434531198977,
          0.02974570194624725,
          0.02930697610106474,
          0.028868560916605154,
          0.028430761020643968,
          0.02799388092720873,
          0.027558224210715885,
          0.027124092678393937,
          0.026691785544584522,
          0.026261598610503787,
          0.02583382345302012,
          0.025408746625955856,
          0.024986648877356018,
          0.02456780438608285,
          0.024152480020993176,
          0.02374093462583876,
          0.02333341833289364,
          0.02293017190816536,
          0.022531426130882565,
          0.022137401209775986,
          0.02174830623848123,
          0.021364338692193823,
          0.0209856839674987,
          0.020612514967079925,
          0.020244991730793763,
          0.019883261114359337,
          0.019527456516688323,
          0.019177697656640052,
          0.0188340903997501,
          0.018496726635244102,
          0.018165684203411664,
          0.01784102687318125,
          0.017522804369507067,
          0.017211052449952618,
          0.016905793029637028,
          0.01660703435349701,
          0.01631477121461299,
          0.016028985217153346,
          0.01574964508230461,
          0.015476706995381225,
          0.01521011499214638,
          0.014949801382223609,
          0.0146956872073422,
          0.014447682732034953,
          0.014205687964295818,
          0.013969593203609638,
          0.013739279613683457,
          0.013514619817142135,
          0.013295478509398072,
          0.01308171308886727,
          0.012873174300680218,
          0.012669706891027518,
          0.0124711502692851,
          0.012277339175083371,
          0.012088104347516792,
          0.011903273193736337,
          0.011722670454225185,
          0.011546118862128375,
          0.011373439794087689,
          0.011204453910126182,
          0.011038981780227471,
          0.010876844495366316,
          0.010717864260866974,
          0.010561864970091366,
          0.01040867275659367,
          0.010258116523017276,
          0.010110028445153352,
          0.009964244449730207,
          0.009820604664653001,
          0.009678953840567947,
          0.00953914174278046,
          0.009401023512713005,
          0.009264459998244075,
          0.009129318052424819,
          0.008995470800223343,
          0.008862797873096951,
          0.008731185611340673,
          0.008600527234303754,
          0.008470722978705362,
          0.008341680205414606,
          0.008213313475188676,
          0.008085544593985578,
          0.007958302628583446,
          0.007831523893347873,
          0.007705151909090067,
          0.0075791373350531715,
          0.007453437875149909,
          0.007328018159653865,
          0.007202849603615998
         ],
         "yaxis": "y"
        }
       ],
       "layout": {
        "annotations": [
         {
          "showarrow": false,
          "text": "*Missing Values: Real Data (0.51%), Synthetic Data (0.0%)",
          "x": 1,
          "xref": "paper",
          "y": 1.05,
          "yref": "paper"
         }
        ],
        "barmode": "overlay",
        "hovermode": "closest",
        "legend": {
         "traceorder": "reversed"
        },
        "plot_bgcolor": "#F5F5F8",
        "template": {
         "data": {
          "bar": [
           {
            "error_x": {
             "color": "#2a3f5f"
            },
            "error_y": {
             "color": "#2a3f5f"
            },
            "marker": {
             "line": {
              "color": "#E5ECF6",
              "width": 0.5
             },
             "pattern": {
              "fillmode": "overlay",
              "size": 10,
              "solidity": 0.2
             }
            },
            "type": "bar"
           }
          ],
          "barpolar": [
           {
            "marker": {
             "line": {
              "color": "#E5ECF6",
              "width": 0.5
             },
             "pattern": {
              "fillmode": "overlay",
              "size": 10,
              "solidity": 0.2
             }
            },
            "type": "barpolar"
           }
          ],
          "carpet": [
           {
            "aaxis": {
             "endlinecolor": "#2a3f5f",
             "gridcolor": "white",
             "linecolor": "white",
             "minorgridcolor": "white",
             "startlinecolor": "#2a3f5f"
            },
            "baxis": {
             "endlinecolor": "#2a3f5f",
             "gridcolor": "white",
             "linecolor": "white",
             "minorgridcolor": "white",
             "startlinecolor": "#2a3f5f"
            },
            "type": "carpet"
           }
          ],
          "choropleth": [
           {
            "colorbar": {
             "outlinewidth": 0,
             "ticks": ""
            },
            "type": "choropleth"
           }
          ],
          "contour": [
           {
            "colorbar": {
             "outlinewidth": 0,
             "ticks": ""
            },
            "colorscale": [
             [
              0,
              "#0d0887"
             ],
             [
              0.1111111111111111,
              "#46039f"
             ],
             [
              0.2222222222222222,
              "#7201a8"
             ],
             [
              0.3333333333333333,
              "#9c179e"
             ],
             [
              0.4444444444444444,
              "#bd3786"
             ],
             [
              0.5555555555555556,
              "#d8576b"
             ],
             [
              0.6666666666666666,
              "#ed7953"
             ],
             [
              0.7777777777777778,
              "#fb9f3a"
             ],
             [
              0.8888888888888888,
              "#fdca26"
             ],
             [
              1,
              "#f0f921"
             ]
            ],
            "type": "contour"
           }
          ],
          "contourcarpet": [
           {
            "colorbar": {
             "outlinewidth": 0,
             "ticks": ""
            },
            "type": "contourcarpet"
           }
          ],
          "heatmap": [
           {
            "colorbar": {
             "outlinewidth": 0,
             "ticks": ""
            },
            "colorscale": [
             [
              0,
              "#0d0887"
             ],
             [
              0.1111111111111111,
              "#46039f"
             ],
             [
              0.2222222222222222,
              "#7201a8"
             ],
             [
              0.3333333333333333,
              "#9c179e"
             ],
             [
              0.4444444444444444,
              "#bd3786"
             ],
             [
              0.5555555555555556,
              "#d8576b"
             ],
             [
              0.6666666666666666,
              "#ed7953"
             ],
             [
              0.7777777777777778,
              "#fb9f3a"
             ],
             [
              0.8888888888888888,
              "#fdca26"
             ],
             [
              1,
              "#f0f921"
             ]
            ],
            "type": "heatmap"
           }
          ],
          "heatmapgl": [
           {
            "colorbar": {
             "outlinewidth": 0,
             "ticks": ""
            },
            "colorscale": [
             [
              0,
              "#0d0887"
             ],
             [
              0.1111111111111111,
              "#46039f"
             ],
             [
              0.2222222222222222,
              "#7201a8"
             ],
             [
              0.3333333333333333,
              "#9c179e"
             ],
             [
              0.4444444444444444,
              "#bd3786"
             ],
             [
              0.5555555555555556,
              "#d8576b"
             ],
             [
              0.6666666666666666,
              "#ed7953"
             ],
             [
              0.7777777777777778,
              "#fb9f3a"
             ],
             [
              0.8888888888888888,
              "#fdca26"
             ],
             [
              1,
              "#f0f921"
             ]
            ],
            "type": "heatmapgl"
           }
          ],
          "histogram": [
           {
            "marker": {
             "pattern": {
              "fillmode": "overlay",
              "size": 10,
              "solidity": 0.2
             }
            },
            "type": "histogram"
           }
          ],
          "histogram2d": [
           {
            "colorbar": {
             "outlinewidth": 0,
             "ticks": ""
            },
            "colorscale": [
             [
              0,
              "#0d0887"
             ],
             [
              0.1111111111111111,
              "#46039f"
             ],
             [
              0.2222222222222222,
              "#7201a8"
             ],
             [
              0.3333333333333333,
              "#9c179e"
             ],
             [
              0.4444444444444444,
              "#bd3786"
             ],
             [
              0.5555555555555556,
              "#d8576b"
             ],
             [
              0.6666666666666666,
              "#ed7953"
             ],
             [
              0.7777777777777778,
              "#fb9f3a"
             ],
             [
              0.8888888888888888,
              "#fdca26"
             ],
             [
              1,
              "#f0f921"
             ]
            ],
            "type": "histogram2d"
           }
          ],
          "histogram2dcontour": [
           {
            "colorbar": {
             "outlinewidth": 0,
             "ticks": ""
            },
            "colorscale": [
             [
              0,
              "#0d0887"
             ],
             [
              0.1111111111111111,
              "#46039f"
             ],
             [
              0.2222222222222222,
              "#7201a8"
             ],
             [
              0.3333333333333333,
              "#9c179e"
             ],
             [
              0.4444444444444444,
              "#bd3786"
             ],
             [
              0.5555555555555556,
              "#d8576b"
             ],
             [
              0.6666666666666666,
              "#ed7953"
             ],
             [
              0.7777777777777778,
              "#fb9f3a"
             ],
             [
              0.8888888888888888,
              "#fdca26"
             ],
             [
              1,
              "#f0f921"
             ]
            ],
            "type": "histogram2dcontour"
           }
          ],
          "mesh3d": [
           {
            "colorbar": {
             "outlinewidth": 0,
             "ticks": ""
            },
            "type": "mesh3d"
           }
          ],
          "parcoords": [
           {
            "line": {
             "colorbar": {
              "outlinewidth": 0,
              "ticks": ""
             }
            },
            "type": "parcoords"
           }
          ],
          "pie": [
           {
            "automargin": true,
            "type": "pie"
           }
          ],
          "scatter": [
           {
            "fillpattern": {
             "fillmode": "overlay",
             "size": 10,
             "solidity": 0.2
            },
            "type": "scatter"
           }
          ],
          "scatter3d": [
           {
            "line": {
             "colorbar": {
              "outlinewidth": 0,
              "ticks": ""
             }
            },
            "marker": {
             "colorbar": {
              "outlinewidth": 0,
              "ticks": ""
             }
            },
            "type": "scatter3d"
           }
          ],
          "scattercarpet": [
           {
            "marker": {
             "colorbar": {
              "outlinewidth": 0,
              "ticks": ""
             }
            },
            "type": "scattercarpet"
           }
          ],
          "scattergeo": [
           {
            "marker": {
             "colorbar": {
              "outlinewidth": 0,
              "ticks": ""
             }
            },
            "type": "scattergeo"
           }
          ],
          "scattergl": [
           {
            "marker": {
             "colorbar": {
              "outlinewidth": 0,
              "ticks": ""
             }
            },
            "type": "scattergl"
           }
          ],
          "scattermapbox": [
           {
            "marker": {
             "colorbar": {
              "outlinewidth": 0,
              "ticks": ""
             }
            },
            "type": "scattermapbox"
           }
          ],
          "scatterpolar": [
           {
            "marker": {
             "colorbar": {
              "outlinewidth": 0,
              "ticks": ""
             }
            },
            "type": "scatterpolar"
           }
          ],
          "scatterpolargl": [
           {
            "marker": {
             "colorbar": {
              "outlinewidth": 0,
              "ticks": ""
             }
            },
            "type": "scatterpolargl"
           }
          ],
          "scatterternary": [
           {
            "marker": {
             "colorbar": {
              "outlinewidth": 0,
              "ticks": ""
             }
            },
            "type": "scatterternary"
           }
          ],
          "surface": [
           {
            "colorbar": {
             "outlinewidth": 0,
             "ticks": ""
            },
            "colorscale": [
             [
              0,
              "#0d0887"
             ],
             [
              0.1111111111111111,
              "#46039f"
             ],
             [
              0.2222222222222222,
              "#7201a8"
             ],
             [
              0.3333333333333333,
              "#9c179e"
             ],
             [
              0.4444444444444444,
              "#bd3786"
             ],
             [
              0.5555555555555556,
              "#d8576b"
             ],
             [
              0.6666666666666666,
              "#ed7953"
             ],
             [
              0.7777777777777778,
              "#fb9f3a"
             ],
             [
              0.8888888888888888,
              "#fdca26"
             ],
             [
              1,
              "#f0f921"
             ]
            ],
            "type": "surface"
           }
          ],
          "table": [
           {
            "cells": {
             "fill": {
              "color": "#EBF0F8"
             },
             "line": {
              "color": "white"
             }
            },
            "header": {
             "fill": {
              "color": "#C8D4E3"
             },
             "line": {
              "color": "white"
             }
            },
            "type": "table"
           }
          ]
         },
         "layout": {
          "annotationdefaults": {
           "arrowcolor": "#2a3f5f",
           "arrowhead": 0,
           "arrowwidth": 1
          },
          "autotypenumbers": "strict",
          "coloraxis": {
           "colorbar": {
            "outlinewidth": 0,
            "ticks": ""
           }
          },
          "colorscale": {
           "diverging": [
            [
             0,
             "#8e0152"
            ],
            [
             0.1,
             "#c51b7d"
            ],
            [
             0.2,
             "#de77ae"
            ],
            [
             0.3,
             "#f1b6da"
            ],
            [
             0.4,
             "#fde0ef"
            ],
            [
             0.5,
             "#f7f7f7"
            ],
            [
             0.6,
             "#e6f5d0"
            ],
            [
             0.7,
             "#b8e186"
            ],
            [
             0.8,
             "#7fbc41"
            ],
            [
             0.9,
             "#4d9221"
            ],
            [
             1,
             "#276419"
            ]
           ],
           "sequential": [
            [
             0,
             "#0d0887"
            ],
            [
             0.1111111111111111,
             "#46039f"
            ],
            [
             0.2222222222222222,
             "#7201a8"
            ],
            [
             0.3333333333333333,
             "#9c179e"
            ],
            [
             0.4444444444444444,
             "#bd3786"
            ],
            [
             0.5555555555555556,
             "#d8576b"
            ],
            [
             0.6666666666666666,
             "#ed7953"
            ],
            [
             0.7777777777777778,
             "#fb9f3a"
            ],
            [
             0.8888888888888888,
             "#fdca26"
            ],
            [
             1,
             "#f0f921"
            ]
           ],
           "sequentialminus": [
            [
             0,
             "#0d0887"
            ],
            [
             0.1111111111111111,
             "#46039f"
            ],
            [
             0.2222222222222222,
             "#7201a8"
            ],
            [
             0.3333333333333333,
             "#9c179e"
            ],
            [
             0.4444444444444444,
             "#bd3786"
            ],
            [
             0.5555555555555556,
             "#d8576b"
            ],
            [
             0.6666666666666666,
             "#ed7953"
            ],
            [
             0.7777777777777778,
             "#fb9f3a"
            ],
            [
             0.8888888888888888,
             "#fdca26"
            ],
            [
             1,
             "#f0f921"
            ]
           ]
          },
          "colorway": [
           "#636efa",
           "#EF553B",
           "#00cc96",
           "#ab63fa",
           "#FFA15A",
           "#19d3f3",
           "#FF6692",
           "#B6E880",
           "#FF97FF",
           "#FECB52"
          ],
          "font": {
           "color": "#2a3f5f"
          },
          "geo": {
           "bgcolor": "white",
           "lakecolor": "white",
           "landcolor": "#E5ECF6",
           "showlakes": true,
           "showland": true,
           "subunitcolor": "white"
          },
          "hoverlabel": {
           "align": "left"
          },
          "hovermode": "closest",
          "mapbox": {
           "style": "light"
          },
          "paper_bgcolor": "white",
          "plot_bgcolor": "#E5ECF6",
          "polar": {
           "angularaxis": {
            "gridcolor": "white",
            "linecolor": "white",
            "ticks": ""
           },
           "bgcolor": "#E5ECF6",
           "radialaxis": {
            "gridcolor": "white",
            "linecolor": "white",
            "ticks": ""
           }
          },
          "scene": {
           "xaxis": {
            "backgroundcolor": "#E5ECF6",
            "gridcolor": "white",
            "gridwidth": 2,
            "linecolor": "white",
            "showbackground": true,
            "ticks": "",
            "zerolinecolor": "white"
           },
           "yaxis": {
            "backgroundcolor": "#E5ECF6",
            "gridcolor": "white",
            "gridwidth": 2,
            "linecolor": "white",
            "showbackground": true,
            "ticks": "",
            "zerolinecolor": "white"
           },
           "zaxis": {
            "backgroundcolor": "#E5ECF6",
            "gridcolor": "white",
            "gridwidth": 2,
            "linecolor": "white",
            "showbackground": true,
            "ticks": "",
            "zerolinecolor": "white"
           }
          },
          "shapedefaults": {
           "line": {
            "color": "#2a3f5f"
           }
          },
          "ternary": {
           "aaxis": {
            "gridcolor": "white",
            "linecolor": "white",
            "ticks": ""
           },
           "baxis": {
            "gridcolor": "white",
            "linecolor": "white",
            "ticks": ""
           },
           "bgcolor": "#E5ECF6",
           "caxis": {
            "gridcolor": "white",
            "linecolor": "white",
            "ticks": ""
           }
          },
          "title": {
           "x": 0.05
          },
          "xaxis": {
           "automargin": true,
           "gridcolor": "white",
           "linecolor": "white",
           "ticks": "",
           "title": {
            "standoff": 15
           },
           "zerolinecolor": "white",
           "zerolinewidth": 2
          },
          "yaxis": {
           "automargin": true,
           "gridcolor": "white",
           "linecolor": "white",
           "ticks": "",
           "title": {
            "standoff": 15
           },
           "zerolinecolor": "white",
           "zerolinewidth": 2
          }
         }
        },
        "title": {
         "text": "Real vs. Synthetic Data for column Length_of_Stay"
        },
        "xaxis": {
         "anchor": "y2",
         "domain": [
          0,
          1
         ],
         "title": {
          "text": "Value"
         },
         "zeroline": false
        },
        "yaxis": {
         "anchor": "free",
         "domain": [
          0,
          1
         ],
         "position": 0,
         "title": {
          "text": "Frequency"
         }
        }
       }
      }
     },
     "metadata": {},
     "output_type": "display_data"
    }
   ],
   "source": [
    "from sdv.evaluation.single_table import get_column_plot\n",
    "\n",
    "fig = get_column_plot(\n",
    "    real_data=rpad_df,\n",
    "    synthetic_data=new_data,\n",
    "    column_name='Length_of_Stay',\n",
    "    metadata=metadata\n",
    ")\n",
    "    \n",
    "fig.show()\n",
    "fig.write_image(file = 'Length_of_Stay_metadata.png')\n",
    "\n"
   ]
  },
  {
   "cell_type": "code",
   "execution_count": 9,
   "metadata": {},
   "outputs": [],
   "source": [
    "# Create your own Metadata: -> Find information on how to specify Metadata: https://docs.sdv.dev/sdmetrics/getting-started/metadata/single-table-metadata\n",
    "metadata_coltypes = {}\n",
    "metadata_coltypes[\"fields\"] = dict(str_col_types) # Erklären wann primary key gebraucht wir dund wann nicht\n",
    "# Checken ob in sdv eine einfacherer Methode zum erstellen von Metadaten existiert\n"
   ]
  },
  {
   "cell_type": "code",
   "execution_count": 12,
   "metadata": {},
   "outputs": [
    {
     "name": "stderr",
     "output_type": "stream",
     "text": [
      "Creating report: 100%|██████████| 4/4 [00:34<00:00,  8.61s/it]"
     ]
    },
    {
     "name": "stdout",
     "output_type": "stream",
     "text": [
      "\n",
      "Overall Quality Score: 18.68%\n",
      "\n",
      "Properties:\n",
      "Column Shapes: 37.12%\n",
      "Column Pair Trends: 0.24%\n"
     ]
    },
    {
     "name": "stderr",
     "output_type": "stream",
     "text": [
      "\n"
     ]
    }
   ],
   "source": [
    "my_report = QualityReport()\n",
    "my_report.generate(real_data, synthetic_data, metadata_coltypes)"
   ]
  },
  {
   "cell_type": "code",
   "execution_count": 38,
   "metadata": {},
   "outputs": [],
   "source": [
    "# Interpretiere above aussagen: -> wo muss näher reingeschaut werden + warum?\n",
    "#import json\n",
    "\n",
    "#with open('my_metadata_file.json', 'w') as f:\n",
    "#    json.dump(metadata_coltypes, f)\n",
    "\n",
    "\n",
    "#with open('my_metadata_file.json') as f:\n",
    "#    metadata_coltypes = json.load(f)\n",
    "\n",
    "# use my_metadata_dict in the SDMetrics library\n",
    "\n",
    "\n",
    "# Bis hierhin sind essential steps die super in documentation nachgelesen werden können. -> hier tips und tricks erklären (zum mitcoden wenn möchten)\n",
    "# danach wie verbesere ich es?"
   ]
  },
  {
   "cell_type": "code",
   "execution_count": null,
   "metadata": {},
   "outputs": [],
   "source": []
  },
  {
   "cell_type": "code",
   "execution_count": 13,
   "metadata": {},
   "outputs": [
    {
     "data": {
      "text/html": [
       "<div>\n",
       "<style scoped>\n",
       "    .dataframe tbody tr th:only-of-type {\n",
       "        vertical-align: middle;\n",
       "    }\n",
       "\n",
       "    .dataframe tbody tr th {\n",
       "        vertical-align: top;\n",
       "    }\n",
       "\n",
       "    .dataframe thead th {\n",
       "        text-align: right;\n",
       "    }\n",
       "</style>\n",
       "<table border=\"1\" class=\"dataframe\">\n",
       "  <thead>\n",
       "    <tr style=\"text-align: right;\">\n",
       "      <th></th>\n",
       "      <th>Column 1</th>\n",
       "      <th>Column 2</th>\n",
       "      <th>Metric</th>\n",
       "      <th>Quality Score</th>\n",
       "      <th>Real Correlation</th>\n",
       "      <th>Synthetic Correlation</th>\n",
       "    </tr>\n",
       "  </thead>\n",
       "  <tbody>\n",
       "    <tr>\n",
       "      <th>0</th>\n",
       "      <td>first_name</td>\n",
       "      <td>last_name</td>\n",
       "      <td>ContingencySimilarity</td>\n",
       "      <td>2.000000e-03</td>\n",
       "      <td>NaN</td>\n",
       "      <td>NaN</td>\n",
       "    </tr>\n",
       "    <tr>\n",
       "      <th>1</th>\n",
       "      <td>company_name</td>\n",
       "      <td>first_name</td>\n",
       "      <td>ContingencySimilarity</td>\n",
       "      <td>2.000000e-03</td>\n",
       "      <td>NaN</td>\n",
       "      <td>NaN</td>\n",
       "    </tr>\n",
       "    <tr>\n",
       "      <th>2</th>\n",
       "      <td>address</td>\n",
       "      <td>first_name</td>\n",
       "      <td>ContingencySimilarity</td>\n",
       "      <td>2.000000e-03</td>\n",
       "      <td>NaN</td>\n",
       "      <td>NaN</td>\n",
       "    </tr>\n",
       "    <tr>\n",
       "      <th>3</th>\n",
       "      <td>city</td>\n",
       "      <td>first_name</td>\n",
       "      <td>ContingencySimilarity</td>\n",
       "      <td>2.000000e-03</td>\n",
       "      <td>NaN</td>\n",
       "      <td>NaN</td>\n",
       "    </tr>\n",
       "    <tr>\n",
       "      <th>4</th>\n",
       "      <td>county</td>\n",
       "      <td>first_name</td>\n",
       "      <td>ContingencySimilarity</td>\n",
       "      <td>8.000000e-03</td>\n",
       "      <td>NaN</td>\n",
       "      <td>NaN</td>\n",
       "    </tr>\n",
       "    <tr>\n",
       "      <th>5</th>\n",
       "      <td>first_name</td>\n",
       "      <td>postal</td>\n",
       "      <td>ContingencySimilarity</td>\n",
       "      <td>2.000000e-03</td>\n",
       "      <td>NaN</td>\n",
       "      <td>NaN</td>\n",
       "    </tr>\n",
       "    <tr>\n",
       "      <th>6</th>\n",
       "      <td>first_name</td>\n",
       "      <td>phone1</td>\n",
       "      <td>ContingencySimilarity</td>\n",
       "      <td>2.000000e-03</td>\n",
       "      <td>NaN</td>\n",
       "      <td>NaN</td>\n",
       "    </tr>\n",
       "    <tr>\n",
       "      <th>7</th>\n",
       "      <td>first_name</td>\n",
       "      <td>phone2</td>\n",
       "      <td>ContingencySimilarity</td>\n",
       "      <td>2.000000e-03</td>\n",
       "      <td>NaN</td>\n",
       "      <td>NaN</td>\n",
       "    </tr>\n",
       "    <tr>\n",
       "      <th>8</th>\n",
       "      <td>email</td>\n",
       "      <td>first_name</td>\n",
       "      <td>ContingencySimilarity</td>\n",
       "      <td>-2.220446e-16</td>\n",
       "      <td>NaN</td>\n",
       "      <td>NaN</td>\n",
       "    </tr>\n",
       "    <tr>\n",
       "      <th>9</th>\n",
       "      <td>first_name</td>\n",
       "      <td>web</td>\n",
       "      <td>ContingencySimilarity</td>\n",
       "      <td>2.000000e-03</td>\n",
       "      <td>NaN</td>\n",
       "      <td>NaN</td>\n",
       "    </tr>\n",
       "    <tr>\n",
       "      <th>10</th>\n",
       "      <td>company_name</td>\n",
       "      <td>last_name</td>\n",
       "      <td>ContingencySimilarity</td>\n",
       "      <td>-2.220446e-16</td>\n",
       "      <td>NaN</td>\n",
       "      <td>NaN</td>\n",
       "    </tr>\n",
       "    <tr>\n",
       "      <th>11</th>\n",
       "      <td>address</td>\n",
       "      <td>last_name</td>\n",
       "      <td>ContingencySimilarity</td>\n",
       "      <td>-2.220446e-16</td>\n",
       "      <td>NaN</td>\n",
       "      <td>NaN</td>\n",
       "    </tr>\n",
       "    <tr>\n",
       "      <th>12</th>\n",
       "      <td>city</td>\n",
       "      <td>last_name</td>\n",
       "      <td>ContingencySimilarity</td>\n",
       "      <td>-2.220446e-16</td>\n",
       "      <td>NaN</td>\n",
       "      <td>NaN</td>\n",
       "    </tr>\n",
       "    <tr>\n",
       "      <th>13</th>\n",
       "      <td>county</td>\n",
       "      <td>last_name</td>\n",
       "      <td>ContingencySimilarity</td>\n",
       "      <td>1.600000e-02</td>\n",
       "      <td>NaN</td>\n",
       "      <td>NaN</td>\n",
       "    </tr>\n",
       "    <tr>\n",
       "      <th>14</th>\n",
       "      <td>last_name</td>\n",
       "      <td>postal</td>\n",
       "      <td>ContingencySimilarity</td>\n",
       "      <td>0.000000e+00</td>\n",
       "      <td>NaN</td>\n",
       "      <td>NaN</td>\n",
       "    </tr>\n",
       "    <tr>\n",
       "      <th>15</th>\n",
       "      <td>last_name</td>\n",
       "      <td>phone1</td>\n",
       "      <td>ContingencySimilarity</td>\n",
       "      <td>2.000000e-03</td>\n",
       "      <td>NaN</td>\n",
       "      <td>NaN</td>\n",
       "    </tr>\n",
       "    <tr>\n",
       "      <th>16</th>\n",
       "      <td>last_name</td>\n",
       "      <td>phone2</td>\n",
       "      <td>ContingencySimilarity</td>\n",
       "      <td>2.000000e-03</td>\n",
       "      <td>NaN</td>\n",
       "      <td>NaN</td>\n",
       "    </tr>\n",
       "    <tr>\n",
       "      <th>17</th>\n",
       "      <td>email</td>\n",
       "      <td>last_name</td>\n",
       "      <td>ContingencySimilarity</td>\n",
       "      <td>-2.220446e-16</td>\n",
       "      <td>NaN</td>\n",
       "      <td>NaN</td>\n",
       "    </tr>\n",
       "    <tr>\n",
       "      <th>18</th>\n",
       "      <td>last_name</td>\n",
       "      <td>web</td>\n",
       "      <td>ContingencySimilarity</td>\n",
       "      <td>0.000000e+00</td>\n",
       "      <td>NaN</td>\n",
       "      <td>NaN</td>\n",
       "    </tr>\n",
       "    <tr>\n",
       "      <th>19</th>\n",
       "      <td>address</td>\n",
       "      <td>company_name</td>\n",
       "      <td>ContingencySimilarity</td>\n",
       "      <td>-2.220446e-16</td>\n",
       "      <td>NaN</td>\n",
       "      <td>NaN</td>\n",
       "    </tr>\n",
       "    <tr>\n",
       "      <th>20</th>\n",
       "      <td>city</td>\n",
       "      <td>company_name</td>\n",
       "      <td>ContingencySimilarity</td>\n",
       "      <td>-2.220446e-16</td>\n",
       "      <td>NaN</td>\n",
       "      <td>NaN</td>\n",
       "    </tr>\n",
       "    <tr>\n",
       "      <th>21</th>\n",
       "      <td>company_name</td>\n",
       "      <td>county</td>\n",
       "      <td>ContingencySimilarity</td>\n",
       "      <td>4.000000e-03</td>\n",
       "      <td>NaN</td>\n",
       "      <td>NaN</td>\n",
       "    </tr>\n",
       "    <tr>\n",
       "      <th>22</th>\n",
       "      <td>company_name</td>\n",
       "      <td>postal</td>\n",
       "      <td>ContingencySimilarity</td>\n",
       "      <td>0.000000e+00</td>\n",
       "      <td>NaN</td>\n",
       "      <td>NaN</td>\n",
       "    </tr>\n",
       "    <tr>\n",
       "      <th>23</th>\n",
       "      <td>company_name</td>\n",
       "      <td>phone1</td>\n",
       "      <td>ContingencySimilarity</td>\n",
       "      <td>0.000000e+00</td>\n",
       "      <td>NaN</td>\n",
       "      <td>NaN</td>\n",
       "    </tr>\n",
       "    <tr>\n",
       "      <th>24</th>\n",
       "      <td>company_name</td>\n",
       "      <td>phone2</td>\n",
       "      <td>ContingencySimilarity</td>\n",
       "      <td>-2.220446e-16</td>\n",
       "      <td>NaN</td>\n",
       "      <td>NaN</td>\n",
       "    </tr>\n",
       "    <tr>\n",
       "      <th>25</th>\n",
       "      <td>company_name</td>\n",
       "      <td>email</td>\n",
       "      <td>ContingencySimilarity</td>\n",
       "      <td>-2.220446e-16</td>\n",
       "      <td>NaN</td>\n",
       "      <td>NaN</td>\n",
       "    </tr>\n",
       "    <tr>\n",
       "      <th>26</th>\n",
       "      <td>company_name</td>\n",
       "      <td>web</td>\n",
       "      <td>ContingencySimilarity</td>\n",
       "      <td>0.000000e+00</td>\n",
       "      <td>NaN</td>\n",
       "      <td>NaN</td>\n",
       "    </tr>\n",
       "    <tr>\n",
       "      <th>27</th>\n",
       "      <td>address</td>\n",
       "      <td>city</td>\n",
       "      <td>ContingencySimilarity</td>\n",
       "      <td>0.000000e+00</td>\n",
       "      <td>NaN</td>\n",
       "      <td>NaN</td>\n",
       "    </tr>\n",
       "    <tr>\n",
       "      <th>28</th>\n",
       "      <td>address</td>\n",
       "      <td>county</td>\n",
       "      <td>ContingencySimilarity</td>\n",
       "      <td>1.200000e-02</td>\n",
       "      <td>NaN</td>\n",
       "      <td>NaN</td>\n",
       "    </tr>\n",
       "    <tr>\n",
       "      <th>29</th>\n",
       "      <td>address</td>\n",
       "      <td>postal</td>\n",
       "      <td>ContingencySimilarity</td>\n",
       "      <td>0.000000e+00</td>\n",
       "      <td>NaN</td>\n",
       "      <td>NaN</td>\n",
       "    </tr>\n",
       "    <tr>\n",
       "      <th>30</th>\n",
       "      <td>address</td>\n",
       "      <td>phone1</td>\n",
       "      <td>ContingencySimilarity</td>\n",
       "      <td>0.000000e+00</td>\n",
       "      <td>NaN</td>\n",
       "      <td>NaN</td>\n",
       "    </tr>\n",
       "    <tr>\n",
       "      <th>31</th>\n",
       "      <td>address</td>\n",
       "      <td>phone2</td>\n",
       "      <td>ContingencySimilarity</td>\n",
       "      <td>2.000000e-03</td>\n",
       "      <td>NaN</td>\n",
       "      <td>NaN</td>\n",
       "    </tr>\n",
       "    <tr>\n",
       "      <th>32</th>\n",
       "      <td>address</td>\n",
       "      <td>email</td>\n",
       "      <td>ContingencySimilarity</td>\n",
       "      <td>2.000000e-03</td>\n",
       "      <td>NaN</td>\n",
       "      <td>NaN</td>\n",
       "    </tr>\n",
       "    <tr>\n",
       "      <th>33</th>\n",
       "      <td>address</td>\n",
       "      <td>web</td>\n",
       "      <td>ContingencySimilarity</td>\n",
       "      <td>0.000000e+00</td>\n",
       "      <td>NaN</td>\n",
       "      <td>NaN</td>\n",
       "    </tr>\n",
       "    <tr>\n",
       "      <th>34</th>\n",
       "      <td>city</td>\n",
       "      <td>county</td>\n",
       "      <td>ContingencySimilarity</td>\n",
       "      <td>1.500000e-02</td>\n",
       "      <td>NaN</td>\n",
       "      <td>NaN</td>\n",
       "    </tr>\n",
       "    <tr>\n",
       "      <th>35</th>\n",
       "      <td>city</td>\n",
       "      <td>postal</td>\n",
       "      <td>ContingencySimilarity</td>\n",
       "      <td>0.000000e+00</td>\n",
       "      <td>NaN</td>\n",
       "      <td>NaN</td>\n",
       "    </tr>\n",
       "    <tr>\n",
       "      <th>36</th>\n",
       "      <td>city</td>\n",
       "      <td>phone1</td>\n",
       "      <td>ContingencySimilarity</td>\n",
       "      <td>0.000000e+00</td>\n",
       "      <td>NaN</td>\n",
       "      <td>NaN</td>\n",
       "    </tr>\n",
       "    <tr>\n",
       "      <th>37</th>\n",
       "      <td>city</td>\n",
       "      <td>phone2</td>\n",
       "      <td>ContingencySimilarity</td>\n",
       "      <td>-2.220446e-16</td>\n",
       "      <td>NaN</td>\n",
       "      <td>NaN</td>\n",
       "    </tr>\n",
       "    <tr>\n",
       "      <th>38</th>\n",
       "      <td>city</td>\n",
       "      <td>email</td>\n",
       "      <td>ContingencySimilarity</td>\n",
       "      <td>2.000000e-03</td>\n",
       "      <td>NaN</td>\n",
       "      <td>NaN</td>\n",
       "    </tr>\n",
       "    <tr>\n",
       "      <th>39</th>\n",
       "      <td>city</td>\n",
       "      <td>web</td>\n",
       "      <td>ContingencySimilarity</td>\n",
       "      <td>0.000000e+00</td>\n",
       "      <td>NaN</td>\n",
       "      <td>NaN</td>\n",
       "    </tr>\n",
       "    <tr>\n",
       "      <th>40</th>\n",
       "      <td>county</td>\n",
       "      <td>postal</td>\n",
       "      <td>ContingencySimilarity</td>\n",
       "      <td>1.000000e-02</td>\n",
       "      <td>NaN</td>\n",
       "      <td>NaN</td>\n",
       "    </tr>\n",
       "    <tr>\n",
       "      <th>41</th>\n",
       "      <td>county</td>\n",
       "      <td>phone1</td>\n",
       "      <td>ContingencySimilarity</td>\n",
       "      <td>8.000000e-03</td>\n",
       "      <td>NaN</td>\n",
       "      <td>NaN</td>\n",
       "    </tr>\n",
       "    <tr>\n",
       "      <th>42</th>\n",
       "      <td>county</td>\n",
       "      <td>phone2</td>\n",
       "      <td>ContingencySimilarity</td>\n",
       "      <td>2.000000e-03</td>\n",
       "      <td>NaN</td>\n",
       "      <td>NaN</td>\n",
       "    </tr>\n",
       "    <tr>\n",
       "      <th>43</th>\n",
       "      <td>county</td>\n",
       "      <td>email</td>\n",
       "      <td>ContingencySimilarity</td>\n",
       "      <td>1.200000e-02</td>\n",
       "      <td>NaN</td>\n",
       "      <td>NaN</td>\n",
       "    </tr>\n",
       "    <tr>\n",
       "      <th>44</th>\n",
       "      <td>county</td>\n",
       "      <td>web</td>\n",
       "      <td>ContingencySimilarity</td>\n",
       "      <td>1.200000e-02</td>\n",
       "      <td>NaN</td>\n",
       "      <td>NaN</td>\n",
       "    </tr>\n",
       "    <tr>\n",
       "      <th>45</th>\n",
       "      <td>phone1</td>\n",
       "      <td>postal</td>\n",
       "      <td>ContingencySimilarity</td>\n",
       "      <td>0.000000e+00</td>\n",
       "      <td>NaN</td>\n",
       "      <td>NaN</td>\n",
       "    </tr>\n",
       "    <tr>\n",
       "      <th>46</th>\n",
       "      <td>phone2</td>\n",
       "      <td>postal</td>\n",
       "      <td>ContingencySimilarity</td>\n",
       "      <td>2.000000e-03</td>\n",
       "      <td>NaN</td>\n",
       "      <td>NaN</td>\n",
       "    </tr>\n",
       "    <tr>\n",
       "      <th>47</th>\n",
       "      <td>email</td>\n",
       "      <td>postal</td>\n",
       "      <td>ContingencySimilarity</td>\n",
       "      <td>2.000000e-03</td>\n",
       "      <td>NaN</td>\n",
       "      <td>NaN</td>\n",
       "    </tr>\n",
       "    <tr>\n",
       "      <th>48</th>\n",
       "      <td>postal</td>\n",
       "      <td>web</td>\n",
       "      <td>ContingencySimilarity</td>\n",
       "      <td>0.000000e+00</td>\n",
       "      <td>NaN</td>\n",
       "      <td>NaN</td>\n",
       "    </tr>\n",
       "    <tr>\n",
       "      <th>49</th>\n",
       "      <td>phone1</td>\n",
       "      <td>phone2</td>\n",
       "      <td>ContingencySimilarity</td>\n",
       "      <td>4.000000e-03</td>\n",
       "      <td>NaN</td>\n",
       "      <td>NaN</td>\n",
       "    </tr>\n",
       "    <tr>\n",
       "      <th>50</th>\n",
       "      <td>email</td>\n",
       "      <td>phone1</td>\n",
       "      <td>ContingencySimilarity</td>\n",
       "      <td>0.000000e+00</td>\n",
       "      <td>NaN</td>\n",
       "      <td>NaN</td>\n",
       "    </tr>\n",
       "    <tr>\n",
       "      <th>51</th>\n",
       "      <td>phone1</td>\n",
       "      <td>web</td>\n",
       "      <td>ContingencySimilarity</td>\n",
       "      <td>0.000000e+00</td>\n",
       "      <td>NaN</td>\n",
       "      <td>NaN</td>\n",
       "    </tr>\n",
       "    <tr>\n",
       "      <th>52</th>\n",
       "      <td>email</td>\n",
       "      <td>phone2</td>\n",
       "      <td>ContingencySimilarity</td>\n",
       "      <td>-2.220446e-16</td>\n",
       "      <td>NaN</td>\n",
       "      <td>NaN</td>\n",
       "    </tr>\n",
       "    <tr>\n",
       "      <th>53</th>\n",
       "      <td>phone2</td>\n",
       "      <td>web</td>\n",
       "      <td>ContingencySimilarity</td>\n",
       "      <td>0.000000e+00</td>\n",
       "      <td>NaN</td>\n",
       "      <td>NaN</td>\n",
       "    </tr>\n",
       "    <tr>\n",
       "      <th>54</th>\n",
       "      <td>email</td>\n",
       "      <td>web</td>\n",
       "      <td>ContingencySimilarity</td>\n",
       "      <td>0.000000e+00</td>\n",
       "      <td>NaN</td>\n",
       "      <td>NaN</td>\n",
       "    </tr>\n",
       "  </tbody>\n",
       "</table>\n",
       "</div>"
      ],
      "text/plain": [
       "        Column 1      Column 2                 Metric  Quality Score  \\\n",
       "0     first_name     last_name  ContingencySimilarity   2.000000e-03   \n",
       "1   company_name    first_name  ContingencySimilarity   2.000000e-03   \n",
       "2        address    first_name  ContingencySimilarity   2.000000e-03   \n",
       "3           city    first_name  ContingencySimilarity   2.000000e-03   \n",
       "4         county    first_name  ContingencySimilarity   8.000000e-03   \n",
       "5     first_name        postal  ContingencySimilarity   2.000000e-03   \n",
       "6     first_name        phone1  ContingencySimilarity   2.000000e-03   \n",
       "7     first_name        phone2  ContingencySimilarity   2.000000e-03   \n",
       "8          email    first_name  ContingencySimilarity  -2.220446e-16   \n",
       "9     first_name           web  ContingencySimilarity   2.000000e-03   \n",
       "10  company_name     last_name  ContingencySimilarity  -2.220446e-16   \n",
       "11       address     last_name  ContingencySimilarity  -2.220446e-16   \n",
       "12          city     last_name  ContingencySimilarity  -2.220446e-16   \n",
       "13        county     last_name  ContingencySimilarity   1.600000e-02   \n",
       "14     last_name        postal  ContingencySimilarity   0.000000e+00   \n",
       "15     last_name        phone1  ContingencySimilarity   2.000000e-03   \n",
       "16     last_name        phone2  ContingencySimilarity   2.000000e-03   \n",
       "17         email     last_name  ContingencySimilarity  -2.220446e-16   \n",
       "18     last_name           web  ContingencySimilarity   0.000000e+00   \n",
       "19       address  company_name  ContingencySimilarity  -2.220446e-16   \n",
       "20          city  company_name  ContingencySimilarity  -2.220446e-16   \n",
       "21  company_name        county  ContingencySimilarity   4.000000e-03   \n",
       "22  company_name        postal  ContingencySimilarity   0.000000e+00   \n",
       "23  company_name        phone1  ContingencySimilarity   0.000000e+00   \n",
       "24  company_name        phone2  ContingencySimilarity  -2.220446e-16   \n",
       "25  company_name         email  ContingencySimilarity  -2.220446e-16   \n",
       "26  company_name           web  ContingencySimilarity   0.000000e+00   \n",
       "27       address          city  ContingencySimilarity   0.000000e+00   \n",
       "28       address        county  ContingencySimilarity   1.200000e-02   \n",
       "29       address        postal  ContingencySimilarity   0.000000e+00   \n",
       "30       address        phone1  ContingencySimilarity   0.000000e+00   \n",
       "31       address        phone2  ContingencySimilarity   2.000000e-03   \n",
       "32       address         email  ContingencySimilarity   2.000000e-03   \n",
       "33       address           web  ContingencySimilarity   0.000000e+00   \n",
       "34          city        county  ContingencySimilarity   1.500000e-02   \n",
       "35          city        postal  ContingencySimilarity   0.000000e+00   \n",
       "36          city        phone1  ContingencySimilarity   0.000000e+00   \n",
       "37          city        phone2  ContingencySimilarity  -2.220446e-16   \n",
       "38          city         email  ContingencySimilarity   2.000000e-03   \n",
       "39          city           web  ContingencySimilarity   0.000000e+00   \n",
       "40        county        postal  ContingencySimilarity   1.000000e-02   \n",
       "41        county        phone1  ContingencySimilarity   8.000000e-03   \n",
       "42        county        phone2  ContingencySimilarity   2.000000e-03   \n",
       "43        county         email  ContingencySimilarity   1.200000e-02   \n",
       "44        county           web  ContingencySimilarity   1.200000e-02   \n",
       "45        phone1        postal  ContingencySimilarity   0.000000e+00   \n",
       "46        phone2        postal  ContingencySimilarity   2.000000e-03   \n",
       "47         email        postal  ContingencySimilarity   2.000000e-03   \n",
       "48        postal           web  ContingencySimilarity   0.000000e+00   \n",
       "49        phone1        phone2  ContingencySimilarity   4.000000e-03   \n",
       "50         email        phone1  ContingencySimilarity   0.000000e+00   \n",
       "51        phone1           web  ContingencySimilarity   0.000000e+00   \n",
       "52         email        phone2  ContingencySimilarity  -2.220446e-16   \n",
       "53        phone2           web  ContingencySimilarity   0.000000e+00   \n",
       "54         email           web  ContingencySimilarity   0.000000e+00   \n",
       "\n",
       "    Real Correlation  Synthetic Correlation  \n",
       "0                NaN                    NaN  \n",
       "1                NaN                    NaN  \n",
       "2                NaN                    NaN  \n",
       "3                NaN                    NaN  \n",
       "4                NaN                    NaN  \n",
       "5                NaN                    NaN  \n",
       "6                NaN                    NaN  \n",
       "7                NaN                    NaN  \n",
       "8                NaN                    NaN  \n",
       "9                NaN                    NaN  \n",
       "10               NaN                    NaN  \n",
       "11               NaN                    NaN  \n",
       "12               NaN                    NaN  \n",
       "13               NaN                    NaN  \n",
       "14               NaN                    NaN  \n",
       "15               NaN                    NaN  \n",
       "16               NaN                    NaN  \n",
       "17               NaN                    NaN  \n",
       "18               NaN                    NaN  \n",
       "19               NaN                    NaN  \n",
       "20               NaN                    NaN  \n",
       "21               NaN                    NaN  \n",
       "22               NaN                    NaN  \n",
       "23               NaN                    NaN  \n",
       "24               NaN                    NaN  \n",
       "25               NaN                    NaN  \n",
       "26               NaN                    NaN  \n",
       "27               NaN                    NaN  \n",
       "28               NaN                    NaN  \n",
       "29               NaN                    NaN  \n",
       "30               NaN                    NaN  \n",
       "31               NaN                    NaN  \n",
       "32               NaN                    NaN  \n",
       "33               NaN                    NaN  \n",
       "34               NaN                    NaN  \n",
       "35               NaN                    NaN  \n",
       "36               NaN                    NaN  \n",
       "37               NaN                    NaN  \n",
       "38               NaN                    NaN  \n",
       "39               NaN                    NaN  \n",
       "40               NaN                    NaN  \n",
       "41               NaN                    NaN  \n",
       "42               NaN                    NaN  \n",
       "43               NaN                    NaN  \n",
       "44               NaN                    NaN  \n",
       "45               NaN                    NaN  \n",
       "46               NaN                    NaN  \n",
       "47               NaN                    NaN  \n",
       "48               NaN                    NaN  \n",
       "49               NaN                    NaN  \n",
       "50               NaN                    NaN  \n",
       "51               NaN                    NaN  \n",
       "52               NaN                    NaN  \n",
       "53               NaN                    NaN  \n",
       "54               NaN                    NaN  "
      ]
     },
     "execution_count": 13,
     "metadata": {},
     "output_type": "execute_result"
    }
   ],
   "source": [
    "# Ab hier Qualitäts auswertung\n",
    "# erwähnen dass für sowas wie namen ist es nicht relevant und sogar schlecht wenn überlappungen da sind \n",
    "# überlegen und erklären was namens columns für den quality report bedeuten \n",
    "# erstmal details ausgeben:\n",
    "my_report.get_details(property_name='Column Shapes')\n",
    "my_report.get_details(property_name='Column Pair Trends')\n",
    "# explain output -> not very helpfull?\n"
   ]
  },
  {
   "cell_type": "code",
   "execution_count": 14,
   "metadata": {},
   "outputs": [
    {
     "data": {
      "application/vnd.plotly.v1+json": {
       "config": {
        "plotlyServerURL": "https://plot.ly"
       },
       "data": [
        {
         "alignmentgroup": "True",
         "customdata": [
          [
           "TVComplement"
          ],
          [
           "TVComplement"
          ],
          [
           "TVComplement"
          ],
          [
           "TVComplement"
          ],
          [
           "TVComplement"
          ],
          [
           "TVComplement"
          ],
          [
           "TVComplement"
          ],
          [
           "TVComplement"
          ],
          [
           "TVComplement"
          ],
          [
           "TVComplement"
          ],
          [
           "TVComplement"
          ]
         ],
         "hovertemplate": "<b>%{hovertext}</b><br><br>Metric=%{customdata[0]}<br>Quality Score=%{y}<extra></extra>",
         "hovertext": [
          "first_name",
          "last_name",
          "company_name",
          "address",
          "city",
          "county",
          "postal",
          "phone1",
          "phone2",
          "email",
          "web"
         ],
         "legendgroup": "TVComplement",
         "marker": {
          "color": "#03AFF1",
          "pattern": {
           "shape": ""
          }
         },
         "name": "TVComplement",
         "offsetgroup": "TVComplement",
         "orientation": "v",
         "showlegend": true,
         "textposition": "auto",
         "type": "bar",
         "x": [
          "first_name",
          "last_name",
          "company_name",
          "address",
          "city",
          "county",
          "postal",
          "phone1",
          "phone2",
          "email",
          "web"
         ],
         "xaxis": "x",
         "y": [
          0.3580000000000009,
          0.3300000000000012,
          0.3200000000000014,
          0.3320000000000014,
          0.3680000000000011,
          0.7369999999999999,
          0.3260000000000013,
          0.33600000000000085,
          0.3240000000000013,
          0.3160000000000013,
          0.3360000000000013
         ],
         "yaxis": "y"
        }
       ],
       "layout": {
        "barmode": "relative",
        "legend": {
         "title": {
          "text": "Metric"
         },
         "tracegroupgap": 0
        },
        "margin": {
         "t": 150
        },
        "plot_bgcolor": "#F5F5F8",
        "template": {
         "data": {
          "bar": [
           {
            "error_x": {
             "color": "#2a3f5f"
            },
            "error_y": {
             "color": "#2a3f5f"
            },
            "marker": {
             "line": {
              "color": "#E5ECF6",
              "width": 0.5
             },
             "pattern": {
              "fillmode": "overlay",
              "size": 10,
              "solidity": 0.2
             }
            },
            "type": "bar"
           }
          ],
          "barpolar": [
           {
            "marker": {
             "line": {
              "color": "#E5ECF6",
              "width": 0.5
             },
             "pattern": {
              "fillmode": "overlay",
              "size": 10,
              "solidity": 0.2
             }
            },
            "type": "barpolar"
           }
          ],
          "carpet": [
           {
            "aaxis": {
             "endlinecolor": "#2a3f5f",
             "gridcolor": "white",
             "linecolor": "white",
             "minorgridcolor": "white",
             "startlinecolor": "#2a3f5f"
            },
            "baxis": {
             "endlinecolor": "#2a3f5f",
             "gridcolor": "white",
             "linecolor": "white",
             "minorgridcolor": "white",
             "startlinecolor": "#2a3f5f"
            },
            "type": "carpet"
           }
          ],
          "choropleth": [
           {
            "colorbar": {
             "outlinewidth": 0,
             "ticks": ""
            },
            "type": "choropleth"
           }
          ],
          "contour": [
           {
            "colorbar": {
             "outlinewidth": 0,
             "ticks": ""
            },
            "colorscale": [
             [
              0,
              "#0d0887"
             ],
             [
              0.1111111111111111,
              "#46039f"
             ],
             [
              0.2222222222222222,
              "#7201a8"
             ],
             [
              0.3333333333333333,
              "#9c179e"
             ],
             [
              0.4444444444444444,
              "#bd3786"
             ],
             [
              0.5555555555555556,
              "#d8576b"
             ],
             [
              0.6666666666666666,
              "#ed7953"
             ],
             [
              0.7777777777777778,
              "#fb9f3a"
             ],
             [
              0.8888888888888888,
              "#fdca26"
             ],
             [
              1,
              "#f0f921"
             ]
            ],
            "type": "contour"
           }
          ],
          "contourcarpet": [
           {
            "colorbar": {
             "outlinewidth": 0,
             "ticks": ""
            },
            "type": "contourcarpet"
           }
          ],
          "heatmap": [
           {
            "colorbar": {
             "outlinewidth": 0,
             "ticks": ""
            },
            "colorscale": [
             [
              0,
              "#0d0887"
             ],
             [
              0.1111111111111111,
              "#46039f"
             ],
             [
              0.2222222222222222,
              "#7201a8"
             ],
             [
              0.3333333333333333,
              "#9c179e"
             ],
             [
              0.4444444444444444,
              "#bd3786"
             ],
             [
              0.5555555555555556,
              "#d8576b"
             ],
             [
              0.6666666666666666,
              "#ed7953"
             ],
             [
              0.7777777777777778,
              "#fb9f3a"
             ],
             [
              0.8888888888888888,
              "#fdca26"
             ],
             [
              1,
              "#f0f921"
             ]
            ],
            "type": "heatmap"
           }
          ],
          "heatmapgl": [
           {
            "colorbar": {
             "outlinewidth": 0,
             "ticks": ""
            },
            "colorscale": [
             [
              0,
              "#0d0887"
             ],
             [
              0.1111111111111111,
              "#46039f"
             ],
             [
              0.2222222222222222,
              "#7201a8"
             ],
             [
              0.3333333333333333,
              "#9c179e"
             ],
             [
              0.4444444444444444,
              "#bd3786"
             ],
             [
              0.5555555555555556,
              "#d8576b"
             ],
             [
              0.6666666666666666,
              "#ed7953"
             ],
             [
              0.7777777777777778,
              "#fb9f3a"
             ],
             [
              0.8888888888888888,
              "#fdca26"
             ],
             [
              1,
              "#f0f921"
             ]
            ],
            "type": "heatmapgl"
           }
          ],
          "histogram": [
           {
            "marker": {
             "pattern": {
              "fillmode": "overlay",
              "size": 10,
              "solidity": 0.2
             }
            },
            "type": "histogram"
           }
          ],
          "histogram2d": [
           {
            "colorbar": {
             "outlinewidth": 0,
             "ticks": ""
            },
            "colorscale": [
             [
              0,
              "#0d0887"
             ],
             [
              0.1111111111111111,
              "#46039f"
             ],
             [
              0.2222222222222222,
              "#7201a8"
             ],
             [
              0.3333333333333333,
              "#9c179e"
             ],
             [
              0.4444444444444444,
              "#bd3786"
             ],
             [
              0.5555555555555556,
              "#d8576b"
             ],
             [
              0.6666666666666666,
              "#ed7953"
             ],
             [
              0.7777777777777778,
              "#fb9f3a"
             ],
             [
              0.8888888888888888,
              "#fdca26"
             ],
             [
              1,
              "#f0f921"
             ]
            ],
            "type": "histogram2d"
           }
          ],
          "histogram2dcontour": [
           {
            "colorbar": {
             "outlinewidth": 0,
             "ticks": ""
            },
            "colorscale": [
             [
              0,
              "#0d0887"
             ],
             [
              0.1111111111111111,
              "#46039f"
             ],
             [
              0.2222222222222222,
              "#7201a8"
             ],
             [
              0.3333333333333333,
              "#9c179e"
             ],
             [
              0.4444444444444444,
              "#bd3786"
             ],
             [
              0.5555555555555556,
              "#d8576b"
             ],
             [
              0.6666666666666666,
              "#ed7953"
             ],
             [
              0.7777777777777778,
              "#fb9f3a"
             ],
             [
              0.8888888888888888,
              "#fdca26"
             ],
             [
              1,
              "#f0f921"
             ]
            ],
            "type": "histogram2dcontour"
           }
          ],
          "mesh3d": [
           {
            "colorbar": {
             "outlinewidth": 0,
             "ticks": ""
            },
            "type": "mesh3d"
           }
          ],
          "parcoords": [
           {
            "line": {
             "colorbar": {
              "outlinewidth": 0,
              "ticks": ""
             }
            },
            "type": "parcoords"
           }
          ],
          "pie": [
           {
            "automargin": true,
            "type": "pie"
           }
          ],
          "scatter": [
           {
            "fillpattern": {
             "fillmode": "overlay",
             "size": 10,
             "solidity": 0.2
            },
            "type": "scatter"
           }
          ],
          "scatter3d": [
           {
            "line": {
             "colorbar": {
              "outlinewidth": 0,
              "ticks": ""
             }
            },
            "marker": {
             "colorbar": {
              "outlinewidth": 0,
              "ticks": ""
             }
            },
            "type": "scatter3d"
           }
          ],
          "scattercarpet": [
           {
            "marker": {
             "colorbar": {
              "outlinewidth": 0,
              "ticks": ""
             }
            },
            "type": "scattercarpet"
           }
          ],
          "scattergeo": [
           {
            "marker": {
             "colorbar": {
              "outlinewidth": 0,
              "ticks": ""
             }
            },
            "type": "scattergeo"
           }
          ],
          "scattergl": [
           {
            "marker": {
             "colorbar": {
              "outlinewidth": 0,
              "ticks": ""
             }
            },
            "type": "scattergl"
           }
          ],
          "scattermapbox": [
           {
            "marker": {
             "colorbar": {
              "outlinewidth": 0,
              "ticks": ""
             }
            },
            "type": "scattermapbox"
           }
          ],
          "scatterpolar": [
           {
            "marker": {
             "colorbar": {
              "outlinewidth": 0,
              "ticks": ""
             }
            },
            "type": "scatterpolar"
           }
          ],
          "scatterpolargl": [
           {
            "marker": {
             "colorbar": {
              "outlinewidth": 0,
              "ticks": ""
             }
            },
            "type": "scatterpolargl"
           }
          ],
          "scatterternary": [
           {
            "marker": {
             "colorbar": {
              "outlinewidth": 0,
              "ticks": ""
             }
            },
            "type": "scatterternary"
           }
          ],
          "surface": [
           {
            "colorbar": {
             "outlinewidth": 0,
             "ticks": ""
            },
            "colorscale": [
             [
              0,
              "#0d0887"
             ],
             [
              0.1111111111111111,
              "#46039f"
             ],
             [
              0.2222222222222222,
              "#7201a8"
             ],
             [
              0.3333333333333333,
              "#9c179e"
             ],
             [
              0.4444444444444444,
              "#bd3786"
             ],
             [
              0.5555555555555556,
              "#d8576b"
             ],
             [
              0.6666666666666666,
              "#ed7953"
             ],
             [
              0.7777777777777778,
              "#fb9f3a"
             ],
             [
              0.8888888888888888,
              "#fdca26"
             ],
             [
              1,
              "#f0f921"
             ]
            ],
            "type": "surface"
           }
          ],
          "table": [
           {
            "cells": {
             "fill": {
              "color": "#EBF0F8"
             },
             "line": {
              "color": "white"
             }
            },
            "header": {
             "fill": {
              "color": "#C8D4E3"
             },
             "line": {
              "color": "white"
             }
            },
            "type": "table"
           }
          ]
         },
         "layout": {
          "annotationdefaults": {
           "arrowcolor": "#2a3f5f",
           "arrowhead": 0,
           "arrowwidth": 1
          },
          "autotypenumbers": "strict",
          "coloraxis": {
           "colorbar": {
            "outlinewidth": 0,
            "ticks": ""
           }
          },
          "colorscale": {
           "diverging": [
            [
             0,
             "#8e0152"
            ],
            [
             0.1,
             "#c51b7d"
            ],
            [
             0.2,
             "#de77ae"
            ],
            [
             0.3,
             "#f1b6da"
            ],
            [
             0.4,
             "#fde0ef"
            ],
            [
             0.5,
             "#f7f7f7"
            ],
            [
             0.6,
             "#e6f5d0"
            ],
            [
             0.7,
             "#b8e186"
            ],
            [
             0.8,
             "#7fbc41"
            ],
            [
             0.9,
             "#4d9221"
            ],
            [
             1,
             "#276419"
            ]
           ],
           "sequential": [
            [
             0,
             "#0d0887"
            ],
            [
             0.1111111111111111,
             "#46039f"
            ],
            [
             0.2222222222222222,
             "#7201a8"
            ],
            [
             0.3333333333333333,
             "#9c179e"
            ],
            [
             0.4444444444444444,
             "#bd3786"
            ],
            [
             0.5555555555555556,
             "#d8576b"
            ],
            [
             0.6666666666666666,
             "#ed7953"
            ],
            [
             0.7777777777777778,
             "#fb9f3a"
            ],
            [
             0.8888888888888888,
             "#fdca26"
            ],
            [
             1,
             "#f0f921"
            ]
           ],
           "sequentialminus": [
            [
             0,
             "#0d0887"
            ],
            [
             0.1111111111111111,
             "#46039f"
            ],
            [
             0.2222222222222222,
             "#7201a8"
            ],
            [
             0.3333333333333333,
             "#9c179e"
            ],
            [
             0.4444444444444444,
             "#bd3786"
            ],
            [
             0.5555555555555556,
             "#d8576b"
            ],
            [
             0.6666666666666666,
             "#ed7953"
            ],
            [
             0.7777777777777778,
             "#fb9f3a"
            ],
            [
             0.8888888888888888,
             "#fdca26"
            ],
            [
             1,
             "#f0f921"
            ]
           ]
          },
          "colorway": [
           "#636efa",
           "#EF553B",
           "#00cc96",
           "#ab63fa",
           "#FFA15A",
           "#19d3f3",
           "#FF6692",
           "#B6E880",
           "#FF97FF",
           "#FECB52"
          ],
          "font": {
           "color": "#2a3f5f"
          },
          "geo": {
           "bgcolor": "white",
           "lakecolor": "white",
           "landcolor": "#E5ECF6",
           "showlakes": true,
           "showland": true,
           "subunitcolor": "white"
          },
          "hoverlabel": {
           "align": "left"
          },
          "hovermode": "closest",
          "mapbox": {
           "style": "light"
          },
          "paper_bgcolor": "white",
          "plot_bgcolor": "#E5ECF6",
          "polar": {
           "angularaxis": {
            "gridcolor": "white",
            "linecolor": "white",
            "ticks": ""
           },
           "bgcolor": "#E5ECF6",
           "radialaxis": {
            "gridcolor": "white",
            "linecolor": "white",
            "ticks": ""
           }
          },
          "scene": {
           "xaxis": {
            "backgroundcolor": "#E5ECF6",
            "gridcolor": "white",
            "gridwidth": 2,
            "linecolor": "white",
            "showbackground": true,
            "ticks": "",
            "zerolinecolor": "white"
           },
           "yaxis": {
            "backgroundcolor": "#E5ECF6",
            "gridcolor": "white",
            "gridwidth": 2,
            "linecolor": "white",
            "showbackground": true,
            "ticks": "",
            "zerolinecolor": "white"
           },
           "zaxis": {
            "backgroundcolor": "#E5ECF6",
            "gridcolor": "white",
            "gridwidth": 2,
            "linecolor": "white",
            "showbackground": true,
            "ticks": "",
            "zerolinecolor": "white"
           }
          },
          "shapedefaults": {
           "line": {
            "color": "#2a3f5f"
           }
          },
          "ternary": {
           "aaxis": {
            "gridcolor": "white",
            "linecolor": "white",
            "ticks": ""
           },
           "baxis": {
            "gridcolor": "white",
            "linecolor": "white",
            "ticks": ""
           },
           "bgcolor": "#E5ECF6",
           "caxis": {
            "gridcolor": "white",
            "linecolor": "white",
            "ticks": ""
           }
          },
          "title": {
           "x": 0.05
          },
          "xaxis": {
           "automargin": true,
           "gridcolor": "white",
           "linecolor": "white",
           "ticks": "",
           "title": {
            "standoff": 15
           },
           "zerolinecolor": "white",
           "zerolinewidth": 2
          },
          "yaxis": {
           "automargin": true,
           "gridcolor": "white",
           "linecolor": "white",
           "ticks": "",
           "title": {
            "standoff": 15
           },
           "zerolinecolor": "white",
           "zerolinewidth": 2
          }
         }
        },
        "title": {
         "text": "Data Quality: Column Shapes (Average Score=0.37)"
        },
        "xaxis": {
         "anchor": "y",
         "categoryorder": "total ascending",
         "domain": [
          0,
          1
         ],
         "title": {
          "text": "Column Name"
         }
        },
        "yaxis": {
         "anchor": "x",
         "domain": [
          0,
          1
         ],
         "range": [
          0,
          1
         ],
         "title": {
          "text": "Quality Score"
         }
        }
       }
      }
     },
     "metadata": {},
     "output_type": "display_data"
    }
   ],
   "source": [
    "fig = my_report.get_visualization(property_name='Column Shapes')\n",
    "fig.show()\n",
    "\n",
    "# ValueError: Mime type rendering requires nbformat>=4.2.0 but it is not installed erklären?\n",
    "# uU nötig: !pip install --upgrade nbformat\n",
    "# explaining safe report and load ist möglich -> nicht zeigen sondern am ende erwähnen -> ist schon im tutorial drin"
   ]
  },
  {
   "cell_type": "code",
   "execution_count": null,
   "metadata": {},
   "outputs": [],
   "source": [
    "# Die bige grafik erklären -> und drauf eingehenwie es verbessert werden kann \n",
    "# -> die verbesserung umsetzen und dann zeigen wie es sich verbessert"
   ]
  },
  {
   "cell_type": "code",
   "execution_count": 15,
   "metadata": {},
   "outputs": [
    {
     "name": "stderr",
     "output_type": "stream",
     "text": [
      "Creating report: 100%|██████████| 4/4 [00:00<00:00,  5.02it/s]"
     ]
    },
    {
     "name": "stdout",
     "output_type": "stream",
     "text": [
      "\n",
      "DiagnosticResults:\n",
      "\n",
      "SUCCESS:\n",
      "✓ Over 90% of the synthetic rows are not copies of the real data\n",
      "\n",
      "DANGER:\n",
      "x The synthetic data is missing more than 50% of the categories present in the real data\n"
     ]
    },
    {
     "name": "stderr",
     "output_type": "stream",
     "text": [
      "\n"
     ]
    }
   ],
   "source": [
    "# Diagnostic report Zeigen:\n",
    "from sdmetrics.reports.single_table import DiagnosticReport\n",
    "\n",
    "dg_report = DiagnosticReport()\n",
    "dg_report.generate(real_data, synthetic_data, metadata_coltypes)\n",
    "# Explain output und wie du das verbessern kannst -> demonstrate die verbesserung\n",
    "# als dirctionary speichern möglich\n"
   ]
  },
  {
   "cell_type": "code",
   "execution_count": null,
   "metadata": {},
   "outputs": [],
   "source": [
    "dg_report.get_details(property_name='Coverage')\n",
    "# explain numbers:"
   ]
  },
  {
   "cell_type": "code",
   "execution_count": 17,
   "metadata": {},
   "outputs": [
    {
     "data": {
      "application/vnd.plotly.v1+json": {
       "config": {
        "plotlyServerURL": "https://plot.ly"
       },
       "data": [
        {
         "alignmentgroup": "True",
         "customdata": [
          [
           "CategoryCoverage"
          ],
          [
           "CategoryCoverage"
          ],
          [
           "CategoryCoverage"
          ],
          [
           "CategoryCoverage"
          ],
          [
           "CategoryCoverage"
          ],
          [
           "CategoryCoverage"
          ],
          [
           "CategoryCoverage"
          ],
          [
           "CategoryCoverage"
          ],
          [
           "CategoryCoverage"
          ],
          [
           "CategoryCoverage"
          ],
          [
           "CategoryCoverage"
          ]
         ],
         "hovertemplate": "<b>%{hovertext}</b><br><br>Metric=%{customdata[0]}<br>Diagnostic Score=%{y}<extra></extra>",
         "hovertext": [
          "first_name",
          "last_name",
          "company_name",
          "address",
          "city",
          "county",
          "postal",
          "phone1",
          "phone2",
          "email",
          "web"
         ],
         "legendgroup": "CategoryCoverage",
         "marker": {
          "color": "#03AFF1",
          "pattern": {
           "shape": ""
          }
         },
         "name": "CategoryCoverage",
         "offsetgroup": "CategoryCoverage",
         "orientation": "v",
         "showlegend": true,
         "textposition": "auto",
         "type": "bar",
         "x": [
          "first_name",
          "last_name",
          "company_name",
          "address",
          "city",
          "county",
          "postal",
          "phone1",
          "phone2",
          "email",
          "web"
         ],
         "xaxis": "x",
         "y": [
          0.3465553235908142,
          0.3293172690763052,
          0.3192771084337349,
          0.332,
          0.3504273504273504,
          0.6666666666666666,
          0.326,
          0.336,
          0.324,
          0.316,
          0.3353413654618474
         ],
         "yaxis": "y"
        }
       ],
       "layout": {
        "barmode": "relative",
        "legend": {
         "title": {
          "text": "Metric"
         },
         "tracegroupgap": 0
        },
        "margin": {
         "t": 150
        },
        "plot_bgcolor": "#F5F5F8",
        "template": {
         "data": {
          "bar": [
           {
            "error_x": {
             "color": "#2a3f5f"
            },
            "error_y": {
             "color": "#2a3f5f"
            },
            "marker": {
             "line": {
              "color": "#E5ECF6",
              "width": 0.5
             },
             "pattern": {
              "fillmode": "overlay",
              "size": 10,
              "solidity": 0.2
             }
            },
            "type": "bar"
           }
          ],
          "barpolar": [
           {
            "marker": {
             "line": {
              "color": "#E5ECF6",
              "width": 0.5
             },
             "pattern": {
              "fillmode": "overlay",
              "size": 10,
              "solidity": 0.2
             }
            },
            "type": "barpolar"
           }
          ],
          "carpet": [
           {
            "aaxis": {
             "endlinecolor": "#2a3f5f",
             "gridcolor": "white",
             "linecolor": "white",
             "minorgridcolor": "white",
             "startlinecolor": "#2a3f5f"
            },
            "baxis": {
             "endlinecolor": "#2a3f5f",
             "gridcolor": "white",
             "linecolor": "white",
             "minorgridcolor": "white",
             "startlinecolor": "#2a3f5f"
            },
            "type": "carpet"
           }
          ],
          "choropleth": [
           {
            "colorbar": {
             "outlinewidth": 0,
             "ticks": ""
            },
            "type": "choropleth"
           }
          ],
          "contour": [
           {
            "colorbar": {
             "outlinewidth": 0,
             "ticks": ""
            },
            "colorscale": [
             [
              0,
              "#0d0887"
             ],
             [
              0.1111111111111111,
              "#46039f"
             ],
             [
              0.2222222222222222,
              "#7201a8"
             ],
             [
              0.3333333333333333,
              "#9c179e"
             ],
             [
              0.4444444444444444,
              "#bd3786"
             ],
             [
              0.5555555555555556,
              "#d8576b"
             ],
             [
              0.6666666666666666,
              "#ed7953"
             ],
             [
              0.7777777777777778,
              "#fb9f3a"
             ],
             [
              0.8888888888888888,
              "#fdca26"
             ],
             [
              1,
              "#f0f921"
             ]
            ],
            "type": "contour"
           }
          ],
          "contourcarpet": [
           {
            "colorbar": {
             "outlinewidth": 0,
             "ticks": ""
            },
            "type": "contourcarpet"
           }
          ],
          "heatmap": [
           {
            "colorbar": {
             "outlinewidth": 0,
             "ticks": ""
            },
            "colorscale": [
             [
              0,
              "#0d0887"
             ],
             [
              0.1111111111111111,
              "#46039f"
             ],
             [
              0.2222222222222222,
              "#7201a8"
             ],
             [
              0.3333333333333333,
              "#9c179e"
             ],
             [
              0.4444444444444444,
              "#bd3786"
             ],
             [
              0.5555555555555556,
              "#d8576b"
             ],
             [
              0.6666666666666666,
              "#ed7953"
             ],
             [
              0.7777777777777778,
              "#fb9f3a"
             ],
             [
              0.8888888888888888,
              "#fdca26"
             ],
             [
              1,
              "#f0f921"
             ]
            ],
            "type": "heatmap"
           }
          ],
          "heatmapgl": [
           {
            "colorbar": {
             "outlinewidth": 0,
             "ticks": ""
            },
            "colorscale": [
             [
              0,
              "#0d0887"
             ],
             [
              0.1111111111111111,
              "#46039f"
             ],
             [
              0.2222222222222222,
              "#7201a8"
             ],
             [
              0.3333333333333333,
              "#9c179e"
             ],
             [
              0.4444444444444444,
              "#bd3786"
             ],
             [
              0.5555555555555556,
              "#d8576b"
             ],
             [
              0.6666666666666666,
              "#ed7953"
             ],
             [
              0.7777777777777778,
              "#fb9f3a"
             ],
             [
              0.8888888888888888,
              "#fdca26"
             ],
             [
              1,
              "#f0f921"
             ]
            ],
            "type": "heatmapgl"
           }
          ],
          "histogram": [
           {
            "marker": {
             "pattern": {
              "fillmode": "overlay",
              "size": 10,
              "solidity": 0.2
             }
            },
            "type": "histogram"
           }
          ],
          "histogram2d": [
           {
            "colorbar": {
             "outlinewidth": 0,
             "ticks": ""
            },
            "colorscale": [
             [
              0,
              "#0d0887"
             ],
             [
              0.1111111111111111,
              "#46039f"
             ],
             [
              0.2222222222222222,
              "#7201a8"
             ],
             [
              0.3333333333333333,
              "#9c179e"
             ],
             [
              0.4444444444444444,
              "#bd3786"
             ],
             [
              0.5555555555555556,
              "#d8576b"
             ],
             [
              0.6666666666666666,
              "#ed7953"
             ],
             [
              0.7777777777777778,
              "#fb9f3a"
             ],
             [
              0.8888888888888888,
              "#fdca26"
             ],
             [
              1,
              "#f0f921"
             ]
            ],
            "type": "histogram2d"
           }
          ],
          "histogram2dcontour": [
           {
            "colorbar": {
             "outlinewidth": 0,
             "ticks": ""
            },
            "colorscale": [
             [
              0,
              "#0d0887"
             ],
             [
              0.1111111111111111,
              "#46039f"
             ],
             [
              0.2222222222222222,
              "#7201a8"
             ],
             [
              0.3333333333333333,
              "#9c179e"
             ],
             [
              0.4444444444444444,
              "#bd3786"
             ],
             [
              0.5555555555555556,
              "#d8576b"
             ],
             [
              0.6666666666666666,
              "#ed7953"
             ],
             [
              0.7777777777777778,
              "#fb9f3a"
             ],
             [
              0.8888888888888888,
              "#fdca26"
             ],
             [
              1,
              "#f0f921"
             ]
            ],
            "type": "histogram2dcontour"
           }
          ],
          "mesh3d": [
           {
            "colorbar": {
             "outlinewidth": 0,
             "ticks": ""
            },
            "type": "mesh3d"
           }
          ],
          "parcoords": [
           {
            "line": {
             "colorbar": {
              "outlinewidth": 0,
              "ticks": ""
             }
            },
            "type": "parcoords"
           }
          ],
          "pie": [
           {
            "automargin": true,
            "type": "pie"
           }
          ],
          "scatter": [
           {
            "fillpattern": {
             "fillmode": "overlay",
             "size": 10,
             "solidity": 0.2
            },
            "type": "scatter"
           }
          ],
          "scatter3d": [
           {
            "line": {
             "colorbar": {
              "outlinewidth": 0,
              "ticks": ""
             }
            },
            "marker": {
             "colorbar": {
              "outlinewidth": 0,
              "ticks": ""
             }
            },
            "type": "scatter3d"
           }
          ],
          "scattercarpet": [
           {
            "marker": {
             "colorbar": {
              "outlinewidth": 0,
              "ticks": ""
             }
            },
            "type": "scattercarpet"
           }
          ],
          "scattergeo": [
           {
            "marker": {
             "colorbar": {
              "outlinewidth": 0,
              "ticks": ""
             }
            },
            "type": "scattergeo"
           }
          ],
          "scattergl": [
           {
            "marker": {
             "colorbar": {
              "outlinewidth": 0,
              "ticks": ""
             }
            },
            "type": "scattergl"
           }
          ],
          "scattermapbox": [
           {
            "marker": {
             "colorbar": {
              "outlinewidth": 0,
              "ticks": ""
             }
            },
            "type": "scattermapbox"
           }
          ],
          "scatterpolar": [
           {
            "marker": {
             "colorbar": {
              "outlinewidth": 0,
              "ticks": ""
             }
            },
            "type": "scatterpolar"
           }
          ],
          "scatterpolargl": [
           {
            "marker": {
             "colorbar": {
              "outlinewidth": 0,
              "ticks": ""
             }
            },
            "type": "scatterpolargl"
           }
          ],
          "scatterternary": [
           {
            "marker": {
             "colorbar": {
              "outlinewidth": 0,
              "ticks": ""
             }
            },
            "type": "scatterternary"
           }
          ],
          "surface": [
           {
            "colorbar": {
             "outlinewidth": 0,
             "ticks": ""
            },
            "colorscale": [
             [
              0,
              "#0d0887"
             ],
             [
              0.1111111111111111,
              "#46039f"
             ],
             [
              0.2222222222222222,
              "#7201a8"
             ],
             [
              0.3333333333333333,
              "#9c179e"
             ],
             [
              0.4444444444444444,
              "#bd3786"
             ],
             [
              0.5555555555555556,
              "#d8576b"
             ],
             [
              0.6666666666666666,
              "#ed7953"
             ],
             [
              0.7777777777777778,
              "#fb9f3a"
             ],
             [
              0.8888888888888888,
              "#fdca26"
             ],
             [
              1,
              "#f0f921"
             ]
            ],
            "type": "surface"
           }
          ],
          "table": [
           {
            "cells": {
             "fill": {
              "color": "#EBF0F8"
             },
             "line": {
              "color": "white"
             }
            },
            "header": {
             "fill": {
              "color": "#C8D4E3"
             },
             "line": {
              "color": "white"
             }
            },
            "type": "table"
           }
          ]
         },
         "layout": {
          "annotationdefaults": {
           "arrowcolor": "#2a3f5f",
           "arrowhead": 0,
           "arrowwidth": 1
          },
          "autotypenumbers": "strict",
          "coloraxis": {
           "colorbar": {
            "outlinewidth": 0,
            "ticks": ""
           }
          },
          "colorscale": {
           "diverging": [
            [
             0,
             "#8e0152"
            ],
            [
             0.1,
             "#c51b7d"
            ],
            [
             0.2,
             "#de77ae"
            ],
            [
             0.3,
             "#f1b6da"
            ],
            [
             0.4,
             "#fde0ef"
            ],
            [
             0.5,
             "#f7f7f7"
            ],
            [
             0.6,
             "#e6f5d0"
            ],
            [
             0.7,
             "#b8e186"
            ],
            [
             0.8,
             "#7fbc41"
            ],
            [
             0.9,
             "#4d9221"
            ],
            [
             1,
             "#276419"
            ]
           ],
           "sequential": [
            [
             0,
             "#0d0887"
            ],
            [
             0.1111111111111111,
             "#46039f"
            ],
            [
             0.2222222222222222,
             "#7201a8"
            ],
            [
             0.3333333333333333,
             "#9c179e"
            ],
            [
             0.4444444444444444,
             "#bd3786"
            ],
            [
             0.5555555555555556,
             "#d8576b"
            ],
            [
             0.6666666666666666,
             "#ed7953"
            ],
            [
             0.7777777777777778,
             "#fb9f3a"
            ],
            [
             0.8888888888888888,
             "#fdca26"
            ],
            [
             1,
             "#f0f921"
            ]
           ],
           "sequentialminus": [
            [
             0,
             "#0d0887"
            ],
            [
             0.1111111111111111,
             "#46039f"
            ],
            [
             0.2222222222222222,
             "#7201a8"
            ],
            [
             0.3333333333333333,
             "#9c179e"
            ],
            [
             0.4444444444444444,
             "#bd3786"
            ],
            [
             0.5555555555555556,
             "#d8576b"
            ],
            [
             0.6666666666666666,
             "#ed7953"
            ],
            [
             0.7777777777777778,
             "#fb9f3a"
            ],
            [
             0.8888888888888888,
             "#fdca26"
            ],
            [
             1,
             "#f0f921"
            ]
           ]
          },
          "colorway": [
           "#636efa",
           "#EF553B",
           "#00cc96",
           "#ab63fa",
           "#FFA15A",
           "#19d3f3",
           "#FF6692",
           "#B6E880",
           "#FF97FF",
           "#FECB52"
          ],
          "font": {
           "color": "#2a3f5f"
          },
          "geo": {
           "bgcolor": "white",
           "lakecolor": "white",
           "landcolor": "#E5ECF6",
           "showlakes": true,
           "showland": true,
           "subunitcolor": "white"
          },
          "hoverlabel": {
           "align": "left"
          },
          "hovermode": "closest",
          "mapbox": {
           "style": "light"
          },
          "paper_bgcolor": "white",
          "plot_bgcolor": "#E5ECF6",
          "polar": {
           "angularaxis": {
            "gridcolor": "white",
            "linecolor": "white",
            "ticks": ""
           },
           "bgcolor": "#E5ECF6",
           "radialaxis": {
            "gridcolor": "white",
            "linecolor": "white",
            "ticks": ""
           }
          },
          "scene": {
           "xaxis": {
            "backgroundcolor": "#E5ECF6",
            "gridcolor": "white",
            "gridwidth": 2,
            "linecolor": "white",
            "showbackground": true,
            "ticks": "",
            "zerolinecolor": "white"
           },
           "yaxis": {
            "backgroundcolor": "#E5ECF6",
            "gridcolor": "white",
            "gridwidth": 2,
            "linecolor": "white",
            "showbackground": true,
            "ticks": "",
            "zerolinecolor": "white"
           },
           "zaxis": {
            "backgroundcolor": "#E5ECF6",
            "gridcolor": "white",
            "gridwidth": 2,
            "linecolor": "white",
            "showbackground": true,
            "ticks": "",
            "zerolinecolor": "white"
           }
          },
          "shapedefaults": {
           "line": {
            "color": "#2a3f5f"
           }
          },
          "ternary": {
           "aaxis": {
            "gridcolor": "white",
            "linecolor": "white",
            "ticks": ""
           },
           "baxis": {
            "gridcolor": "white",
            "linecolor": "white",
            "ticks": ""
           },
           "bgcolor": "#E5ECF6",
           "caxis": {
            "gridcolor": "white",
            "linecolor": "white",
            "ticks": ""
           }
          },
          "title": {
           "x": 0.05
          },
          "xaxis": {
           "automargin": true,
           "gridcolor": "white",
           "linecolor": "white",
           "ticks": "",
           "title": {
            "standoff": 15
           },
           "zerolinecolor": "white",
           "zerolinewidth": 2
          },
          "yaxis": {
           "automargin": true,
           "gridcolor": "white",
           "linecolor": "white",
           "ticks": "",
           "title": {
            "standoff": 15
           },
           "zerolinecolor": "white",
           "zerolinewidth": 2
          }
         }
        },
        "title": {
         "text": "Data Diagnostics: Column Coverage (Average Score=0.36)"
        },
        "xaxis": {
         "anchor": "y",
         "categoryorder": "total ascending",
         "domain": [
          0,
          1
         ],
         "title": {
          "text": "Column Name"
         }
        },
        "yaxis": {
         "anchor": "x",
         "domain": [
          0,
          1
         ],
         "range": [
          0,
          1
         ],
         "title": {
          "text": "Diagnostic Score"
         }
        }
       }
      }
     },
     "metadata": {},
     "output_type": "display_data"
    }
   ],
   "source": [
    "fig = dg_report.get_visualization(property_name='Coverage')\n",
    "fig.show()\n",
    "# explain graf"
   ]
  },
  {
   "cell_type": "code",
   "execution_count": null,
   "metadata": {},
   "outputs": [],
   "source": [
    "# Extra visualisierungen die angeboten werden (für numerische variablen)\n",
    "from sdmetrics.reports import utils\n",
    "\n",
    "fig = utils.get_column_pair_plot(\n",
    "    real_data=real_data,\n",
    "    synthetic_data=synthetic_data,\n",
    "    #column_names=['mba_perc', 'degree_perc'], # anpassen\n",
    "    metadata=metadata_coltypes\n",
    "    \n",
    ")\n",
    "\n",
    "fig.show()"
   ]
  },
  {
   "cell_type": "code",
   "execution_count": 20,
   "metadata": {},
   "outputs": [],
   "source": [
    "# näher eingehen auf beta metrics -> utility metrics zB\n",
    "# check ob aus kiss interessante sachen rausgeholt werden können.\n",
    "# aus papern schauen was rausgeholt werden kann\n",
    "# zeigen was aus table evaluator rauskommen kann -> zusammenhänge der apckages erklären \n",
    "# -> und zeigen statistsich nicht aber gute indikator und einfacher zu erklären vor kunden\n",
    "\n",
    "# durchschnitt und standardabweichungen zeigen\n",
    "# ähnlichkeit bei emails ausdenken/vergleichen\n"
   ]
  },
  {
   "cell_type": "code",
   "execution_count": 21,
   "metadata": {},
   "outputs": [
    {
     "data": {
      "text/plain": [
       "Index(['first_name', 'last_name', 'company_name', 'address', 'city', 'county',\n",
       "       'postal', 'phone1', 'phone2', 'email', 'web'],\n",
       "      dtype='object')"
      ]
     },
     "execution_count": 21,
     "metadata": {},
     "output_type": "execute_result"
    }
   ],
   "source": [
    "# !!! Hilfscell löschen in showcase nb!!!!\n",
    "real_data.columns"
   ]
  },
  {
   "cell_type": "code",
   "execution_count": 26,
   "metadata": {},
   "outputs": [
    {
     "name": "stdout",
     "output_type": "stream",
     "text": [
      "500\n",
      "200\n",
      "166\n",
      "166\n",
      "168\n"
     ]
    }
   ],
   "source": [
    "# eigene comparison -> check ob das in sdv drin ist?\n",
    "common_values_fn = set(real_data['first_name'].values).intersection(set(synthetic_data['first_name'].values))\n",
    "common_values_ad = set(real_data['address'].values).intersection(set(synthetic_data['address'].values))\n",
    "common_values_ph = set(real_data['phone1'].values).intersection(set(synthetic_data['phone1'].values))\n",
    "print(len(real_data))\n",
    "print(len(synthetic_data))\n",
    "print(len(common_values_fn)) # interpretation not good\n",
    "print(len(common_values_ad)) # interpretation not good\n",
    "print(len(common_values_ph)) # interpretation not good\n",
    "# show anonymize property and explain how it works ->\n",
    "# alternative -> show how to use chatgpt for it??\n"
   ]
  },
  {
   "cell_type": "code",
   "execution_count": 32,
   "metadata": {},
   "outputs": [],
   "source": [
    "# update:\n",
    "model_an = CTGAN(anonymize_fields={\n",
    "        'last_name': 'last_name', # name -> full person name -> aus faker seite feststellen es gibt auch last und first name -> auch female male nonbinary names etc\n",
    "        'address': 'address'\n",
    "        # maby use nonbinary firstname für die ertsen namen..\n",
    "        \n",
    "    })\n",
    "model_an.fit(example_df,\n",
    "             )\n",
    "new_data_an = model_an.sample(num_rows=200)\n"
   ]
  },
  {
   "cell_type": "code",
   "execution_count": 33,
   "metadata": {},
   "outputs": [
    {
     "name": "stdout",
     "output_type": "stream",
     "text": [
      "0\n",
      "1\n",
      "  first_name  last_name               company_name  \\\n",
      "0    Tamesha       Bond        Lasting Impressions   \n",
      "1       Chan      Lopez  T J Ward & Associates Inc   \n",
      "2   Isabelle      Lewis    Safeguard Chemical Corp   \n",
      "3    Orville      Smith       Hughlett, Henry T Jr   \n",
      "4     Carrol   Thompson     Danka Business Systems   \n",
      "5   Mauricio    Sherman         Barr, Albert S Iii   \n",
      "6       Ivan     Weaver       Morelli Hoskins Ford   \n",
      "7     Martha       Kirk         Dale, George F Esq   \n",
      "8     Shanda  Hernandez         Acc Automation Inc   \n",
      "9        Val        Lee             Welders Supply   \n",
      "\n",
      "                                             address  \\\n",
      "0          2506 Eric Throughway\\nLake Erik, UT 35193   \n",
      "1       330 Michael Rest\\nEast Ronnieshire, TN 02822   \n",
      "2             8803 Cesar Trace\\nAmandabury, AL 01043   \n",
      "3  5043 Felicia Orchard Apt. 226\\nPort Anna, PA 6...   \n",
      "4      2317 Scott Locks\\nSouth Christopher, IL 57105   \n",
      "5  05863 Silva Courts Apt. 708\\nSamanthastad, NJ ...   \n",
      "6          574 Allen Islands\\nSouth Janice, DE 25506   \n",
      "7  8670 Stewart Plaza Suite 198\\nNew Martintown, ...   \n",
      "8           171 Clark Passage\\nSouth Derek, VT 12116   \n",
      "9                         USNS Aguirre\\nFPO AA 42285   \n",
      "\n",
      "                             city             county    postal        phone1  \\\n",
      "0                      Meads Ward         Ceredigion  LL62 5HD  01255-383731   \n",
      "1                           Gweek     North Somerset  BN20 7HB  01913-454226   \n",
      "2            Colnbrook with Poyle            Newport  SS15 6LE  01687-288043   \n",
      "3          Trotton with Chithurst  North Lanarkshire   SW3 4ND  01422-728149   \n",
      "4           Werrington South Ward               Kent   SK3 9RD  01906-807997   \n",
      "5  Knightsbridge and Belgravia Wa     Greater London   WV5 0LP  01564-503370   \n",
      "6              Frimley Green Ward            Suffolk   L29 7WD  01681-212638   \n",
      "7                      Churchdown  North Lanarkshire   BD9 4DA  01536-639256   \n",
      "8           Elgin City South Ward         Lancashire   SR8 5RL  01728-100333   \n",
      "9                        Stretton    North Yorkshire  TN38 9NE  01727-926540   \n",
      "\n",
      "         phone2                      email  \\\n",
      "0  01715-637895        ldevereux@gmail.com   \n",
      "1  01591-464964            pilar@yahoo.com   \n",
      "2  01315-284286            dusti@gmail.com   \n",
      "3  01202-738406       cbludworth@yahoo.com   \n",
      "4  01923-233578   jacki.sterback@gmail.com   \n",
      "5  01994-347546     eve.hoffstot@yahoo.com   \n",
      "6  01788-849591  douglass@fonnesbeck.co.uk   \n",
      "7  01879-295373           nsarra@gmail.com   \n",
      "8  01586-387018          kmakuch@gmail.com   \n",
      "9  01445-288807  coleen.langer@hotmail.com   \n",
      "\n",
      "                                            web  \n",
      "0  http://www.agribusinessinsuranceagency.co.uk  \n",
      "1      http://www.realestateappraisalsinc.co.uk  \n",
      "2              http://www.hirschhenrylesq.co.uk  \n",
      "3                http://www.bradybradjesq.co.uk  \n",
      "4                       http://www.wmglfm.co.uk  \n",
      "5     http://www.burgesssteelproductscorp.co.uk  \n",
      "6      http://www.councilofcmntybloodctrs.co.uk  \n",
      "7                    http://www.printshop.co.uk  \n",
      "8               http://www.jtpaintingcorp.co.uk  \n",
      "9        http://www.audreymborlandstudios.co.uk  \n"
     ]
    }
   ],
   "source": [
    "common_values_ad = set(example_df['address'].values).intersection(set(new_data_an['address'].values))\n",
    "common_values_ln = set(example_df['last_name'].values).intersection(set(new_data_an['last_name'].values))\n",
    "\n",
    "print(len(common_values_ad)) # success\n",
    "print(len(common_values_ln)) # success\n",
    "print(new_data_an.head(10))"
   ]
  },
  {
   "cell_type": "code",
   "execution_count": null,
   "metadata": {},
   "outputs": [],
   "source": [
    "# create custom names mit chatgpt und Faker locale: \n",
    "# -> extra in notebook how to create custom name Faker locale zB for fantasy names mit chatgpt3\n",
    "# warning: you have to tweak the package -> but no limits -> notebook vorbereiten\n",
    "\n"
   ]
  },
  {
   "cell_type": "code",
   "execution_count": 34,
   "metadata": {},
   "outputs": [
    {
     "name": "stderr",
     "output_type": "stream",
     "text": [
      "Creating report:   0%|          | 0/4 [00:00<?, ?it/s]/home/antonia/.local/lib/python3.8/site-packages/sdmetrics/utils.py:67: UserWarning:\n",
      "\n",
      "Unexpected value Bond in synthetic data.\n",
      "\n",
      "/home/antonia/.local/lib/python3.8/site-packages/sdmetrics/utils.py:67: UserWarning:\n",
      "\n",
      "Unexpected value Lopez in synthetic data.\n",
      "\n",
      "/home/antonia/.local/lib/python3.8/site-packages/sdmetrics/utils.py:67: UserWarning:\n",
      "\n",
      "Unexpected value Lewis in synthetic data.\n",
      "\n",
      "/home/antonia/.local/lib/python3.8/site-packages/sdmetrics/utils.py:67: UserWarning:\n",
      "\n",
      "Unexpected value Smith in synthetic data.\n",
      "\n",
      "/home/antonia/.local/lib/python3.8/site-packages/sdmetrics/utils.py:67: UserWarning:\n",
      "\n",
      "Unexpected value Thompson in synthetic data.\n",
      "\n",
      "/home/antonia/.local/lib/python3.8/site-packages/sdmetrics/utils.py:67: UserWarning:\n",
      "\n",
      "Unexpected value Sherman in synthetic data.\n",
      "\n",
      "/home/antonia/.local/lib/python3.8/site-packages/sdmetrics/utils.py:67: UserWarning:\n",
      "\n",
      "Unexpected value Weaver in synthetic data.\n",
      "\n",
      "/home/antonia/.local/lib/python3.8/site-packages/sdmetrics/utils.py:67: UserWarning:\n",
      "\n",
      "Unexpected value Kirk in synthetic data.\n",
      "\n",
      "/home/antonia/.local/lib/python3.8/site-packages/sdmetrics/utils.py:67: UserWarning:\n",
      "\n",
      "Unexpected value Hernandez in synthetic data.\n",
      "\n",
      "/home/antonia/.local/lib/python3.8/site-packages/sdmetrics/utils.py:67: UserWarning:\n",
      "\n",
      "Unexpected value Lee in synthetic data.\n",
      "\n",
      "/home/antonia/.local/lib/python3.8/site-packages/sdmetrics/utils.py:67: UserWarning:\n",
      "\n",
      "Unexpected value Torres in synthetic data.\n",
      "\n",
      "/home/antonia/.local/lib/python3.8/site-packages/sdmetrics/utils.py:67: UserWarning:\n",
      "\n",
      "Unexpected value Bell in synthetic data.\n",
      "\n",
      "/home/antonia/.local/lib/python3.8/site-packages/sdmetrics/utils.py:67: UserWarning:\n",
      "\n",
      "Unexpected value Proctor in synthetic data.\n",
      "\n",
      "/home/antonia/.local/lib/python3.8/site-packages/sdmetrics/utils.py:67: UserWarning:\n",
      "\n",
      "Unexpected value Williams in synthetic data.\n",
      "\n",
      "/home/antonia/.local/lib/python3.8/site-packages/sdmetrics/utils.py:67: UserWarning:\n",
      "\n",
      "Unexpected value Freeman in synthetic data.\n",
      "\n",
      "/home/antonia/.local/lib/python3.8/site-packages/sdmetrics/utils.py:67: UserWarning:\n",
      "\n",
      "Unexpected value Davis in synthetic data.\n",
      "\n",
      "/home/antonia/.local/lib/python3.8/site-packages/sdmetrics/utils.py:67: UserWarning:\n",
      "\n",
      "Unexpected value Underwood in synthetic data.\n",
      "\n",
      "/home/antonia/.local/lib/python3.8/site-packages/sdmetrics/utils.py:67: UserWarning:\n",
      "\n",
      "Unexpected value Sanchez in synthetic data.\n",
      "\n",
      "/home/antonia/.local/lib/python3.8/site-packages/sdmetrics/utils.py:67: UserWarning:\n",
      "\n",
      "Unexpected value Jackson in synthetic data.\n",
      "\n",
      "/home/antonia/.local/lib/python3.8/site-packages/sdmetrics/utils.py:67: UserWarning:\n",
      "\n",
      "Unexpected value Lozano in synthetic data.\n",
      "\n",
      "/home/antonia/.local/lib/python3.8/site-packages/sdmetrics/utils.py:67: UserWarning:\n",
      "\n",
      "Unexpected value Chavez in synthetic data.\n",
      "\n",
      "/home/antonia/.local/lib/python3.8/site-packages/sdmetrics/utils.py:67: UserWarning:\n",
      "\n",
      "Unexpected value Moore in synthetic data.\n",
      "\n",
      "/home/antonia/.local/lib/python3.8/site-packages/sdmetrics/utils.py:67: UserWarning:\n",
      "\n",
      "Unexpected value Petersen in synthetic data.\n",
      "\n",
      "/home/antonia/.local/lib/python3.8/site-packages/sdmetrics/utils.py:67: UserWarning:\n",
      "\n",
      "Unexpected value Wood in synthetic data.\n",
      "\n",
      "/home/antonia/.local/lib/python3.8/site-packages/sdmetrics/utils.py:67: UserWarning:\n",
      "\n",
      "Unexpected value Scott in synthetic data.\n",
      "\n",
      "/home/antonia/.local/lib/python3.8/site-packages/sdmetrics/utils.py:67: UserWarning:\n",
      "\n",
      "Unexpected value Kerr in synthetic data.\n",
      "\n",
      "/home/antonia/.local/lib/python3.8/site-packages/sdmetrics/utils.py:67: UserWarning:\n",
      "\n",
      "Unexpected value Weber in synthetic data.\n",
      "\n",
      "/home/antonia/.local/lib/python3.8/site-packages/sdmetrics/utils.py:67: UserWarning:\n",
      "\n",
      "Unexpected value Mcclure in synthetic data.\n",
      "\n",
      "/home/antonia/.local/lib/python3.8/site-packages/sdmetrics/utils.py:67: UserWarning:\n",
      "\n",
      "Unexpected value Cervantes in synthetic data.\n",
      "\n",
      "/home/antonia/.local/lib/python3.8/site-packages/sdmetrics/utils.py:67: UserWarning:\n",
      "\n",
      "Unexpected value Lamb in synthetic data.\n",
      "\n",
      "/home/antonia/.local/lib/python3.8/site-packages/sdmetrics/utils.py:67: UserWarning:\n",
      "\n",
      "Unexpected value Gonzalez in synthetic data.\n",
      "\n",
      "/home/antonia/.local/lib/python3.8/site-packages/sdmetrics/utils.py:67: UserWarning:\n",
      "\n",
      "Unexpected value Mcguire in synthetic data.\n",
      "\n",
      "/home/antonia/.local/lib/python3.8/site-packages/sdmetrics/utils.py:67: UserWarning:\n",
      "\n",
      "Unexpected value Parrish in synthetic data.\n",
      "\n",
      "/home/antonia/.local/lib/python3.8/site-packages/sdmetrics/utils.py:67: UserWarning:\n",
      "\n",
      "Unexpected value Hampton in synthetic data.\n",
      "\n",
      "/home/antonia/.local/lib/python3.8/site-packages/sdmetrics/utils.py:67: UserWarning:\n",
      "\n",
      "Unexpected value Brown in synthetic data.\n",
      "\n",
      "/home/antonia/.local/lib/python3.8/site-packages/sdmetrics/utils.py:67: UserWarning:\n",
      "\n",
      "Unexpected value Anderson in synthetic data.\n",
      "\n",
      "/home/antonia/.local/lib/python3.8/site-packages/sdmetrics/utils.py:67: UserWarning:\n",
      "\n",
      "Unexpected value Gaines in synthetic data.\n",
      "\n",
      "/home/antonia/.local/lib/python3.8/site-packages/sdmetrics/utils.py:67: UserWarning:\n",
      "\n",
      "Unexpected value Ross in synthetic data.\n",
      "\n",
      "/home/antonia/.local/lib/python3.8/site-packages/sdmetrics/utils.py:67: UserWarning:\n",
      "\n",
      "Unexpected value Morrison in synthetic data.\n",
      "\n",
      "/home/antonia/.local/lib/python3.8/site-packages/sdmetrics/utils.py:67: UserWarning:\n",
      "\n",
      "Unexpected value Ward in synthetic data.\n",
      "\n",
      "/home/antonia/.local/lib/python3.8/site-packages/sdmetrics/utils.py:67: UserWarning:\n",
      "\n",
      "Unexpected value Wilcox in synthetic data.\n",
      "\n",
      "/home/antonia/.local/lib/python3.8/site-packages/sdmetrics/utils.py:67: UserWarning:\n",
      "\n",
      "Unexpected value Morgan in synthetic data.\n",
      "\n",
      "/home/antonia/.local/lib/python3.8/site-packages/sdmetrics/utils.py:67: UserWarning:\n",
      "\n",
      "Unexpected value Young in synthetic data.\n",
      "\n",
      "/home/antonia/.local/lib/python3.8/site-packages/sdmetrics/utils.py:67: UserWarning:\n",
      "\n",
      "Unexpected value George in synthetic data.\n",
      "\n",
      "/home/antonia/.local/lib/python3.8/site-packages/sdmetrics/utils.py:67: UserWarning:\n",
      "\n",
      "Unexpected value Pena in synthetic data.\n",
      "\n",
      "/home/antonia/.local/lib/python3.8/site-packages/sdmetrics/utils.py:67: UserWarning:\n",
      "\n",
      "Unexpected value Drake in synthetic data.\n",
      "\n",
      "/home/antonia/.local/lib/python3.8/site-packages/sdmetrics/utils.py:67: UserWarning:\n",
      "\n",
      "Unexpected value Baker in synthetic data.\n",
      "\n",
      "/home/antonia/.local/lib/python3.8/site-packages/sdmetrics/utils.py:67: UserWarning:\n",
      "\n",
      "Unexpected value Stewart in synthetic data.\n",
      "\n",
      "/home/antonia/.local/lib/python3.8/site-packages/sdmetrics/utils.py:67: UserWarning:\n",
      "\n",
      "Unexpected value Golden in synthetic data.\n",
      "\n",
      "/home/antonia/.local/lib/python3.8/site-packages/sdmetrics/utils.py:67: UserWarning:\n",
      "\n",
      "Unexpected value Roman in synthetic data.\n",
      "\n",
      "/home/antonia/.local/lib/python3.8/site-packages/sdmetrics/utils.py:67: UserWarning:\n",
      "\n",
      "Unexpected value Carroll in synthetic data.\n",
      "\n",
      "/home/antonia/.local/lib/python3.8/site-packages/sdmetrics/utils.py:67: UserWarning:\n",
      "\n",
      "Unexpected value Rodriguez in synthetic data.\n",
      "\n",
      "/home/antonia/.local/lib/python3.8/site-packages/sdmetrics/utils.py:67: UserWarning:\n",
      "\n",
      "Unexpected value Santos in synthetic data.\n",
      "\n",
      "/home/antonia/.local/lib/python3.8/site-packages/sdmetrics/utils.py:67: UserWarning:\n",
      "\n",
      "Unexpected value Henry in synthetic data.\n",
      "\n",
      "/home/antonia/.local/lib/python3.8/site-packages/sdmetrics/utils.py:67: UserWarning:\n",
      "\n",
      "Unexpected value Frank in synthetic data.\n",
      "\n",
      "/home/antonia/.local/lib/python3.8/site-packages/sdmetrics/utils.py:67: UserWarning:\n",
      "\n",
      "Unexpected value Mendoza in synthetic data.\n",
      "\n",
      "/home/antonia/.local/lib/python3.8/site-packages/sdmetrics/utils.py:67: UserWarning:\n",
      "\n",
      "Unexpected value Sims in synthetic data.\n",
      "\n",
      "/home/antonia/.local/lib/python3.8/site-packages/sdmetrics/utils.py:67: UserWarning:\n",
      "\n",
      "Unexpected value Gardner in synthetic data.\n",
      "\n",
      "/home/antonia/.local/lib/python3.8/site-packages/sdmetrics/utils.py:67: UserWarning:\n",
      "\n",
      "Unexpected value Arnold in synthetic data.\n",
      "\n",
      "/home/antonia/.local/lib/python3.8/site-packages/sdmetrics/utils.py:67: UserWarning:\n",
      "\n",
      "Unexpected value Strickland in synthetic data.\n",
      "\n",
      "/home/antonia/.local/lib/python3.8/site-packages/sdmetrics/utils.py:67: UserWarning:\n",
      "\n",
      "Unexpected value Hunt in synthetic data.\n",
      "\n",
      "/home/antonia/.local/lib/python3.8/site-packages/sdmetrics/utils.py:67: UserWarning:\n",
      "\n",
      "Unexpected value Bray in synthetic data.\n",
      "\n",
      "/home/antonia/.local/lib/python3.8/site-packages/sdmetrics/utils.py:67: UserWarning:\n",
      "\n",
      "Unexpected value Dixon in synthetic data.\n",
      "\n",
      "/home/antonia/.local/lib/python3.8/site-packages/sdmetrics/utils.py:67: UserWarning:\n",
      "\n",
      "Unexpected value Short in synthetic data.\n",
      "\n",
      "/home/antonia/.local/lib/python3.8/site-packages/sdmetrics/utils.py:67: UserWarning:\n",
      "\n",
      "Unexpected value Rose in synthetic data.\n",
      "\n",
      "/home/antonia/.local/lib/python3.8/site-packages/sdmetrics/utils.py:67: UserWarning:\n",
      "\n",
      "Unexpected value Sweeney in synthetic data.\n",
      "\n",
      "/home/antonia/.local/lib/python3.8/site-packages/sdmetrics/utils.py:67: UserWarning:\n",
      "\n",
      "Unexpected value Johnson in synthetic data.\n",
      "\n",
      "/home/antonia/.local/lib/python3.8/site-packages/sdmetrics/utils.py:67: UserWarning:\n",
      "\n",
      "Unexpected value Wells in synthetic data.\n",
      "\n",
      "/home/antonia/.local/lib/python3.8/site-packages/sdmetrics/utils.py:67: UserWarning:\n",
      "\n",
      "Unexpected value Barrera in synthetic data.\n",
      "\n",
      "/home/antonia/.local/lib/python3.8/site-packages/sdmetrics/utils.py:67: UserWarning:\n",
      "\n",
      "Unexpected value Bryan in synthetic data.\n",
      "\n",
      "/home/antonia/.local/lib/python3.8/site-packages/sdmetrics/utils.py:67: UserWarning:\n",
      "\n",
      "Unexpected value King in synthetic data.\n",
      "\n",
      "/home/antonia/.local/lib/python3.8/site-packages/sdmetrics/utils.py:67: UserWarning:\n",
      "\n",
      "Unexpected value Allen in synthetic data.\n",
      "\n",
      "/home/antonia/.local/lib/python3.8/site-packages/sdmetrics/utils.py:67: UserWarning:\n",
      "\n",
      "Unexpected value Ortega in synthetic data.\n",
      "\n",
      "/home/antonia/.local/lib/python3.8/site-packages/sdmetrics/utils.py:67: UserWarning:\n",
      "\n",
      "Unexpected value Shelton in synthetic data.\n",
      "\n",
      "/home/antonia/.local/lib/python3.8/site-packages/sdmetrics/utils.py:67: UserWarning:\n",
      "\n",
      "Unexpected value Diaz in synthetic data.\n",
      "\n",
      "/home/antonia/.local/lib/python3.8/site-packages/sdmetrics/utils.py:67: UserWarning:\n",
      "\n",
      "Unexpected value Mccormick in synthetic data.\n",
      "\n",
      "/home/antonia/.local/lib/python3.8/site-packages/sdmetrics/utils.py:67: UserWarning:\n",
      "\n",
      "Unexpected value Conner in synthetic data.\n",
      "\n",
      "/home/antonia/.local/lib/python3.8/site-packages/sdmetrics/utils.py:67: UserWarning:\n",
      "\n",
      "Unexpected value Gallegos in synthetic data.\n",
      "\n",
      "/home/antonia/.local/lib/python3.8/site-packages/sdmetrics/utils.py:67: UserWarning:\n",
      "\n",
      "Unexpected value Gonzales in synthetic data.\n",
      "\n",
      "/home/antonia/.local/lib/python3.8/site-packages/sdmetrics/utils.py:67: UserWarning:\n",
      "\n",
      "Unexpected value Rangel in synthetic data.\n",
      "\n",
      "/home/antonia/.local/lib/python3.8/site-packages/sdmetrics/utils.py:67: UserWarning:\n",
      "\n",
      "Unexpected value Warren in synthetic data.\n",
      "\n",
      "/home/antonia/.local/lib/python3.8/site-packages/sdmetrics/utils.py:67: UserWarning:\n",
      "\n",
      "Unexpected value Ray in synthetic data.\n",
      "\n",
      "/home/antonia/.local/lib/python3.8/site-packages/sdmetrics/utils.py:67: UserWarning:\n",
      "\n",
      "Unexpected value Cooper in synthetic data.\n",
      "\n",
      "/home/antonia/.local/lib/python3.8/site-packages/sdmetrics/utils.py:67: UserWarning:\n",
      "\n",
      "Unexpected value Wagner in synthetic data.\n",
      "\n",
      "/home/antonia/.local/lib/python3.8/site-packages/sdmetrics/utils.py:67: UserWarning:\n",
      "\n",
      "Unexpected value Stafford in synthetic data.\n",
      "\n",
      "/home/antonia/.local/lib/python3.8/site-packages/sdmetrics/utils.py:67: UserWarning:\n",
      "\n",
      "Unexpected value Rivera in synthetic data.\n",
      "\n",
      "/home/antonia/.local/lib/python3.8/site-packages/sdmetrics/utils.py:67: UserWarning:\n",
      "\n",
      "Unexpected value Moreno in synthetic data.\n",
      "\n",
      "/home/antonia/.local/lib/python3.8/site-packages/sdmetrics/utils.py:67: UserWarning:\n",
      "\n",
      "Unexpected value Reynolds in synthetic data.\n",
      "\n",
      "/home/antonia/.local/lib/python3.8/site-packages/sdmetrics/utils.py:67: UserWarning:\n",
      "\n",
      "Unexpected value Cordova in synthetic data.\n",
      "\n",
      "/home/antonia/.local/lib/python3.8/site-packages/sdmetrics/utils.py:67: UserWarning:\n",
      "\n",
      "Unexpected value Hill in synthetic data.\n",
      "\n",
      "/home/antonia/.local/lib/python3.8/site-packages/sdmetrics/utils.py:67: UserWarning:\n",
      "\n",
      "Unexpected value Ruiz in synthetic data.\n",
      "\n",
      "/home/antonia/.local/lib/python3.8/site-packages/sdmetrics/utils.py:67: UserWarning:\n",
      "\n",
      "Unexpected value West in synthetic data.\n",
      "\n",
      "/home/antonia/.local/lib/python3.8/site-packages/sdmetrics/utils.py:67: UserWarning:\n",
      "\n",
      "Unexpected value Morris in synthetic data.\n",
      "\n",
      "/home/antonia/.local/lib/python3.8/site-packages/sdmetrics/utils.py:67: UserWarning:\n",
      "\n",
      "Unexpected value Galloway in synthetic data.\n",
      "\n",
      "/home/antonia/.local/lib/python3.8/site-packages/sdmetrics/utils.py:67: UserWarning:\n",
      "\n",
      "Unexpected value Stanley in synthetic data.\n",
      "\n",
      "/home/antonia/.local/lib/python3.8/site-packages/sdmetrics/utils.py:67: UserWarning:\n",
      "\n",
      "Unexpected value Turner in synthetic data.\n",
      "\n",
      "/home/antonia/.local/lib/python3.8/site-packages/sdmetrics/utils.py:67: UserWarning:\n",
      "\n",
      "Unexpected value Haas in synthetic data.\n",
      "\n",
      "/home/antonia/.local/lib/python3.8/site-packages/sdmetrics/utils.py:67: UserWarning:\n",
      "\n",
      "Unexpected value Jones in synthetic data.\n",
      "\n",
      "/home/antonia/.local/lib/python3.8/site-packages/sdmetrics/utils.py:67: UserWarning:\n",
      "\n",
      "Unexpected value Andrews in synthetic data.\n",
      "\n",
      "/home/antonia/.local/lib/python3.8/site-packages/sdmetrics/utils.py:67: UserWarning:\n",
      "\n",
      "Unexpected value Murphy in synthetic data.\n",
      "\n",
      "/home/antonia/.local/lib/python3.8/site-packages/sdmetrics/utils.py:67: UserWarning:\n",
      "\n",
      "Unexpected value Vargas in synthetic data.\n",
      "\n",
      "/home/antonia/.local/lib/python3.8/site-packages/sdmetrics/utils.py:67: UserWarning:\n",
      "\n",
      "Unexpected value Mitchell in synthetic data.\n",
      "\n",
      "/home/antonia/.local/lib/python3.8/site-packages/sdmetrics/utils.py:67: UserWarning:\n",
      "\n",
      "Unexpected value Mckinney in synthetic data.\n",
      "\n",
      "/home/antonia/.local/lib/python3.8/site-packages/sdmetrics/utils.py:67: UserWarning:\n",
      "\n",
      "Unexpected value Zavala in synthetic data.\n",
      "\n",
      "/home/antonia/.local/lib/python3.8/site-packages/sdmetrics/utils.py:67: UserWarning:\n",
      "\n",
      "Unexpected value Hayes in synthetic data.\n",
      "\n",
      "/home/antonia/.local/lib/python3.8/site-packages/sdmetrics/utils.py:67: UserWarning:\n",
      "\n",
      "Unexpected value Miller in synthetic data.\n",
      "\n",
      "/home/antonia/.local/lib/python3.8/site-packages/sdmetrics/utils.py:67: UserWarning:\n",
      "\n",
      "Unexpected value Avila in synthetic data.\n",
      "\n",
      "/home/antonia/.local/lib/python3.8/site-packages/sdmetrics/utils.py:67: UserWarning:\n",
      "\n",
      "Unexpected value Pearson in synthetic data.\n",
      "\n",
      "/home/antonia/.local/lib/python3.8/site-packages/sdmetrics/utils.py:67: UserWarning:\n",
      "\n",
      "Unexpected value Abbott in synthetic data.\n",
      "\n",
      "/home/antonia/.local/lib/python3.8/site-packages/sdmetrics/utils.py:67: UserWarning:\n",
      "\n",
      "Unexpected value Taylor in synthetic data.\n",
      "\n",
      "/home/antonia/.local/lib/python3.8/site-packages/sdmetrics/utils.py:67: UserWarning:\n",
      "\n",
      "Unexpected value Chen in synthetic data.\n",
      "\n",
      "/home/antonia/.local/lib/python3.8/site-packages/sdmetrics/utils.py:67: UserWarning:\n",
      "\n",
      "Unexpected value Campbell in synthetic data.\n",
      "\n",
      "/home/antonia/.local/lib/python3.8/site-packages/sdmetrics/utils.py:67: UserWarning:\n",
      "\n",
      "Unexpected value Wright in synthetic data.\n",
      "\n",
      "/home/antonia/.local/lib/python3.8/site-packages/sdmetrics/utils.py:67: UserWarning:\n",
      "\n",
      "Unexpected value Payne in synthetic data.\n",
      "\n",
      "/home/antonia/.local/lib/python3.8/site-packages/sdmetrics/utils.py:67: UserWarning:\n",
      "\n",
      "Unexpected value Michael in synthetic data.\n",
      "\n",
      "/home/antonia/.local/lib/python3.8/site-packages/sdmetrics/utils.py:67: UserWarning:\n",
      "\n",
      "Unexpected value Martin in synthetic data.\n",
      "\n",
      "/home/antonia/.local/lib/python3.8/site-packages/sdmetrics/utils.py:67: UserWarning:\n",
      "\n",
      "Unexpected value Molina in synthetic data.\n",
      "\n",
      "/home/antonia/.local/lib/python3.8/site-packages/sdmetrics/utils.py:67: UserWarning:\n",
      "\n",
      "Unexpected value Wallace in synthetic data.\n",
      "\n",
      "/home/antonia/.local/lib/python3.8/site-packages/sdmetrics/utils.py:67: UserWarning:\n",
      "\n",
      "Unexpected value Burke in synthetic data.\n",
      "\n",
      "/home/antonia/.local/lib/python3.8/site-packages/sdmetrics/utils.py:67: UserWarning:\n",
      "\n",
      "Unexpected value Nichols in synthetic data.\n",
      "\n",
      "/home/antonia/.local/lib/python3.8/site-packages/sdmetrics/utils.py:67: UserWarning:\n",
      "\n",
      "Unexpected value Hughes in synthetic data.\n",
      "\n",
      "/home/antonia/.local/lib/python3.8/site-packages/sdmetrics/utils.py:67: UserWarning:\n",
      "\n",
      "Unexpected value Buck in synthetic data.\n",
      "\n",
      "/home/antonia/.local/lib/python3.8/site-packages/sdmetrics/utils.py:67: UserWarning:\n",
      "\n",
      "Unexpected value Tran in synthetic data.\n",
      "\n",
      "/home/antonia/.local/lib/python3.8/site-packages/sdmetrics/utils.py:67: UserWarning:\n",
      "\n",
      "Unexpected value Castro in synthetic data.\n",
      "\n",
      "/home/antonia/.local/lib/python3.8/site-packages/sdmetrics/utils.py:67: UserWarning:\n",
      "\n",
      "Unexpected value Bowman in synthetic data.\n",
      "\n",
      "/home/antonia/.local/lib/python3.8/site-packages/sdmetrics/utils.py:67: UserWarning:\n",
      "\n",
      "Unexpected value Kelly in synthetic data.\n",
      "\n",
      "/home/antonia/.local/lib/python3.8/site-packages/sdmetrics/utils.py:67: UserWarning:\n",
      "\n",
      "Unexpected value Perez in synthetic data.\n",
      "\n",
      "/home/antonia/.local/lib/python3.8/site-packages/sdmetrics/utils.py:67: UserWarning:\n",
      "\n",
      "Unexpected value Bishop in synthetic data.\n",
      "\n",
      "/home/antonia/.local/lib/python3.8/site-packages/sdmetrics/utils.py:67: UserWarning:\n",
      "\n",
      "Unexpected value Lowe in synthetic data.\n",
      "\n",
      "/home/antonia/.local/lib/python3.8/site-packages/sdmetrics/utils.py:67: UserWarning:\n",
      "\n",
      "Unexpected value Martinez in synthetic data.\n",
      "\n",
      "/home/antonia/.local/lib/python3.8/site-packages/sdmetrics/utils.py:67: UserWarning:\n",
      "\n",
      "Unexpected value Newton in synthetic data.\n",
      "\n",
      "/home/antonia/.local/lib/python3.8/site-packages/sdmetrics/utils.py:67: UserWarning:\n",
      "\n",
      "Unexpected value Nicholson in synthetic data.\n",
      "\n",
      "/home/antonia/.local/lib/python3.8/site-packages/sdmetrics/utils.py:67: UserWarning:\n",
      "\n",
      "Unexpected value Mathews in synthetic data.\n",
      "\n",
      "/home/antonia/.local/lib/python3.8/site-packages/sdmetrics/utils.py:67: UserWarning:\n",
      "\n",
      "Unexpected value Gillespie in synthetic data.\n",
      "\n",
      "/home/antonia/.local/lib/python3.8/site-packages/sdmetrics/utils.py:67: UserWarning:\n",
      "\n",
      "Unexpected value Jacobs in synthetic data.\n",
      "\n",
      "/home/antonia/.local/lib/python3.8/site-packages/sdmetrics/utils.py:67: UserWarning:\n",
      "\n",
      "Unexpected value Strong in synthetic data.\n",
      "\n",
      "/home/antonia/.local/lib/python3.8/site-packages/sdmetrics/utils.py:67: UserWarning:\n",
      "\n",
      "Unexpected value Mcgee in synthetic data.\n",
      "\n",
      "/home/antonia/.local/lib/python3.8/site-packages/sdmetrics/utils.py:67: UserWarning:\n",
      "\n",
      "Unexpected value Mcdaniel in synthetic data.\n",
      "\n",
      "/home/antonia/.local/lib/python3.8/site-packages/sdmetrics/utils.py:67: UserWarning:\n",
      "\n",
      "Unexpected value Oneal in synthetic data.\n",
      "\n",
      "/home/antonia/.local/lib/python3.8/site-packages/sdmetrics/utils.py:67: UserWarning:\n",
      "\n",
      "Unexpected value Delgado in synthetic data.\n",
      "\n",
      "/home/antonia/.local/lib/python3.8/site-packages/sdmetrics/utils.py:67: UserWarning:\n",
      "\n",
      "Unexpected value Roberson in synthetic data.\n",
      "\n",
      "/home/antonia/.local/lib/python3.8/site-packages/sdmetrics/utils.py:67: UserWarning:\n",
      "\n",
      "Unexpected value Pierce in synthetic data.\n",
      "\n",
      "/home/antonia/.local/lib/python3.8/site-packages/sdmetrics/utils.py:67: UserWarning:\n",
      "\n",
      "Unexpected value Roberts in synthetic data.\n",
      "\n",
      "/home/antonia/.local/lib/python3.8/site-packages/sdmetrics/utils.py:67: UserWarning:\n",
      "\n",
      "Unexpected value Clark in synthetic data.\n",
      "\n",
      "/home/antonia/.local/lib/python3.8/site-packages/sdmetrics/utils.py:67: UserWarning:\n",
      "\n",
      "Unexpected value Jarvis in synthetic data.\n",
      "\n",
      "/home/antonia/.local/lib/python3.8/site-packages/sdmetrics/utils.py:67: UserWarning:\n",
      "\n",
      "Unexpected value Garcia in synthetic data.\n",
      "\n",
      "/home/antonia/.local/lib/python3.8/site-packages/sdmetrics/utils.py:67: UserWarning:\n",
      "\n",
      "Unexpected value Perry in synthetic data.\n",
      "\n",
      "/home/antonia/.local/lib/python3.8/site-packages/sdmetrics/utils.py:67: UserWarning:\n",
      "\n",
      "Unexpected value Harper in synthetic data.\n",
      "\n",
      "/home/antonia/.local/lib/python3.8/site-packages/sdmetrics/utils.py:67: UserWarning:\n",
      "\n",
      "Unexpected value Ramirez in synthetic data.\n",
      "\n",
      "/home/antonia/.local/lib/python3.8/site-packages/sdmetrics/utils.py:67: UserWarning:\n",
      "\n",
      "Unexpected value 2506 Eric Throughway\n",
      "Lake Erik, UT 35193 in synthetic data.\n",
      "\n",
      "/home/antonia/.local/lib/python3.8/site-packages/sdmetrics/utils.py:67: UserWarning:\n",
      "\n",
      "Unexpected value 330 Michael Rest\n",
      "East Ronnieshire, TN 02822 in synthetic data.\n",
      "\n",
      "/home/antonia/.local/lib/python3.8/site-packages/sdmetrics/utils.py:67: UserWarning:\n",
      "\n",
      "Unexpected value 8803 Cesar Trace\n",
      "Amandabury, AL 01043 in synthetic data.\n",
      "\n",
      "/home/antonia/.local/lib/python3.8/site-packages/sdmetrics/utils.py:67: UserWarning:\n",
      "\n",
      "Unexpected value 5043 Felicia Orchard Apt. 226\n",
      "Port Anna, PA 60062 in synthetic data.\n",
      "\n",
      "/home/antonia/.local/lib/python3.8/site-packages/sdmetrics/utils.py:67: UserWarning:\n",
      "\n",
      "Unexpected value 2317 Scott Locks\n",
      "South Christopher, IL 57105 in synthetic data.\n",
      "\n",
      "/home/antonia/.local/lib/python3.8/site-packages/sdmetrics/utils.py:67: UserWarning:\n",
      "\n",
      "Unexpected value 05863 Silva Courts Apt. 708\n",
      "Samanthastad, NJ 45361 in synthetic data.\n",
      "\n",
      "/home/antonia/.local/lib/python3.8/site-packages/sdmetrics/utils.py:67: UserWarning:\n",
      "\n",
      "Unexpected value 574 Allen Islands\n",
      "South Janice, DE 25506 in synthetic data.\n",
      "\n",
      "/home/antonia/.local/lib/python3.8/site-packages/sdmetrics/utils.py:67: UserWarning:\n",
      "\n",
      "Unexpected value 8670 Stewart Plaza Suite 198\n",
      "New Martintown, PA 92679 in synthetic data.\n",
      "\n",
      "/home/antonia/.local/lib/python3.8/site-packages/sdmetrics/utils.py:67: UserWarning:\n",
      "\n",
      "Unexpected value 171 Clark Passage\n",
      "South Derek, VT 12116 in synthetic data.\n",
      "\n",
      "/home/antonia/.local/lib/python3.8/site-packages/sdmetrics/utils.py:67: UserWarning:\n",
      "\n",
      "Unexpected value USNS Aguirre\n",
      "FPO AA 42285 in synthetic data.\n",
      "\n",
      "/home/antonia/.local/lib/python3.8/site-packages/sdmetrics/utils.py:67: UserWarning:\n",
      "\n",
      "Unexpected value 5198 Deleon Greens Apt. 986\n",
      "Brandonstad, AR 21369 in synthetic data.\n",
      "\n",
      "/home/antonia/.local/lib/python3.8/site-packages/sdmetrics/utils.py:67: UserWarning:\n",
      "\n",
      "Unexpected value USCGC Phillips\n",
      "FPO AP 28408 in synthetic data.\n",
      "\n",
      "/home/antonia/.local/lib/python3.8/site-packages/sdmetrics/utils.py:67: UserWarning:\n",
      "\n",
      "Unexpected value 2066 Ewing Plaza Apt. 671\n",
      "South Rachelburgh, MN 38010 in synthetic data.\n",
      "\n",
      "/home/antonia/.local/lib/python3.8/site-packages/sdmetrics/utils.py:67: UserWarning:\n",
      "\n",
      "Unexpected value PSC 5812, Box 0160\n",
      "APO AA 62178 in synthetic data.\n",
      "\n",
      "/home/antonia/.local/lib/python3.8/site-packages/sdmetrics/utils.py:67: UserWarning:\n",
      "\n",
      "Unexpected value Unit 4440 Box 1704\n",
      "DPO AP 30811 in synthetic data.\n",
      "\n",
      "/home/antonia/.local/lib/python3.8/site-packages/sdmetrics/utils.py:67: UserWarning:\n",
      "\n",
      "Unexpected value 7023 Christopher Villages Apt. 287\n",
      "Perryland, IL 37128 in synthetic data.\n",
      "\n",
      "/home/antonia/.local/lib/python3.8/site-packages/sdmetrics/utils.py:67: UserWarning:\n",
      "\n",
      "Unexpected value 7321 Cannon Manors\n",
      "Lake Davidfort, CO 27714 in synthetic data.\n",
      "\n",
      "/home/antonia/.local/lib/python3.8/site-packages/sdmetrics/utils.py:67: UserWarning:\n",
      "\n",
      "Unexpected value 723 Nathan Views Apt. 124\n",
      "Keithville, SC 17407 in synthetic data.\n",
      "\n",
      "/home/antonia/.local/lib/python3.8/site-packages/sdmetrics/utils.py:67: UserWarning:\n",
      "\n",
      "Unexpected value PSC 4914, Box 5630\n",
      "APO AE 86642 in synthetic data.\n",
      "\n",
      "/home/antonia/.local/lib/python3.8/site-packages/sdmetrics/utils.py:67: UserWarning:\n",
      "\n",
      "Unexpected value 7512 Cortez Isle Apt. 899\n",
      "Garciaview, VA 85530 in synthetic data.\n",
      "\n",
      "/home/antonia/.local/lib/python3.8/site-packages/sdmetrics/utils.py:67: UserWarning:\n",
      "\n",
      "Unexpected value 2676 Koch Mews\n",
      "Lake Tammy, WI 17763 in synthetic data.\n",
      "\n",
      "/home/antonia/.local/lib/python3.8/site-packages/sdmetrics/utils.py:67: UserWarning:\n",
      "\n",
      "Unexpected value 2360 Snyder Overpass Apt. 249\n",
      "Murilloland, DE 56832 in synthetic data.\n",
      "\n",
      "/home/antonia/.local/lib/python3.8/site-packages/sdmetrics/utils.py:67: UserWarning:\n",
      "\n",
      "Unexpected value 47007 Wagner Well Suite 482\n",
      "Matthewland, NE 61907 in synthetic data.\n",
      "\n",
      "/home/antonia/.local/lib/python3.8/site-packages/sdmetrics/utils.py:67: UserWarning:\n",
      "\n",
      "Unexpected value 3993 Danielle Neck Suite 850\n",
      "Livingstonchester, RI 25761 in synthetic data.\n",
      "\n",
      "/home/antonia/.local/lib/python3.8/site-packages/sdmetrics/utils.py:67: UserWarning:\n",
      "\n",
      "Unexpected value 55353 Scott Green Apt. 084\n",
      "South Dennis, LA 19139 in synthetic data.\n",
      "\n",
      "/home/antonia/.local/lib/python3.8/site-packages/sdmetrics/utils.py:67: UserWarning:\n",
      "\n",
      "Unexpected value 19810 Smith Springs\n",
      "Ronaldfurt, HI 57650 in synthetic data.\n",
      "\n",
      "/home/antonia/.local/lib/python3.8/site-packages/sdmetrics/utils.py:67: UserWarning:\n",
      "\n",
      "Unexpected value 94196 Tina Walks\n",
      "New Jessica, AR 22165 in synthetic data.\n",
      "\n",
      "/home/antonia/.local/lib/python3.8/site-packages/sdmetrics/utils.py:67: UserWarning:\n",
      "\n",
      "Unexpected value 0783 Mccarthy Rapids\n",
      "Lake Tylermouth, KY 40965 in synthetic data.\n",
      "\n",
      "/home/antonia/.local/lib/python3.8/site-packages/sdmetrics/utils.py:67: UserWarning:\n",
      "\n",
      "Unexpected value 52878 Marie Ville Suite 327\n",
      "Millershire, CO 71358 in synthetic data.\n",
      "\n",
      "/home/antonia/.local/lib/python3.8/site-packages/sdmetrics/utils.py:67: UserWarning:\n",
      "\n",
      "Unexpected value 991 Rivas Meadow\n",
      "Port Donna, SD 31178 in synthetic data.\n",
      "\n",
      "/home/antonia/.local/lib/python3.8/site-packages/sdmetrics/utils.py:67: UserWarning:\n",
      "\n",
      "Unexpected value 13965 Shaffer Glen\n",
      "Austinmouth, SC 69334 in synthetic data.\n",
      "\n",
      "/home/antonia/.local/lib/python3.8/site-packages/sdmetrics/utils.py:67: UserWarning:\n",
      "\n",
      "Unexpected value Unit 0111 Box 6540\n",
      "DPO AE 86795 in synthetic data.\n",
      "\n",
      "/home/antonia/.local/lib/python3.8/site-packages/sdmetrics/utils.py:67: UserWarning:\n",
      "\n",
      "Unexpected value 4643 Donald Mission\n",
      "South Jacobland, DC 44593 in synthetic data.\n",
      "\n",
      "/home/antonia/.local/lib/python3.8/site-packages/sdmetrics/utils.py:67: UserWarning:\n",
      "\n",
      "Unexpected value 228 Diaz Pines Suite 164\n",
      "Lake Diane, WV 39205 in synthetic data.\n",
      "\n",
      "/home/antonia/.local/lib/python3.8/site-packages/sdmetrics/utils.py:67: UserWarning:\n",
      "\n",
      "Unexpected value 8052 Floyd Dam Apt. 006\n",
      "Lake Jacobview, AZ 72756 in synthetic data.\n",
      "\n",
      "/home/antonia/.local/lib/python3.8/site-packages/sdmetrics/utils.py:67: UserWarning:\n",
      "\n",
      "Unexpected value 13260 Garcia Brooks Apt. 582\n",
      "Martinezton, CO 13390 in synthetic data.\n",
      "\n",
      "/home/antonia/.local/lib/python3.8/site-packages/sdmetrics/utils.py:67: UserWarning:\n",
      "\n",
      "Unexpected value 292 Thompson Creek Suite 487\n",
      "New Seanberg, CO 29715 in synthetic data.\n",
      "\n",
      "/home/antonia/.local/lib/python3.8/site-packages/sdmetrics/utils.py:67: UserWarning:\n",
      "\n",
      "Unexpected value 803 Chen Cliff\n",
      "Davidsonberg, HI 25281 in synthetic data.\n",
      "\n",
      "/home/antonia/.local/lib/python3.8/site-packages/sdmetrics/utils.py:67: UserWarning:\n",
      "\n",
      "Unexpected value 0417 Foley Cove Apt. 689\n",
      "Lake Jordan, ME 27214 in synthetic data.\n",
      "\n",
      "/home/antonia/.local/lib/python3.8/site-packages/sdmetrics/utils.py:67: UserWarning:\n",
      "\n",
      "Unexpected value 18210 Tonya Keys\n",
      "West Patrick, NC 61541 in synthetic data.\n",
      "\n",
      "/home/antonia/.local/lib/python3.8/site-packages/sdmetrics/utils.py:67: UserWarning:\n",
      "\n",
      "Unexpected value 43297 Nicole Crest Apt. 746\n",
      "West Nancyshire, HI 80962 in synthetic data.\n",
      "\n",
      "/home/antonia/.local/lib/python3.8/site-packages/sdmetrics/utils.py:67: UserWarning:\n",
      "\n",
      "Unexpected value 37461 Jimenez Haven\n",
      "Freemanshire, WI 40706 in synthetic data.\n",
      "\n",
      "/home/antonia/.local/lib/python3.8/site-packages/sdmetrics/utils.py:67: UserWarning:\n",
      "\n",
      "Unexpected value 20130 Daugherty Port Suite 009\n",
      "Port Monica, WV 30367 in synthetic data.\n",
      "\n",
      "/home/antonia/.local/lib/python3.8/site-packages/sdmetrics/utils.py:67: UserWarning:\n",
      "\n",
      "Unexpected value 85983 Norton Isle Suite 447\n",
      "West Cathy, NE 32867 in synthetic data.\n",
      "\n",
      "/home/antonia/.local/lib/python3.8/site-packages/sdmetrics/utils.py:67: UserWarning:\n",
      "\n",
      "Unexpected value 900 Dean Islands Suite 688\n",
      "East Nathanmouth, FL 42727 in synthetic data.\n",
      "\n",
      "/home/antonia/.local/lib/python3.8/site-packages/sdmetrics/utils.py:67: UserWarning:\n",
      "\n",
      "Unexpected value 455 Joe Mission\n",
      "Scottfort, NE 58144 in synthetic data.\n",
      "\n",
      "/home/antonia/.local/lib/python3.8/site-packages/sdmetrics/utils.py:67: UserWarning:\n",
      "\n",
      "Unexpected value 322 Schneider Spring\n",
      "North Michaelbury, NH 28638 in synthetic data.\n",
      "\n",
      "/home/antonia/.local/lib/python3.8/site-packages/sdmetrics/utils.py:67: UserWarning:\n",
      "\n",
      "Unexpected value 555 Anthony Forge\n",
      "Samuelside, CO 80939 in synthetic data.\n",
      "\n",
      "/home/antonia/.local/lib/python3.8/site-packages/sdmetrics/utils.py:67: UserWarning:\n",
      "\n",
      "Unexpected value 642 Melissa River\n",
      "Robinsonland, NE 83580 in synthetic data.\n",
      "\n",
      "/home/antonia/.local/lib/python3.8/site-packages/sdmetrics/utils.py:67: UserWarning:\n",
      "\n",
      "Unexpected value 80717 Jones Inlet\n",
      "Davidbury, TX 96531 in synthetic data.\n",
      "\n",
      "/home/antonia/.local/lib/python3.8/site-packages/sdmetrics/utils.py:67: UserWarning:\n",
      "\n",
      "Unexpected value 42453 Jason Crescent Apt. 164\n",
      "Jarvisview, GA 81336 in synthetic data.\n",
      "\n",
      "/home/antonia/.local/lib/python3.8/site-packages/sdmetrics/utils.py:67: UserWarning:\n",
      "\n",
      "Unexpected value 812 Huff Grove\n",
      "Trevorland, LA 22680 in synthetic data.\n",
      "\n",
      "/home/antonia/.local/lib/python3.8/site-packages/sdmetrics/utils.py:67: UserWarning:\n",
      "\n",
      "Unexpected value 40615 Hicks Spur Suite 450\n",
      "South Mallory, IA 97577 in synthetic data.\n",
      "\n",
      "/home/antonia/.local/lib/python3.8/site-packages/sdmetrics/utils.py:67: UserWarning:\n",
      "\n",
      "Unexpected value 6797 Kristin Stream\n",
      "Jonathanton, IN 21796 in synthetic data.\n",
      "\n",
      "/home/antonia/.local/lib/python3.8/site-packages/sdmetrics/utils.py:67: UserWarning:\n",
      "\n",
      "Unexpected value 347 Pace Heights\n",
      "North Ashleyburgh, AZ 24576 in synthetic data.\n",
      "\n",
      "/home/antonia/.local/lib/python3.8/site-packages/sdmetrics/utils.py:67: UserWarning:\n",
      "\n",
      "Unexpected value 0123 Woodard Points\n",
      "East Elizabeth, NH 98808 in synthetic data.\n",
      "\n",
      "/home/antonia/.local/lib/python3.8/site-packages/sdmetrics/utils.py:67: UserWarning:\n",
      "\n",
      "Unexpected value 1509 Miller Summit\n",
      "Hernandezbury, TX 25502 in synthetic data.\n",
      "\n",
      "/home/antonia/.local/lib/python3.8/site-packages/sdmetrics/utils.py:67: UserWarning:\n",
      "\n",
      "Unexpected value 29584 Chavez Turnpike\n",
      "East Regina, VA 22192 in synthetic data.\n",
      "\n",
      "/home/antonia/.local/lib/python3.8/site-packages/sdmetrics/utils.py:67: UserWarning:\n",
      "\n",
      "Unexpected value 27760 Ronald Fort Apt. 925\n",
      "North Shawnstad, RI 13034 in synthetic data.\n",
      "\n",
      "/home/antonia/.local/lib/python3.8/site-packages/sdmetrics/utils.py:67: UserWarning:\n",
      "\n",
      "Unexpected value 5258 Debra Springs Suite 944\n",
      "Lake Michael, GA 01066 in synthetic data.\n",
      "\n",
      "/home/antonia/.local/lib/python3.8/site-packages/sdmetrics/utils.py:67: UserWarning:\n",
      "\n",
      "Unexpected value 599 Romero Mount\n",
      "South Glennbury, DC 18507 in synthetic data.\n",
      "\n",
      "/home/antonia/.local/lib/python3.8/site-packages/sdmetrics/utils.py:67: UserWarning:\n",
      "\n",
      "Unexpected value 47207 Shane Ville Suite 763\n",
      "West Michael, NV 39703 in synthetic data.\n",
      "\n",
      "/home/antonia/.local/lib/python3.8/site-packages/sdmetrics/utils.py:67: UserWarning:\n",
      "\n",
      "Unexpected value 8695 Adriana Point Suite 663\n",
      "Arnoldmouth, DC 59308 in synthetic data.\n",
      "\n",
      "/home/antonia/.local/lib/python3.8/site-packages/sdmetrics/utils.py:67: UserWarning:\n",
      "\n",
      "Unexpected value 2304 Campbell Islands Suite 272\n",
      "Coryland, ND 29876 in synthetic data.\n",
      "\n",
      "/home/antonia/.local/lib/python3.8/site-packages/sdmetrics/utils.py:67: UserWarning:\n",
      "\n",
      "Unexpected value 69400 Cole Trail\n",
      "Stephaniemouth, MN 01955 in synthetic data.\n",
      "\n",
      "/home/antonia/.local/lib/python3.8/site-packages/sdmetrics/utils.py:67: UserWarning:\n",
      "\n",
      "Unexpected value 862 Nelson Course\n",
      "Carolhaven, MI 15862 in synthetic data.\n",
      "\n",
      "/home/antonia/.local/lib/python3.8/site-packages/sdmetrics/utils.py:67: UserWarning:\n",
      "\n",
      "Unexpected value 4464 Green Lake Suite 412\n",
      "New Sherri, LA 50563 in synthetic data.\n",
      "\n",
      "/home/antonia/.local/lib/python3.8/site-packages/sdmetrics/utils.py:67: UserWarning:\n",
      "\n",
      "Unexpected value 23928 Crawford Motorway\n",
      "Wrightfort, SC 78344 in synthetic data.\n",
      "\n",
      "/home/antonia/.local/lib/python3.8/site-packages/sdmetrics/utils.py:67: UserWarning:\n",
      "\n",
      "Unexpected value 2906 Sierra Land\n",
      "West Mark, MT 17539 in synthetic data.\n",
      "\n",
      "/home/antonia/.local/lib/python3.8/site-packages/sdmetrics/utils.py:67: UserWarning:\n",
      "\n",
      "Unexpected value 215 Alec Plains\n",
      "Foleychester, NY 92935 in synthetic data.\n",
      "\n",
      "/home/antonia/.local/lib/python3.8/site-packages/sdmetrics/utils.py:67: UserWarning:\n",
      "\n",
      "Unexpected value 5540 Frank Divide Suite 072\n",
      "Jamesstad, AZ 21768 in synthetic data.\n",
      "\n",
      "/home/antonia/.local/lib/python3.8/site-packages/sdmetrics/utils.py:67: UserWarning:\n",
      "\n",
      "Unexpected value 5842 Scott Street Apt. 650\n",
      "North Adam, OK 15796 in synthetic data.\n",
      "\n",
      "/home/antonia/.local/lib/python3.8/site-packages/sdmetrics/utils.py:67: UserWarning:\n",
      "\n",
      "Unexpected value 588 Moody Estates Apt. 738\n",
      "New Terri, MO 81944 in synthetic data.\n",
      "\n",
      "/home/antonia/.local/lib/python3.8/site-packages/sdmetrics/utils.py:67: UserWarning:\n",
      "\n",
      "Unexpected value 332 Omar Well\n",
      "Milesland, HI 25338 in synthetic data.\n",
      "\n",
      "/home/antonia/.local/lib/python3.8/site-packages/sdmetrics/utils.py:67: UserWarning:\n",
      "\n",
      "Unexpected value 143 Troy Roads\n",
      "Millerstad, WA 49436 in synthetic data.\n",
      "\n",
      "/home/antonia/.local/lib/python3.8/site-packages/sdmetrics/utils.py:67: UserWarning:\n",
      "\n",
      "Unexpected value 03810 Rodriguez Ferry\n",
      "Douglasberg, GA 74915 in synthetic data.\n",
      "\n",
      "/home/antonia/.local/lib/python3.8/site-packages/sdmetrics/utils.py:67: UserWarning:\n",
      "\n",
      "Unexpected value 298 Mason Lodge\n",
      "Carolstad, NY 90981 in synthetic data.\n",
      "\n",
      "/home/antonia/.local/lib/python3.8/site-packages/sdmetrics/utils.py:67: UserWarning:\n",
      "\n",
      "Unexpected value 22036 Nicole Road Suite 650\n",
      "Kevinton, MT 10642 in synthetic data.\n",
      "\n",
      "/home/antonia/.local/lib/python3.8/site-packages/sdmetrics/utils.py:67: UserWarning:\n",
      "\n",
      "Unexpected value 1321 Schmidt Drive Apt. 177\n",
      "North David, SD 12631 in synthetic data.\n",
      "\n",
      "/home/antonia/.local/lib/python3.8/site-packages/sdmetrics/utils.py:67: UserWarning:\n",
      "\n",
      "Unexpected value 054 Wise Way\n",
      "Martinezton, SC 72351 in synthetic data.\n",
      "\n",
      "/home/antonia/.local/lib/python3.8/site-packages/sdmetrics/utils.py:67: UserWarning:\n",
      "\n",
      "Unexpected value 71367 David Bypass Suite 202\n",
      "Christopherberg, OR 70255 in synthetic data.\n",
      "\n",
      "/home/antonia/.local/lib/python3.8/site-packages/sdmetrics/utils.py:67: UserWarning:\n",
      "\n",
      "Unexpected value PSC 0048, Box 2446\n",
      "APO AE 46231 in synthetic data.\n",
      "\n",
      "/home/antonia/.local/lib/python3.8/site-packages/sdmetrics/utils.py:67: UserWarning:\n",
      "\n",
      "Unexpected value 870 Phillips Drives\n",
      "Lake Joseborough, MN 42525 in synthetic data.\n",
      "\n",
      "/home/antonia/.local/lib/python3.8/site-packages/sdmetrics/utils.py:67: UserWarning:\n",
      "\n",
      "Unexpected value USNV Smith\n",
      "FPO AP 17662 in synthetic data.\n",
      "\n",
      "/home/antonia/.local/lib/python3.8/site-packages/sdmetrics/utils.py:67: UserWarning:\n",
      "\n",
      "Unexpected value 83393 Sims Junctions\n",
      "Martinton, MA 20753 in synthetic data.\n",
      "\n",
      "/home/antonia/.local/lib/python3.8/site-packages/sdmetrics/utils.py:67: UserWarning:\n",
      "\n",
      "Unexpected value 3530 Austin Mountains Apt. 178\n",
      "Daughertyborough, WA 66518 in synthetic data.\n",
      "\n",
      "/home/antonia/.local/lib/python3.8/site-packages/sdmetrics/utils.py:67: UserWarning:\n",
      "\n",
      "Unexpected value 978 Vang Isle Suite 544\n",
      "Johnsonmouth, MO 54047 in synthetic data.\n",
      "\n",
      "/home/antonia/.local/lib/python3.8/site-packages/sdmetrics/utils.py:67: UserWarning:\n",
      "\n",
      "Unexpected value 95632 Austin Junctions Suite 836\n",
      "Vaughnview, DC 91609 in synthetic data.\n",
      "\n",
      "/home/antonia/.local/lib/python3.8/site-packages/sdmetrics/utils.py:67: UserWarning:\n",
      "\n",
      "Unexpected value 9254 Kristin Mill Suite 909\n",
      "East Brian, UT 01673 in synthetic data.\n",
      "\n",
      "/home/antonia/.local/lib/python3.8/site-packages/sdmetrics/utils.py:67: UserWarning:\n",
      "\n",
      "Unexpected value PSC 9882, Box 0095\n",
      "APO AE 48889 in synthetic data.\n",
      "\n",
      "/home/antonia/.local/lib/python3.8/site-packages/sdmetrics/utils.py:67: UserWarning:\n",
      "\n",
      "Unexpected value 45260 Cohen Parkways\n",
      "Lake Melissa, WV 17043 in synthetic data.\n",
      "\n",
      "/home/antonia/.local/lib/python3.8/site-packages/sdmetrics/utils.py:67: UserWarning:\n",
      "\n",
      "Unexpected value 4337 Rose Turnpike\n",
      "Livingstonland, VA 78480 in synthetic data.\n",
      "\n",
      "/home/antonia/.local/lib/python3.8/site-packages/sdmetrics/utils.py:67: UserWarning:\n",
      "\n",
      "Unexpected value 053 Anne Ridge Suite 576\n",
      "Port Stacyfurt, IL 22915 in synthetic data.\n",
      "\n",
      "/home/antonia/.local/lib/python3.8/site-packages/sdmetrics/utils.py:67: UserWarning:\n",
      "\n",
      "Unexpected value 977 Hoffman Groves Apt. 057\n",
      "Kennethtown, OK 00827 in synthetic data.\n",
      "\n",
      "/home/antonia/.local/lib/python3.8/site-packages/sdmetrics/utils.py:67: UserWarning:\n",
      "\n",
      "Unexpected value 379 Lisa Ridge Apt. 233\n",
      "Harmontown, CT 46064 in synthetic data.\n",
      "\n",
      "/home/antonia/.local/lib/python3.8/site-packages/sdmetrics/utils.py:67: UserWarning:\n",
      "\n",
      "Unexpected value 16936 Kim Heights\n",
      "South Steven, NY 31100 in synthetic data.\n",
      "\n",
      "/home/antonia/.local/lib/python3.8/site-packages/sdmetrics/utils.py:67: UserWarning:\n",
      "\n",
      "Unexpected value 4656 Taylor Terrace Apt. 374\n",
      "Richardsonville, CO 68880 in synthetic data.\n",
      "\n",
      "/home/antonia/.local/lib/python3.8/site-packages/sdmetrics/utils.py:67: UserWarning:\n",
      "\n",
      "Unexpected value 7197 Cantrell Heights Suite 855\n",
      "Heatherhaven, CO 63661 in synthetic data.\n",
      "\n",
      "/home/antonia/.local/lib/python3.8/site-packages/sdmetrics/utils.py:67: UserWarning:\n",
      "\n",
      "Unexpected value 9490 Zachary Curve\n",
      "East Tanyahaven, OH 94693 in synthetic data.\n",
      "\n",
      "/home/antonia/.local/lib/python3.8/site-packages/sdmetrics/utils.py:67: UserWarning:\n",
      "\n",
      "Unexpected value 8525 Megan Port Suite 175\n",
      "Brownberg, ND 80653 in synthetic data.\n",
      "\n",
      "/home/antonia/.local/lib/python3.8/site-packages/sdmetrics/utils.py:67: UserWarning:\n",
      "\n",
      "Unexpected value 1478 Danny Locks Apt. 471\n",
      "West Patricia, CO 85950 in synthetic data.\n",
      "\n",
      "/home/antonia/.local/lib/python3.8/site-packages/sdmetrics/utils.py:67: UserWarning:\n",
      "\n",
      "Unexpected value 081 Herrera Radial\n",
      "Lake Aaronton, WI 36311 in synthetic data.\n",
      "\n",
      "/home/antonia/.local/lib/python3.8/site-packages/sdmetrics/utils.py:67: UserWarning:\n",
      "\n",
      "Unexpected value 7978 Jose Circle\n",
      "Barbaraville, MS 24632 in synthetic data.\n",
      "\n",
      "/home/antonia/.local/lib/python3.8/site-packages/sdmetrics/utils.py:67: UserWarning:\n",
      "\n",
      "Unexpected value Unit 6857 Box 8897\n",
      "DPO AA 22430 in synthetic data.\n",
      "\n",
      "/home/antonia/.local/lib/python3.8/site-packages/sdmetrics/utils.py:67: UserWarning:\n",
      "\n",
      "Unexpected value USNS Brown\n",
      "FPO AE 81043 in synthetic data.\n",
      "\n",
      "/home/antonia/.local/lib/python3.8/site-packages/sdmetrics/utils.py:67: UserWarning:\n",
      "\n",
      "Unexpected value PSC 6199, Box 9355\n",
      "APO AA 76188 in synthetic data.\n",
      "\n",
      "/home/antonia/.local/lib/python3.8/site-packages/sdmetrics/utils.py:67: UserWarning:\n",
      "\n",
      "Unexpected value PSC 8380, Box 8092\n",
      "APO AA 30881 in synthetic data.\n",
      "\n",
      "/home/antonia/.local/lib/python3.8/site-packages/sdmetrics/utils.py:67: UserWarning:\n",
      "\n",
      "Unexpected value 63557 Joanne Mews\n",
      "Fernandezmouth, AR 27853 in synthetic data.\n",
      "\n",
      "/home/antonia/.local/lib/python3.8/site-packages/sdmetrics/utils.py:67: UserWarning:\n",
      "\n",
      "Unexpected value 5808 Martin Bypass\n",
      "Thomasfurt, ME 96628 in synthetic data.\n",
      "\n",
      "/home/antonia/.local/lib/python3.8/site-packages/sdmetrics/utils.py:67: UserWarning:\n",
      "\n",
      "Unexpected value 636 Anderson Motorway\n",
      "Ashleyland, SC 04875 in synthetic data.\n",
      "\n",
      "/home/antonia/.local/lib/python3.8/site-packages/sdmetrics/utils.py:67: UserWarning:\n",
      "\n",
      "Unexpected value 61755 Johnny Mountain\n",
      "Christinastad, KY 70077 in synthetic data.\n",
      "\n",
      "/home/antonia/.local/lib/python3.8/site-packages/sdmetrics/utils.py:67: UserWarning:\n",
      "\n",
      "Unexpected value 050 Erica Roads\n",
      "Kimstad, AK 84550 in synthetic data.\n",
      "\n",
      "/home/antonia/.local/lib/python3.8/site-packages/sdmetrics/utils.py:67: UserWarning:\n",
      "\n",
      "Unexpected value 957 Steven Prairie Apt. 909\n",
      "Smithbury, NH 28388 in synthetic data.\n",
      "\n",
      "/home/antonia/.local/lib/python3.8/site-packages/sdmetrics/utils.py:67: UserWarning:\n",
      "\n",
      "Unexpected value 22965 Johnson Lights Apt. 820\n",
      "New Alexander, WY 91099 in synthetic data.\n",
      "\n",
      "/home/antonia/.local/lib/python3.8/site-packages/sdmetrics/utils.py:67: UserWarning:\n",
      "\n",
      "Unexpected value 48881 Phyllis Station Suite 368\n",
      "South Anneville, WA 25656 in synthetic data.\n",
      "\n",
      "/home/antonia/.local/lib/python3.8/site-packages/sdmetrics/utils.py:67: UserWarning:\n",
      "\n",
      "Unexpected value 85574 Rhonda Harbor\n",
      "West Jacobtown, IN 91637 in synthetic data.\n",
      "\n",
      "/home/antonia/.local/lib/python3.8/site-packages/sdmetrics/utils.py:67: UserWarning:\n",
      "\n",
      "Unexpected value 159 Adams Glens\n",
      "Thomastown, CA 77452 in synthetic data.\n",
      "\n",
      "/home/antonia/.local/lib/python3.8/site-packages/sdmetrics/utils.py:67: UserWarning:\n",
      "\n",
      "Unexpected value 24707 Brett Extension\n",
      "Singletonmouth, ND 87220 in synthetic data.\n",
      "\n",
      "/home/antonia/.local/lib/python3.8/site-packages/sdmetrics/utils.py:67: UserWarning:\n",
      "\n",
      "Unexpected value 58182 Robinson Station Apt. 572\n",
      "South Ralphmouth, NJ 94496 in synthetic data.\n",
      "\n",
      "/home/antonia/.local/lib/python3.8/site-packages/sdmetrics/utils.py:67: UserWarning:\n",
      "\n",
      "Unexpected value 45329 Jones Highway Apt. 344\n",
      "North Thomas, CT 32136 in synthetic data.\n",
      "\n",
      "/home/antonia/.local/lib/python3.8/site-packages/sdmetrics/utils.py:67: UserWarning:\n",
      "\n",
      "Unexpected value 64593 Bray Villages\n",
      "Harpermouth, MA 63128 in synthetic data.\n",
      "\n",
      "/home/antonia/.local/lib/python3.8/site-packages/sdmetrics/utils.py:67: UserWarning:\n",
      "\n",
      "Unexpected value 7329 Caleb Mountain\n",
      "Andersonton, GA 89718 in synthetic data.\n",
      "\n",
      "/home/antonia/.local/lib/python3.8/site-packages/sdmetrics/utils.py:67: UserWarning:\n",
      "\n",
      "Unexpected value 038 Johnny Fords Suite 088\n",
      "Carpenterport, MA 68769 in synthetic data.\n",
      "\n",
      "/home/antonia/.local/lib/python3.8/site-packages/sdmetrics/utils.py:67: UserWarning:\n",
      "\n",
      "Unexpected value 08051 Dean Crossroad\n",
      "West Kevin, AK 83488 in synthetic data.\n",
      "\n",
      "/home/antonia/.local/lib/python3.8/site-packages/sdmetrics/utils.py:67: UserWarning:\n",
      "\n",
      "Unexpected value 9482 Reyes Neck\n",
      "Port Alexisberg, RI 19178 in synthetic data.\n",
      "\n",
      "/home/antonia/.local/lib/python3.8/site-packages/sdmetrics/utils.py:67: UserWarning:\n",
      "\n",
      "Unexpected value 0521 Powell Trafficway\n",
      "East Bridgetton, VA 32634 in synthetic data.\n",
      "\n",
      "/home/antonia/.local/lib/python3.8/site-packages/sdmetrics/utils.py:67: UserWarning:\n",
      "\n",
      "Unexpected value 02267 Kirk Cliff Suite 162\n",
      "East Cassandra, AR 47313 in synthetic data.\n",
      "\n",
      "/home/antonia/.local/lib/python3.8/site-packages/sdmetrics/utils.py:67: UserWarning:\n",
      "\n",
      "Unexpected value 2510 King Point\n",
      "West Coryshire, FL 27614 in synthetic data.\n",
      "\n",
      "/home/antonia/.local/lib/python3.8/site-packages/sdmetrics/utils.py:67: UserWarning:\n",
      "\n",
      "Unexpected value 9258 Morris Mountains\n",
      "South Christineshire, NH 63425 in synthetic data.\n",
      "\n",
      "/home/antonia/.local/lib/python3.8/site-packages/sdmetrics/utils.py:67: UserWarning:\n",
      "\n",
      "Unexpected value 648 Tamara Villages Apt. 832\n",
      "Rachelfort, GA 38945 in synthetic data.\n",
      "\n",
      "/home/antonia/.local/lib/python3.8/site-packages/sdmetrics/utils.py:67: UserWarning:\n",
      "\n",
      "Unexpected value 10389 Dennis Tunnel\n",
      "South Andrea, NH 52914 in synthetic data.\n",
      "\n",
      "/home/antonia/.local/lib/python3.8/site-packages/sdmetrics/utils.py:67: UserWarning:\n",
      "\n",
      "Unexpected value 271 Jonathan Land\n",
      "Alvaradobury, KY 39891 in synthetic data.\n",
      "\n",
      "/home/antonia/.local/lib/python3.8/site-packages/sdmetrics/utils.py:67: UserWarning:\n",
      "\n",
      "Unexpected value 2032 Bailey Spurs\n",
      "Erikport, SC 96937 in synthetic data.\n",
      "\n",
      "/home/antonia/.local/lib/python3.8/site-packages/sdmetrics/utils.py:67: UserWarning:\n",
      "\n",
      "Unexpected value 61108 Susan Freeway\n",
      "New Tylershire, MD 55952 in synthetic data.\n",
      "\n",
      "/home/antonia/.local/lib/python3.8/site-packages/sdmetrics/utils.py:67: UserWarning:\n",
      "\n",
      "Unexpected value 6986 Michael Grove\n",
      "New Ashley, AL 77344 in synthetic data.\n",
      "\n",
      "/home/antonia/.local/lib/python3.8/site-packages/sdmetrics/utils.py:67: UserWarning:\n",
      "\n",
      "Unexpected value 778 Willie Rue Suite 165\n",
      "Littleshire, NC 64329 in synthetic data.\n",
      "\n",
      "/home/antonia/.local/lib/python3.8/site-packages/sdmetrics/utils.py:67: UserWarning:\n",
      "\n",
      "Unexpected value 977 Gwendolyn Mills\n",
      "Rebeccastad, ID 83502 in synthetic data.\n",
      "\n",
      "/home/antonia/.local/lib/python3.8/site-packages/sdmetrics/utils.py:67: UserWarning:\n",
      "\n",
      "Unexpected value USNS Monroe\n",
      "FPO AP 17123 in synthetic data.\n",
      "\n",
      "/home/antonia/.local/lib/python3.8/site-packages/sdmetrics/utils.py:67: UserWarning:\n",
      "\n",
      "Unexpected value 901 Amy Radial\n",
      "Elizabethbury, DC 65812 in synthetic data.\n",
      "\n",
      "/home/antonia/.local/lib/python3.8/site-packages/sdmetrics/utils.py:67: UserWarning:\n",
      "\n",
      "Unexpected value 1823 Smith Row Apt. 870\n",
      "West Colleentown, MI 27497 in synthetic data.\n",
      "\n",
      "/home/antonia/.local/lib/python3.8/site-packages/sdmetrics/utils.py:67: UserWarning:\n",
      "\n",
      "Unexpected value 00607 Smith Ferry Apt. 290\n",
      "Samanthamouth, NV 66700 in synthetic data.\n",
      "\n",
      "/home/antonia/.local/lib/python3.8/site-packages/sdmetrics/utils.py:67: UserWarning:\n",
      "\n",
      "Unexpected value 9756 Jesus Loop Apt. 658\n",
      "Lake Elizabeth, WV 77213 in synthetic data.\n",
      "\n",
      "/home/antonia/.local/lib/python3.8/site-packages/sdmetrics/utils.py:67: UserWarning:\n",
      "\n",
      "Unexpected value 237 Sean Fall\n",
      "Kaitlynstad, AR 70062 in synthetic data.\n",
      "\n",
      "/home/antonia/.local/lib/python3.8/site-packages/sdmetrics/utils.py:67: UserWarning:\n",
      "\n",
      "Unexpected value 5233 Brown Lodge Apt. 490\n",
      "Annetteburgh, WY 01264 in synthetic data.\n",
      "\n",
      "/home/antonia/.local/lib/python3.8/site-packages/sdmetrics/utils.py:67: UserWarning:\n",
      "\n",
      "Unexpected value 834 William Park\n",
      "Jessicaton, WI 94913 in synthetic data.\n",
      "\n",
      "/home/antonia/.local/lib/python3.8/site-packages/sdmetrics/utils.py:67: UserWarning:\n",
      "\n",
      "Unexpected value 172 Michele Springs Suite 760\n",
      "Freemanton, ME 66818 in synthetic data.\n",
      "\n",
      "/home/antonia/.local/lib/python3.8/site-packages/sdmetrics/utils.py:67: UserWarning:\n",
      "\n",
      "Unexpected value 3681 Ryan Curve Suite 239\n",
      "North Scott, NM 56707 in synthetic data.\n",
      "\n",
      "/home/antonia/.local/lib/python3.8/site-packages/sdmetrics/utils.py:67: UserWarning:\n",
      "\n",
      "Unexpected value 1321 Bruce Springs Suite 051\n",
      "Charlesview, FL 42126 in synthetic data.\n",
      "\n",
      "/home/antonia/.local/lib/python3.8/site-packages/sdmetrics/utils.py:67: UserWarning:\n",
      "\n",
      "Unexpected value 152 Cody Summit Apt. 607\n",
      "North Cherylland, MT 58788 in synthetic data.\n",
      "\n",
      "/home/antonia/.local/lib/python3.8/site-packages/sdmetrics/utils.py:67: UserWarning:\n",
      "\n",
      "Unexpected value 0869 Jason Groves Suite 156\n",
      "Jenkinsstad, NV 20218 in synthetic data.\n",
      "\n",
      "/home/antonia/.local/lib/python3.8/site-packages/sdmetrics/utils.py:67: UserWarning:\n",
      "\n",
      "Unexpected value 852 Daniel Well\n",
      "Alanchester, SC 56703 in synthetic data.\n",
      "\n",
      "/home/antonia/.local/lib/python3.8/site-packages/sdmetrics/utils.py:67: UserWarning:\n",
      "\n",
      "Unexpected value 63722 Fernandez Summit Suite 482\n",
      "Ericberg, CT 65931 in synthetic data.\n",
      "\n",
      "/home/antonia/.local/lib/python3.8/site-packages/sdmetrics/utils.py:67: UserWarning:\n",
      "\n",
      "Unexpected value 58891 Gutierrez Island Suite 363\n",
      "Karenmouth, NJ 16293 in synthetic data.\n",
      "\n",
      "/home/antonia/.local/lib/python3.8/site-packages/sdmetrics/utils.py:67: UserWarning:\n",
      "\n",
      "Unexpected value 52463 Crystal Creek\n",
      "Port Thomasview, HI 21678 in synthetic data.\n",
      "\n",
      "/home/antonia/.local/lib/python3.8/site-packages/sdmetrics/utils.py:67: UserWarning:\n",
      "\n",
      "Unexpected value 157 Sanders Valley Suite 530\n",
      "Alexanderstad, MS 30239 in synthetic data.\n",
      "\n",
      "/home/antonia/.local/lib/python3.8/site-packages/sdmetrics/utils.py:67: UserWarning:\n",
      "\n",
      "Unexpected value 982 David Skyway Apt. 101\n",
      "Port Amandastad, WV 01972 in synthetic data.\n",
      "\n",
      "/home/antonia/.local/lib/python3.8/site-packages/sdmetrics/utils.py:67: UserWarning:\n",
      "\n",
      "Unexpected value 530 Alexandra Pine\n",
      "Coleville, KS 19525 in synthetic data.\n",
      "\n",
      "/home/antonia/.local/lib/python3.8/site-packages/sdmetrics/utils.py:67: UserWarning:\n",
      "\n",
      "Unexpected value 7466 Tiffany Shores Apt. 812\n",
      "Anthonyville, ME 43907 in synthetic data.\n",
      "\n",
      "/home/antonia/.local/lib/python3.8/site-packages/sdmetrics/utils.py:67: UserWarning:\n",
      "\n",
      "Unexpected value 5039 Jackson Pass\n",
      "Lake John, ND 01507 in synthetic data.\n",
      "\n",
      "/home/antonia/.local/lib/python3.8/site-packages/sdmetrics/utils.py:67: UserWarning:\n",
      "\n",
      "Unexpected value 091 Bruce Neck\n",
      "Woodshaven, TN 08251 in synthetic data.\n",
      "\n",
      "/home/antonia/.local/lib/python3.8/site-packages/sdmetrics/utils.py:67: UserWarning:\n",
      "\n",
      "Unexpected value 275 Hendrix Walk Suite 533\n",
      "South Williestad, UT 49225 in synthetic data.\n",
      "\n",
      "/home/antonia/.local/lib/python3.8/site-packages/sdmetrics/utils.py:67: UserWarning:\n",
      "\n",
      "Unexpected value 85117 Rebecca Plains\n",
      "Christophershire, WY 86477 in synthetic data.\n",
      "\n",
      "/home/antonia/.local/lib/python3.8/site-packages/sdmetrics/utils.py:67: UserWarning:\n",
      "\n",
      "Unexpected value 862 Michael Park\n",
      "Castrobury, MI 52180 in synthetic data.\n",
      "\n",
      "/home/antonia/.local/lib/python3.8/site-packages/sdmetrics/utils.py:67: UserWarning:\n",
      "\n",
      "Unexpected value 6641 Peter Islands\n",
      "Roseberg, TN 79371 in synthetic data.\n",
      "\n",
      "/home/antonia/.local/lib/python3.8/site-packages/sdmetrics/utils.py:67: UserWarning:\n",
      "\n",
      "Unexpected value 0222 Elizabeth Village Apt. 517\n",
      "West Lindsey, SC 38700 in synthetic data.\n",
      "\n",
      "/home/antonia/.local/lib/python3.8/site-packages/sdmetrics/utils.py:67: UserWarning:\n",
      "\n",
      "Unexpected value 8321 Tiffany Center Apt. 019\n",
      "Port Tammy, DC 58689 in synthetic data.\n",
      "\n",
      "/home/antonia/.local/lib/python3.8/site-packages/sdmetrics/utils.py:67: UserWarning:\n",
      "\n",
      "Unexpected value USS Brown\n",
      "FPO AE 48578 in synthetic data.\n",
      "\n",
      "/home/antonia/.local/lib/python3.8/site-packages/sdmetrics/utils.py:67: UserWarning:\n",
      "\n",
      "Unexpected value 14832 Scott Green\n",
      "Lake Heatherstad, NM 18572 in synthetic data.\n",
      "\n",
      "/home/antonia/.local/lib/python3.8/site-packages/sdmetrics/utils.py:67: UserWarning:\n",
      "\n",
      "Unexpected value 11943 Robertson Estate\n",
      "Port Meganland, UT 76675 in synthetic data.\n",
      "\n",
      "/home/antonia/.local/lib/python3.8/site-packages/sdmetrics/utils.py:67: UserWarning:\n",
      "\n",
      "Unexpected value 8491 Hughes Trace\n",
      "South Chadtown, TX 91569 in synthetic data.\n",
      "\n",
      "/home/antonia/.local/lib/python3.8/site-packages/sdmetrics/utils.py:67: UserWarning:\n",
      "\n",
      "Unexpected value 33685 Jessica Forest Suite 816\n",
      "Kempside, KY 78792 in synthetic data.\n",
      "\n",
      "/home/antonia/.local/lib/python3.8/site-packages/sdmetrics/utils.py:67: UserWarning:\n",
      "\n",
      "Unexpected value 84513 Tim Village Suite 760\n",
      "East Janet, IN 08755 in synthetic data.\n",
      "\n",
      "/home/antonia/.local/lib/python3.8/site-packages/sdmetrics/utils.py:67: UserWarning:\n",
      "\n",
      "Unexpected value 061 Charles Inlet\n",
      "Kathrynbury, MN 27700 in synthetic data.\n",
      "\n",
      "/home/antonia/.local/lib/python3.8/site-packages/sdmetrics/utils.py:67: UserWarning:\n",
      "\n",
      "Unexpected value 1396 Erica Wells\n",
      "Scottville, NJ 78217 in synthetic data.\n",
      "\n",
      "/home/antonia/.local/lib/python3.8/site-packages/sdmetrics/utils.py:67: UserWarning:\n",
      "\n",
      "Unexpected value 7074 Underwood Square Suite 814\n",
      "Dukeville, SC 02125 in synthetic data.\n",
      "\n",
      "/home/antonia/.local/lib/python3.8/site-packages/sdmetrics/utils.py:67: UserWarning:\n",
      "\n",
      "Unexpected value 498 Craig Inlet\n",
      "Austinview, MS 88481 in synthetic data.\n",
      "\n",
      "/home/antonia/.local/lib/python3.8/site-packages/sdmetrics/utils.py:67: UserWarning:\n",
      "\n",
      "Unexpected value 7723 Byrd Motorway Suite 221\n",
      "North Terrence, PA 01330 in synthetic data.\n",
      "\n",
      "/home/antonia/.local/lib/python3.8/site-packages/sdmetrics/utils.py:67: UserWarning:\n",
      "\n",
      "Unexpected value 2216 Colton Forest\n",
      "Lisaborough, NV 89586 in synthetic data.\n",
      "\n",
      "/home/antonia/.local/lib/python3.8/site-packages/sdmetrics/utils.py:67: UserWarning:\n",
      "\n",
      "Unexpected value PSC 4986, Box 0981\n",
      "APO AE 79986 in synthetic data.\n",
      "\n",
      "/home/antonia/.local/lib/python3.8/site-packages/sdmetrics/utils.py:67: UserWarning:\n",
      "\n",
      "Unexpected value 5589 Joshua Trafficway\n",
      "Gomezmouth, AK 15113 in synthetic data.\n",
      "\n",
      "/home/antonia/.local/lib/python3.8/site-packages/sdmetrics/utils.py:67: UserWarning:\n",
      "\n",
      "Unexpected value 293 Julie Trafficway\n",
      "West Alicia, NM 77994 in synthetic data.\n",
      "\n",
      "/home/antonia/.local/lib/python3.8/site-packages/sdmetrics/utils.py:67: UserWarning:\n",
      "\n",
      "Unexpected value USS Cannon\n",
      "FPO AA 25661 in synthetic data.\n",
      "\n",
      "/home/antonia/.local/lib/python3.8/site-packages/sdmetrics/utils.py:67: UserWarning:\n",
      "\n",
      "Unexpected value USS Chavez\n",
      "FPO AP 84550 in synthetic data.\n",
      "\n",
      "/home/antonia/.local/lib/python3.8/site-packages/sdmetrics/utils.py:67: UserWarning:\n",
      "\n",
      "Unexpected value 08265 Wilkins Circle\n",
      "North Andrew, NJ 10061 in synthetic data.\n",
      "\n",
      "/home/antonia/.local/lib/python3.8/site-packages/sdmetrics/utils.py:67: UserWarning:\n",
      "\n",
      "Unexpected value 073 Marcus Brook Suite 492\n",
      "New Claudiaside, VA 72591 in synthetic data.\n",
      "\n",
      "/home/antonia/.local/lib/python3.8/site-packages/sdmetrics/utils.py:67: UserWarning:\n",
      "\n",
      "Unexpected value 03174 Martin Drives Suite 274\n",
      "Michaeltown, ME 68952 in synthetic data.\n",
      "\n",
      "/home/antonia/.local/lib/python3.8/site-packages/sdmetrics/utils.py:67: UserWarning:\n",
      "\n",
      "Unexpected value 62728 Hicks Plain\n",
      "Jenniferville, MD 83424 in synthetic data.\n",
      "\n",
      "/home/antonia/.local/lib/python3.8/site-packages/sdmetrics/utils.py:67: UserWarning:\n",
      "\n",
      "Unexpected value 72966 Jeremy Vista\n",
      "Tonyton, SD 03294 in synthetic data.\n",
      "\n",
      "/home/antonia/.local/lib/python3.8/site-packages/sdmetrics/utils.py:67: UserWarning:\n",
      "\n",
      "Unexpected value 91034 Santiago Hollow Apt. 217\n",
      "New Kevin, VT 41122 in synthetic data.\n",
      "\n",
      "/home/antonia/.local/lib/python3.8/site-packages/sdmetrics/utils.py:67: UserWarning:\n",
      "\n",
      "Unexpected value 80320 Martin Crescent Apt. 469\n",
      "Port Christine, KY 07457 in synthetic data.\n",
      "\n",
      "/home/antonia/.local/lib/python3.8/site-packages/sdmetrics/utils.py:67: UserWarning:\n",
      "\n",
      "Unexpected value 1288 Kimberly Pass Suite 175\n",
      "Garciaton, IA 74442 in synthetic data.\n",
      "\n",
      "/home/antonia/.local/lib/python3.8/site-packages/sdmetrics/utils.py:67: UserWarning:\n",
      "\n",
      "Unexpected value 80417 Clay Views\n",
      "Lake Lisaborough, TN 26051 in synthetic data.\n",
      "\n",
      "/home/antonia/.local/lib/python3.8/site-packages/sdmetrics/utils.py:67: UserWarning:\n",
      "\n",
      "Unexpected value 2147 Shirley Courts\n",
      "South Tyler, RI 82074 in synthetic data.\n",
      "\n",
      "/home/antonia/.local/lib/python3.8/site-packages/sdmetrics/utils.py:67: UserWarning:\n",
      "\n",
      "Unexpected value Unit 6423 Box 7820\n",
      "DPO AA 22926 in synthetic data.\n",
      "\n",
      "/home/antonia/.local/lib/python3.8/site-packages/sdmetrics/utils.py:67: UserWarning:\n",
      "\n",
      "Unexpected value 44669 Robinson Pass\n",
      "Frankhaven, OH 28811 in synthetic data.\n",
      "\n",
      "/home/antonia/.local/lib/python3.8/site-packages/sdmetrics/utils.py:67: UserWarning:\n",
      "\n",
      "Unexpected value 404 William Drive Apt. 496\n",
      "Williehaven, IN 06032 in synthetic data.\n",
      "\n",
      "/home/antonia/.local/lib/python3.8/site-packages/sdmetrics/utils.py:67: UserWarning:\n",
      "\n",
      "Unexpected value 3296 Manuel Skyway Apt. 892\n",
      "Cynthiaville, ND 99258 in synthetic data.\n",
      "\n",
      "/home/antonia/.local/lib/python3.8/site-packages/sdmetrics/utils.py:67: UserWarning:\n",
      "\n",
      "Unexpected value USNS Conway\n",
      "FPO AE 09168 in synthetic data.\n",
      "\n",
      "/home/antonia/.local/lib/python3.8/site-packages/sdmetrics/utils.py:67: UserWarning:\n",
      "\n",
      "Unexpected value 9895 Brooks Ford\n",
      "Port Grant, UT 33492 in synthetic data.\n",
      "\n",
      "/home/antonia/.local/lib/python3.8/site-packages/sdmetrics/utils.py:67: UserWarning:\n",
      "\n",
      "Unexpected value 38505 Jessica Turnpike Suite 662\n",
      "South Roseport, DE 39507 in synthetic data.\n",
      "\n",
      "Creating report: 100%|██████████| 4/4 [00:42<00:00, 10.61s/it]\n",
      "Creating report:   0%|          | 0/4 [00:00<?, ?it/s]"
     ]
    },
    {
     "name": "stdout",
     "output_type": "stream",
     "text": [
      "\n",
      "Overall Quality Score: 15.28%\n",
      "\n",
      "Properties:\n",
      "Column Shapes: 30.41%\n",
      "Column Pair Trends: 0.16%\n"
     ]
    },
    {
     "name": "stderr",
     "output_type": "stream",
     "text": [
      "Creating report: 100%|██████████| 4/4 [00:00<00:00,  5.18it/s]"
     ]
    },
    {
     "name": "stdout",
     "output_type": "stream",
     "text": [
      "\n",
      "DiagnosticResults:\n",
      "\n",
      "SUCCESS:\n",
      "✓ Over 90% of the synthetic rows are not copies of the real data\n",
      "\n",
      "DANGER:\n",
      "x The synthetic data is missing more than 50% of the categories present in the real data\n"
     ]
    },
    {
     "name": "stderr",
     "output_type": "stream",
     "text": [
      "\n"
     ]
    }
   ],
   "source": [
    "# vergleich neue daten reports\n",
    "my_report_an = QualityReport()\n",
    "my_report_an.generate(real_data, new_data_an, metadata_coltypes)\n",
    "dg_report_an = DiagnosticReport()\n",
    "dg_report_an.generate(real_data, new_data_an, metadata_coltypes)\n"
   ]
  },
  {
   "cell_type": "code",
   "execution_count": 35,
   "metadata": {},
   "outputs": [
    {
     "name": "stdout",
     "output_type": "stream",
     "text": [
      "0.18680000000000047\n",
      "             Property     Score\n",
      "0       Column Shapes  0.371182\n",
      "1  Column Pair Trends  0.002418\n",
      "{'SUCCESS': ['Over 90% of the synthetic rows are not copies of the real data'], 'WARNING': [], 'DANGER': ['The synthetic data is missing more than 50% of the categories present in the real data']}\n",
      "0.15284548624562544\n",
      "             Property     Score\n",
      "0       Column Shapes  0.304091\n",
      "1  Column Pair Trends  0.001600\n",
      "{'SUCCESS': ['Over 90% of the synthetic rows are not copies of the real data'], 'WARNING': [], 'DANGER': ['The synthetic data is missing more than 50% of the categories present in the real data']}\n"
     ]
    }
   ],
   "source": [
    "print(my_report.get_score())\n",
    "print(my_report.get_properties())\n",
    "print(dg_report.get_results())\n",
    "\n",
    "print(my_report_an.get_score())\n",
    "print(my_report_an.get_properties())\n",
    "print(dg_report_an.get_results())\n",
    "# zeigen wie scores bei categories sich verschlechtern -> trotzdem gibt es eine verteilung von namen? -> zumindest vergleich mails and und namen!\n",
    "# -> formel für email definieren?\n"
   ]
  },
  {
   "cell_type": "code",
   "execution_count": null,
   "metadata": {},
   "outputs": [],
   "source": [
    "# erwähnen das anpassen von hyperparameter möglich ist -> aber nicht showcasen\n",
    "# conditional sampling erklären in einfach und wozu gut!\n",
    "# untershciede zu copulas und andere generierungsfunktion dazu erklären\n",
    "\n",
    "# andere daten suchen mit conditions (categories)\n",
    "# hinweis to gaussian copula -> conditional sampling besser handeln -> aufnehmen in mind map\n",
    "\n"
   ]
  },
  {
   "cell_type": "code",
   "execution_count": 36,
   "metadata": {},
   "outputs": [
    {
     "name": "stderr",
     "output_type": "stream",
     "text": [
      "Sampling rows: 100%|██████████| 200/200 [00:00<00:00, 2875.43it/s]\n"
     ]
    }
   ],
   "source": [
    "# handling constraints für zB Email -> oder andere beispiele:\n",
    "from sdv.constraints import FixedCombinations\n",
    "\n",
    "fixed_city_county_constraint = FixedCombinations(column_names=['city', 'county'])\n",
    "constraints = [\n",
    "    fixed_city_county_constraint\n",
    "]\n",
    "\n",
    "# update:\n",
    "model_c = CTGAN(constraints = [\n",
    "    fixed_city_county_constraint\n",
    "    ], \n",
    "    #anonymize_fields={\n",
    "    #    'last_name': 'last_name', # name -> full person name -> aus faker seite feststellen es gibt auch last und first name -> auch female male nonbinary names etc\n",
    "    #    'address': 'address'\n",
    "    #    # maby use nonbinary firstname für die ertsen namen..\n",
    "    #    \n",
    "    #}\n",
    "    )\n",
    "model_c.fit(example_df,\n",
    "             )\n",
    "new_data_an = model_c.sample(num_rows=200)"
   ]
  },
  {
   "cell_type": "code",
   "execution_count": 46,
   "metadata": {},
   "outputs": [
    {
     "name": "stdout",
     "output_type": "stream",
     "text": [
      "{'Speke-Garston Ward', 'Murdostoun Ward', 'Maybury and Sheerwater Ward', 'Addlestone Bourneside Ward', 'Renfrew South & Gallowhill War', 'Springfields and Trent Vale Wa', 'Lamport', 'New Milton', 'Hylands Ward', 'Cotham Ward', 'Gweek', 'Patching Hall Ward', 'Central Buchan Ward', 'Parr Ward', 'Boothen and Oak Hill Ward', 'Bishop Auckland', 'Astley Bridge Ward', 'Acton Trussell and Bednall', 'Wilsden', 'Longford Ward', 'Eccleshall', 'Yalding', 'Franche Ward', 'Hetton', 'Abbey Ward', 'Frimley Green Ward', 'Bulwell Ward', 'Little Parndon and Hare Street', 'Batchwood Ward', 'Selston', 'Windle Ward', 'Hollington Ward', 'Edmonton Green Ward', 'Wollaton West Ward', 'Iwade', 'Govan Ward', 'Bodmin', 'Aveton Gifford', 'Tanworth-in-Arden', 'Little Hereford', 'Redlands Ward', 'Walcot Ward', 'Hartshill', 'Hamilton South Ward', 'Shiney Row Ward', 'Southey Ward', 'North Horsham', 'Cleator Moor', 'Moulsham and Central Ward', 'Fareham South Ward', 'St. Stephens Ward', 'Meads Ward', 'Nonington', 'Market Rasen', 'Temple Newsam Ward', 'Brimpton', 'Coleshill', 'Girvan and South Carrick Ward', 'Ballochmyle Ward', 'Pontefract North Ward', 'Callington', 'Portobello', 'Saint Annes on the Sea', 'St. Michaels and Wicksteed War', 'Great Barr with Yew Tree Ward', 'Abingdon on Thames', 'Aldborough Ward', 'Bargate Ward', 'Longhill Ward', 'Read', 'Sutton cum Duckmanton', 'Twickenham Riverside Ward', 'Farnworth Ward', 'Aldbrough', 'Broxburn, Uphall and Winchburg', 'Loughborough Hastings Ward', 'Royal Hospital Ward', 'Berkhamsted', 'Hatton', 'Tadworth and Walton Ward', 'Llantrisant Community', 'Madeley', 'Dormers Wells Ward', 'Springfield Ward', 'Corporation Park Ward', 'Loundsley Green Ward', 'Great Dunmow', 'Sutton Vesey Ward', 'Chorlton Park Ward', 'St. Gluvias', 'Crowle and Ealand', 'Little Missenden', 'Woodhouse Ward', 'Wilmington', 'Rhos-on-Sea Community', 'Wombourne', 'Sutton Trinity Ward', 'Shiphay-with-the-Willows Ward', 'Northwood Ward', 'Kirk Hammerton', 'North Heywood Ward', 'Daybrook Ward', 'Prestatyn Community', 'Tibberton', 'Laindon Park Ward', 'Manor Castle Ward', 'Hyde Werneth Ward', 'Smallbridge and Firgrove Ward', 'Caversham Ward', 'Canning Town North Ward', 'Westgate Ward', 'Parwich', 'Shard End Ward', 'Cyfarthfa Community', 'Hartburn Ward', 'Barnfield Ward', 'Crompton Ward', 'Old Newton with Dagworth', 'Stokenham', 'Darnall Ward', 'Almond Ward', 'Knightsbridge and Belgravia Wa', 'Colnbrook with Poyle', 'Markhouse Ward', 'Town Ward', 'Staple Hill Ward', 'Midway Ward', 'Woodstock Ward', 'Stannington Ward', 'Rowley Ward', 'Holbrook Ward', 'Priory Heath Ward', 'Warwick', 'Neilston, Uplawmoor and Newton', 'Kilmersdon', 'Darton West Ward', 'Audley Ward', 'Plymstock Dunstone Ward', 'Grovehill Ward', 'Kinross-shire Ward', 'Werrington South Ward', 'Castle Ward', 'Whitley Ward', 'Dingwall and Seaforth Ward', 'Ruddington', 'Central Ward', 'Upper Rawcliffe-with-Tarnacre', 'Warham', 'Penge and Cator Ward', 'Radcliffe West Ward', 'Deepdale Ward', 'Penmaenmawr Community', 'Harrow Weald Ward', 'Wakefield North Ward', 'Kirkintilloch East and Twechar', 'Fawley'}\n",
      "156\n"
     ]
    },
    {
     "data": {
      "text/plain": [
       "(0, 2)"
      ]
     },
     "execution_count": 46,
     "metadata": {},
     "output_type": "execute_result"
    }
   ],
   "source": [
    "# hat nicht funktioniert ... nochmal probieren\n",
    "common_values_city = set(example_df['city'].values).intersection(set(new_data_an['city'].values))\n",
    "print(common_values_city)\n",
    "print(len(common_values_city)) # success\n",
    "_combination_overlap = pd.merge(new_data_an[['city', 'county']], new_data[['city', 'county']], on=['city', 'county'], how='inner') \n",
    "_combination_overlap.shape"
   ]
  },
  {
   "cell_type": "code",
   "execution_count": 48,
   "metadata": {},
   "outputs": [
    {
     "name": "stdout",
     "output_type": "stream",
     "text": [
      "    first_name last_name            company_name                 address  \\\n",
      "147  Francisca   Nahmias  Matt Parrott & Sons Co  99 College St South #1   \n",
      "\n",
      "                   city         county    postal        phone1        phone2  \\\n",
      "147  Speke-Garston Ward  County Durham  BA13 3QU  01964-503521  01567-215689   \n",
      "\n",
      "                      email                                web  \n",
      "147  elsa_delisle@gmail.com  http://www.kennedyscalesinc.co.uk  \n",
      "   first_name last_name      company_name         address                city  \\\n",
      "57  Margarita     Heier  Smith & Dekay Ps  476 Starkie St  Speke-Garston Ward   \n",
      "\n",
      "        county    postal        phone1        phone2  \\\n",
      "57  Merseyside  TN23 4GF  01630-202053  01221-177854   \n",
      "\n",
      "                        email                                     web  \n",
      "57  cherelle_sorrel@gmail.com  http://www.mitchellsillimancoinc.co.uk  \n"
     ]
    }
   ],
   "source": [
    "print(new_data.loc[new_data['city'] == 'Speke-Garston Ward'])\n",
    "print(new_data_an.loc[new_data_an['city'] == 'Speke-Garston Ward'])"
   ]
  },
  {
   "cell_type": "code",
   "execution_count": 38,
   "metadata": {},
   "outputs": [
    {
     "data": {
      "text/html": [
       "<div>\n",
       "<style scoped>\n",
       "    .dataframe tbody tr th:only-of-type {\n",
       "        vertical-align: middle;\n",
       "    }\n",
       "\n",
       "    .dataframe tbody tr th {\n",
       "        vertical-align: top;\n",
       "    }\n",
       "\n",
       "    .dataframe thead th {\n",
       "        text-align: right;\n",
       "    }\n",
       "</style>\n",
       "<table border=\"1\" class=\"dataframe\">\n",
       "  <thead>\n",
       "    <tr style=\"text-align: right;\">\n",
       "      <th></th>\n",
       "      <th>city</th>\n",
       "      <th>county</th>\n",
       "    </tr>\n",
       "  </thead>\n",
       "  <tbody>\n",
       "    <tr>\n",
       "      <th>0</th>\n",
       "      <td>Foleshill Ward</td>\n",
       "      <td>Stirling</td>\n",
       "    </tr>\n",
       "    <tr>\n",
       "      <th>1</th>\n",
       "      <td>Newquay</td>\n",
       "      <td>Cumbria</td>\n",
       "    </tr>\n",
       "    <tr>\n",
       "      <th>2</th>\n",
       "      <td>Tiffield</td>\n",
       "      <td>Buckinghamshire</td>\n",
       "    </tr>\n",
       "    <tr>\n",
       "      <th>3</th>\n",
       "      <td>Ravenshead</td>\n",
       "      <td>South Gloucestershire</td>\n",
       "    </tr>\n",
       "    <tr>\n",
       "      <th>4</th>\n",
       "      <td>Corporation Park Ward</td>\n",
       "      <td>Derbyshire</td>\n",
       "    </tr>\n",
       "    <tr>\n",
       "      <th>...</th>\n",
       "      <td>...</td>\n",
       "      <td>...</td>\n",
       "    </tr>\n",
       "    <tr>\n",
       "      <th>195</th>\n",
       "      <td>Hexham</td>\n",
       "      <td>Surrey</td>\n",
       "    </tr>\n",
       "    <tr>\n",
       "      <th>196</th>\n",
       "      <td>Neilston, Uplawmoor and Newton</td>\n",
       "      <td>Buckinghamshire</td>\n",
       "    </tr>\n",
       "    <tr>\n",
       "      <th>197</th>\n",
       "      <td>Everton Ward</td>\n",
       "      <td>Greater London</td>\n",
       "    </tr>\n",
       "    <tr>\n",
       "      <th>198</th>\n",
       "      <td>Holbrook</td>\n",
       "      <td>Suffolk</td>\n",
       "    </tr>\n",
       "    <tr>\n",
       "      <th>199</th>\n",
       "      <td>Sunningdale</td>\n",
       "      <td>Brighton and Hove</td>\n",
       "    </tr>\n",
       "  </tbody>\n",
       "</table>\n",
       "<p>200 rows × 2 columns</p>\n",
       "</div>"
      ],
      "text/plain": [
       "                               city                 county\n",
       "0                    Foleshill Ward               Stirling\n",
       "1                           Newquay                Cumbria\n",
       "2                          Tiffield        Buckinghamshire\n",
       "3                        Ravenshead  South Gloucestershire\n",
       "4             Corporation Park Ward             Derbyshire\n",
       "..                              ...                    ...\n",
       "195                          Hexham                 Surrey\n",
       "196  Neilston, Uplawmoor and Newton        Buckinghamshire\n",
       "197                    Everton Ward         Greater London\n",
       "198                        Holbrook                Suffolk\n",
       "199                     Sunningdale      Brighton and Hove\n",
       "\n",
       "[200 rows x 2 columns]"
      ]
     },
     "execution_count": 38,
     "metadata": {},
     "output_type": "execute_result"
    }
   ],
   "source": [
    "new_data[['city', 'county']]"
   ]
  }
 ],
 "metadata": {
  "kernelspec": {
   "display_name": "Python 3 (ipykernel)",
   "language": "python",
   "name": "python3"
  },
  "language_info": {
   "codemirror_mode": {
    "name": "ipython",
    "version": 3
   },
   "file_extension": ".py",
   "mimetype": "text/x-python",
   "name": "python",
   "nbconvert_exporter": "python",
   "pygments_lexer": "ipython3",
   "version": "3.10.10"
  },
  "orig_nbformat": 4
 },
 "nbformat": 4,
 "nbformat_minor": 2
}
